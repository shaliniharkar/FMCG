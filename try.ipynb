{
 "cells": [
  {
   "cell_type": "code",
   "execution_count": 1,
   "id": "05797163",
   "metadata": {},
   "outputs": [
    {
     "name": "stdout",
     "output_type": "stream",
     "text": [
      "Collecting pandas\n",
      "  Using cached https://files.pythonhosted.org/packages/f8/7f/5b047effafbdd34e52c9e2d7e44f729a0655efafb22198c45cf692cdc157/pandas-2.0.3-cp38-cp38-manylinux_2_17_x86_64.manylinux2014_x86_64.whl\n",
      "Collecting pytz>=2020.1\n",
      "  Using cached https://files.pythonhosted.org/packages/9c/3d/a121f284241f08268b21359bd425f7d4825cffc5ac5cd0e1b3d82ffd2b10/pytz-2024.1-py2.py3-none-any.whl\n",
      "Collecting python-dateutil>=2.8.2\n",
      "  Using cached https://files.pythonhosted.org/packages/ec/57/56b9bcc3c9c6a792fcbaf139543cee77261f3651ca9da0c93f5c1221264b/python_dateutil-2.9.0.post0-py2.py3-none-any.whl\n",
      "Collecting numpy>=1.20.3; python_version < \"3.10\"\n",
      "  Using cached https://files.pythonhosted.org/packages/98/5d/5738903efe0ecb73e51eb44feafba32bdba2081263d40c5043568ff60faf/numpy-1.24.4-cp38-cp38-manylinux_2_17_x86_64.manylinux2014_x86_64.whl\n",
      "Collecting tzdata>=2022.1\n",
      "  Using cached https://files.pythonhosted.org/packages/65/58/f9c9e6be752e9fcb8b6a0ee9fb87e6e7a1f6bcab2cdc73f02bb7ba91ada0/tzdata-2024.1-py2.py3-none-any.whl\n",
      "Collecting six>=1.5\n",
      "  Using cached https://files.pythonhosted.org/packages/d9/5a/e7c31adbe875f2abbb91bd84cf2dc52d792b5a01506781dbcf25c91daf11/six-1.16.0-py2.py3-none-any.whl\n",
      "Installing collected packages: pytz, six, python-dateutil, numpy, tzdata, pandas\n",
      "Successfully installed numpy-1.24.4 pandas-2.0.3 python-dateutil-2.9.0.post0 pytz-2024.1 six-1.16.0 tzdata-2024.1\n",
      "\u001b[33mWARNING: Target directory /tmp/pip_packages/pytz already exists. Specify --upgrade to force replacement.\u001b[0m\n",
      "\u001b[33mWARNING: Target directory /tmp/pip_packages/pytz-2024.1.dist-info already exists. Specify --upgrade to force replacement.\u001b[0m\n",
      "\u001b[33mWARNING: Target directory /tmp/pip_packages/six.py already exists. Specify --upgrade to force replacement.\u001b[0m\n",
      "\u001b[33mWARNING: Target directory /tmp/pip_packages/six-1.16.0.dist-info already exists. Specify --upgrade to force replacement.\u001b[0m\n",
      "\u001b[33mWARNING: Target directory /tmp/pip_packages/__pycache__ already exists. Specify --upgrade to force replacement.\u001b[0m\n",
      "\u001b[33mWARNING: Target directory /tmp/pip_packages/dateutil already exists. Specify --upgrade to force replacement.\u001b[0m\n",
      "\u001b[33mWARNING: Target directory /tmp/pip_packages/python_dateutil-2.9.0.post0.dist-info already exists. Specify --upgrade to force replacement.\u001b[0m\n",
      "\u001b[33mWARNING: Target directory /tmp/pip_packages/numpy.libs already exists. Specify --upgrade to force replacement.\u001b[0m\n",
      "\u001b[33mWARNING: Target directory /tmp/pip_packages/numpy-1.24.4.dist-info already exists. Specify --upgrade to force replacement.\u001b[0m\n",
      "\u001b[33mWARNING: Target directory /tmp/pip_packages/numpy already exists. Specify --upgrade to force replacement.\u001b[0m\n",
      "\u001b[33mWARNING: Target directory /tmp/pip_packages/tzdata already exists. Specify --upgrade to force replacement.\u001b[0m\n",
      "\u001b[33mWARNING: Target directory /tmp/pip_packages/tzdata-2024.1.dist-info already exists. Specify --upgrade to force replacement.\u001b[0m\n",
      "\u001b[33mWARNING: Target directory /tmp/pip_packages/pandas-2.0.3.dist-info already exists. Specify --upgrade to force replacement.\u001b[0m\n",
      "\u001b[33mWARNING: Target directory /tmp/pip_packages/pandas already exists. Specify --upgrade to force replacement.\u001b[0m\n",
      "\u001b[33mWARNING: Target directory /tmp/pip_packages/bin already exists. Specify --upgrade to force replacement.\u001b[0m\n",
      "\u001b[33mWARNING: You are using pip version 19.3.1; however, version 24.0 is available.\n",
      "You should consider upgrading via the 'pip install --upgrade pip' command.\u001b[0m\n",
      "Collecting numpy\n",
      "  Using cached https://files.pythonhosted.org/packages/98/5d/5738903efe0ecb73e51eb44feafba32bdba2081263d40c5043568ff60faf/numpy-1.24.4-cp38-cp38-manylinux_2_17_x86_64.manylinux2014_x86_64.whl\n",
      "Installing collected packages: numpy\n",
      "Successfully installed numpy-1.24.4\n",
      "\u001b[33mWARNING: Target directory /tmp/pip_packages/numpy.libs already exists. Specify --upgrade to force replacement.\u001b[0m\n",
      "\u001b[33mWARNING: Target directory /tmp/pip_packages/numpy-1.24.4.dist-info already exists. Specify --upgrade to force replacement.\u001b[0m\n",
      "\u001b[33mWARNING: Target directory /tmp/pip_packages/numpy already exists. Specify --upgrade to force replacement.\u001b[0m\n",
      "\u001b[33mWARNING: Target directory /tmp/pip_packages/bin already exists. Specify --upgrade to force replacement.\u001b[0m\n",
      "\u001b[33mWARNING: You are using pip version 19.3.1; however, version 24.0 is available.\n",
      "You should consider upgrading via the 'pip install --upgrade pip' command.\u001b[0m\n",
      "Collecting seaborn\n",
      "  Using cached https://files.pythonhosted.org/packages/83/11/00d3c3dfc25ad54e731d91449895a79e4bf2384dc3ac01809010ba88f6d5/seaborn-0.13.2-py3-none-any.whl\n",
      "Collecting pandas>=1.2\n",
      "  Using cached https://files.pythonhosted.org/packages/f8/7f/5b047effafbdd34e52c9e2d7e44f729a0655efafb22198c45cf692cdc157/pandas-2.0.3-cp38-cp38-manylinux_2_17_x86_64.manylinux2014_x86_64.whl\n",
      "Collecting matplotlib!=3.6.1,>=3.4\n",
      "  Using cached https://files.pythonhosted.org/packages/30/33/cc27211d2ffeee4fd7402dca137b6e8a83f6dcae3d4be8d0ad5068555561/matplotlib-3.7.5-cp38-cp38-manylinux_2_12_x86_64.manylinux2010_x86_64.whl\n",
      "Collecting numpy!=1.24.0,>=1.20\n",
      "  Using cached https://files.pythonhosted.org/packages/98/5d/5738903efe0ecb73e51eb44feafba32bdba2081263d40c5043568ff60faf/numpy-1.24.4-cp38-cp38-manylinux_2_17_x86_64.manylinux2014_x86_64.whl\n",
      "Collecting python-dateutil>=2.8.2\n",
      "  Using cached https://files.pythonhosted.org/packages/ec/57/56b9bcc3c9c6a792fcbaf139543cee77261f3651ca9da0c93f5c1221264b/python_dateutil-2.9.0.post0-py2.py3-none-any.whl\n",
      "Collecting tzdata>=2022.1\n",
      "  Using cached https://files.pythonhosted.org/packages/65/58/f9c9e6be752e9fcb8b6a0ee9fb87e6e7a1f6bcab2cdc73f02bb7ba91ada0/tzdata-2024.1-py2.py3-none-any.whl\n",
      "Collecting pytz>=2020.1\n",
      "  Using cached https://files.pythonhosted.org/packages/9c/3d/a121f284241f08268b21359bd425f7d4825cffc5ac5cd0e1b3d82ffd2b10/pytz-2024.1-py2.py3-none-any.whl\n",
      "Collecting packaging>=20.0\n",
      "  Using cached https://files.pythonhosted.org/packages/49/df/1fceb2f8900f8639e278b056416d49134fb8d84c5942ffaa01ad34782422/packaging-24.0-py3-none-any.whl\n",
      "Collecting importlib-resources>=3.2.0; python_version < \"3.10\"\n",
      "  Using cached https://files.pythonhosted.org/packages/75/06/4df55e1b7b112d183f65db9503bff189e97179b256e1ea450a3c365241e0/importlib_resources-6.4.0-py3-none-any.whl\n",
      "Collecting fonttools>=4.22.0\n",
      "  Using cached https://files.pythonhosted.org/packages/4d/ed/130f017d3b599bb198f6d274d010c52c0e2dff6b1164eb4d683d973c46bf/fonttools-4.51.0-cp38-cp38-manylinux_2_17_x86_64.manylinux2014_x86_64.whl\n",
      "Collecting cycler>=0.10\n",
      "  Using cached https://files.pythonhosted.org/packages/e7/05/c19819d5e3d95294a6f5947fb9b9629efb316b96de511b418c53d245aae6/cycler-0.12.1-py3-none-any.whl\n",
      "Collecting contourpy>=1.0.1\n",
      "  Using cached https://files.pythonhosted.org/packages/8e/71/7f20855592cc929bc206810432b991ec4c702dc26b0567b132e52c85536f/contourpy-1.1.1-cp38-cp38-manylinux_2_17_x86_64.manylinux2014_x86_64.whl\n",
      "Collecting pyparsing>=2.3.1\n",
      "  Using cached https://files.pythonhosted.org/packages/9d/ea/6d76df31432a0e6fdf81681a895f009a4bb47b3c39036db3e1b528191d52/pyparsing-3.1.2-py3-none-any.whl\n",
      "Collecting pillow>=6.2.0\n",
      "  Using cached https://files.pythonhosted.org/packages/45/8c/ea6fdce74c963d7017f02708b7e4918a401200844ac2c4af1cef8ebc8823/pillow-10.3.0-cp38-cp38-manylinux_2_17_x86_64.manylinux2014_x86_64.whl\n",
      "Collecting kiwisolver>=1.0.1\n",
      "  Using cached https://files.pythonhosted.org/packages/d2/55/7021ffcc8cb26a520bb051aa0a3d08daf200cde945e5863d5768161e2d3d/kiwisolver-1.4.5-cp38-cp38-manylinux_2_5_x86_64.manylinux1_x86_64.whl\n",
      "Collecting six>=1.5\n",
      "  Using cached https://files.pythonhosted.org/packages/d9/5a/e7c31adbe875f2abbb91bd84cf2dc52d792b5a01506781dbcf25c91daf11/six-1.16.0-py2.py3-none-any.whl\n",
      "Collecting zipp>=3.1.0; python_version < \"3.10\"\n",
      "  Using cached https://files.pythonhosted.org/packages/c2/0a/ba9d0ee9536d3ef73a3448e931776e658b36f128d344e175bc32b092a8bf/zipp-3.18.1-py3-none-any.whl\n",
      "\u001b[31mERROR: jupyterlab 3.2.4 has requirement jupyter-server~=1.4, but you'll have jupyter-server 2.7.3 which is incompatible.\u001b[0m\n",
      "\u001b[31mERROR: jupyterlab-server 2.25.4 has requirement babel>=2.10, but you'll have babel 2.9.1 which is incompatible.\u001b[0m\n",
      "Installing collected packages: six, python-dateutil, tzdata, numpy, pytz, pandas, packaging, zipp, importlib-resources, fonttools, cycler, contourpy, pyparsing, pillow, kiwisolver, matplotlib, seaborn\n"
     ]
    },
    {
     "name": "stdout",
     "output_type": "stream",
     "text": [
      "Successfully installed contourpy-1.1.1 cycler-0.12.1 fonttools-4.51.0 importlib-resources-6.4.0 kiwisolver-1.4.5 matplotlib-3.7.5 numpy-1.24.4 packaging-24.0 pandas-2.0.3 pillow-10.3.0 pyparsing-3.1.2 python-dateutil-2.9.0.post0 pytz-2024.1 seaborn-0.13.2 six-1.16.0 tzdata-2024.1 zipp-3.18.1\n",
      "\u001b[33mWARNING: Target directory /tmp/pip_packages/six.py already exists. Specify --upgrade to force replacement.\u001b[0m\n",
      "\u001b[33mWARNING: Target directory /tmp/pip_packages/six-1.16.0.dist-info already exists. Specify --upgrade to force replacement.\u001b[0m\n",
      "\u001b[33mWARNING: Target directory /tmp/pip_packages/__pycache__ already exists. Specify --upgrade to force replacement.\u001b[0m\n",
      "\u001b[33mWARNING: Target directory /tmp/pip_packages/dateutil already exists. Specify --upgrade to force replacement.\u001b[0m\n",
      "\u001b[33mWARNING: Target directory /tmp/pip_packages/python_dateutil-2.9.0.post0.dist-info already exists. Specify --upgrade to force replacement.\u001b[0m\n",
      "\u001b[33mWARNING: Target directory /tmp/pip_packages/tzdata already exists. Specify --upgrade to force replacement.\u001b[0m\n",
      "\u001b[33mWARNING: Target directory /tmp/pip_packages/tzdata-2024.1.dist-info already exists. Specify --upgrade to force replacement.\u001b[0m\n",
      "\u001b[33mWARNING: Target directory /tmp/pip_packages/numpy.libs already exists. Specify --upgrade to force replacement.\u001b[0m\n",
      "\u001b[33mWARNING: Target directory /tmp/pip_packages/numpy-1.24.4.dist-info already exists. Specify --upgrade to force replacement.\u001b[0m\n",
      "\u001b[33mWARNING: Target directory /tmp/pip_packages/numpy already exists. Specify --upgrade to force replacement.\u001b[0m\n",
      "\u001b[33mWARNING: Target directory /tmp/pip_packages/pytz already exists. Specify --upgrade to force replacement.\u001b[0m\n",
      "\u001b[33mWARNING: Target directory /tmp/pip_packages/pytz-2024.1.dist-info already exists. Specify --upgrade to force replacement.\u001b[0m\n",
      "\u001b[33mWARNING: Target directory /tmp/pip_packages/pandas-2.0.3.dist-info already exists. Specify --upgrade to force replacement.\u001b[0m\n",
      "\u001b[33mWARNING: Target directory /tmp/pip_packages/pandas already exists. Specify --upgrade to force replacement.\u001b[0m\n",
      "\u001b[33mWARNING: Target directory /tmp/pip_packages/packaging already exists. Specify --upgrade to force replacement.\u001b[0m\n",
      "\u001b[33mWARNING: Target directory /tmp/pip_packages/packaging-24.0.dist-info already exists. Specify --upgrade to force replacement.\u001b[0m\n",
      "\u001b[33mWARNING: Target directory /tmp/pip_packages/zipp already exists. Specify --upgrade to force replacement.\u001b[0m\n",
      "\u001b[33mWARNING: Target directory /tmp/pip_packages/zipp-3.18.1.dist-info already exists. Specify --upgrade to force replacement.\u001b[0m\n",
      "\u001b[33mWARNING: Target directory /tmp/pip_packages/importlib_resources already exists. Specify --upgrade to force replacement.\u001b[0m\n",
      "\u001b[33mWARNING: Target directory /tmp/pip_packages/importlib_resources-6.4.0.dist-info already exists. Specify --upgrade to force replacement.\u001b[0m\n",
      "\u001b[33mWARNING: Target directory /tmp/pip_packages/fontTools already exists. Specify --upgrade to force replacement.\u001b[0m\n",
      "\u001b[33mWARNING: Target directory /tmp/pip_packages/fonttools-4.51.0.dist-info already exists. Specify --upgrade to force replacement.\u001b[0m\n",
      "\u001b[33mWARNING: Target directory /tmp/pip_packages/cycler already exists. Specify --upgrade to force replacement.\u001b[0m\n",
      "\u001b[33mWARNING: Target directory /tmp/pip_packages/cycler-0.12.1.dist-info already exists. Specify --upgrade to force replacement.\u001b[0m\n",
      "\u001b[33mWARNING: Target directory /tmp/pip_packages/contourpy-1.1.1.dist-info already exists. Specify --upgrade to force replacement.\u001b[0m\n",
      "\u001b[33mWARNING: Target directory /tmp/pip_packages/contourpy already exists. Specify --upgrade to force replacement.\u001b[0m\n",
      "\u001b[33mWARNING: Target directory /tmp/pip_packages/pyparsing already exists. Specify --upgrade to force replacement.\u001b[0m\n",
      "\u001b[33mWARNING: Target directory /tmp/pip_packages/pyparsing-3.1.2.dist-info already exists. Specify --upgrade to force replacement.\u001b[0m\n",
      "\u001b[33mWARNING: Target directory /tmp/pip_packages/pillow.libs already exists. Specify --upgrade to force replacement.\u001b[0m\n",
      "\u001b[33mWARNING: Target directory /tmp/pip_packages/PIL already exists. Specify --upgrade to force replacement.\u001b[0m\n",
      "\u001b[33mWARNING: Target directory /tmp/pip_packages/pillow-10.3.0.dist-info already exists. Specify --upgrade to force replacement.\u001b[0m\n",
      "\u001b[33mWARNING: Target directory /tmp/pip_packages/kiwisolver-1.4.5.dist-info already exists. Specify --upgrade to force replacement.\u001b[0m\n",
      "\u001b[33mWARNING: Target directory /tmp/pip_packages/kiwisolver already exists. Specify --upgrade to force replacement.\u001b[0m\n",
      "\u001b[33mWARNING: Target directory /tmp/pip_packages/matplotlib-3.7.5-py3.8-nspkg.pth already exists. Specify --upgrade to force replacement.\u001b[0m\n",
      "\u001b[33mWARNING: Target directory /tmp/pip_packages/pylab.py already exists. Specify --upgrade to force replacement.\u001b[0m\n",
      "\u001b[33mWARNING: Target directory /tmp/pip_packages/matplotlib-3.7.5.dist-info already exists. Specify --upgrade to force replacement.\u001b[0m\n",
      "\u001b[33mWARNING: Target directory /tmp/pip_packages/mpl_toolkits already exists. Specify --upgrade to force replacement.\u001b[0m\n",
      "\u001b[33mWARNING: Target directory /tmp/pip_packages/matplotlib already exists. Specify --upgrade to force replacement.\u001b[0m\n",
      "\u001b[33mWARNING: Target directory /tmp/pip_packages/seaborn already exists. Specify --upgrade to force replacement.\u001b[0m\n",
      "\u001b[33mWARNING: Target directory /tmp/pip_packages/seaborn-0.13.2.dist-info already exists. Specify --upgrade to force replacement.\u001b[0m\n",
      "\u001b[33mWARNING: Target directory /tmp/pip_packages/bin already exists. Specify --upgrade to force replacement.\u001b[0m\n",
      "\u001b[33mWARNING: Target directory /tmp/pip_packages/share already exists. Specify --upgrade to force replacement.\u001b[0m\n",
      "\u001b[33mWARNING: You are using pip version 19.3.1; however, version 24.0 is available.\n",
      "You should consider upgrading via the 'pip install --upgrade pip' command.\u001b[0m\n",
      "Collecting matplotlib\n",
      "  Using cached https://files.pythonhosted.org/packages/30/33/cc27211d2ffeee4fd7402dca137b6e8a83f6dcae3d4be8d0ad5068555561/matplotlib-3.7.5-cp38-cp38-manylinux_2_12_x86_64.manylinux2010_x86_64.whl\n",
      "Collecting packaging>=20.0\n",
      "  Using cached https://files.pythonhosted.org/packages/49/df/1fceb2f8900f8639e278b056416d49134fb8d84c5942ffaa01ad34782422/packaging-24.0-py3-none-any.whl\n",
      "Collecting cycler>=0.10\n",
      "  Using cached https://files.pythonhosted.org/packages/e7/05/c19819d5e3d95294a6f5947fb9b9629efb316b96de511b418c53d245aae6/cycler-0.12.1-py3-none-any.whl\n",
      "Collecting fonttools>=4.22.0\n",
      "  Using cached https://files.pythonhosted.org/packages/4d/ed/130f017d3b599bb198f6d274d010c52c0e2dff6b1164eb4d683d973c46bf/fonttools-4.51.0-cp38-cp38-manylinux_2_17_x86_64.manylinux2014_x86_64.whl\n",
      "Collecting python-dateutil>=2.7\n",
      "  Using cached https://files.pythonhosted.org/packages/ec/57/56b9bcc3c9c6a792fcbaf139543cee77261f3651ca9da0c93f5c1221264b/python_dateutil-2.9.0.post0-py2.py3-none-any.whl\n",
      "Collecting pyparsing>=2.3.1\n",
      "  Using cached https://files.pythonhosted.org/packages/9d/ea/6d76df31432a0e6fdf81681a895f009a4bb47b3c39036db3e1b528191d52/pyparsing-3.1.2-py3-none-any.whl\n",
      "Collecting importlib-resources>=3.2.0; python_version < \"3.10\"\n",
      "  Using cached https://files.pythonhosted.org/packages/75/06/4df55e1b7b112d183f65db9503bff189e97179b256e1ea450a3c365241e0/importlib_resources-6.4.0-py3-none-any.whl\n",
      "Collecting numpy<2,>=1.20\n",
      "  Using cached https://files.pythonhosted.org/packages/98/5d/5738903efe0ecb73e51eb44feafba32bdba2081263d40c5043568ff60faf/numpy-1.24.4-cp38-cp38-manylinux_2_17_x86_64.manylinux2014_x86_64.whl\n",
      "Collecting pillow>=6.2.0\n",
      "  Using cached https://files.pythonhosted.org/packages/45/8c/ea6fdce74c963d7017f02708b7e4918a401200844ac2c4af1cef8ebc8823/pillow-10.3.0-cp38-cp38-manylinux_2_17_x86_64.manylinux2014_x86_64.whl\n",
      "Collecting contourpy>=1.0.1\n",
      "  Using cached https://files.pythonhosted.org/packages/8e/71/7f20855592cc929bc206810432b991ec4c702dc26b0567b132e52c85536f/contourpy-1.1.1-cp38-cp38-manylinux_2_17_x86_64.manylinux2014_x86_64.whl\n",
      "Collecting kiwisolver>=1.0.1\n",
      "  Using cached https://files.pythonhosted.org/packages/d2/55/7021ffcc8cb26a520bb051aa0a3d08daf200cde945e5863d5768161e2d3d/kiwisolver-1.4.5-cp38-cp38-manylinux_2_5_x86_64.manylinux1_x86_64.whl\n",
      "Collecting six>=1.5\n",
      "  Using cached https://files.pythonhosted.org/packages/d9/5a/e7c31adbe875f2abbb91bd84cf2dc52d792b5a01506781dbcf25c91daf11/six-1.16.0-py2.py3-none-any.whl\n",
      "Collecting zipp>=3.1.0; python_version < \"3.10\"\n"
     ]
    },
    {
     "name": "stdout",
     "output_type": "stream",
     "text": [
      "  Using cached https://files.pythonhosted.org/packages/c2/0a/ba9d0ee9536d3ef73a3448e931776e658b36f128d344e175bc32b092a8bf/zipp-3.18.1-py3-none-any.whl\n",
      "\u001b[31mERROR: jupyterlab 3.2.4 has requirement jupyter-server~=1.4, but you'll have jupyter-server 2.7.3 which is incompatible.\u001b[0m\n",
      "\u001b[31mERROR: jupyterlab-server 2.25.4 has requirement babel>=2.10, but you'll have babel 2.9.1 which is incompatible.\u001b[0m\n",
      "Installing collected packages: packaging, cycler, fonttools, six, python-dateutil, pyparsing, zipp, importlib-resources, numpy, pillow, contourpy, kiwisolver, matplotlib\n",
      "Successfully installed contourpy-1.1.1 cycler-0.12.1 fonttools-4.51.0 importlib-resources-6.4.0 kiwisolver-1.4.5 matplotlib-3.7.5 numpy-1.24.4 packaging-24.0 pillow-10.3.0 pyparsing-3.1.2 python-dateutil-2.9.0.post0 six-1.16.0 zipp-3.18.1\n",
      "\u001b[33mWARNING: Target directory /tmp/pip_packages/packaging already exists. Specify --upgrade to force replacement.\u001b[0m\n",
      "\u001b[33mWARNING: Target directory /tmp/pip_packages/packaging-24.0.dist-info already exists. Specify --upgrade to force replacement.\u001b[0m\n",
      "\u001b[33mWARNING: Target directory /tmp/pip_packages/cycler already exists. Specify --upgrade to force replacement.\u001b[0m\n",
      "\u001b[33mWARNING: Target directory /tmp/pip_packages/cycler-0.12.1.dist-info already exists. Specify --upgrade to force replacement.\u001b[0m\n",
      "\u001b[33mWARNING: Target directory /tmp/pip_packages/fontTools already exists. Specify --upgrade to force replacement.\u001b[0m\n",
      "\u001b[33mWARNING: Target directory /tmp/pip_packages/fonttools-4.51.0.dist-info already exists. Specify --upgrade to force replacement.\u001b[0m\n",
      "\u001b[33mWARNING: Target directory /tmp/pip_packages/six.py already exists. Specify --upgrade to force replacement.\u001b[0m\n",
      "\u001b[33mWARNING: Target directory /tmp/pip_packages/six-1.16.0.dist-info already exists. Specify --upgrade to force replacement.\u001b[0m\n",
      "\u001b[33mWARNING: Target directory /tmp/pip_packages/__pycache__ already exists. Specify --upgrade to force replacement.\u001b[0m\n",
      "\u001b[33mWARNING: Target directory /tmp/pip_packages/dateutil already exists. Specify --upgrade to force replacement.\u001b[0m\n",
      "\u001b[33mWARNING: Target directory /tmp/pip_packages/python_dateutil-2.9.0.post0.dist-info already exists. Specify --upgrade to force replacement.\u001b[0m\n",
      "\u001b[33mWARNING: Target directory /tmp/pip_packages/pyparsing already exists. Specify --upgrade to force replacement.\u001b[0m\n",
      "\u001b[33mWARNING: Target directory /tmp/pip_packages/pyparsing-3.1.2.dist-info already exists. Specify --upgrade to force replacement.\u001b[0m\n",
      "\u001b[33mWARNING: Target directory /tmp/pip_packages/zipp already exists. Specify --upgrade to force replacement.\u001b[0m\n",
      "\u001b[33mWARNING: Target directory /tmp/pip_packages/zipp-3.18.1.dist-info already exists. Specify --upgrade to force replacement.\u001b[0m\n",
      "\u001b[33mWARNING: Target directory /tmp/pip_packages/importlib_resources already exists. Specify --upgrade to force replacement.\u001b[0m\n",
      "\u001b[33mWARNING: Target directory /tmp/pip_packages/importlib_resources-6.4.0.dist-info already exists. Specify --upgrade to force replacement.\u001b[0m\n",
      "\u001b[33mWARNING: Target directory /tmp/pip_packages/numpy.libs already exists. Specify --upgrade to force replacement.\u001b[0m\n",
      "\u001b[33mWARNING: Target directory /tmp/pip_packages/numpy-1.24.4.dist-info already exists. Specify --upgrade to force replacement.\u001b[0m\n",
      "\u001b[33mWARNING: Target directory /tmp/pip_packages/numpy already exists. Specify --upgrade to force replacement.\u001b[0m\n",
      "\u001b[33mWARNING: Target directory /tmp/pip_packages/pillow.libs already exists. Specify --upgrade to force replacement.\u001b[0m\n",
      "\u001b[33mWARNING: Target directory /tmp/pip_packages/PIL already exists. Specify --upgrade to force replacement.\u001b[0m\n",
      "\u001b[33mWARNING: Target directory /tmp/pip_packages/pillow-10.3.0.dist-info already exists. Specify --upgrade to force replacement.\u001b[0m\n",
      "\u001b[33mWARNING: Target directory /tmp/pip_packages/contourpy-1.1.1.dist-info already exists. Specify --upgrade to force replacement.\u001b[0m\n",
      "\u001b[33mWARNING: Target directory /tmp/pip_packages/contourpy already exists. Specify --upgrade to force replacement.\u001b[0m\n",
      "\u001b[33mWARNING: Target directory /tmp/pip_packages/kiwisolver-1.4.5.dist-info already exists. Specify --upgrade to force replacement.\u001b[0m\n",
      "\u001b[33mWARNING: Target directory /tmp/pip_packages/kiwisolver already exists. Specify --upgrade to force replacement.\u001b[0m\n",
      "\u001b[33mWARNING: Target directory /tmp/pip_packages/matplotlib-3.7.5-py3.8-nspkg.pth already exists. Specify --upgrade to force replacement.\u001b[0m\n",
      "\u001b[33mWARNING: Target directory /tmp/pip_packages/pylab.py already exists. Specify --upgrade to force replacement.\u001b[0m\n",
      "\u001b[33mWARNING: Target directory /tmp/pip_packages/matplotlib-3.7.5.dist-info already exists. Specify --upgrade to force replacement.\u001b[0m\n",
      "\u001b[33mWARNING: Target directory /tmp/pip_packages/mpl_toolkits already exists. Specify --upgrade to force replacement.\u001b[0m\n",
      "\u001b[33mWARNING: Target directory /tmp/pip_packages/matplotlib already exists. Specify --upgrade to force replacement.\u001b[0m\n",
      "\u001b[33mWARNING: Target directory /tmp/pip_packages/share already exists. Specify --upgrade to force replacement.\u001b[0m\n",
      "\u001b[33mWARNING: Target directory /tmp/pip_packages/bin already exists. Specify --upgrade to force replacement.\u001b[0m\n",
      "\u001b[33mWARNING: You are using pip version 19.3.1; however, version 24.0 is available.\n",
      "You should consider upgrading via the 'pip install --upgrade pip' command.\u001b[0m\n",
      "Collecting scikit-learn\n",
      "  Using cached https://files.pythonhosted.org/packages/3f/48/6fdd99f5717045f9984616b5c2ec683d6286d30c0ac234563062132b83ab/scikit_learn-1.3.2-cp38-cp38-manylinux_2_17_x86_64.manylinux2014_x86_64.whl\n",
      "Collecting joblib>=1.1.1\n",
      "  Using cached https://files.pythonhosted.org/packages/91/29/df4b9b42f2be0b623cbd5e2140cafcaa2bef0759a00b7b70104dcfe2fb51/joblib-1.4.2-py3-none-any.whl\n",
      "Collecting scipy>=1.5.0\n",
      "  Using cached https://files.pythonhosted.org/packages/69/f0/fb07a9548e48b687b8bf2fa81d71aba9cfc548d365046ca1c791e24db99d/scipy-1.10.1-cp38-cp38-manylinux_2_17_x86_64.manylinux2014_x86_64.whl\n",
      "Collecting threadpoolctl>=2.0.0\n",
      "  Using cached https://files.pythonhosted.org/packages/4b/2c/ffbf7a134b9ab11a67b0cf0726453cedd9c5043a4fe7a35d1cefa9a1bcfb/threadpoolctl-3.5.0-py3-none-any.whl\n",
      "Collecting numpy<2.0,>=1.17.3\n",
      "  Using cached https://files.pythonhosted.org/packages/98/5d/5738903efe0ecb73e51eb44feafba32bdba2081263d40c5043568ff60faf/numpy-1.24.4-cp38-cp38-manylinux_2_17_x86_64.manylinux2014_x86_64.whl\n",
      "Installing collected packages: joblib, numpy, scipy, threadpoolctl, scikit-learn\n",
      "Successfully installed joblib-1.4.2 numpy-1.24.4 scikit-learn-1.3.2 scipy-1.10.1 threadpoolctl-3.5.0\n",
      "\u001b[33mWARNING: Target directory /tmp/pip_packages/joblib already exists. Specify --upgrade to force replacement.\u001b[0m\n",
      "\u001b[33mWARNING: Target directory /tmp/pip_packages/joblib-1.4.2.dist-info already exists. Specify --upgrade to force replacement.\u001b[0m\n",
      "\u001b[33mWARNING: Target directory /tmp/pip_packages/numpy.libs already exists. Specify --upgrade to force replacement.\u001b[0m\n",
      "\u001b[33mWARNING: Target directory /tmp/pip_packages/numpy-1.24.4.dist-info already exists. Specify --upgrade to force replacement.\u001b[0m\n",
      "\u001b[33mWARNING: Target directory /tmp/pip_packages/numpy already exists. Specify --upgrade to force replacement.\u001b[0m\n",
      "\u001b[33mWARNING: Target directory /tmp/pip_packages/scipy already exists. Specify --upgrade to force replacement.\u001b[0m\n",
      "\u001b[33mWARNING: Target directory /tmp/pip_packages/scipy.libs already exists. Specify --upgrade to force replacement.\u001b[0m\n",
      "\u001b[33mWARNING: Target directory /tmp/pip_packages/scipy-1.10.1.dist-info already exists. Specify --upgrade to force replacement.\u001b[0m\n",
      "\u001b[33mWARNING: Target directory /tmp/pip_packages/threadpoolctl.py already exists. Specify --upgrade to force replacement.\u001b[0m\n",
      "\u001b[33mWARNING: Target directory /tmp/pip_packages/threadpoolctl-3.5.0.dist-info already exists. Specify --upgrade to force replacement.\u001b[0m\n",
      "\u001b[33mWARNING: Target directory /tmp/pip_packages/__pycache__ already exists. Specify --upgrade to force replacement.\u001b[0m\n",
      "\u001b[33mWARNING: Target directory /tmp/pip_packages/scikit_learn-1.3.2.dist-info already exists. Specify --upgrade to force replacement.\u001b[0m\n",
      "\u001b[33mWARNING: Target directory /tmp/pip_packages/scikit_learn.libs already exists. Specify --upgrade to force replacement.\u001b[0m\n",
      "\u001b[33mWARNING: Target directory /tmp/pip_packages/sklearn already exists. Specify --upgrade to force replacement.\u001b[0m\n",
      "\u001b[33mWARNING: Target directory /tmp/pip_packages/bin already exists. Specify --upgrade to force replacement.\u001b[0m\n"
     ]
    },
    {
     "name": "stdout",
     "output_type": "stream",
     "text": [
      "\u001b[33mWARNING: You are using pip version 19.3.1; however, version 24.0 is available.\r\n",
      "You should consider upgrading via the 'pip install --upgrade pip' command.\u001b[0m\r\n"
     ]
    }
   ],
   "source": [
    "!pip install pandas\n",
    "!pip install numpy\n",
    "!pip install seaborn\n",
    "!pip install matplotlib\n",
    "!pip install scikit-learn\n",
    "\n"
   ]
  },
  {
   "cell_type": "code",
   "execution_count": null,
   "id": "522fc624",
   "metadata": {},
   "outputs": [],
   "source": []
  },
  {
   "cell_type": "code",
   "execution_count": 2,
   "id": "eea1e3f8-e21e-4cad-b200-66d6e1aed17a",
   "metadata": {},
   "outputs": [],
   "source": [
    "import pandas as pd\n",
    "import numpy as np\n",
    "\n",
    "import matplotlib.pyplot as plt\n",
    "%matplotlib inline\n",
    "import seaborn as sns\n",
    "\n",
    "\n",
    "from sklearn.preprocessing import LabelEncoder, StandardScaler\n",
    "\n",
    "from sklearn.linear_model import LinearRegression\n",
    "from sklearn.tree import DecisionTreeRegressor\n",
    "from sklearn.ensemble import RandomForestRegressor, GradientBoostingRegressor\n",
    "from sklearn.svm import SVR\n",
    "\n",
    "from sklearn.metrics import mean_squared_error, r2_score, mean_absolute_error"
   ]
  },
  {
   "cell_type": "code",
   "execution_count": 3,
   "id": "0a4e97f4-2915-4d05-92dc-62d91fe5caee",
   "metadata": {},
   "outputs": [],
   "source": [
    "import warnings\n",
    "warnings.simplefilter(action='ignore')"
   ]
  },
  {
   "cell_type": "markdown",
   "id": "cfad6b1b-ddfa-4a45-9e49-111f7e9820e4",
   "metadata": {},
   "source": [
    "<h1 style= \"font-family :Verdana; color :#004687 ; font-size: 20px\">Load Datasets</h1>"
   ]
  },
  {
   "cell_type": "code",
   "execution_count": 4,
   "id": "fd86456f-237b-460c-9ada-beb6cc8ecccb",
   "metadata": {},
   "outputs": [],
   "source": [
    "# train dataset\n",
    "df = pd.read_csv(\"FMCG_data.csv\")\n",
    "\n",
    "# test dataset\n",
    "df_test = pd.read_csv(\"FMCG_data.csv\")"
   ]
  },
  {
   "cell_type": "markdown",
   "id": "cb4be587-b255-47e3-9bed-36ba87e5b626",
   "metadata": {},
   "source": [
    "<h1 style= \"font-family :Verdana; color :#004687 ; font-size: 20px\">Data Exploration</h1>"
   ]
  },
  {
   "cell_type": "code",
   "execution_count": 5,
   "id": "8e71268c-c00b-4e84-90be-6427db8bb708",
   "metadata": {},
   "outputs": [
    {
     "data": {
      "text/html": [
       "<div>\n",
       "<style scoped>\n",
       "    .dataframe tbody tr th:only-of-type {\n",
       "        vertical-align: middle;\n",
       "    }\n",
       "\n",
       "    .dataframe tbody tr th {\n",
       "        vertical-align: top;\n",
       "    }\n",
       "\n",
       "    .dataframe thead th {\n",
       "        text-align: right;\n",
       "    }\n",
       "</style>\n",
       "<table border=\"1\" class=\"dataframe\">\n",
       "  <thead>\n",
       "    <tr style=\"text-align: right;\">\n",
       "      <th></th>\n",
       "      <th>0</th>\n",
       "      <th>1</th>\n",
       "      <th>2</th>\n",
       "      <th>3</th>\n",
       "      <th>4</th>\n",
       "    </tr>\n",
       "  </thead>\n",
       "  <tbody>\n",
       "    <tr>\n",
       "      <th>Date</th>\n",
       "      <td>2023-01-01</td>\n",
       "      <td>2023-01-01</td>\n",
       "      <td>2023-01-01</td>\n",
       "      <td>2023-01-01</td>\n",
       "      <td>2023-01-01</td>\n",
       "    </tr>\n",
       "    <tr>\n",
       "      <th>Ware_house_ID</th>\n",
       "      <td>WH_100000</td>\n",
       "      <td>WH_100001</td>\n",
       "      <td>WH_100002</td>\n",
       "      <td>WH_100003</td>\n",
       "      <td>WH_100004</td>\n",
       "    </tr>\n",
       "    <tr>\n",
       "      <th>WH_Manager_ID</th>\n",
       "      <td>EID_50000</td>\n",
       "      <td>EID_50001</td>\n",
       "      <td>EID_50002</td>\n",
       "      <td>EID_50003</td>\n",
       "      <td>EID_50004</td>\n",
       "    </tr>\n",
       "    <tr>\n",
       "      <th>Location_type</th>\n",
       "      <td>Urban</td>\n",
       "      <td>Rural</td>\n",
       "      <td>Rural</td>\n",
       "      <td>Rural</td>\n",
       "      <td>Rural</td>\n",
       "    </tr>\n",
       "    <tr>\n",
       "      <th>WH_capacity_size</th>\n",
       "      <td>Small</td>\n",
       "      <td>Large</td>\n",
       "      <td>Mid</td>\n",
       "      <td>Mid</td>\n",
       "      <td>Large</td>\n",
       "    </tr>\n",
       "    <tr>\n",
       "      <th>zone</th>\n",
       "      <td>West</td>\n",
       "      <td>North</td>\n",
       "      <td>South</td>\n",
       "      <td>North</td>\n",
       "      <td>North</td>\n",
       "    </tr>\n",
       "    <tr>\n",
       "      <th>WH_regional_zone</th>\n",
       "      <td>Zone 6</td>\n",
       "      <td>Zone 5</td>\n",
       "      <td>Zone 2</td>\n",
       "      <td>Zone 3</td>\n",
       "      <td>Zone 5</td>\n",
       "    </tr>\n",
       "    <tr>\n",
       "      <th>Refill_Requests</th>\n",
       "      <td>3</td>\n",
       "      <td>0</td>\n",
       "      <td>1</td>\n",
       "      <td>7</td>\n",
       "      <td>3</td>\n",
       "    </tr>\n",
       "    <tr>\n",
       "      <th>transport_issue</th>\n",
       "      <td>1</td>\n",
       "      <td>0</td>\n",
       "      <td>0</td>\n",
       "      <td>4</td>\n",
       "      <td>1</td>\n",
       "    </tr>\n",
       "    <tr>\n",
       "      <th>No_of_Competitor</th>\n",
       "      <td>2</td>\n",
       "      <td>4</td>\n",
       "      <td>4</td>\n",
       "      <td>2</td>\n",
       "      <td>2</td>\n",
       "    </tr>\n",
       "    <tr>\n",
       "      <th>No_of_retailers</th>\n",
       "      <td>4651</td>\n",
       "      <td>6217</td>\n",
       "      <td>4306</td>\n",
       "      <td>6000</td>\n",
       "      <td>4740</td>\n",
       "    </tr>\n",
       "    <tr>\n",
       "      <th>Warehouse_Ownership</th>\n",
       "      <td>Rented</td>\n",
       "      <td>Company Owned</td>\n",
       "      <td>Company Owned</td>\n",
       "      <td>Rented</td>\n",
       "      <td>Company Owned</td>\n",
       "    </tr>\n",
       "    <tr>\n",
       "      <th>Number_of_distributors</th>\n",
       "      <td>24</td>\n",
       "      <td>47</td>\n",
       "      <td>64</td>\n",
       "      <td>50</td>\n",
       "      <td>42</td>\n",
       "    </tr>\n",
       "    <tr>\n",
       "      <th>flood_impacted</th>\n",
       "      <td>0</td>\n",
       "      <td>0</td>\n",
       "      <td>0</td>\n",
       "      <td>0</td>\n",
       "      <td>1</td>\n",
       "    </tr>\n",
       "    <tr>\n",
       "      <th>flood_proof</th>\n",
       "      <td>1</td>\n",
       "      <td>0</td>\n",
       "      <td>0</td>\n",
       "      <td>0</td>\n",
       "      <td>0</td>\n",
       "    </tr>\n",
       "    <tr>\n",
       "      <th>electric_supply</th>\n",
       "      <td>1</td>\n",
       "      <td>1</td>\n",
       "      <td>0</td>\n",
       "      <td>0</td>\n",
       "      <td>1</td>\n",
       "    </tr>\n",
       "    <tr>\n",
       "      <th>dist_from_hub</th>\n",
       "      <td>91</td>\n",
       "      <td>210</td>\n",
       "      <td>161</td>\n",
       "      <td>103</td>\n",
       "      <td>112</td>\n",
       "    </tr>\n",
       "    <tr>\n",
       "      <th>workers_num</th>\n",
       "      <td>29.0</td>\n",
       "      <td>31.0</td>\n",
       "      <td>37.0</td>\n",
       "      <td>21.0</td>\n",
       "      <td>25.0</td>\n",
       "    </tr>\n",
       "    <tr>\n",
       "      <th>wh_est_year</th>\n",
       "      <td>NaN</td>\n",
       "      <td>NaN</td>\n",
       "      <td>NaN</td>\n",
       "      <td>NaN</td>\n",
       "      <td>2009.0</td>\n",
       "    </tr>\n",
       "    <tr>\n",
       "      <th>storage_issue_reported</th>\n",
       "      <td>13</td>\n",
       "      <td>4</td>\n",
       "      <td>17</td>\n",
       "      <td>17</td>\n",
       "      <td>18</td>\n",
       "    </tr>\n",
       "    <tr>\n",
       "      <th>temp_reg_mach</th>\n",
       "      <td>0.0</td>\n",
       "      <td>0.0</td>\n",
       "      <td>0.0</td>\n",
       "      <td>1.0</td>\n",
       "      <td>0.0</td>\n",
       "    </tr>\n",
       "    <tr>\n",
       "      <th>approved_wh_govt_certificate</th>\n",
       "      <td>A</td>\n",
       "      <td>A</td>\n",
       "      <td>A</td>\n",
       "      <td>A+</td>\n",
       "      <td>C</td>\n",
       "    </tr>\n",
       "    <tr>\n",
       "      <th>wh_breakdown</th>\n",
       "      <td>5.0</td>\n",
       "      <td>3.0</td>\n",
       "      <td>6.0</td>\n",
       "      <td>3.0</td>\n",
       "      <td>6.0</td>\n",
       "    </tr>\n",
       "    <tr>\n",
       "      <th>govt_check</th>\n",
       "      <td>15.0</td>\n",
       "      <td>17.0</td>\n",
       "      <td>22.0</td>\n",
       "      <td>27.0</td>\n",
       "      <td>24.0</td>\n",
       "    </tr>\n",
       "    <tr>\n",
       "      <th>product_wg_ton</th>\n",
       "      <td>17115.0</td>\n",
       "      <td>5074.0</td>\n",
       "      <td>23137.0</td>\n",
       "      <td>22115.0</td>\n",
       "      <td>24071.0</td>\n",
       "    </tr>\n",
       "  </tbody>\n",
       "</table>\n",
       "</div>"
      ],
      "text/plain": [
       "                                       0              1              2  \\\n",
       "Date                          2023-01-01     2023-01-01     2023-01-01   \n",
       "Ware_house_ID                  WH_100000      WH_100001      WH_100002   \n",
       "WH_Manager_ID                  EID_50000      EID_50001      EID_50002   \n",
       "Location_type                      Urban          Rural          Rural   \n",
       "WH_capacity_size                   Small          Large            Mid   \n",
       "zone                                West          North          South   \n",
       "WH_regional_zone                  Zone 6         Zone 5         Zone 2   \n",
       "Refill_Requests                        3              0              1   \n",
       "transport_issue                        1              0              0   \n",
       "No_of_Competitor                       2              4              4   \n",
       "No_of_retailers                     4651           6217           4306   \n",
       "Warehouse_Ownership               Rented  Company Owned  Company Owned   \n",
       "Number_of_distributors                24             47             64   \n",
       "flood_impacted                         0              0              0   \n",
       "flood_proof                            1              0              0   \n",
       "electric_supply                        1              1              0   \n",
       "dist_from_hub                         91            210            161   \n",
       "workers_num                         29.0           31.0           37.0   \n",
       "wh_est_year                          NaN            NaN            NaN   \n",
       "storage_issue_reported                13              4             17   \n",
       "temp_reg_mach                        0.0            0.0            0.0   \n",
       "approved_wh_govt_certificate           A              A              A   \n",
       "wh_breakdown                         5.0            3.0            6.0   \n",
       "govt_check                          15.0           17.0           22.0   \n",
       "product_wg_ton                   17115.0         5074.0        23137.0   \n",
       "\n",
       "                                       3              4  \n",
       "Date                          2023-01-01     2023-01-01  \n",
       "Ware_house_ID                  WH_100003      WH_100004  \n",
       "WH_Manager_ID                  EID_50003      EID_50004  \n",
       "Location_type                      Rural          Rural  \n",
       "WH_capacity_size                     Mid          Large  \n",
       "zone                               North          North  \n",
       "WH_regional_zone                  Zone 3         Zone 5  \n",
       "Refill_Requests                        7              3  \n",
       "transport_issue                        4              1  \n",
       "No_of_Competitor                       2              2  \n",
       "No_of_retailers                     6000           4740  \n",
       "Warehouse_Ownership               Rented  Company Owned  \n",
       "Number_of_distributors                50             42  \n",
       "flood_impacted                         0              1  \n",
       "flood_proof                            0              0  \n",
       "electric_supply                        0              1  \n",
       "dist_from_hub                        103            112  \n",
       "workers_num                         21.0           25.0  \n",
       "wh_est_year                          NaN         2009.0  \n",
       "storage_issue_reported                17             18  \n",
       "temp_reg_mach                        1.0            0.0  \n",
       "approved_wh_govt_certificate          A+              C  \n",
       "wh_breakdown                         3.0            6.0  \n",
       "govt_check                          27.0           24.0  \n",
       "product_wg_ton                   22115.0        24071.0  "
      ]
     },
     "execution_count": 5,
     "metadata": {},
     "output_type": "execute_result"
    }
   ],
   "source": [
    "# display first 5 rows from train data\n",
    "\n",
    "df.head().T"
   ]
  },
  {
   "cell_type": "code",
   "execution_count": 6,
   "id": "719ec554-c0b1-4b0d-a2f7-bf1f06263cf3",
   "metadata": {},
   "outputs": [
    {
     "name": "stdout",
     "output_type": "stream",
     "text": [
      "Shape :  (350001, 25)\n",
      "Size :  8750025\n"
     ]
    }
   ],
   "source": [
    "# shape and size of train data\n",
    "\n",
    "print(\"Shape : \", df.shape)\n",
    "print(\"Size : \", df.size)"
   ]
  },
  {
   "cell_type": "code",
   "execution_count": 7,
   "id": "c66acfa3-cbe6-45af-b095-27305162e491",
   "metadata": {},
   "outputs": [
    {
     "name": "stdout",
     "output_type": "stream",
     "text": [
      "Shape :  (350001, 25)\n",
      "Size :  8750025\n"
     ]
    }
   ],
   "source": [
    "# shape and size of test data\n",
    "\n",
    "print(\"Shape : \", df_test.shape)\n",
    "print(\"Size : \", df_test.size)"
   ]
  },
  {
   "cell_type": "code",
   "execution_count": 8,
   "id": "29acc101-aa87-4eed-9ed2-732a2b4dca7d",
   "metadata": {},
   "outputs": [
    {
     "name": "stdout",
     "output_type": "stream",
     "text": [
      "Index(['Date', 'Ware_house_ID', 'WH_Manager_ID', 'Location_type',\n",
      "       'WH_capacity_size', 'zone', 'WH_regional_zone', 'Refill_Requests',\n",
      "       'transport_issue', 'No_of_Competitor', 'No_of_retailers',\n",
      "       'Warehouse_Ownership', 'Number_of_distributors', 'flood_impacted',\n",
      "       'flood_proof', 'electric_supply', 'dist_from_hub', 'workers_num',\n",
      "       'wh_est_year', 'storage_issue_reported', 'temp_reg_mach',\n",
      "       'approved_wh_govt_certificate', 'wh_breakdown', 'govt_check',\n",
      "       'product_wg_ton'],\n",
      "      dtype='object')\n",
      " \n",
      "Total columns in train dataset =  25\n",
      "Total columns in test dataset =  25\n"
     ]
    }
   ],
   "source": [
    "#display all columns\n",
    "\n",
    "print(df.columns)\n",
    "print(' ')\n",
    "print(\"Total columns in train dataset = \", len(df.columns))\n",
    "print(\"Total columns in test dataset = \", len(df_test.columns))"
   ]
  },
  {
   "cell_type": "code",
   "execution_count": 9,
   "id": "fa2630c9-db7c-40c1-bc32-0111e444cc25",
   "metadata": {},
   "outputs": [
    {
     "name": "stdout",
     "output_type": "stream",
     "text": [
      "<class 'pandas.core.frame.DataFrame'>\n",
      "RangeIndex: 350001 entries, 0 to 350000\n",
      "Data columns (total 25 columns):\n",
      " #   Column                        Non-Null Count   Dtype  \n",
      "---  ------                        --------------   -----  \n",
      " 0   Date                          350001 non-null  object \n",
      " 1   Ware_house_ID                 350001 non-null  object \n",
      " 2   WH_Manager_ID                 350001 non-null  object \n",
      " 3   Location_type                 350001 non-null  object \n",
      " 4   WH_capacity_size              350001 non-null  object \n",
      " 5   zone                          350001 non-null  object \n",
      " 6   WH_regional_zone              350001 non-null  object \n",
      " 7   Refill_Requests               350001 non-null  int64  \n",
      " 8   transport_issue               350001 non-null  int64  \n",
      " 9   No_of_Competitor              350001 non-null  int64  \n",
      " 10  No_of_retailers               350001 non-null  int64  \n",
      " 11  Warehouse_Ownership           350001 non-null  object \n",
      " 12  Number_of_distributors        350001 non-null  int64  \n",
      " 13  flood_impacted                350001 non-null  int64  \n",
      " 14  flood_proof                   350001 non-null  int64  \n",
      " 15  electric_supply               350001 non-null  int64  \n",
      " 16  dist_from_hub                 350001 non-null  int64  \n",
      " 17  workers_num                   349011 non-null  float64\n",
      " 18  wh_est_year                   183666 non-null  float64\n",
      " 19  storage_issue_reported        350001 non-null  int64  \n",
      " 20  temp_reg_mach                 350000 non-null  float64\n",
      " 21  approved_wh_govt_certificate  337288 non-null  object \n",
      " 22  wh_breakdown                  350000 non-null  float64\n",
      " 23  govt_check                    350000 non-null  float64\n",
      " 24  product_wg_ton                350000 non-null  float64\n",
      "dtypes: float64(6), int64(10), object(9)\n",
      "memory usage: 66.8+ MB\n"
     ]
    }
   ],
   "source": [
    "df.info()"
   ]
  },
  {
   "cell_type": "code",
   "execution_count": 10,
   "id": "a9b8e24d-753c-4972-8250-50ebd4521c82",
   "metadata": {},
   "outputs": [
    {
     "name": "stdout",
     "output_type": "stream",
     "text": [
      "<class 'pandas.core.frame.DataFrame'>\n",
      "RangeIndex: 350001 entries, 0 to 350000\n",
      "Data columns (total 25 columns):\n",
      " #   Column                        Non-Null Count   Dtype  \n",
      "---  ------                        --------------   -----  \n",
      " 0   Date                          350001 non-null  object \n",
      " 1   Ware_house_ID                 350001 non-null  object \n",
      " 2   WH_Manager_ID                 350001 non-null  object \n",
      " 3   Location_type                 350001 non-null  object \n",
      " 4   WH_capacity_size              350001 non-null  object \n",
      " 5   zone                          350001 non-null  object \n",
      " 6   WH_regional_zone              350001 non-null  object \n",
      " 7   Refill_Requests               350001 non-null  int64  \n",
      " 8   transport_issue               350001 non-null  int64  \n",
      " 9   No_of_Competitor              350001 non-null  int64  \n",
      " 10  No_of_retailers               350001 non-null  int64  \n",
      " 11  Warehouse_Ownership           350001 non-null  object \n",
      " 12  Number_of_distributors        350001 non-null  int64  \n",
      " 13  flood_impacted                350001 non-null  int64  \n",
      " 14  flood_proof                   350001 non-null  int64  \n",
      " 15  electric_supply               350001 non-null  int64  \n",
      " 16  dist_from_hub                 350001 non-null  int64  \n",
      " 17  workers_num                   349011 non-null  float64\n",
      " 18  wh_est_year                   183666 non-null  float64\n",
      " 19  storage_issue_reported        350001 non-null  int64  \n",
      " 20  temp_reg_mach                 350000 non-null  float64\n",
      " 21  approved_wh_govt_certificate  337288 non-null  object \n",
      " 22  wh_breakdown                  350000 non-null  float64\n",
      " 23  govt_check                    350000 non-null  float64\n",
      " 24  product_wg_ton                350000 non-null  float64\n",
      "dtypes: float64(6), int64(10), object(9)\n",
      "memory usage: 66.8+ MB\n"
     ]
    }
   ],
   "source": [
    "df_test.info()"
   ]
  },
  {
   "cell_type": "code",
   "execution_count": 11,
   "id": "83e48746-4704-4d56-b8d5-61acbcbb8b6f",
   "metadata": {},
   "outputs": [
    {
     "data": {
      "text/plain": [
       "int64      10\n",
       "object      9\n",
       "float64     6\n",
       "Name: count, dtype: int64"
      ]
     },
     "execution_count": 11,
     "metadata": {},
     "output_type": "execute_result"
    }
   ],
   "source": [
    "df.dtypes.value_counts()"
   ]
  },
  {
   "cell_type": "code",
   "execution_count": 12,
   "id": "e85ec0be-9f84-4d35-8fbb-336bf1e0dea9",
   "metadata": {},
   "outputs": [
    {
     "data": {
      "text/html": [
       "<div>\n",
       "<style scoped>\n",
       "    .dataframe tbody tr th:only-of-type {\n",
       "        vertical-align: middle;\n",
       "    }\n",
       "\n",
       "    .dataframe tbody tr th {\n",
       "        vertical-align: top;\n",
       "    }\n",
       "\n",
       "    .dataframe thead th {\n",
       "        text-align: right;\n",
       "    }\n",
       "</style>\n",
       "<table border=\"1\" class=\"dataframe\">\n",
       "  <thead>\n",
       "    <tr style=\"text-align: right;\">\n",
       "      <th></th>\n",
       "      <th>268797</th>\n",
       "      <th>142393</th>\n",
       "    </tr>\n",
       "  </thead>\n",
       "  <tbody>\n",
       "    <tr>\n",
       "      <th>Refill_Requests</th>\n",
       "      <td>3</td>\n",
       "      <td>5</td>\n",
       "    </tr>\n",
       "    <tr>\n",
       "      <th>transport_issue</th>\n",
       "      <td>5</td>\n",
       "      <td>5</td>\n",
       "    </tr>\n",
       "    <tr>\n",
       "      <th>No_of_Competitor</th>\n",
       "      <td>4</td>\n",
       "      <td>7</td>\n",
       "    </tr>\n",
       "    <tr>\n",
       "      <th>No_of_retailers</th>\n",
       "      <td>4783</td>\n",
       "      <td>4767</td>\n",
       "    </tr>\n",
       "    <tr>\n",
       "      <th>Number_of_distributors</th>\n",
       "      <td>64</td>\n",
       "      <td>48</td>\n",
       "    </tr>\n",
       "    <tr>\n",
       "      <th>flood_impacted</th>\n",
       "      <td>0</td>\n",
       "      <td>0</td>\n",
       "    </tr>\n",
       "    <tr>\n",
       "      <th>flood_proof</th>\n",
       "      <td>0</td>\n",
       "      <td>0</td>\n",
       "    </tr>\n",
       "    <tr>\n",
       "      <th>electric_supply</th>\n",
       "      <td>0</td>\n",
       "      <td>1</td>\n",
       "    </tr>\n",
       "    <tr>\n",
       "      <th>dist_from_hub</th>\n",
       "      <td>93</td>\n",
       "      <td>108</td>\n",
       "    </tr>\n",
       "    <tr>\n",
       "      <th>storage_issue_reported</th>\n",
       "      <td>29</td>\n",
       "      <td>28</td>\n",
       "    </tr>\n",
       "  </tbody>\n",
       "</table>\n",
       "</div>"
      ],
      "text/plain": [
       "                        268797  142393\n",
       "Refill_Requests              3       5\n",
       "transport_issue              5       5\n",
       "No_of_Competitor             4       7\n",
       "No_of_retailers           4783    4767\n",
       "Number_of_distributors      64      48\n",
       "flood_impacted               0       0\n",
       "flood_proof                  0       0\n",
       "electric_supply              0       1\n",
       "dist_from_hub               93     108\n",
       "storage_issue_reported      29      28"
      ]
     },
     "execution_count": 12,
     "metadata": {},
     "output_type": "execute_result"
    }
   ],
   "source": [
    "# display two sample rows of columns with int dtype\n",
    "\n",
    "df.select_dtypes(include='int64').sample(2).T"
   ]
  },
  {
   "cell_type": "code",
   "execution_count": 13,
   "id": "9adb35ec-2864-4ae8-9bec-5fc65c9be090",
   "metadata": {},
   "outputs": [
    {
     "data": {
      "text/html": [
       "<div>\n",
       "<style scoped>\n",
       "    .dataframe tbody tr th:only-of-type {\n",
       "        vertical-align: middle;\n",
       "    }\n",
       "\n",
       "    .dataframe tbody tr th {\n",
       "        vertical-align: top;\n",
       "    }\n",
       "\n",
       "    .dataframe thead th {\n",
       "        text-align: right;\n",
       "    }\n",
       "</style>\n",
       "<table border=\"1\" class=\"dataframe\">\n",
       "  <thead>\n",
       "    <tr style=\"text-align: right;\">\n",
       "      <th></th>\n",
       "      <th>33466</th>\n",
       "      <th>233474</th>\n",
       "    </tr>\n",
       "  </thead>\n",
       "  <tbody>\n",
       "    <tr>\n",
       "      <th>Date</th>\n",
       "      <td>2023-02-01</td>\n",
       "      <td>2023-10-01</td>\n",
       "    </tr>\n",
       "    <tr>\n",
       "      <th>Ware_house_ID</th>\n",
       "      <td>WH_108466</td>\n",
       "      <td>WH_108474</td>\n",
       "    </tr>\n",
       "    <tr>\n",
       "      <th>WH_Manager_ID</th>\n",
       "      <td>EID_58466</td>\n",
       "      <td>EID_58474</td>\n",
       "    </tr>\n",
       "    <tr>\n",
       "      <th>Location_type</th>\n",
       "      <td>Urban</td>\n",
       "      <td>Rural</td>\n",
       "    </tr>\n",
       "    <tr>\n",
       "      <th>WH_capacity_size</th>\n",
       "      <td>Mid</td>\n",
       "      <td>Mid</td>\n",
       "    </tr>\n",
       "    <tr>\n",
       "      <th>zone</th>\n",
       "      <td>North</td>\n",
       "      <td>North</td>\n",
       "    </tr>\n",
       "    <tr>\n",
       "      <th>WH_regional_zone</th>\n",
       "      <td>Zone 4</td>\n",
       "      <td>Zone 2</td>\n",
       "    </tr>\n",
       "    <tr>\n",
       "      <th>Warehouse_Ownership</th>\n",
       "      <td>Company Owned</td>\n",
       "      <td>Company Owned</td>\n",
       "    </tr>\n",
       "    <tr>\n",
       "      <th>approved_wh_govt_certificate</th>\n",
       "      <td>B+</td>\n",
       "      <td>A</td>\n",
       "    </tr>\n",
       "  </tbody>\n",
       "</table>\n",
       "</div>"
      ],
      "text/plain": [
       "                                     33466          233474\n",
       "Date                             2023-02-01     2023-10-01\n",
       "Ware_house_ID                     WH_108466      WH_108474\n",
       "WH_Manager_ID                     EID_58466      EID_58474\n",
       "Location_type                         Urban          Rural\n",
       "WH_capacity_size                        Mid            Mid\n",
       "zone                                  North          North\n",
       "WH_regional_zone                     Zone 4         Zone 2\n",
       "Warehouse_Ownership           Company Owned  Company Owned\n",
       "approved_wh_govt_certificate             B+              A"
      ]
     },
     "execution_count": 13,
     "metadata": {},
     "output_type": "execute_result"
    }
   ],
   "source": [
    "# display two sample rows of columns with object dtype\n",
    "\n",
    "df.select_dtypes(include='object').sample(2).T"
   ]
  },
  {
   "cell_type": "code",
   "execution_count": 14,
   "id": "2c33da83-4e7a-4ad3-9c4e-ad4be0585f87",
   "metadata": {},
   "outputs": [
    {
     "data": {
      "text/html": [
       "<div>\n",
       "<style scoped>\n",
       "    .dataframe tbody tr th:only-of-type {\n",
       "        vertical-align: middle;\n",
       "    }\n",
       "\n",
       "    .dataframe tbody tr th {\n",
       "        vertical-align: top;\n",
       "    }\n",
       "\n",
       "    .dataframe thead th {\n",
       "        text-align: right;\n",
       "    }\n",
       "</style>\n",
       "<table border=\"1\" class=\"dataframe\">\n",
       "  <thead>\n",
       "    <tr style=\"text-align: right;\">\n",
       "      <th></th>\n",
       "      <th>33148</th>\n",
       "      <th>287829</th>\n",
       "    </tr>\n",
       "  </thead>\n",
       "  <tbody>\n",
       "    <tr>\n",
       "      <th>workers_num</th>\n",
       "      <td>32.0</td>\n",
       "      <td>65.0</td>\n",
       "    </tr>\n",
       "    <tr>\n",
       "      <th>wh_est_year</th>\n",
       "      <td>2007.0</td>\n",
       "      <td>1999.0</td>\n",
       "    </tr>\n",
       "    <tr>\n",
       "      <th>temp_reg_mach</th>\n",
       "      <td>1.0</td>\n",
       "      <td>0.0</td>\n",
       "    </tr>\n",
       "    <tr>\n",
       "      <th>wh_breakdown</th>\n",
       "      <td>3.0</td>\n",
       "      <td>19.0</td>\n",
       "    </tr>\n",
       "    <tr>\n",
       "      <th>govt_check</th>\n",
       "      <td>29.0</td>\n",
       "      <td>55.0</td>\n",
       "    </tr>\n",
       "    <tr>\n",
       "      <th>product_wg_ton</th>\n",
       "      <td>37882.0</td>\n",
       "      <td>35060.0</td>\n",
       "    </tr>\n",
       "  </tbody>\n",
       "</table>\n",
       "</div>"
      ],
      "text/plain": [
       "                 33148    287829\n",
       "workers_num        32.0     65.0\n",
       "wh_est_year      2007.0   1999.0\n",
       "temp_reg_mach       1.0      0.0\n",
       "wh_breakdown        3.0     19.0\n",
       "govt_check         29.0     55.0\n",
       "product_wg_ton  37882.0  35060.0"
      ]
     },
     "execution_count": 14,
     "metadata": {},
     "output_type": "execute_result"
    }
   ],
   "source": [
    "# display two sample rows of columns with float dtype\n",
    "\n",
    "df.select_dtypes(include='float64').sample(2).T"
   ]
  },
  {
   "cell_type": "code",
   "execution_count": 15,
   "id": "d23a7454-fab1-4598-af79-7095ce8a1d2e",
   "metadata": {},
   "outputs": [
    {
     "name": "stdout",
     "output_type": "stream",
     "text": [
      "Date\n",
      "['2023-01-01' '2023-02-01' '2023-03-01' '2023-04-01' '2023-05-01'\n",
      " '2023-06-01' '2023-07-01' '2023-08-01' '2023-09-01' '2023-10-01'\n",
      " '2023-11-01' '2023-12-01' '2024-01-01' '2024-02-01']\n",
      "Length of unique values in column  Date  : 14\n",
      " \n",
      "Ware_house_ID\n",
      "['WH_100000' 'WH_100001' 'WH_100002' ... 'WH_124997' 'WH_124998'\n",
      " 'WH_124999']\n",
      "Length of unique values in column  Ware_house_ID  : 25000\n",
      " \n",
      "WH_Manager_ID\n",
      "['EID_50000' 'EID_50001' 'EID_50002' ... 'EID_74997' 'EID_74998'\n",
      " 'EID_74999']\n",
      "Length of unique values in column  WH_Manager_ID  : 25000\n",
      " \n",
      "Location_type\n",
      "['Urban' 'Rural']\n",
      "Length of unique values in column  Location_type  : 2\n",
      " \n",
      "WH_capacity_size\n",
      "['Small' 'Large' 'Mid']\n",
      "Length of unique values in column  WH_capacity_size  : 3\n",
      " \n",
      "zone\n",
      "['West' 'North' 'South' 'East']\n",
      "Length of unique values in column  zone  : 4\n",
      " \n",
      "WH_regional_zone\n",
      "['Zone 6' 'Zone 5' 'Zone 2' 'Zone 3' 'Zone 1' 'Zone 4']\n",
      "Length of unique values in column  WH_regional_zone  : 6\n",
      " \n",
      "Refill_Requests\n",
      "[ 3  0  1  7  8  4  6  5  2  9 10 11 12 13 14 15 16 17 18 20 19 21 23 22\n",
      " 25 24 26]\n",
      "Length of unique values in column  Refill_Requests  : 27\n",
      " \n",
      "transport_issue\n",
      "[ 1  0  4  3  2  5  6  7  8  9 10 11 12 13 14 15 16 17 18 19 20 21 22]\n",
      "Length of unique values in column  transport_issue  : 23\n",
      " \n",
      "No_of_Competitor\n",
      "[ 2  4  3  5  1  8  7  6 10  9 12  0 11 13 14 16 15 18 17 19 20 22 21]\n",
      "Length of unique values in column  No_of_Competitor  : 23\n",
      " \n",
      "No_of_retailers\n",
      "[ 4651  6217  4306 ...   998 10963 12060]\n",
      "Length of unique values in column  No_of_retailers  : 9068\n",
      " \n",
      "Warehouse_Ownership\n",
      "['Rented' 'Company Owned']\n",
      "Length of unique values in column  Warehouse_Ownership  : 2\n",
      " \n",
      "Number_of_distributors\n",
      "[ 24  47  64  50  42  37  38  45  35  31  40  48  26  68  16  28  58  19\n",
      "  49  69  32  25  46  62  67  21  51  57  59  23  17  56  22  63  30  53\n",
      "  66  36  29  44  55  39  54  33  27  18  65  34  52  43  70  60  61  41\n",
      "  15  20  73  74  71  75  72  77  76  14  13  78  81  80  79  83  82  12\n",
      "  84  11  85  86  87  91  88  90  89  92   9  10  93  94  95  97  96   8\n",
      "  98 100 101  99 102 104 103 106 108 107 105 112 111 109 110 115 113 114\n",
      " 116 118 117 122 121 120 123 119 124 128 130 125 127 126 131 137 132 129\n",
      " 134 133 136 138 139 141 140 135 145 146 142 144]\n",
      "Length of unique values in column  Number_of_distributors  : 138\n",
      " \n",
      "flood_impacted\n",
      "[0 1]\n",
      "Length of unique values in column  flood_impacted  : 2\n",
      " \n",
      "flood_proof\n",
      "[1 0]\n",
      "Length of unique values in column  flood_proof  : 2\n",
      " \n",
      "electric_supply\n",
      "[1 0]\n",
      "Length of unique values in column  electric_supply  : 2\n",
      " \n",
      "dist_from_hub\n",
      "[ 91 210 161 103 112 152  77 241 124  78 150 225  95 242 129 190 231 261\n",
      " 159 189  65 156 199  80 140  67 229  98 154 230 164 197 262 125  94 153\n",
      " 216 247 123 167 220 134  64 196 240  85 253  66 168 219 110  69 239 237\n",
      " 113 181 255  90 151  58 256  84  83 173 212 158  55 257  70 160  96 108\n",
      " 271 263 234 109 198 182 114 166 141 165 204  60 130 254 227 248 252 177\n",
      " 105  79 232 171  92 223 144  86 128 145  99 115 187 200 260 215  97 106\n",
      " 133 218 119 206 233 235  81 264 142 101 186 246 176 267 211 221 175 195\n",
      " 170 149 214 157 146 194 270 228 174 139 259  88 122 202  59 201  62 169\n",
      " 136  71 131 268  82 191  75 193  76 208 222  61 100 183 224 238 217 127\n",
      " 107 148  57 269  89 138 147 236 126 118 205 143 180 251 179 162  73 172\n",
      " 117 163 265  63 245 243 155 203  87  74 226 207 132 192 250  72  56 102\n",
      " 135 184 213 188 178 120 111 249  93 244 209 185 121 258 104 266 137  68\n",
      " 116]\n",
      "Length of unique values in column  dist_from_hub  : 217\n",
      " \n",
      "workers_num\n",
      "[ 29.  31.  37.  21.  25.  35.  27.  23.  22.  43.  16.  28.  36.  19.\n",
      "  24.  41.  20.  17.  46.  30.  33.  32.  nan  26.  38.  39.  40.  34.\n",
      "  44.  18.  11.  12.  42.  45.  47.  15.  48.  50.  62.  49.  56.  53.\n",
      "  98.  14.  55.  54.  61.  10.  51.  57.  78.  52.  13.  92.  65.  60.\n",
      "  64.  72.  58.  67.  63.   4.   0. 101.   1.   3.   2.  80.  95.  68.\n",
      "  59.  91.  76.  96.   9.  66. 100.  77.  69.  71.  74.  75.  82.  93.\n",
      "   5. 104.   7.   8.  83.   6.  70.  73. 105.  99.  97.  84.  86. 102.\n",
      "  88.  81.  90. 109.  85. 108. 106.  89. 113. 103. 111.  94.  79. 114.\n",
      " 107.  87. 116. 110. 115. 118. 120. 112. 122. 124. 119.]\n",
      "Length of unique values in column  workers_num  : 123\n",
      " \n",
      "wh_est_year\n",
      "[  nan 2009. 2010. 2013. 1999. 2017. 2022. 2008. 2001. 2016. 1997. 2003.\n",
      " 2006. 2019. 2015. 2012. 1998. 2021. 2004. 2000. 2005. 2011. 2014. 1996.\n",
      " 2020. 2023. 2002. 2007. 2018.]\n",
      "Length of unique values in column  wh_est_year  : 29\n",
      " \n",
      "storage_issue_reported\n",
      "[13  4 17 18 23 24  6 11 22  9 29 19 14 28 25 12  8  0 34 16 38 21 15 36\n",
      " 31 20 10 32 27 26  7 37 30  5 39 33 35  3  1  2 40 43 41 42 44 46 45 47\n",
      " 48 50 49 51 52 54 55 53 56 57 59 58 61 60 63 62 64 67 65 71 66 69 68 75\n",
      " 70]\n",
      "Length of unique values in column  storage_issue_reported  : 73\n",
      " \n",
      "temp_reg_mach\n",
      "[ 0.  1. nan]\n",
      "Length of unique values in column  temp_reg_mach  : 3\n",
      " \n",
      "approved_wh_govt_certificate\n",
      "['A' 'A+' 'C' 'B' 'B+' nan '0']\n",
      "Length of unique values in column  approved_wh_govt_certificate  : 7\n",
      " \n",
      "wh_breakdown\n",
      "[ 5.  3.  6.  4.  2.  1.  0.  8.  7.  9. 10. 12. 13. 11. 14. 16. 15. 17.\n",
      " 18. 19. 20. 22. 21. 23. 26. 24. 25. 27. 30. 28. 29. 31. 34. 33. 32. 35.\n",
      " 37. 38. 36. 39. 41. 40. 42. nan 44. 45. 43. 46.]\n",
      "Length of unique values in column  wh_breakdown  : 48\n",
      " \n",
      "govt_check\n",
      "[15. 17. 22. 27. 24.  3.  6.  2. 28.  1. 11.  9. 12. 21. 19.  8. 14. 23.\n",
      " 26. 29. 10. 13. 30. 32.  7. 25. 31. 20.  5. 16. 18.  4. 34. 33. 35.  0.\n",
      " 36. 37. 38. 39. 40. 41. 42. 43. 44. 45. 46. 47. 50. 49. 48. 51. 53. 52.\n",
      " 54. 55. 56. 57. 59. 58. 63. 61. 60. 64. 62. 65. 66. nan 68. 67. 72.]\n",
      "Length of unique values in column  govt_check  : 71\n",
      " \n",
      "product_wg_ton\n",
      "[17115.  5074. 23137. ... 65862. 60672. 74959.]\n",
      "Length of unique values in column  product_wg_ton  : 65180\n",
      " \n"
     ]
    }
   ],
   "source": [
    "for i in df:\n",
    "    print(i)\n",
    "    print(df[i].unique())\n",
    "    print(\"Length of unique values in column \", i, ' :', len(df[i].unique()))\n",
    "    print(' ')"
   ]
  },
  {
   "cell_type": "code",
   "execution_count": 16,
   "id": "17be5467-bede-42f1-a2af-90628d55ef2e",
   "metadata": {},
   "outputs": [
    {
     "data": {
      "text/html": [
       "<div>\n",
       "<style scoped>\n",
       "    .dataframe tbody tr th:only-of-type {\n",
       "        vertical-align: middle;\n",
       "    }\n",
       "\n",
       "    .dataframe tbody tr th {\n",
       "        vertical-align: top;\n",
       "    }\n",
       "\n",
       "    .dataframe thead th {\n",
       "        text-align: right;\n",
       "    }\n",
       "</style>\n",
       "<table border=\"1\" class=\"dataframe\">\n",
       "  <thead>\n",
       "    <tr style=\"text-align: right;\">\n",
       "      <th></th>\n",
       "      <th>Refill_Requests</th>\n",
       "      <th>transport_issue</th>\n",
       "      <th>No_of_Competitor</th>\n",
       "      <th>No_of_retailers</th>\n",
       "      <th>Number_of_distributors</th>\n",
       "      <th>flood_impacted</th>\n",
       "      <th>flood_proof</th>\n",
       "      <th>electric_supply</th>\n",
       "      <th>dist_from_hub</th>\n",
       "      <th>workers_num</th>\n",
       "      <th>wh_est_year</th>\n",
       "      <th>storage_issue_reported</th>\n",
       "      <th>temp_reg_mach</th>\n",
       "      <th>wh_breakdown</th>\n",
       "      <th>govt_check</th>\n",
       "      <th>product_wg_ton</th>\n",
       "    </tr>\n",
       "  </thead>\n",
       "  <tbody>\n",
       "    <tr>\n",
       "      <th>count</th>\n",
       "      <td>350001.00</td>\n",
       "      <td>350001.00</td>\n",
       "      <td>350001.00</td>\n",
       "      <td>350001.00</td>\n",
       "      <td>350001.00</td>\n",
       "      <td>350001.0</td>\n",
       "      <td>350001.00</td>\n",
       "      <td>350001.00</td>\n",
       "      <td>350001.00</td>\n",
       "      <td>349011.00</td>\n",
       "      <td>183666.00</td>\n",
       "      <td>350001.00</td>\n",
       "      <td>350000.00</td>\n",
       "      <td>350000.00</td>\n",
       "      <td>350000.00</td>\n",
       "      <td>350000.00</td>\n",
       "    </tr>\n",
       "    <tr>\n",
       "      <th>mean</th>\n",
       "      <td>4.72</td>\n",
       "      <td>2.43</td>\n",
       "      <td>3.73</td>\n",
       "      <td>4985.88</td>\n",
       "      <td>61.92</td>\n",
       "      <td>0.1</td>\n",
       "      <td>0.05</td>\n",
       "      <td>0.66</td>\n",
       "      <td>163.54</td>\n",
       "      <td>37.67</td>\n",
       "      <td>2009.38</td>\n",
       "      <td>24.33</td>\n",
       "      <td>0.30</td>\n",
       "      <td>13.27</td>\n",
       "      <td>28.57</td>\n",
       "      <td>35141.77</td>\n",
       "    </tr>\n",
       "    <tr>\n",
       "      <th>std</th>\n",
       "      <td>3.65</td>\n",
       "      <td>2.58</td>\n",
       "      <td>3.00</td>\n",
       "      <td>1285.71</td>\n",
       "      <td>21.65</td>\n",
       "      <td>0.3</td>\n",
       "      <td>0.23</td>\n",
       "      <td>0.47</td>\n",
       "      <td>62.72</td>\n",
       "      <td>11.99</td>\n",
       "      <td>7.53</td>\n",
       "      <td>11.30</td>\n",
       "      <td>0.46</td>\n",
       "      <td>7.64</td>\n",
       "      <td>11.45</td>\n",
       "      <td>14871.88</td>\n",
       "    </tr>\n",
       "    <tr>\n",
       "      <th>min</th>\n",
       "      <td>0.00</td>\n",
       "      <td>0.00</td>\n",
       "      <td>0.00</td>\n",
       "      <td>0.00</td>\n",
       "      <td>8.00</td>\n",
       "      <td>0.0</td>\n",
       "      <td>0.00</td>\n",
       "      <td>0.00</td>\n",
       "      <td>55.00</td>\n",
       "      <td>0.00</td>\n",
       "      <td>1996.00</td>\n",
       "      <td>0.00</td>\n",
       "      <td>0.00</td>\n",
       "      <td>0.00</td>\n",
       "      <td>0.00</td>\n",
       "      <td>0.00</td>\n",
       "    </tr>\n",
       "    <tr>\n",
       "      <th>25%</th>\n",
       "      <td>2.00</td>\n",
       "      <td>0.00</td>\n",
       "      <td>2.00</td>\n",
       "      <td>4141.00</td>\n",
       "      <td>46.00</td>\n",
       "      <td>0.0</td>\n",
       "      <td>0.00</td>\n",
       "      <td>0.00</td>\n",
       "      <td>109.00</td>\n",
       "      <td>30.00</td>\n",
       "      <td>2003.00</td>\n",
       "      <td>16.00</td>\n",
       "      <td>0.00</td>\n",
       "      <td>7.00</td>\n",
       "      <td>20.00</td>\n",
       "      <td>24378.75</td>\n",
       "    </tr>\n",
       "    <tr>\n",
       "      <th>50%</th>\n",
       "      <td>4.00</td>\n",
       "      <td>2.00</td>\n",
       "      <td>3.00</td>\n",
       "      <td>4893.00</td>\n",
       "      <td>62.00</td>\n",
       "      <td>0.0</td>\n",
       "      <td>0.00</td>\n",
       "      <td>1.00</td>\n",
       "      <td>164.00</td>\n",
       "      <td>37.00</td>\n",
       "      <td>2009.00</td>\n",
       "      <td>24.00</td>\n",
       "      <td>0.00</td>\n",
       "      <td>12.00</td>\n",
       "      <td>29.00</td>\n",
       "      <td>34435.00</td>\n",
       "    </tr>\n",
       "    <tr>\n",
       "      <th>75%</th>\n",
       "      <td>7.00</td>\n",
       "      <td>4.00</td>\n",
       "      <td>5.00</td>\n",
       "      <td>5724.00</td>\n",
       "      <td>77.00</td>\n",
       "      <td>0.0</td>\n",
       "      <td>0.00</td>\n",
       "      <td>1.00</td>\n",
       "      <td>218.00</td>\n",
       "      <td>45.00</td>\n",
       "      <td>2016.00</td>\n",
       "      <td>32.00</td>\n",
       "      <td>1.00</td>\n",
       "      <td>19.00</td>\n",
       "      <td>37.00</td>\n",
       "      <td>45229.00</td>\n",
       "    </tr>\n",
       "    <tr>\n",
       "      <th>max</th>\n",
       "      <td>26.00</td>\n",
       "      <td>22.00</td>\n",
       "      <td>22.00</td>\n",
       "      <td>12861.00</td>\n",
       "      <td>146.00</td>\n",
       "      <td>1.0</td>\n",
       "      <td>1.00</td>\n",
       "      <td>1.00</td>\n",
       "      <td>271.00</td>\n",
       "      <td>124.00</td>\n",
       "      <td>2023.00</td>\n",
       "      <td>75.00</td>\n",
       "      <td>1.00</td>\n",
       "      <td>46.00</td>\n",
       "      <td>72.00</td>\n",
       "      <td>93093.00</td>\n",
       "    </tr>\n",
       "  </tbody>\n",
       "</table>\n",
       "</div>"
      ],
      "text/plain": [
       "       Refill_Requests  transport_issue  No_of_Competitor  No_of_retailers  \\\n",
       "count        350001.00        350001.00         350001.00        350001.00   \n",
       "mean              4.72             2.43              3.73          4985.88   \n",
       "std               3.65             2.58              3.00          1285.71   \n",
       "min               0.00             0.00              0.00             0.00   \n",
       "25%               2.00             0.00              2.00          4141.00   \n",
       "50%               4.00             2.00              3.00          4893.00   \n",
       "75%               7.00             4.00              5.00          5724.00   \n",
       "max              26.00            22.00             22.00         12861.00   \n",
       "\n",
       "       Number_of_distributors  flood_impacted  flood_proof  electric_supply  \\\n",
       "count               350001.00        350001.0    350001.00        350001.00   \n",
       "mean                    61.92             0.1         0.05             0.66   \n",
       "std                     21.65             0.3         0.23             0.47   \n",
       "min                      8.00             0.0         0.00             0.00   \n",
       "25%                     46.00             0.0         0.00             0.00   \n",
       "50%                     62.00             0.0         0.00             1.00   \n",
       "75%                     77.00             0.0         0.00             1.00   \n",
       "max                    146.00             1.0         1.00             1.00   \n",
       "\n",
       "       dist_from_hub  workers_num  wh_est_year  storage_issue_reported  \\\n",
       "count      350001.00    349011.00    183666.00               350001.00   \n",
       "mean          163.54        37.67      2009.38                   24.33   \n",
       "std            62.72        11.99         7.53                   11.30   \n",
       "min            55.00         0.00      1996.00                    0.00   \n",
       "25%           109.00        30.00      2003.00                   16.00   \n",
       "50%           164.00        37.00      2009.00                   24.00   \n",
       "75%           218.00        45.00      2016.00                   32.00   \n",
       "max           271.00       124.00      2023.00                   75.00   \n",
       "\n",
       "       temp_reg_mach  wh_breakdown  govt_check  product_wg_ton  \n",
       "count      350000.00     350000.00   350000.00       350000.00  \n",
       "mean            0.30         13.27       28.57        35141.77  \n",
       "std             0.46          7.64       11.45        14871.88  \n",
       "min             0.00          0.00        0.00            0.00  \n",
       "25%             0.00          7.00       20.00        24378.75  \n",
       "50%             0.00         12.00       29.00        34435.00  \n",
       "75%             1.00         19.00       37.00        45229.00  \n",
       "max             1.00         46.00       72.00        93093.00  "
      ]
     },
     "execution_count": 16,
     "metadata": {},
     "output_type": "execute_result"
    }
   ],
   "source": [
    "df.describe().round(2)"
   ]
  },
  {
   "cell_type": "markdown",
   "id": "6a49c9bc-2591-48c7-a106-25a3a07235b9",
   "metadata": {
    "jp-MarkdownHeadingCollapsed": true
   },
   "source": [
    "<h1 style= \"font-family :Verdana; color :#004687 ; font-size: 20px\">Data Cleaning</h1>"
   ]
  },
  {
   "cell_type": "markdown",
   "id": "fa1c75ae-8a76-4983-85fd-60725ca2443d",
   "metadata": {},
   "source": [
    "<h1 style= \"font-family :Verdana; color :#004687 ; font-size: 15px\">Train Data</h1>"
   ]
  },
  {
   "cell_type": "code",
   "execution_count": 17,
   "id": "120f76bf-4649-42e9-a51d-f550e5231f7c",
   "metadata": {},
   "outputs": [
    {
     "data": {
      "text/plain": [
       "product_wg_ton                  65179\n",
       "WH_Manager_ID                   25000\n",
       "Ware_house_ID                   25000\n",
       "No_of_retailers                  9068\n",
       "dist_from_hub                     217\n",
       "Number_of_distributors            138\n",
       "workers_num                       122\n",
       "storage_issue_reported             73\n",
       "govt_check                         70\n",
       "wh_breakdown                       47\n",
       "wh_est_year                        28\n",
       "Refill_Requests                    27\n",
       "transport_issue                    23\n",
       "No_of_Competitor                   23\n",
       "Date                               14\n",
       "approved_wh_govt_certificate        6\n",
       "WH_regional_zone                    6\n",
       "zone                                4\n",
       "WH_capacity_size                    3\n",
       "Location_type                       2\n",
       "flood_proof                         2\n",
       "flood_impacted                      2\n",
       "temp_reg_mach                       2\n",
       "Warehouse_Ownership                 2\n",
       "electric_supply                     2\n",
       "dtype: int64"
      ]
     },
     "execution_count": 17,
     "metadata": {},
     "output_type": "execute_result"
    }
   ],
   "source": [
    "# display number of unique values in each column\n",
    "\n",
    "df.nunique().sort_values(ascending=False)"
   ]
  },
  {
   "cell_type": "code",
   "execution_count": 18,
   "id": "c351f060-fe6c-425d-97a0-fba41425c11e",
   "metadata": {},
   "outputs": [],
   "source": [
    "df.drop(columns=['Ware_house_ID', 'WH_Manager_ID','Date'], inplace = True)"
   ]
  },
  {
   "cell_type": "code",
   "execution_count": 19,
   "id": "d1c2197a-3079-4f7d-bdf1-96534d351c06",
   "metadata": {},
   "outputs": [
    {
     "name": "stdout",
     "output_type": "stream",
     "text": [
      "0\n"
     ]
    }
   ],
   "source": [
    "print(len(df[df.duplicated]))"
   ]
  },
  {
   "cell_type": "code",
   "execution_count": 20,
   "id": "86322fe3-0855-4ab6-aa6d-6d4dfbc2f747",
   "metadata": {},
   "outputs": [
    {
     "data": {
      "image/png": "[encoded data removed]",
      "text/plain": [
       "<Figure size 600x400 with 2 Axes>"
      ]
     },
     "metadata": {},
     "output_type": "display_data"
    }
   ],
   "source": [
    "# Missing values\n",
    "plt.figure(figsize=(6, 4))\n",
    "sns.heatmap(df.isnull(), yticklabels=False, cmap=sns.cubehelix_palette(as_cmap=True))\n",
    "plt.show()"
   ]
  },
  {
   "cell_type": "code",
   "execution_count": null,
   "id": "0c7ea10d-2f3d-44b7-af0e-9bcf3ba25c36",
   "metadata": {},
   "outputs": [],
   "source": [
    "# print percentage of null values in each column\n",
    "\n",
    "null_values_features = [i for i in df.columns if df[i].isnull().sum()>1]\n",
    "for i in null_values_features:\n",
    "    print(i, np.round(df[i].isnull().mean()*100, 2), \"% missing values\")"
   ]
  },
  {
   "cell_type": "code",
   "execution_count": null,
   "id": "aeccb07f-b72d-4bc9-9504-24d101544543",
   "metadata": {},
   "outputs": [],
   "source": [
    "# wh_est_year \n",
    "\n",
    "df.drop(columns=['wh_est_year'], inplace = True)"
   ]
  },
  {
   "cell_type": "code",
   "execution_count": null,
   "id": "9f4aadac",
   "metadata": {},
   "outputs": [],
   "source": [
    "plt.figure(figsize=(6, 4))\n",
    "sns.distplot(df['workers_num'], hist=False, kde=True, color='purple')\n",
    "plt.show()"
   ]
  },
  {
   "cell_type": "code",
   "execution_count": null,
   "id": "048d150a-3b44-4952-af3e-f9157275f6b3",
   "metadata": {},
   "outputs": [],
   "source": [
    "df['workers_num'].median()"
   ]
  },
  {
   "cell_type": "code",
   "execution_count": null,
   "id": "4d1343e6-288f-4d7e-a2f2-913a12dc1050",
   "metadata": {},
   "outputs": [],
   "source": [
    "df['approved_wh_govt_certificate'].mode()"
   ]
  },
  {
   "cell_type": "code",
   "execution_count": null,
   "id": "60d1a47e-da7c-4150-ad2a-6d09990e358b",
   "metadata": {},
   "outputs": [],
   "source": [
    "df['approved_wh_govt_certificate'].fillna(df['approved_wh_govt_certificate'].mode()[0], inplace=True)"
   ]
  },
  {
   "cell_type": "code",
   "execution_count": null,
   "id": "c3d0541b-028d-4ec1-8d77-676a96e0c4ad",
   "metadata": {},
   "outputs": [],
   "source": [
    "df.isnull().sum()"
   ]
  },
  {
   "cell_type": "code",
   "execution_count": null,
   "id": "22687a6b-c663-4f86-b21e-1901b1633ef3",
   "metadata": {},
   "outputs": [],
   "source": [
    "# outliers"
   ]
  },
  {
   "cell_type": "code",
   "execution_count": null,
   "id": "85402650-d24b-4d18-bc6c-14c506459fc2",
   "metadata": {},
   "outputs": [],
   "source": [
    "df.nunique().sort_values(ascending= True)"
   ]
  },
  {
   "cell_type": "code",
   "execution_count": null,
   "id": "65d3eb35-1923-4116-9d74-e7dcc8811d53",
   "metadata": {},
   "outputs": [],
   "source": [
    "for i in df.columns[df.nunique()<=4]:\n",
    "    print(\"Number of unique values in column \", i, ' :', len(df[i].unique()))\n",
    "    print(df[i].value_counts())\n",
    "    print(' ')"
   ]
  },
  {
   "cell_type": "code",
   "execution_count": null,
   "id": "7f136273",
   "metadata": {},
   "outputs": [],
   "source": [
    "num_columns = df.select_dtypes(include=['int', 'float'])\n",
    "num_columns.drop(columns=['product_wg_ton', 'retail_shop_num'], inplace=True)\n",
    "num_columns.drop(columns=num_columns.columns[num_columns.nunique()<=4], inplace=True)\n",
    "plt.figure(figsize=(12, 12))\n",
    "num_columns.boxplot()\n",
    "plt.xticks(rotation=45)\n",
    "plt.show()"
   ]
  },
  {
   "cell_type": "code",
   "execution_count": null,
   "id": "df6b5205-5993-4ff5-ab32-475f76b564b9",
   "metadata": {},
   "outputs": [],
   "source": [
    "plt.figure(figsize=(6, 4))\n",
    "\n",
    "ax1 = plt.subplot2grid((1, 2), (0, 0))\n",
    "\n",
    "plt.boxplot(df.product_wg_ton)\n",
    "plt.title('product_wg_ton')\n",
    "\n",
    "ax2 = plt.subplot2grid((1, 2), (0, 1))\n",
    "\n",
    "plt.boxplot(df.retail_shop_num)\n",
    "plt.title('retail_shop_num')\n",
    "\n",
    "plt.show()"
   ]
  },
  {
   "cell_type": "code",
   "execution_count": null,
   "id": "02eba221-ed54-4b14-82f0-19c192cd8436",
   "metadata": {},
   "outputs": [],
   "source": [
    "def count_outliers(df):\n",
    "    outliers={}\n",
    "    for i in df.columns:\n",
    "        if pd.api.types.is_numeric_dtype(df[i]):\n",
    "            q1 = df[i].quantile(0.25)\n",
    "            q3 = df[i].quantile(0.75)\n",
    "            iqr = q3 - q1\n",
    "            lower = q1 - 1.5*iqr\n",
    "            upper = q3 + 1.5*iqr\n",
    "            outliers[i] = df[(df[i] < lower) | (df[i] > upper)].shape[0]\n",
    "        else:\n",
    "            pass\n",
    "    return outliers"
   ]
  },
  {
   "cell_type": "code",
   "execution_count": null,
   "id": "7f2dd235-c81b-47eb-90d7-3698b95f0d3f",
   "metadata": {},
   "outputs": [],
   "source": [
    "outlier_counts = count_outliers(df)\n",
    "outlier_counts"
   ]
  },
  {
   "cell_type": "code",
   "execution_count": null,
   "id": "c103a393-5891-4518-8888-43bf0fd234da",
   "metadata": {},
   "outputs": [],
   "source": [
    "df['product_wg_ton'].corr(df['flood_proof'])"
   ]
  },
  {
   "cell_type": "code",
   "execution_count": null,
   "id": "dd0b8a95-6d26-4922-b18c-292b1a57ed3c",
   "metadata": {},
   "outputs": [],
   "source": [
    "df['product_wg_ton'].corr(df['flood_impacted'])"
   ]
  },
  {
   "cell_type": "code",
   "execution_count": null,
   "id": "55680a97-4b46-4b22-ac98-66af33270386",
   "metadata": {},
   "outputs": [],
   "source": [
    "df.drop(columns=['flood_proof', 'flood_impacted'], inplace = True)"
   ]
  },
  {
   "cell_type": "code",
   "execution_count": null,
   "id": "01101e16-9a8a-4495-8c09-768a9b6db164",
   "metadata": {},
   "outputs": [],
   "source": [
    "def remove_outliers(df):\n",
    "    num_df = df.select_dtypes(include=['int', 'float'])\n",
    "    q1 = num_df.quantile(0.25)\n",
    "    q3 = num_df.quantile(0.75)\n",
    "    iqr = q3 - q1\n",
    "    lower = q1 - 1.5*iqr\n",
    "    upper = q3 + 1.5*iqr\n",
    "    df_no_outliers = num_df[((num_df >= lower) & (num_df <= upper)).all(axis=1)]\n",
    "    return df.loc[df_no_outliers.index]"
   ]
  },
  {
   "cell_type": "code",
   "execution_count": null,
   "id": "2a56a32c-649b-4c40-a2cc-3be195f82d55",
   "metadata": {},
   "outputs": [],
   "source": [
    "df = remove_outliers(df)\n",
    "df.shape"
   ]
  },
  {
   "cell_type": "markdown",
   "id": "81867940-ce70-4b7e-b761-1136dcbf6a21",
   "metadata": {},
   "source": [
    "<h1 style= \"font-family :Verdana; color :#004687 ; font-size: 15px\">Test Data</h1>"
   ]
  },
  {
   "cell_type": "code",
   "execution_count": null,
   "id": "3c8bfd61-00cc-46fe-a493-72a679ab4e27",
   "metadata": {},
   "outputs": [],
   "source": [
    "# display number of unique values in each column\n",
    "\n",
    "df_test.nunique().sort_values(ascending=False)"
   ]
  },
  {
   "cell_type": "code",
   "execution_count": null,
   "id": "ee318643-c249-4813-a35a-88ee8bd0d5a2",
   "metadata": {},
   "outputs": [],
   "source": [
    "df_test.drop(columns=['Ware_house_ID', 'WH_Manager_ID'], inplace = True)"
   ]
  },
  {
   "cell_type": "code",
   "execution_count": null,
   "id": "319d5e4d-37e5-42d0-8eaa-05f314acd088",
   "metadata": {},
   "outputs": [],
   "source": [
    "print(len(df_test[df_test.duplicated]))"
   ]
  },
  {
   "cell_type": "code",
   "execution_count": null,
   "id": "639bdbd3",
   "metadata": {},
   "outputs": [],
   "source": [
    "plt.figure(figsize=(6, 4))\n",
    "sns.heatmap(df_test.isnull(), yticklabels=False, cmap=sns.cubehelix_palette(as_cmap=True))\n",
    "plt.show()"
   ]
  },
  {
   "cell_type": "code",
   "execution_count": null,
   "id": "96639084-ea54-4d52-aeff-3681c6129fc7",
   "metadata": {},
   "outputs": [],
   "source": [
    "# print percentage of null values in each column\n",
    "\n",
    "null_values_features = [i for i in df_test.columns if df_test[i].isnull().sum()>1]\n",
    "for i in null_values_features:\n",
    "    print(i, np.round(df_test[i].isnull().mean()*100, 2), \"% missing values\")"
   ]
  },
  {
   "cell_type": "code",
   "execution_count": null,
   "id": "2316eed3-3b95-4994-8367-84838a080300",
   "metadata": {},
   "outputs": [],
   "source": [
    "# wh_est_year \n",
    "\n",
    "df_test.drop(columns=['wh_est_year'], inplace = True)"
   ]
  },
  {
   "cell_type": "code",
   "execution_count": null,
   "id": "eb65e0c9",
   "metadata": {},
   "outputs": [],
   "source": [
    "plt.figure(figsize=(6, 4))\n",
    "sns.distplot(df_test['workers_num'], hist=False, kde=True, color='purple')\n",
    "plt.show()"
   ]
  },
  {
   "cell_type": "code",
   "execution_count": null,
   "id": "f120790d-fc75-4698-acd1-82208986b87d",
   "metadata": {},
   "outputs": [],
   "source": [
    "df_test['workers_num'].median()"
   ]
  },
  {
   "cell_type": "code",
   "execution_count": null,
   "id": "80c8829b-ce02-4767-90d1-813e41d5f346",
   "metadata": {},
   "outputs": [],
   "source": [
    "df_test['workers_num'].fillna(df_test['workers_num'].median(), inplace=True)"
   ]
  },
  {
   "cell_type": "code",
   "execution_count": null,
   "id": "844d903d-0745-4d65-8c77-e2c8a5b5dd2a",
   "metadata": {},
   "outputs": [],
   "source": [
    "df_test['approved_wh_govt_certificate'].mode()"
   ]
  },
  {
   "cell_type": "code",
   "execution_count": null,
   "id": "fc8ecd60-0f07-43f7-8806-a67210dda9db",
   "metadata": {},
   "outputs": [],
   "source": [
    "df_test['approved_wh_govt_certificate'].fillna(df_test['approved_wh_govt_certificate'].mode()[0], inplace=True)"
   ]
  },
  {
   "cell_type": "code",
   "execution_count": null,
   "id": "e696515a-0268-4afe-b03b-e9d34948e979",
   "metadata": {},
   "outputs": [],
   "source": [
    "df_test.isnull().sum()"
   ]
  },
  {
   "cell_type": "code",
   "execution_count": null,
   "id": "b5bce7a0-7f45-4aba-84d9-0c2fdbcd6f94",
   "metadata": {},
   "outputs": [],
   "source": [
    "# Outliers"
   ]
  },
  {
   "cell_type": "code",
   "execution_count": null,
   "id": "73232da5-7db0-44e7-a187-ce6f7ff97a8e",
   "metadata": {},
   "outputs": [],
   "source": [
    "df_test.nunique().sort_values(ascending= True)"
   ]
  },
  {
   "cell_type": "code",
   "execution_count": null,
   "id": "0ac45e37-b0c6-4523-8347-3a8cfc249949",
   "metadata": {},
   "outputs": [],
   "source": [
    "for i in df_test.columns[df_test.nunique()<=4]:\n",
    "    print(\"Number of unique values in column \", i, ' :', len(df_test[i].unique()))\n",
    "    print(df_test[i].value_counts())\n",
    "    print(' ')"
   ]
  },
  {
   "cell_type": "code",
   "execution_count": null,
   "id": "218abdd5",
   "metadata": {},
   "outputs": [],
   "source": [
    "num_columns = df_test.select_dtypes(include=['int', 'float'])\n",
    "num_columns.drop(columns=['product_wg_ton', 'retail_shop_num'], inplace=True)\n",
    "num_columns.drop(columns=num_columns.columns[num_columns.nunique()<=4], inplace=True)\n",
    "plt.figure(figsize=(12, 12))\n",
    "num_columns.boxplot()\n",
    "plt.xticks(rotation=45)\n",
    "plt.show()"
   ]
  },
  {
   "cell_type": "code",
   "execution_count": null,
   "id": "cc84c470",
   "metadata": {},
   "outputs": [],
   "source": [
    "plt.figure(figsize=(6, 4))\n",
    "\n",
    "ax1 = plt.subplot2grid((1, 2), (0, 0))\n",
    "\n",
    "plt.boxplot(df_test.product_wg_ton)\n",
    "plt.title('product_wg_ton')\n",
    "\n",
    "ax2 = plt.subplot2grid((1, 2), (0, 1))\n",
    "\n",
    "plt.boxplot(df_test.retail_shop_num)\n",
    "plt.title('retail_shop_num')\n",
    "\n",
    "plt.show()"
   ]
  },
  {
   "cell_type": "code",
   "execution_count": null,
   "id": "8225ba25-09be-463e-b999-31da351bb77b",
   "metadata": {},
   "outputs": [],
   "source": [
    "def count_outliers(df_test):\n",
    "    outliers={}\n",
    "    for i in df_test.columns:\n",
    "        if pd.api.types.is_numeric_dtype(df_test[i]):\n",
    "            q1 = df_test[i].quantile(0.25)\n",
    "            q3 = df_test[i].quantile(0.75)\n",
    "            iqr = q3 - q1\n",
    "            lower = q1 - 1.5*iqr\n",
    "            upper = q3 + 1.5*iqr\n",
    "            outliers[i] = df_test[(df_test[i] < lower) | (df_test[i] > upper)].shape[0]\n",
    "        else:\n",
    "            pass\n",
    "    return outliers"
   ]
  },
  {
   "cell_type": "code",
   "execution_count": null,
   "id": "f1d34bf4-e795-43a0-b710-a2b95b23297e",
   "metadata": {},
   "outputs": [],
   "source": [
    "outlier_counts = count_outliers(df_test)\n",
    "outlier_counts"
   ]
  },
  {
   "cell_type": "code",
   "execution_count": null,
   "id": "db7f9a6f-726b-493b-aed2-b70a044d1ebc",
   "metadata": {},
   "outputs": [],
   "source": [
    "df_test['product_wg_ton'].corr(df_test['flood_proof'])"
   ]
  },
  {
   "cell_type": "code",
   "execution_count": null,
   "id": "a4215597-c8f0-4558-b529-fadbf98229b9",
   "metadata": {},
   "outputs": [],
   "source": [
    "df_test['product_wg_ton'].corr(df_test['flood_impacted'])"
   ]
  },
  {
   "cell_type": "code",
   "execution_count": null,
   "id": "c83d8b4b-e3f6-405d-90fd-f365261f7748",
   "metadata": {},
   "outputs": [],
   "source": [
    "df_test.drop(columns=['flood_proof', 'flood_impacted'], inplace = True)"
   ]
  },
  {
   "cell_type": "code",
   "execution_count": null,
   "id": "953829cc-aebd-4e0b-9260-19e9d335aab4",
   "metadata": {},
   "outputs": [],
   "source": [
    "def remove_outliers(df_test):\n",
    "    num_df = df_test.select_dtypes(include=['int', 'float'])\n",
    "    q1 = num_df.quantile(0.25)\n",
    "    q3 = num_df.quantile(0.75)\n",
    "    iqr = q3 - q1\n",
    "    lower = q1 - 1.5*iqr\n",
    "    upper = q3 + 1.5*iqr\n",
    "    df_no_outliers = num_df[((num_df >= lower) & (num_df <= upper)).all(axis=1)]\n",
    "    return df_test.loc[df_no_outliers.index]"
   ]
  },
  {
   "cell_type": "code",
   "execution_count": null,
   "id": "7150bedd-f03a-4a66-b7da-eaf8b14d5cf3",
   "metadata": {},
   "outputs": [],
   "source": [
    "df_test = remove_outliers(df_test)"
   ]
  },
  {
   "cell_type": "code",
   "execution_count": null,
   "id": "df50ae73-c1cb-4ff8-9fec-97b7b07fcdb2",
   "metadata": {},
   "outputs": [],
   "source": [
    "df_test.shape"
   ]
  },
  {
   "cell_type": "markdown",
   "id": "01554e54-89d9-48a6-b7ff-99cf5331899c",
   "metadata": {},
   "source": [
    "<h1 style= \"font-family :Verdana; color :#004687 ; font-size: 20px\">Summary</h1>"
   ]
  },
  {
   "cell_type": "markdown",
   "id": "beb1489d-322f-4d7d-9284-9f50180660ed",
   "metadata": {},
   "source": [
    "<h1 style= \"font-family :Verdana; color :#004687 ; font-size: 20px\">Data Analysis and Visualization</h1>"
   ]
  },
  {
   "cell_type": "code",
   "execution_count": null,
   "id": "f8ff7aef",
   "metadata": {},
   "outputs": [],
   "source": [
    "plt.figure(figsize=(12, 7))\n",
    "\n",
    "\n",
    "# Warehouse location type\n",
    "# plot 1\n",
    "ax1 = plt.subplot2grid((2, 2), (0, 0))\n",
    "\n",
    "print(df.groupby('Location_type')['product_wg_ton'].sum().reset_index().sort_values(by='product_wg_ton', ascending=False).round(2))\n",
    "print('  ')\n",
    "\n",
    "df['Location_type'].value_counts().plot(kind = 'pie', colors = ['lightslategrey', 'tan'], autopct='%1.0f%%', explode=(0.05, 0.05),\n",
    "                                     startangle=20, ylabel=' ', pctdistance=0.8)\n",
    "centre_circle = plt.Circle((0, 0), 0.65, fc = 'white')\n",
    "fig = plt.gcf()\n",
    "fig.gca().add_artist(centre_circle)\n",
    "plt.title('Distribution of Warehouse location type', fontsize=10)\n",
    "\n",
    "#plot 2\n",
    "ax2 = plt.subplot2grid((2, 2), (0, 1))\n",
    "\n",
    "x = df.groupby('Location_type')['product_wg_ton'].mean()\n",
    "plt.bar(x.index, x.values, color='tan', width=0.2)\n",
    "plt.title('Average product weight by Warehouse location type', fontsize=10)\n",
    "plt.ylabel('Avg product weight')\n",
    "\n",
    "# Warehouse Owner Type\n",
    "\n",
    "# plot 3\n",
    "ax3 = plt.subplot2grid((2, 2), (1, 0))\n",
    "print(df.groupby('wh_owner_type')['product_wg_ton'].sum().reset_index().sort_values(by='product_wg_ton', ascending=False).round(2))\n",
    "print('  ')\n",
    "\n",
    "df['wh_owner_type'].value_counts().plot(kind = 'pie', colors = ['lightslategrey', 'tan'], autopct='%1.0f%%', explode=(0.05, 0.05),\n",
    "                                     startangle=180, ylabel=' ', pctdistance=0.8)\n",
    "centre_circle = plt.Circle((0, 0), 0.65, fc = 'white')\n",
    "fig = plt.gcf()\n",
    "fig.gca().add_artist(centre_circle)\n",
    "plt.title('Distribution of Warehouse owner type', fontsize=10)\n",
    "\n",
    "# plot 4\n",
    "ax4 = plt.subplot2grid((2, 2), (1, 1))\n",
    "\n",
    "x = df.groupby('wh_owner_type')['product_wg_ton'].mean()\n",
    "plt.bar(x.index, x.values, color='lightslategrey', width=0.2)\n",
    "plt.title('Average product weight by Warehouse owner type', fontsize=10)\n",
    "plt.ylabel('Avg product weight')\n",
    "\n",
    "plt.show()"
   ]
  },
  {
   "cell_type": "markdown",
   "id": "9528d1f1-e712-4ee0-a9e0-879689b8e513",
   "metadata": {},
   "source": [
    "<h1 style= \"font-family :Verdana; color :#004687 ; font-size: 15px\">Warehouse location type & Owner Type</h1>"
   ]
  },
  {
   "cell_type": "markdown",
   "id": "3db1110c-0dd1-4b76-b1eb-428d2a3c7562",
   "metadata": {},
   "source": [
    "#### Location type\n",
    "* Urban areas account for 8 % of the total, while rural areas make up the remaining 92 %.\n",
    "* The average product weight in rural areas is higher than of urban areas.\n",
    "* The total product weight in rural areas far exceeds that of urban areas.\n",
    "\n",
    "#### Owner type\n",
    "* The first graph illustrates the distribution of warehouse ownership, revealing that 46% of warehouses are rented, while 54% are owned by companies.\n",
    "* The average product weight in both types of warehouses appears to be nearly identical.\n",
    "* This data shows a slightly higher total product weight in company-owned warehouses despite their minority in distribution."
   ]
  },
  {
   "cell_type": "markdown",
   "id": "124514d8-6c97-43d1-8007-2d6bb3c26237",
   "metadata": {},
   "source": [
    "<h1 style= \"font-family :Verdana; color :#004687 ; font-size: 15px\">Electric_supply & temp_reg_mach availability</h1>"
   ]
  },
  {
   "cell_type": "code",
   "execution_count": null,
   "id": "65530f93",
   "metadata": {},
   "outputs": [],
   "source": [
    "plt.figure(figsize=(12, 7))\n",
    "\n",
    "\n",
    "# Temperature regulating machine availability\n",
    "# plot 1\n",
    "ax1 = plt.subplot2grid((2, 2), (0, 0))\n",
    "\n",
    "print(df.groupby('temp_reg_mach')['product_wg_ton'].sum().reset_index().sort_values(by='product_wg_ton', ascending=False).round(2))\n",
    "print('  ')\n",
    "\n",
    "df['temp_reg_mach'].value_counts().plot(kind = 'pie', colors = ['lightslategrey', 'lightblue'], autopct='%1.0f%%', explode=(0.02, 0.05),\n",
    "                                     startangle=20, ylabel=' ', labels = ['Not Available (0)', 'Available (1)'])\n",
    "\n",
    "plt.title('Distribution of temp_reg_mach availability', fontsize=10)\n",
    "\n",
    "#plot 2\n",
    "ax2 = plt.subplot2grid((2, 2), (0, 1))\n",
    "\n",
    "x = df.groupby('temp_reg_mach')['product_wg_ton'].mean()\n",
    "plt.bar(x.index, x.values, color='lightslategrey', width=0.08)\n",
    "plt.title('Average product weight by temp_reg_mach availability', fontsize=10)\n",
    "plt.ylabel('Avg product weight')\n",
    "\n",
    "# Electric Supply Availability\n",
    "\n",
    "# plot 3\n",
    "ax3 = plt.subplot2grid((2, 2), (1, 0))\n",
    "print(df.groupby('electric_supply')['product_wg_ton'].sum().reset_index().sort_values(by='product_wg_ton', ascending=False).round(2))\n",
    "print('  ')\n",
    "\n",
    "df['electric_supply'].value_counts().plot(kind = 'pie', colors = ['lightslategrey', 'lightblue'], autopct='%1.0f%%', explode=(0.02, 0.05),\n",
    "                                     startangle=180, ylabel=' ', labels = ['Not Available (0)', 'Available (1)'])\n",
    "\n",
    "plt.title('Distribution of Electric Supply Availability', fontsize=10)\n",
    "\n",
    "# plot 4\n",
    "ax4 = plt.subplot2grid((2, 2), (1, 1))\n",
    "\n",
    "x = df.groupby('electric_supply')['product_wg_ton'].mean()\n",
    "plt.bar(x.index, x.values, color='lightblue', width=0.08)\n",
    "plt.title('Average product weight by Electric Supply Availability', fontsize=10)\n",
    "plt.ylabel('Avg product weight')\n",
    "\n",
    "plt.show()"
   ]
  },
  {
   "cell_type": "markdown",
   "id": "46bf8434-7543-455c-a6a3-4239057f5fc9",
   "metadata": {},
   "source": [
    "#### Electric_supply\n",
    "* 66% of the warehouses surveyed were found to be unavailable, while the remaining 34% were deemed accessible for electric supply.\n",
    "* The average product weight in the electric supply not available warehouses was lower in comparison to those that were accessible for use.\n",
    "* Among the available warehouses, total product weight amounted to 203,327,830 units, whereas the not available warehouses collectively held a total   product weight of 106,690,637 units.\n",
    "\n",
    "#### Temp_reg_mach availability\n",
    "* The data indicates that the availability of temperature regulating machines in warehouses is limited, with 66% of warehouses reporting unavailability, while only 34% have these machines accessible.\n",
    "* Despite the lower availability, warehouses with temperature regulating machines available account for a total product weight of 101,599,625 units, compared to 208,418,842 units in warehouses where they are not available.\n",
    "* The average product weight in warehouses without temperature regulating machines is lower than in those where they are available."
   ]
  },
  {
   "cell_type": "markdown",
   "id": "2a092825-a3b2-4e07-976f-3170e8c65e39",
   "metadata": {},
   "source": [
    "<h1 style= \"font-family :Verdana; color :#004687 ; font-size: 15px\">Storage issue reported in the last 3 months</h1>"
   ]
  },
  {
   "cell_type": "code",
   "execution_count": null,
   "id": "2b193b77",
   "metadata": {},
   "outputs": [],
   "source": [
    "print(\"Unique values in Storage issue reported\", df['storage_issue_reported_l3m'].unique())\n",
    "print('  ')\n",
    "print(df.groupby('storage_issue_reported_l3m')['product_wg_ton'].sum().reset_index().sort_values(by='product_wg_ton', ascending=False).round(2).head())\n",
    "print('  ')\n",
    "\n",
    "plt.figure(figsize=(12, 3))\n",
    "\n",
    "\n",
    "# storage issue reported in the last 3 months        \n",
    "# plot 1\n",
    "\n",
    "ax1 = plt.subplot2grid((1, 2), (0, 0))\n",
    "\n",
    "x = df['storage_issue_reported_l3m'].value_counts()\n",
    "\n",
    "plt.stem(x.index, x.values, linefmt='#997688', basefmt='k:', markerfmt='d')\n",
    "plt.xlabel('No. of storage issue reported')\n",
    "plt.ylabel('frequency')\n",
    "plt.title('Frequency of storage issue', fontsize=10)\n",
    "\n",
    "# plot 2\n",
    "ax2 = plt.subplot2grid((1, 2), (0, 1))\n",
    "\n",
    "x = df.groupby('storage_issue_reported_l3m')['product_wg_ton'].mean()\n",
    "plt.bar(x.index, x.values, color='tan', width=0.2)\n",
    "plt.title('Average product weight by storage issue reported', fontsize=10)\n",
    "plt.xlabel('No. of storage issue reported')\n",
    "plt.ylabel('Avg product weight')\n",
    "\n",
    "plt.show()"
   ]
  },
  {
   "cell_type": "markdown",
   "id": "1b542106-e04e-4383-9a9f-7fb939a318fb",
   "metadata": {},
   "source": [
    "#### Storage issue reported in the last 3 months\n",
    "* The variables demonstrate a strong correlation, exhibiting an almost linear relationship.\n",
    "*  As the product weight rises, storage issues likewise increases."
   ]
  },
  {
   "cell_type": "markdown",
   "id": "e20d7cb1-69f0-4eaf-992d-f32756255cb7",
   "metadata": {},
   "source": [
    "<h1 style= \"font-family :Verdana; color :#004687 ; font-size: 15px\">No. of warehouse breakdown in the last 3 months</h1>"
   ]
  },
  {
   "cell_type": "code",
   "execution_count": null,
   "id": "c44196c1",
   "metadata": {},
   "outputs": [],
   "source": [
    "print(\"Unique values in no. of warehouse breakdown\" , df['wh_breakdown_l3m'].unique())\n",
    "print('  ')\n",
    "print(df.groupby('wh_breakdown_l3m')['product_wg_ton'].sum().reset_index().sort_values(by='product_wg_ton', ascending=False).round(2).head())\n",
    "print('  ')\n",
    "\n",
    "plt.figure(figsize=(12, 3))\n",
    "\n",
    "\n",
    "# no. of warehouse breakdown in the last 3 months        \n",
    "# plot 1\n",
    "\n",
    "ax1 = plt.subplot2grid((1, 2), (0, 0))\n",
    "\n",
    "x = df['wh_breakdown_l3m'].value_counts()\n",
    "\n",
    "plt.bar(x.index, x.values, color='#769966')\n",
    "plt.xlabel('No. of warehouse breakdown')\n",
    "plt.ylabel('Value count')\n",
    "plt.title('Frequency of warehouse breakdown', fontsize=10)\n",
    "\n",
    "# #plot 2\n",
    "ax2 = plt.subplot2grid((1, 2), (0, 1))\n",
    "\n",
    "x = df.groupby('wh_breakdown_l3m')['product_wg_ton'].mean()\n",
    "plt.plot(x.index, x.values, color='#997688', marker='*')\n",
    "plt.xlabel('No. of warehouse breakdown')\n",
    "plt.ylabel('Avg product weight')\n",
    "plt.title('Average product weight by no of warehouse breakdown', fontsize=10)\n",
    "\n",
    "plt.show()"
   ]
  },
  {
   "cell_type": "markdown",
   "id": "059ae680-8d93-4f11-ae6a-32221665209a",
   "metadata": {},
   "source": [
    "#### No. of warehouse breakdown in the last 3 months\n",
    "* The variables demonstrate a positive correlation, indicating that as the product weight increases,\n",
    "  the frequency of warehouse breakdowns also tends to rise.\n",
    "* The total product weight is higher for values with most value count."
   ]
  },
  {
   "cell_type": "code",
   "execution_count": null,
   "id": "bcf30a01",
   "metadata": {},
   "outputs": [],
   "source": [
    "# zone\n",
    "\n",
    "print(\"Unique values in zone\" , df['zone'].unique())\n",
    "print('  ')\n",
    "print(df.groupby('zone')['product_wg_ton'].sum().reset_index().sort_values(by='product_wg_ton', ascending=False).round(2))\n",
    "print('  ')\n",
    "\n",
    "# regional zone\n",
    "\n",
    "print(\"Unique values in regional zone\" , df['WH_regional_zone'].unique())\n",
    "print('  ')\n",
    "print(df.groupby('WH_regional_zone')['product_wg_ton'].sum().reset_index().sort_values(by='product_wg_ton', ascending=False).round(2))\n",
    "print('  ')\n",
    "\n",
    "plt.figure(figsize=(12, 8))\n",
    "\n",
    "# plot 1\n",
    "ax1 = plt.subplot2grid((2, 2), (0, 0))\n",
    "\n",
    "df['zone'].value_counts().plot(kind = 'pie', colors = ['#997688', 'tan'], autopct='%1.1f%%', explode=(0.05, 0.05, 0.05, 0.45),\n",
    "                                     startangle=50, ylabel='  ', pctdistance=0.8)\n",
    "centre_circle = plt.Circle((0, 0), 0.65, fc = 'white')\n",
    "fig = plt.gcf()\n",
    "fig.gca().add_artist(centre_circle)\n",
    "plt.axis('equal')\n",
    "plt.title('Distribution of Warehouse Zone', fontsize=10)\n",
    "\n",
    "# plot 2\n",
    "ax2 = plt.subplot2grid((2, 2), (0, 1))\n",
    "\n",
    "\n",
    "x = df.groupby('zone')['product_wg_ton'].mean()\n",
    "labels= df['zone'].unique()\n",
    "plt.pie(x, colors =['#997688', 'tan'], autopct='%1.1f%%', explode=(0.05, 0.05, 0.05, 0.25), startangle=5, labels = labels)\n",
    "plt.axis('equal')\n",
    "plt.title('Avg product weight by Warehouse Zone', fontsize=10)\n",
    "\n",
    "# Regional zone\n",
    "# plot 3\n",
    "ax3 = plt.subplot2grid((2, 2), (1, 0))\n",
    "\n",
    "df['WH_regional_zone'].value_counts().plot(kind = 'pie', colors = ['lightblue', '#769966'], autopct='%1.1f%%', explode=(0.05, 0.05, 0.05, 0.05, 0.05, 0.45),\n",
    "                                     startangle=70, ylabel='  ', pctdistance=0.8)\n",
    "centre_circle = plt.Circle((0, 0), 0.65, fc = 'white')\n",
    "fig = plt.gcf()\n",
    "fig.gca().add_artist(centre_circle)\n",
    "plt.axis('equal')\n",
    "plt.title('Distribution of Warehouse Regional Zone', fontsize=10)\n",
    "\n",
    "# plot 4\n",
    "ax4 = plt.subplot2grid((2, 2), (1, 1))\n",
    "\n",
    "\n",
    "x = df.groupby('WH_regional_zone')['product_wg_ton'].mean()\n",
    "labels= df['WH_regional_zone'].unique()\n",
    "plt.pie(x, colors =['lightblue', '#769966'], autopct='%1.1f%%', explode=(0.05, 0.05, 0.05, 0.05, 0.05, 0.25), startangle=90, labels = labels)\n",
    "plt.axis('equal')\n",
    "plt.title('Avg product weight by Warehouse Regional Zone', fontsize=10)\n",
    "\n",
    "plt.show()"
   ]
  },
  {
   "cell_type": "markdown",
   "id": "80864e56-ec9e-40f6-b0fc-72aef110c47b",
   "metadata": {},
   "source": [
    "<h1 style= \"font-family :Verdana; color :#004687 ; font-size: 15px\">zone & Regional_zone</h1>"
   ]
  },
  {
   "cell_type": "markdown",
   "id": "9ed1a21a-3844-4105-86c2-a0136e22bd7a",
   "metadata": {},
   "source": [
    "#### zone \n",
    "* The North Zone exhibits the highest production levels, whereas the East Zone demonstrates the lowest production levels.\n",
    "* On the other hand, the subsequent chart illustrates minimal fluctuations in product weight across different zones.\n",
    "* The total product weight tends to be greater for values that occur most frequently.\n",
    "\n",
    "\n",
    "#### Regional_zone\n",
    "* The Regional Zone 6 exhibits a significant number of warehouses.\n",
    "* Meanwhile, the subsequent chart suggests that there is minimal fluctuation in product weight across different Regional Zone.\n",
    "* The total product weight tends to be greater for values that occur most frequently.\n",
    "\n"
   ]
  },
  {
   "cell_type": "code",
   "execution_count": null,
   "id": "c97afd88",
   "metadata": {},
   "outputs": [],
   "source": [
    "print(\"Unique values in Government certification grades\", df['approved_wh_govt_certificate'].unique())\n",
    "print('  ')\n",
    "print(df.groupby('approved_wh_govt_certificate')['product_wg_ton'].sum().reset_index().sort_values(by='product_wg_ton', ascending=False).round(2))\n",
    "print('  ')\n",
    "\n",
    "plt.figure(figsize=(12, 3))\n",
    "\n",
    "# Government certification\n",
    "# plot 1\n",
    "ax1 = plt.subplot2grid((1, 2), (0, 0))\n",
    "\n",
    "x = df['approved_wh_govt_certificate'].value_counts()\n",
    "\n",
    "plt.scatter(x.index, x.values, color='grey' , marker='o')\n",
    "plt.xlabel('Government certification grades')\n",
    "plt.title('Frequency of grades', fontsize=10)\n",
    "plt.ylabel('value count')\n",
    "\n",
    "# #plot 2\n",
    "ax2 = plt.subplot2grid((1, 2), (0, 1))\n",
    "\n",
    "x = df.groupby('approved_wh_govt_certificate')['product_wg_ton'].mean()\n",
    "\n",
    "plt.scatter(x.index, x.values, color='tan', marker='o')\n",
    "plt.title('Average product weight by Government certification grades', fontsize=10)\n",
    "plt.xlabel('Government certification grades')\n",
    "plt.ylabel('Avg product weight')\n",
    "\n",
    "plt.show()"
   ]
  },
  {
   "cell_type": "markdown",
   "id": "a218101d-09e2-490f-94c7-80a31b620f91",
   "metadata": {},
   "source": [
    "<h1 style= \"font-family :Verdana; color :#004687 ; font-size: 15px\">Type of approval by government</h1>"
   ]
  },
  {
   "cell_type": "markdown",
   "id": "ff0a1cb9-0f29-4a91-a8bf-099abe2edc1e",
   "metadata": {},
   "source": [
    "#### Type of approval by government\n",
    "\n",
    "* The average product weight vs grades demonstrates a correlation between warehouses with the highest government approvals and the highest product weights.\n",
    "* Although the C grade is the lowest designation, it corresponds to the highest total product weights, primarily because the majority of warehouses are categorized as C grade.\n",
    "\n",
    "\n"
   ]
  },
  {
   "cell_type": "markdown",
   "id": "86fc3e28-f2e8-4292-baf4-5fad23158c50",
   "metadata": {},
   "source": [
    "<h1 style= \"font-family :Verdana; color :#004687 ; font-size: 15px\">govt checking in last 3 months</h1>"
   ]
  },
  {
   "cell_type": "code",
   "execution_count": null,
   "id": "3cd20376",
   "metadata": {},
   "outputs": [],
   "source": [
    "# govt_check_l3m\n",
    "print(\"Unique values in govt checking in last 3 months\" , df['govt_check_l3m'].unique())\n",
    "print('  ')\n",
    "print(df.groupby('govt_check_l3m')['product_wg_ton'].sum().reset_index().sort_values(by='product_wg_ton', ascending=False).round(2).head())\n",
    "print('  ')\n",
    "\n",
    "plt.figure(figsize=(12, 3))\n",
    "\n",
    "# plot 1\n",
    "\n",
    "ax1 = plt.subplot2grid((1, 2), (0, 0))\n",
    "\n",
    "x = df['govt_check_l3m'].value_counts()\n",
    "\n",
    "plt.bar(x.index, x.values, color='#769966')\n",
    "plt.xlabel('No. of govt checking')\n",
    "plt.ylabel('Value count')\n",
    "plt.title('Frequency of govt checking', fontsize=10)\n",
    "\n",
    "# #plot 2\n",
    "ax2 = plt.subplot2grid((1, 2), (0, 1))\n",
    "\n",
    "x = df.groupby('govt_check_l3m')['product_wg_ton'].mean()\n",
    "plt.plot(x.index, x.values, color='tan', marker='*')\n",
    "plt.xlabel('No. of govt checking')\n",
    "plt.ylabel('Avg product weight')\n",
    "plt.title('Average product weight by no of govt checking', fontsize=10)\n",
    "\n",
    "plt.show()"
   ]
  },
  {
   "cell_type": "code",
   "execution_count": null,
   "id": "70d86a16-3c8d-4775-b6ec-c2e0d285d2f1",
   "metadata": {},
   "outputs": [],
   "source": [
    "# govt_check_l3m\n",
    "print(\"Unique values in govt checking in last 3 months\" , df['govt_check_l3m'].unique())\n",
    "print('  ')\n",
    "print(df.groupby('govt_check_l3m')['product_wg_ton'].sum().reset_index().sort_values(by='product_wg_ton', ascending=False).round(2).head())\n",
    "print('  ')\n",
    "\n",
    "plt.figure(figsize=(12, 3))\n",
    "\n",
    "# plot 1\n",
    "\n",
    "ax1 = plt.subplot2grid((1, 2), (0, 0))\n",
    "\n",
    "x = df['govt_check_l3m'].value_counts()\n",
    "\n",
    "plt.bar(x.index, x.values, color='#769966')\n",
    "plt.xlabel('No. of govt checking')\n",
    "plt.ylabel('Value count')\n",
    "plt.title('Frequency of govt checking', fontsize=10)\n",
    "\n",
    "# #plot 2\n",
    "ax2 = plt.subplot2grid((1, 2), (0, 1))\n",
    "\n",
    "x = df.groupby('govt_check_l3m')['product_wg_ton'].mean()\n",
    "plt.plot(x.index, x.values, color='tan', marker='*')\n",
    "plt.xlabel('No. of govt checking')\n",
    "plt.ylabel('Avg product weight')\n",
    "plt.title('Average product weight by no of govt checking', fontsize=10)\n",
    "\n",
    "plt.show()"
   ]
  },
  {
   "cell_type": "markdown",
   "id": "b19facf7-ab8a-4712-a62c-1af0688b8fef",
   "metadata": {},
   "source": [
    "#### Govt checking in last 3 months\n",
    "* No. of government checking in last 3 months ranges from 1 to 32 times. The bar graph demonstrates significant fluctuations in value counts.\n",
    "* As the value count increases, total product weight increases. In case of average product weight, has no notable oscillations."
   ]
  },
  {
   "cell_type": "markdown",
   "id": "99f8d970-97f5-49ba-8d6d-094e0d368dab",
   "metadata": {},
   "source": [
    "<h1 style= \"font-family :Verdana; color :#004687 ; font-size: 15px\">No. of workers</h1>"
   ]
  },
  {
   "cell_type": "code",
   "execution_count": null,
   "id": "cf0ed0dc",
   "metadata": {},
   "outputs": [],
   "source": [
    "# workers_num\n",
    "print(\"Unique values in No. of workers\" , df['workers_num'].unique())\n",
    "print('  ')\n",
    "print(df.groupby('workers_num')['product_wg_ton'].sum().reset_index().sort_values(by='product_wg_ton', ascending=False).round(2).head())\n",
    "print('  ')\n",
    "\n",
    "plt.figure(figsize=(12, 3))\n",
    "\n",
    "# plot 1\n",
    "\n",
    "ax1 = plt.subplot2grid((1, 2), (0, 0))\n",
    "\n",
    "x = df['workers_num'].value_counts()\n",
    "\n",
    "plt.bar(x.index, x.values, color='tan')\n",
    "plt.xlabel('No. of workers')\n",
    "plt.ylabel('Value count')\n",
    "plt.title('Frequency of workers num', fontsize=10)\n",
    "\n",
    "# #plot 2\n",
    "ax2 = plt.subplot2grid((1, 2), (0, 1))\n",
    "\n",
    "x = df.groupby('workers_num')['product_wg_ton'].mean()\n",
    "plt.plot(x.index, x.values, color='#997688', marker='*')\n",
    "plt.xlabel('No. of workers')\n",
    "plt.ylabel('Avg product weight')\n",
    "plt.title('Average product weight by no of workers', fontsize=10)\n",
    "\n",
    "plt.show()"
   ]
  },
  {
   "cell_type": "markdown",
   "id": "c1746e57-502e-44de-82ca-606608e21eac",
   "metadata": {},
   "source": [
    "#### No. of workers\n",
    "\n",
    "*  The value count graph exhibits a distribution resembling a normal curve, with the exception of the central point, which registers higher than all others.\n",
    "*  There are no significant variations in average product weight in relation to the number of workers. However, when the workforce is at its smallest, the average product weight tends to be lower."
   ]
  },
  {
   "cell_type": "markdown",
   "id": "f87d8c0f-9407-45fa-8ee4-dc2705c1267d",
   "metadata": {},
   "source": [
    "<h1 style= \"font-family :Verdana; color :#004687 ; font-size: 15px\">Warehouse capacity size & Transport issue</h1>"
   ]
  },
  {
   "cell_type": "code",
   "execution_count": null,
   "id": "980eab43",
   "metadata": {},
   "outputs": [],
   "source": [
    "# Warehouse capacity size\n",
    "print(\"Unique values in Warehouse capacity size\", df['WH_capacity_size'].unique())\n",
    "print('  ')\n",
    "print(df.groupby('WH_capacity_size')['product_wg_ton'].sum().reset_index().sort_values(by='product_wg_ton', ascending=False).round(2))\n",
    "print('  ')\n",
    "# Transport issue in 1 year\n",
    "print(\"Unique values in Transport issue in 1 year\", df['transport_issue_l1y'].unique())\n",
    "print('  ')\n",
    "print(df.groupby('transport_issue_l1y')['product_wg_ton'].sum().reset_index().sort_values(by='product_wg_ton', ascending=False).round(2))\n",
    "print('  ')\n",
    "\n",
    "plt.figure(figsize=(12, 7))\n",
    "\n",
    "# Warehouse capacity size\n",
    "# plot 1\n",
    "ax1 = plt.subplot2grid((2, 2), (0, 0))\n",
    "\n",
    "df['WH_capacity_size'].value_counts().plot(kind = 'pie', colors = ['yellow', 'tan', 'lightblue'], autopct='%1.1f%%', explode=(0.05, 0.05, 0.45),\n",
    "                                     startangle=50, ylabel='  ', pctdistance=0.8)\n",
    "centre_circle = plt.Circle((0, 0), 0.65, fc = 'white')\n",
    "fig = plt.gcf()\n",
    "fig.gca().add_artist(centre_circle)\n",
    "plt.axis('equal')\n",
    "plt.title('Distribution of Warehouse capacity size', fontsize=10)\n",
    "\n",
    "# plot 2\n",
    "ax2 = plt.subplot2grid((2, 2), (0, 1))\n",
    "\n",
    "\n",
    "x = df.groupby('WH_capacity_size')['product_wg_ton'].mean()\n",
    "labels= df['WH_capacity_size'].unique()\n",
    "plt.pie(x, colors =['yellow', 'tan', 'lightblue'], autopct='%1.1f%%', explode=(0.05, 0.05, 0.25), startangle=5, labels = labels)\n",
    "plt.axis('equal')\n",
    "plt.title('Avg product weight by Warehouse capacity size', fontsize=10)\n",
    "\n",
    "# transport issue in 1 year\n",
    "# plot 3\n",
    "ax3 = plt.subplot2grid((2, 2), (1, 0))\n",
    "\n",
    "df['transport_issue_l1y'].value_counts().plot(kind = 'pie', colors = ['lightblue', '#769966', 'tan'], autopct='%1.1f%%', explode=(0.05, 0.05, 0.45),\n",
    "                                     startangle=70, ylabel='  ', pctdistance=0.8)\n",
    "centre_circle = plt.Circle((0, 0), 0.65, fc = 'white')\n",
    "fig = plt.gcf()\n",
    "fig.gca().add_artist(centre_circle)\n",
    "plt.axis('equal')\n",
    "plt.title('Distribution of Transport issue', fontsize=10)\n",
    "\n",
    "# plot 4\n",
    "ax4 = plt.subplot2grid((2, 2), (1, 1))\n",
    "\n",
    "\n",
    "x = df.groupby('transport_issue_l1y')['product_wg_ton'].mean()\n",
    "labels= df['transport_issue_l1y'].unique()\n",
    "plt.pie(x, colors =['lightblue', '#769966', 'tan'], autopct='%1.1f%%', explode=(0.05, 0.05, 0.25), startangle=90, labels = labels)\n",
    "plt.axis('equal')\n",
    "plt.title('Avg product weight by Warehouse Transport issue', fontsize=10)\n",
    "\n",
    "plt.show()"
   ]
  },
  {
   "cell_type": "markdown",
   "id": "9ea2a659-9888-4524-8fe0-da9843d23e2e",
   "metadata": {},
   "source": [
    "#### Warehouse capacity size\n",
    "\n",
    "* Different capacity sizes of warehouse are small, mid and large. From the frequency distribution plot, only a lesser number of warehouses are of small\n",
    "  size. Rest of them are almost equally distributed among mid and large size. It reflects in the total product weight too.\n",
    "*  No noticable variations can be identify when comparing average product weight of these sizes.\n",
    "\n",
    "#### Transport issue in last 1 year\n",
    "\n",
    "* Frequency distribution depicts majority of warehouses didnt face any transport issues in last one year.\n",
    "* Small percentage of discrepency is seen according to average product weight, but no particular pattern."
   ]
  },
  {
   "cell_type": "markdown",
   "id": "cbbf8ed6-fe75-448a-a70c-974ccd8110a5",
   "metadata": {},
   "source": [
    "<h1 style= \"font-family :Verdana; color :#004687 ; font-size: 15px\">Competitor_in_mkt</h1>"
   ]
  },
  {
   "cell_type": "code",
   "execution_count": null,
   "id": "bd8878c4",
   "metadata": {},
   "outputs": [],
   "source": [
    "print(\"Unique values in No. of competitors in the market\", df['Competitor_in_mkt'].unique())\n",
    "print('  ')\n",
    "print(df.groupby('Competitor_in_mkt')['product_wg_ton'].sum().reset_index().sort_values(by='product_wg_ton', ascending=False).round(2))\n",
    "print('  ')\n",
    "\n",
    "plt.figure(figsize=(12, 3))\n",
    "\n",
    "# Government certification\n",
    "# plot 1\n",
    "ax1 = plt.subplot2grid((1, 2), (0, 0))\n",
    "\n",
    "x = df['Competitor_in_mkt'].value_counts()\n",
    "\n",
    "plt.bar(x.index, x.values, color='#997688', width=0.5)\n",
    "plt.xlabel('No. of competitors in the market')\n",
    "plt.title('Frequency of No. of competitors', fontsize=10)\n",
    "plt.ylabel('value count')\n",
    "\n",
    "# #plot 2\n",
    "ax2 = plt.subplot2grid((1, 2), (0, 1))\n",
    "\n",
    "x = df.groupby('Competitor_in_mkt')['product_wg_ton'].mean()\n",
    "\n",
    "plt.plot(x.index, x.values, color='tan', marker='o')\n",
    "plt.title('Average product weight by No. of competitors in the market', fontsize=10)\n",
    "plt.xlabel('No. of competitors in the market')\n",
    "plt.ylabel('Avg product weight')\n",
    "\n",
    "plt.show()"
   ]
  },
  {
   "cell_type": "markdown",
   "id": "b009975f-a86d-41be-8357-2c62836d5fec",
   "metadata": {},
   "source": [
    "#### No. of competitors in market\n",
    "\n",
    "* The value count plot shows high variation in distribution.\n",
    "* Out of the 8 unique values, 3 has most number of values, which means majority of the warehouses have either 2,3, or 4 competitors in market and they makes the highest amount of product in total.\n",
    "* Comparing Average product weight, warehouses with no competitors has the lowest value and rest of them has no big difference."
   ]
  },
  {
   "cell_type": "markdown",
   "id": "70d296f8-83e8-4218-83e5-26f88cf8ad15",
   "metadata": {},
   "source": [
    "<h1 style= \"font-family :Verdana; color :#004687 ; font-size: 15px\">No. of Distributors</h1>"
   ]
  },
  {
   "cell_type": "code",
   "execution_count": null,
   "id": "9df988c7",
   "metadata": {},
   "outputs": [],
   "source": [
    "# distributor_num\n",
    "print(\"Unique values in No. distributors\", df['distributor_num'].unique())\n",
    "print('  ')\n",
    "print(df.groupby('distributor_num')['product_wg_ton'].sum().reset_index().sort_values(by='product_wg_ton', ascending=False).round(2).head())\n",
    "print('  ')\n",
    "\n",
    "\n",
    "x = df['distributor_num'].value_counts().sort_index()\n",
    "\n",
    "avg_product_weight = df.groupby('distributor_num')['product_wg_ton'].mean()\n",
    "\n",
    "fig, ax1 = plt.subplots(figsize=(12, 5))\n",
    "\n",
    "# Plotting the line plot for value count\n",
    "ax1.bar(x.index, x.values, color='grey',  label='Value Count')\n",
    "ax1.set_ylabel('Value Count', color='red')\n",
    "\n",
    "# Creating a secondary y-axis and plotting the bar graph for average product weight\n",
    "ax2 = ax1.twinx()\n",
    "ax2.plot(avg_product_weight.index, avg_product_weight.values, color='yellow', marker='o', markeredgecolor = 'red', label='Average Product Weight')\n",
    "ax2.set_ylabel('Average Product Weight', color='red')\n",
    "\n",
    "# Adding legends\n",
    "lines1, labels1 = ax1.get_legend_handles_labels()\n",
    "lines2, labels2 = ax2.get_legend_handles_labels()\n",
    "ax1.legend(lines1 + lines2, labels1 + labels2)\n",
    "\n",
    "# Setting labels and title\n",
    "ax1.set_xlabel('Number of Distributors')\n",
    "plt.title('Value Count and Average Product Weight')\n",
    "\n",
    "\n",
    "plt.show()"
   ]
  },
  {
   "cell_type": "markdown",
   "id": "7e735f6e-d51c-4e2c-96f9-9a27338c024d",
   "metadata": {},
   "source": [
    "#### No. of Distributors\n",
    "\n",
    "* The values are distributed almost evenly, as evident from the frequency distribution.\n",
    "* The line plot illustrates minimal variations in average product weight, ranging from 20,000 to 24,500, without displaying any pattern."
   ]
  },
  {
   "cell_type": "markdown",
   "id": "04a35cfb-4183-49a8-8eb7-3d30794185f0",
   "metadata": {},
   "source": [
    "<h1 style= \"font-family :Verdana; color :#004687 ; font-size: 15px\">No. of refill request in last 3 months</h1>"
   ]
  },
  {
   "cell_type": "code",
   "execution_count": null,
   "id": "21e766d4",
   "metadata": {},
   "outputs": [],
   "source": [
    "print(\"Unique values in No. of refill request in last 3 months\", df['num_refill_req_l3m'].unique())\n",
    "print('  ')\n",
    "print(df.groupby('num_refill_req_l3m')['product_wg_ton'].sum().reset_index().sort_values(by='product_wg_ton', ascending=False).round(2))\n",
    "print('  ')\n",
    "\n",
    "plt.figure(figsize=(12, 3))\n",
    "\n",
    "# plot 1\n",
    "ax1 = plt.subplot2grid((1, 2), (0, 0))\n",
    "\n",
    "df['num_refill_req_l3m'].value_counts().plot(kind = 'pie', colors = ['lightblue', 'tan'], autopct='%1.0f', explode=[0.05, 0.02, 0.08, 0.05, 0.05, 0.4, 0.05, 0.05, 0.05],\n",
    "                                     startangle=50, ylabel='  ', pctdistance=0.8)\n",
    "centre_circle = plt.Circle((0, 0), 0.25, fc = 'white')\n",
    "fig = plt.gcf()\n",
    "fig.gca().add_artist(centre_circle)\n",
    "\n",
    "plt.title('Distribution of refill request in percentage', fontsize=10)\n",
    "\n",
    "\n",
    "# #plot 2\n",
    "ax2 = plt.subplot2grid((1, 2), (0, 1))\n",
    "\n",
    "x = df.groupby('num_refill_req_l3m')['product_wg_ton'].mean()\n",
    "\n",
    "plt.plot(x.index, x.values, color='tan', marker='d', markeredgecolor='lightslategrey')\n",
    "plt.title('Average product weight by No. of refill request', fontsize=10)\n",
    "plt.xlabel('No. of refill request')\n",
    "plt.ylabel('Avg product weight')\n",
    "\n",
    "plt.show()"
   ]
  },
  {
   "cell_type": "markdown",
   "id": "d285913e-28ad-44f6-919c-9562480b7499",
   "metadata": {},
   "source": [
    "#### No. of refill request in last 3 months\n",
    "\n",
    "* The distribution of no. of refill request in last 3 months is almost uniform with percentage 12 and 11 except for one value, which is 7%.\n",
    "* Average product weight among them falls within the range of 22,000 to 24,000, indicating minimal variation. Also, total product weight positively correlated with value counts.\n"
   ]
  },
  {
   "cell_type": "markdown",
   "id": "34edb12a-14ca-4434-a533-e54a80b94595",
   "metadata": {},
   "source": [
    "<h1 style= \"font-family :Verdana; color :#004687 ; font-size: 15px\">Distance from hub</h1>"
   ]
  },
  {
   "cell_type": "code",
   "execution_count": null,
   "id": "47bcee9e-662a-4099-bb3f-f185fea28d4d",
   "metadata": {},
   "outputs": [],
   "source": [
    "df_copy = df.copy()"
   ]
  },
  {
   "cell_type": "code",
   "execution_count": null,
   "id": "a69caf61-84f1-44ca-9647-d10c525ff322",
   "metadata": {},
   "outputs": [],
   "source": [
    "print(\"Total no. of unique values in Distance from hub\", len(df['dist_from_hub'].unique()))\n",
    "print('  ')\n",
    "\n",
    "# define bin edges : \n",
    "# Retail shop number : min value = 55, max value = 271\n",
    "\n",
    "bins =[55, 80, 105, 130, 155, 180, 205, 230, 255]\n",
    "\n",
    "\n",
    "\n",
    "# cut the column into bins\n",
    "df_copy['bins'] = pd.cut(df_copy['dist_from_hub'], bins)\n",
    "\n",
    "bin_counts = df_copy['bins'].value_counts().sort_index()\n",
    "\n",
    "# Create a DataFrame from bin_counts\n",
    "table_df = pd.DataFrame({'Bin': bin_counts.index, 'Count': bin_counts.values})\n",
    "\n",
    "# Display the table\n",
    "print(table_df)"
   ]
  },
  {
   "cell_type": "code",
   "execution_count": null,
   "id": "98dabd1a",
   "metadata": {},
   "outputs": [],
   "source": [
    "plt.figure(figsize=(6, 3))\n",
    "\n",
    "# plot 1\n",
    "#ax1 = plt.subplot2grid((1, 2), (0, 0)) \n",
    "\n",
    "bin =[55, 80, 105, 130, 155, 180, 205, 230, 255, 280]\n",
    "\n",
    "# cut the column into bins\n",
    "df_copy['bins'] = pd.cut(df_copy['dist_from_hub'], bins=bin)\n",
    "\n",
    "#plot bargraph\n",
    "df_copy['bins'].value_counts().sort_index().plot(kind='bar', color='lightslategrey')\n",
    "\n",
    "plt.title('Distribution of Distance from hub', fontsize=10)\n",
    "plt.ylabel('Value counts')\n",
    "plt.show()\n",
    "\n",
    "\n",
    "avg_product_weight = df.groupby('dist_from_hub')['product_wg_ton'].mean()\n",
    "plt.figure(figsize=(12, 3))\n",
    "plt.plot(avg_product_weight.index, avg_product_weight.values, color='tan', marker='o', markeredgecolor = 'lime')\n",
    "plt.title('Average product weight by Distance from hub', fontsize=10)\n",
    "plt.xlabel('Distance from hub')\n",
    "plt.ylabel('Avg product weight')\n",
    "\n",
    "plt.show()"
   ]
  },
  {
   "cell_type": "markdown",
   "id": "8e0cd4ea-9434-46f8-9dec-1da8ef23755f",
   "metadata": {},
   "source": [
    "##### Distance from hub\n",
    "\n",
    "* This column has many unique values, thus plotting graph in bins.\n",
    "* The values are distributed almost evenly, except for last bin.\n",
    "* The line plot shows variations in average product weight, ranging from 19,000 to 28,000, but no specific pattern is visible."
   ]
  },
  {
   "cell_type": "markdown",
   "id": "a8a00ed5-1dc7-4ed4-9b00-852fa4f07de7",
   "metadata": {},
   "source": [
    "<h1 style= \"font-family :Verdana; color :#004687 ; font-size: 15px\">Retail shop number</h1>"
   ]
  },
  {
   "cell_type": "code",
   "execution_count": null,
   "id": "e09ce56c",
   "metadata": {},
   "outputs": [],
   "source": [
    "print(\"Total no. of unique values in no. of retail shops\", len(df['retail_shop_num'].unique()))\n",
    "print('  ')\n",
    "\n",
    "# define bin edges : \n",
    "# Retail shop number : min value = 1821, max value = 11008\n",
    "\n",
    "bins =[1500, 3000, 4500, 6000, 7500, 9000, 10500, 12000]\n",
    "\n",
    "# cut the column into bins\n",
    "df_copy['bins'] = pd.cut(df_copy['retail_shop_num'], bins)\n",
    "\n",
    "bin_counts = df_copy['bins'].value_counts().sort_index()\n",
    "\n",
    "# Create a DataFrame from bin_counts\n",
    "table_df = pd.DataFrame({'Bin': bin_counts.index, 'Count': bin_counts.values})\n",
    "\n",
    "# Display the table\n",
    "print(table_df)"
   ]
  },
  {
   "cell_type": "code",
   "execution_count": null,
   "id": "d35695b2-1b7a-4635-81d6-cef9b38c9493",
   "metadata": {},
   "outputs": [],
   "source": [
    "print(\"Total no. of unique values in no. of retail shops\", len(df['retail_shop_num'].unique()))\n",
    "print('  ')\n",
    "\n",
    "# define bin edges : \n",
    "# Retail shop number : min value = 1821, max value = 11008\n",
    "\n",
    "bins =[1500, 3000, 4500, 6000, 7500, 9000, 10500, 12000]\n",
    "\n",
    "# cut the column into bins\n",
    "df_copy['bins'] = pd.cut(df_copy['retail_shop_num'], bins)\n",
    "\n",
    "bin_counts = df_copy['bins'].value_counts().sort_index()\n",
    "\n",
    "# Create a DataFrame from bin_counts\n",
    "table_df = pd.DataFrame({'Bin': bin_counts.index, 'Count': bin_counts.values})\n",
    "\n",
    "# Display the table\n",
    "print(table_df)"
   ]
  },
  {
   "cell_type": "code",
   "execution_count": null,
   "id": "e442e4fc",
   "metadata": {},
   "outputs": [],
   "source": [
    "plt.figure(figsize=(12, 3))\n",
    "\n",
    "# plot 1\n",
    "\n",
    "ax1 = plt.subplot2grid((1, 2), (0, 0)) \n",
    "\n",
    "# define bin edges\n",
    "bins =[1500, 3000, 4500, 6000, 7500]\n",
    "\n",
    "# cut the column into bins\n",
    "df_copy['bins'] = pd.cut(df_copy['retail_shop_num'], bins)\n",
    "\n",
    "#plot bargraph\n",
    "\n",
    "df_copy['bins'].value_counts().sort_index().plot(kind='pie',  colors = ['cyan', 'tan', 'lightblue', 'yellow'], autopct='%1.1f%%', explode=(0.45, 0.05, 0.05, 0.2),\n",
    "                                     startangle=180, ylabel='  ')\n",
    "plt.axis('equal')\n",
    "plt.title('Distribution of no. of retail shops', fontsize=10)\n",
    "\n",
    "\n",
    "# plot 1\n",
    "\n",
    "ax2 = plt.subplot2grid((1, 2), (0, 1)) \n",
    "sns.barplot(data=df_copy, x='bins', y='product_wg_ton', color='yellow')\n",
    "\n",
    "plt.ylabel(' Avg product weight')\n",
    "plt.xlabel('No. of retail shops')\n",
    "plt.title('Average Product weight by No. of retail shops', fontsize=10)\n",
    "plt.yticks(rotation=65)\n",
    "plt.show()"
   ]
  },
  {
   "cell_type": "markdown",
   "id": "9ddc435a-282d-4241-84da-5e1ea83d7239",
   "metadata": {},
   "source": [
    "#### No. of Retail shops\n",
    "\n",
    "* This column has the highest number of unique values, thus plotting graph in bins.\n",
    "* Analysing the table of bin versus value counts and pie chart, the bin ranges from 4500 to 6000 contains the highest number of values.\n",
    "* Comparing the average product weight by the number of retail shops with a bar chart, no noticable difference is observed."
   ]
  },
  {
   "cell_type": "markdown",
   "id": "7580f9e3-494e-4aad-bdde-9582784a297a",
   "metadata": {},
   "source": [
    "<h1 style= \"font-family :Verdana; color :#004687 ; font-size: 20px\">Data Transformation</h1>"
   ]
  },
  {
   "cell_type": "markdown",
   "id": "c06944f2-1d1c-4055-a009-38e5862ff0fa",
   "metadata": {},
   "source": [
    "<h1 style= \"font-family :Verdana; color :#004687 ; font-size: 15px\">Encoding</h1>"
   ]
  },
  {
   "cell_type": "code",
   "execution_count": null,
   "id": "93f194ca-4788-4cc0-a940-ed0b77ca8fea",
   "metadata": {},
   "outputs": [],
   "source": [
    "# Numerical columns & categorical columns in train dataset\n",
    "\n",
    "num_columns_train=[i for i in df.columns if df[i].dtypes != 'O']\n",
    "cat_columns_train=[i for i in df.columns if df[i].dtypes == 'O']\n",
    "\n",
    "# Numerical columns & categorical columns in test dataset\n",
    "\n",
    "num_columns_test=[i for i in df_test.columns if df_test[i].dtypes != 'O']\n",
    "cat_columns_test=[i for i in df_test.columns if df_test[i].dtypes == 'O']\n"
   ]
  },
  {
   "cell_type": "code",
   "execution_count": null,
   "id": "95fb840d-c600-4f51-8422-d6fe59fc6d2c",
   "metadata": {},
   "outputs": [],
   "source": [
    "# Label Encoding for categorical variables\n",
    " \n",
    "for i in cat_columns_train:\n",
    "    df[i] = LabelEncoder().fit_transform(df[i])\n",
    "\n",
    "for i in cat_columns_test:\n",
    "    df_test[i] = LabelEncoder().fit_transform(df_test[i])"
   ]
  },
  {
   "cell_type": "markdown",
   "id": "3e45404a-6858-429b-92b9-26110486b18e",
   "metadata": {},
   "source": [
    "<h1 style= \"font-family :Verdana; color :#004687 ; font-size: 15px\">Scaling</h1>"
   ]
  },
  {
   "cell_type": "code",
   "execution_count": null,
   "id": "6a1ae35c-8cdb-45d5-a675-b2d0403afcd8",
   "metadata": {},
   "outputs": [],
   "source": [
    "# display number of unique values in each column\n",
    "df.nunique().sort_values(ascending=False)"
   ]
  },
  {
   "cell_type": "code",
   "execution_count": null,
   "id": "df6bb9f2-a788-43e5-9c42-6e6d4edb089c",
   "metadata": {},
   "outputs": [],
   "source": [
    "columns_with_more_than_two_unique_values_train = df.columns[df.nunique()>2]"
   ]
  },
  {
   "cell_type": "code",
   "execution_count": null,
   "id": "f468e3fb-0a12-47e8-a6be-59f3adf8f263",
   "metadata": {},
   "outputs": [],
   "source": [
    "columns_with_more_than_two_unique_values_test = df_test.columns[df_test.nunique()>2]"
   ]
  },
  {
   "cell_type": "code",
   "execution_count": null,
   "id": "f1aebe7b-7bbe-48c9-9e68-c82e4d700ab3",
   "metadata": {},
   "outputs": [],
   "source": [
    "df.info()"
   ]
  },
  {
   "cell_type": "code",
   "execution_count": null,
   "id": "9db85451-9596-4f3b-9244-0b095109e72f",
   "metadata": {},
   "outputs": [],
   "source": [
    "# Standard Scaling for numerical variables\n",
    "\n",
    "for i in columns_with_more_than_two_unique_values_train:\n",
    "  df[i] = StandardScaler().fit_transform(df[[i]])\n",
    "\n",
    "for i in columns_with_more_than_two_unique_values_test:\n",
    "  df_test[i] = StandardScaler().fit_transform(df_test[[i]])"
   ]
  },
  {
   "cell_type": "code",
   "execution_count": null,
   "id": "175c7aa6-0aa0-4cdb-afcb-d0d4560e7460",
   "metadata": {},
   "outputs": [],
   "source": [
    "df.sample(5).T"
   ]
  },
  {
   "cell_type": "code",
   "execution_count": null,
   "id": "a2539378-3d35-4466-883f-a7aad048568c",
   "metadata": {},
   "outputs": [],
   "source": [
    "df_test.sample(5).T"
   ]
  },
  {
   "cell_type": "markdown",
   "id": "c25ee087-8307-4e89-be2f-7d44bd701ee2",
   "metadata": {},
   "source": [
    "<h1 style= \"font-family :Verdana; color :#004687 ; font-size: 20px\">Feature Selection</h1>"
   ]
  },
  {
   "cell_type": "code",
   "execution_count": null,
   "id": "a5297abd-1b9a-4717-be4a-82c26149ae3d",
   "metadata": {},
   "outputs": [],
   "source": [
    "# correlation heatmap"
   ]
  },
  {
   "cell_type": "code",
   "execution_count": null,
   "id": "aa53a37e",
   "metadata": {},
   "outputs": [],
   "source": [
    "Y_test\n"
   ]
  },
  {
   "cell_type": "code",
   "execution_count": null,
   "id": "2ae75354",
   "metadata": {},
   "outputs": [],
   "source": [
    "plt.figure(figsize=(12, 12))\n",
    "corr = df.corr(numeric_only=True)\n",
    "sns.heatmap(corr, annot=True, cmap=sns.cubehelix_palette(as_cmap=True), linewidths=1, cbar=False)\n",
    "plt.show()"
   ]
  },
  {
   "cell_type": "code",
   "execution_count": null,
   "id": "d70158e2-62ec-491e-bf43-edec9b6d66f6",
   "metadata": {},
   "outputs": [],
   "source": [
    "data = df.loc[:, df.columns !='product_wg_ton']\n",
    "correlations = data.corrwith(df['product_wg_ton']).round(3).sort_values(ascending=True)\n",
    "correlations"
   ]
  },
  {
   "cell_type": "markdown",
   "id": "3c16e9e4-8889-4c78-bf56-231d4300fcb9",
   "metadata": {},
   "source": [
    "<h1 style= \"font-family :Verdana; color :#004687 ; font-size: 20px\">Splitting Dataset</h1>"
   ]
  },
  {
   "cell_type": "code",
   "execution_count": null,
   "id": "934b7ac1-3369-4e58-b84c-bce0f8c07505",
   "metadata": {},
   "outputs": [],
   "source": [
    "#Selecting Independent (Features) & Dependent(Target) variables\n",
    "\n",
    "X_train = df.drop(['product_wg_ton', 'num_refill_req_l3m', 'WH_regional_zone'], axis=1)\n",
    "Y_train = df['product_wg_ton']\n",
    "\n",
    "X_test = df_test.drop(['product_wg_ton', 'num_refill_req_l3m', 'WH_regional_zone'], axis=1)\n",
    "Y_test = df_test['product_wg_ton']"
   ]
  },
  {
   "cell_type": "code",
   "execution_count": null,
   "id": "08e453e8-89b9-4485-a4f7-07f8132c2372",
   "metadata": {},
   "outputs": [],
   "source": [
    "print(\"Shape of X_train:\", X_train.shape)\n",
    "print(\"Shape of X_test:\", X_test.shape)"
   ]
  },
  {
   "cell_type": "markdown",
   "id": "bf0363a0-7c19-4599-8903-c9f7fc517896",
   "metadata": {},
   "source": [
    "<h1 style= \"font-family :Verdana; color :#004687 ; font-size: 20px\">Data Modelling</h1>"
   ]
  },
  {
   "cell_type": "markdown",
   "id": "428841c1-5bff-4452-9b5f-38fef7632db9",
   "metadata": {},
   "source": [
    "<h1 style= \"font-family :Verdana; color :#004687 ; font-size: 18px\">Regression Models</h1>"
   ]
  },
  {
   "cell_type": "markdown",
   "id": "51f68a83-5bdd-4aed-9ed1-6b2530eaf12b",
   "metadata": {},
   "source": [
    "<h1 style= \"font-family :Verdana; color :#004687 ; font-size: 18px\">Linear Regression</h1>"
   ]
  },
  {
   "cell_type": "code",
   "execution_count": null,
   "id": "430e69c4-a857-4de2-861d-c4f5c1281a35",
   "metadata": {},
   "outputs": [],
   "source": [
    "# Initialize the model\n",
    "\n",
    "LRmodel = LinearRegression()"
   ]
  },
  {
   "cell_type": "code",
   "execution_count": null,
   "id": "a5cca842-b96e-4a5b-8414-c86af66041d3",
   "metadata": {},
   "outputs": [],
   "source": [
    "# Fit model to the training data\n",
    "\n",
    "LRmodel.fit(X_train, Y_train)"
   ]
  },
  {
   "cell_type": "code",
   "execution_count": null,
   "id": "5e536322-d8a1-41bc-88ed-bebd15e1d02d",
   "metadata": {},
   "outputs": [],
   "source": [
    "# Make predictions on the test data\n",
    "\n",
    "LR_predicted = LRmodel.predict(X_test)"
   ]
  },
  {
   "cell_type": "code",
   "execution_count": null,
   "id": "584c8036-693f-4d4e-9366-8968b09b6803",
   "metadata": {},
   "outputs": [],
   "source": [
    "# Evaluate  the model\n",
    "\n",
    "# r2 score\n",
    "lr_r2 = r2_score(Y_test, LR_predicted).round(3)\n",
    "print('R2 score:  ', lr_r2)\n",
    "\n",
    "# root mean squared error (RMSE)\n",
    "lr_rmse = np.sqrt(mean_squared_error(Y_test, LR_predicted)).round(3)\n",
    "print('Root Mean Squared Error:  ', lr_rmse) \n",
    "\n",
    "# mean absolute error (MAE)\n",
    "lr_mae = mean_absolute_error(Y_test, LR_predicted).round(3)\n",
    "print('Mean Absolute Error:  ', lr_mae)\n"
   ]
  },
  {
   "cell_type": "markdown",
   "id": "4fd1606a-30cf-4852-9774-87a8edbb504c",
   "metadata": {},
   "source": [
    "<h1 style= \"font-family :Verdana; color :#004687 ; font-size: 18px\">Decision Tree</h1>"
   ]
  },
  {
   "cell_type": "code",
   "execution_count": null,
   "id": "c9bacacb-1923-4391-8330-ea92ef569184",
   "metadata": {},
   "outputs": [],
   "source": [
    "# Initialize the model\n",
    "\n",
    "DTmodel = DecisionTreeRegressor(random_state = 0) "
   ]
  },
  {
   "cell_type": "code",
   "execution_count": null,
   "id": "5fe65876-0100-4b87-84e2-59d04afda489",
   "metadata": {},
   "outputs": [],
   "source": [
    "# Fit model to the training data\n",
    "\n",
    "DTmodel.fit(X_train, Y_train) "
   ]
  },
  {
   "cell_type": "code",
   "execution_count": null,
   "id": "28398d9a-1e49-44e3-8cd1-d666aa1ed06a",
   "metadata": {},
   "outputs": [],
   "source": [
    "# Make predictions on the test data\n",
    "\n",
    "DT_predicted = DTmodel.predict(X_test)"
   ]
  },
  {
   "cell_type": "code",
   "execution_count": null,
   "id": "b6ca0f40-437c-4e2f-ba03-ecb0cc111ff0",
   "metadata": {},
   "outputs": [],
   "source": [
    "# Evaluate  the model\n",
    "\n",
    "# r2 score\n",
    "dt_r2 = r2_score(Y_test, DT_predicted).round(3)\n",
    "print('R2 score:  ', dt_r2)\n",
    "\n",
    "# root mean squared error (RMSE)\n",
    "dt_rmse = np.sqrt(mean_squared_error(Y_test, DT_predicted)).round(3)\n",
    "print('Root Mean Squared Error:  ', dt_rmse) \n",
    "\n",
    "# mean absolute error (MAE)\n",
    "dt_mae = mean_absolute_error(Y_test, DT_predicted).round(3)\n",
    "print('Mean Absolute Error:  ', dt_mae)\n"
   ]
  },
  {
   "cell_type": "markdown",
   "id": "923d5e15-508a-42e8-befe-7b5c413d96f2",
   "metadata": {},
   "source": [
    "<h1 style= \"font-family :Verdana; color :#004687 ; font-size: 18px\">Random Forest</h1>"
   ]
  },
  {
   "cell_type": "code",
   "execution_count": null,
   "id": "c6e00b19-3200-4a16-b1df-682da8384cab",
   "metadata": {},
   "outputs": [],
   "source": [
    "# Initialize the model\n",
    "\n",
    "RFmodel = RandomForestRegressor(n_estimators = 100, max_depth = 4, random_state = 0) "
   ]
  },
  {
   "cell_type": "code",
   "execution_count": null,
   "id": "c060aeba-bc52-48ba-89c4-9bb5b066e427",
   "metadata": {},
   "outputs": [],
   "source": [
    "# Fit model to the training data\n",
    "\n",
    "RFmodel.fit(X_train, Y_train)"
   ]
  },
  {
   "cell_type": "code",
   "execution_count": null,
   "id": "24c1bba5-bffb-4b5e-9cb0-6875a8a4a287",
   "metadata": {},
   "outputs": [],
   "source": [
    "# Make predictions on the test data\n",
    "\n",
    "RF_predicted = RFmodel.predict(X_test)"
   ]
  },
  {
   "cell_type": "code",
   "execution_count": null,
   "id": "772f2af7-f04f-41a2-b906-5d07f98e5edb",
   "metadata": {},
   "outputs": [],
   "source": [
    "# Evaluate  the model\n",
    "\n",
    "# r2 score\n",
    "rf_r2 = r2_score(Y_test, RF_predicted).round(3)\n",
    "print('R2 score:  ', rf_r2)\n",
    "\n",
    "# root mean squared error (RMSE)\n",
    "rf_rmse = np.sqrt(mean_squared_error(Y_test, RF_predicted)).round(3)\n",
    "print('Root Mean Squared Error:  ', rf_rmse) \n",
    "\n",
    "# mean absolute error (MAE)\n",
    "rf_mae = mean_absolute_error(Y_test, RF_predicted).round(3)\n",
    "print('Mean Absolute Error:  ', rf_mae)\n"
   ]
  },
  {
   "cell_type": "markdown",
   "id": "0a1cd90b-a6ba-42ad-88ea-1b7dfa078c81",
   "metadata": {},
   "source": [
    "<h1 style= \"font-family :Verdana; color :#004687 ; font-size: 18px\">Support Vector Machine</h1>"
   ]
  },
  {
   "cell_type": "code",
   "execution_count": null,
   "id": "4312f481-a991-4481-bf3d-4f96dc250ebf",
   "metadata": {},
   "outputs": [],
   "source": [
    "# Initialize the model\n",
    "\n",
    "SVmodel = SVR() "
   ]
  },
  {
   "cell_type": "code",
   "execution_count": null,
   "id": "7fde0196-0045-4524-9abf-cb12fe3ac4fa",
   "metadata": {},
   "outputs": [],
   "source": [
    "# Fit model to the training data\n",
    "\n",
    "SVmodel.fit(X_train, Y_train) "
   ]
  },
  {
   "cell_type": "code",
   "execution_count": null,
   "id": "e2680b46-118f-43fa-bf90-7700e8b7a68c",
   "metadata": {},
   "outputs": [],
   "source": [
    "# Make predictions on the test data\n",
    "\n",
    "SV_predicted = SVmodel.predict(X_test) "
   ]
  },
  {
   "cell_type": "code",
   "execution_count": null,
   "id": "20420ae5-3faf-4f8f-ad1c-6db759d9ca8d",
   "metadata": {},
   "outputs": [],
   "source": [
    "# Evaluate  the model\n",
    "\n",
    "# r2 score\n",
    "sv_r2 = r2_score(Y_test, SV_predicted).round(3)\n",
    "print('R2 score:  ', sv_r2)\n",
    "\n",
    "# root mean squared error (RMSE)\n",
    "sv_rmse = np.sqrt(mean_squared_error(Y_test, SV_predicted)).round(3)\n",
    "print('Root Mean Squared Error:  ', sv_rmse) \n",
    "\n",
    "# mean absolute error (MAE)\n",
    "sv_mae = mean_absolute_error(Y_test, SV_predicted).round(3)\n",
    "print('Mean Absolute Error:  ', sv_mae)"
   ]
  },
  {
   "cell_type": "markdown",
   "id": "fcad5c8e-67ab-48f7-ad9d-99d3b6e9c4ae",
   "metadata": {},
   "source": [
    "<h1 style= \"font-family :Verdana; color :#004687 ; font-size: 18px\">Gradient Boosting</h1>"
   ]
  },
  {
   "cell_type": "code",
   "execution_count": null,
   "id": "63ff9d00-e8cd-4d6a-a441-f2b0b939730d",
   "metadata": {},
   "outputs": [],
   "source": [
    "# Initialize the model\n",
    "\n",
    "GBmodel = GradientBoostingRegressor()"
   ]
  },
  {
   "cell_type": "code",
   "execution_count": null,
   "id": "2301cb97-e0c5-4343-b0f1-61e77d991695",
   "metadata": {},
   "outputs": [],
   "source": [
    "# Fit model to the training data\n",
    "\n",
    "GBmodel.fit(X_train,Y_train)"
   ]
  },
  {
   "cell_type": "code",
   "execution_count": null,
   "id": "01a99516-2130-44cd-88d7-0ca161e8f657",
   "metadata": {},
   "outputs": [],
   "source": [
    "# Make predictions on the test data\n",
    "\n",
    "GB_predicted = GBmodel.predict(X_test)"
   ]
  },
  {
   "cell_type": "code",
   "execution_count": null,
   "id": "4aa9934c-c034-4cca-8cd7-cb73030c67f8",
   "metadata": {},
   "outputs": [],
   "source": [
    "# Evaluate  the model\n",
    "\n",
    "# r2 score\n",
    "gb_r2 = r2_score(Y_test, GB_predicted).round(3)\n",
    "print('R2 score:  ', gb_r2)\n",
    "\n",
    "# root mean squared error (RMSE)\n",
    "gb_rmse = np.sqrt(mean_squared_error(Y_test, GB_predicted)).round(3)\n",
    "print('Root Mean Squared Error:  ', gb_rmse) \n",
    "\n",
    "# mean absolute error (MAE)\n",
    "gb_mae = mean_absolute_error(Y_test, GB_predicted).round(3)\n",
    "print('Mean Absolute Error:  ', gb_mae)"
   ]
  },
  {
   "cell_type": "markdown",
   "id": "c90b4bba-dc8c-417d-9147-82e8675194ea",
   "metadata": {},
   "source": [
    "<h1 style= \"font-family :Verdana; color :#004687 ; font-size: 15px\"> Actual vs Predicted Values</h1>"
   ]
  },
  {
   "cell_type": "code",
   "execution_count": null,
   "id": "a4e82f4a-39b6-4d1b-ae0c-98013c6cc6e1",
   "metadata": {},
   "outputs": [],
   "source": [
    "plt.figure(figsize=(12, 12))\n",
    "\n",
    "\n",
    "# linear regression\n",
    "\n",
    "ax1 = plt.subplot2grid((2, 3), (0, 0))\n",
    "plt.scatter(Y_test, LR_predicted, color='#ffdab9', alpha=0.3, label='Actual')\n",
    "plt.plot([min(Y_test), max(Y_test)], [min(Y_test), max(Y_test)], linestyle='--', color='#2f4f4f', label='Predicted')\n",
    "plt.title('Linear Regression')\n",
    "plt.xlabel('Actual Values')\n",
    "plt.ylabel('Predicted Values')\n",
    "plt.legend()\n",
    "\n",
    "# decision tree\n",
    "\n",
    "ax1 = plt.subplot2grid((2, 3), (0, 1))\n",
    "plt.scatter(Y_test, DT_predicted, color='#ffdab9', alpha=0.3)\n",
    "plt.plot([min(Y_test), max(Y_test)], [min(Y_test), max(Y_test)], linestyle='--', color='#2f4f4f')\n",
    "plt.title('Decision Tree')\n",
    "plt.xlabel('Actual Values')\n",
    "plt.ylabel('Predicted Values')\n",
    "\n",
    "# random forest\n",
    "\n",
    "ax1 = plt.subplot2grid((2, 3), (0, 2))\n",
    "plt.scatter(Y_test, RF_predicted, color='#ffdab9', alpha=0.3)\n",
    "plt.plot([min(Y_test), max(Y_test)], [min(Y_test), max(Y_test)], linestyle='--', color='#2f4f4f')\n",
    "plt.title('Random Forest')\n",
    "plt.xlabel('Actual Values')\n",
    "plt.ylabel('Predicted Values')\n",
    "\n",
    "# svm\n",
    "\n",
    "ax1 = plt.subplot2grid((2, 3), (1, 0))\n",
    "plt.scatter(Y_test, SV_predicted, color='#ffdab9', alpha=0.3, label='Actual')  # alpha controls point transparency for better visualization\n",
    "plt.plot([min(Y_test), max(Y_test)], [min(Y_test), max(Y_test)], linestyle='--', color='#2f4f4f', label='Predicted')\n",
    "plt.title('SVM')\n",
    "plt.xlabel('Actual Values')\n",
    "plt.ylabel('Predicted Values')\n",
    "plt.legend()\n",
    "\n",
    "# gb\n",
    "\n",
    "ax1 = plt.subplot2grid((2, 3), (1, 1))\n",
    "plt.scatter(Y_test, GB_predicted, color='#ffdab9', alpha=0.3)  # alpha controls point transparency for better visualization\n",
    "plt.plot([min(Y_test), max(Y_test)], [min(Y_test), max(Y_test)], linestyle='--',color='#2f4f4f')\n",
    "plt.title('Gradient Boosting')\n",
    "plt.xlabel('Actual Values')\n",
    "plt.ylabel('Predicted Values')\n",
    "\n",
    "plt.show()"
   ]
  },
  {
   "cell_type": "markdown",
   "id": "60bd51b3-e90f-4350-8d59-aa442bf48dd5",
   "metadata": {},
   "source": [
    "<h1 style= \"font-family :Verdana; color :#004687 ; font-size: 15px\"> Metrics Table Evaluation</h1>"
   ]
  },
  {
   "cell_type": "code",
   "execution_count": null,
   "id": "80f2dd56-ac75-42f8-9300-0557a66108c8",
   "metadata": {},
   "outputs": [],
   "source": [
    "Metrics = pd.DataFrame({'Model':('Linear Regression', 'Decision Tree', 'Random Forest', 'SVM', 'Gradient Boosting'),\n",
    "                       'R2 Score': (lr_r2, dt_r2, rf_r2, sv_r2, gb_r2),\n",
    "                       'Root Mean Squared Error': (lr_rmse, dt_rmse, rf_rmse, sv_rmse, gb_rmse),\n",
    "                       'Mean Absolute Error': (lr_mae, dt_mae, rf_mae, sv_mae, gb_mae),\n",
    "                      })\n",
    "Metrics"
   ]
  }
 ],
 "metadata": {
  "kernelspec": {
   "display_name": "Python 3",
   "language": "python",
   "name": "python3"
  },
  "language_info": {
   "codemirror_mode": {
    "name": "ipython",
    "version": 3
   },
   "file_extension": ".py",
   "mimetype": "text/x-python",
   "name": "python",
   "nbconvert_exporter": "python",
   "pygments_lexer": "ipython3",
   "version": "3.8.19"
  }
 },
 "nbformat": 4,
 "nbformat_minor": 5
}
