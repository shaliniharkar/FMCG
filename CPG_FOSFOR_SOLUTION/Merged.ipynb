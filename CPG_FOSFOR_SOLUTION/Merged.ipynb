{
 "cells": [
  {
   "cell_type": "code",
   "execution_count": 1,
   "id": "c664fabd",
   "metadata": {},
   "outputs": [
    {
     "name": "stdout",
     "output_type": "stream",
     "text": [
      "\u001b[33mWARNING: The directory '/home/mosaic-ai/.cache/pip/http' or its parent directory is not owned by the current user and the cache has been disabled. Please check the permissions and owner of that directory. If executing pip with sudo, you may want sudo's -H flag.\u001b[0m\n",
      "\u001b[33mWARNING: The directory '/home/mosaic-ai/.cache/pip' or its parent directory is not owned by the current user and caching wheels has been disabled. check the permissions and owner of that directory. If executing pip with sudo, you may want sudo's -H flag.\u001b[0m\n",
      "Collecting scikit-learn\n",
      "\u001b[?25l  Downloading https://files.pythonhosted.org/packages/3f/48/6fdd99f5717045f9984616b5c2ec683d6286d30c0ac234563062132b83ab/scikit_learn-1.3.2-cp38-cp38-manylinux_2_17_x86_64.manylinux2014_x86_64.whl (11.1MB)\n",
      "\u001b[K     |████████████████████████████████| 11.1MB 4.1MB/s eta 0:00:01\n",
      "\u001b[?25hCollecting threadpoolctl>=2.0.0\n",
      "  Downloading https://files.pythonhosted.org/packages/4b/2c/ffbf7a134b9ab11a67b0cf0726453cedd9c5043a4fe7a35d1cefa9a1bcfb/threadpoolctl-3.5.0-py3-none-any.whl\n",
      "Collecting scipy>=1.5.0\n",
      "\u001b[?25l  Downloading https://files.pythonhosted.org/packages/69/f0/fb07a9548e48b687b8bf2fa81d71aba9cfc548d365046ca1c791e24db99d/scipy-1.10.1-cp38-cp38-manylinux_2_17_x86_64.manylinux2014_x86_64.whl (34.5MB)\n",
      "\u001b[K     |████████████████████████████████| 34.5MB 73.3MB/s eta 0:00:01\n",
      "\u001b[?25hCollecting numpy<2.0,>=1.17.3\n",
      "\u001b[?25l  Downloading https://files.pythonhosted.org/packages/98/5d/5738903efe0ecb73e51eb44feafba32bdba2081263d40c5043568ff60faf/numpy-1.24.4-cp38-cp38-manylinux_2_17_x86_64.manylinux2014_x86_64.whl (17.3MB)\n",
      "\u001b[K     |████████████████████████████████| 17.3MB 78.8MB/s eta 0:00:01\n",
      "\u001b[?25hCollecting joblib>=1.1.1\n",
      "\u001b[?25l  Downloading https://files.pythonhosted.org/packages/91/29/df4b9b42f2be0b623cbd5e2140cafcaa2bef0759a00b7b70104dcfe2fb51/joblib-1.4.2-py3-none-any.whl (301kB)\n",
      "\u001b[K     |████████████████████████████████| 307kB 84.9MB/s eta 0:00:01\n",
      "\u001b[31mERROR: mlflow 2.10.0 has requirement pytz<2024, but you'll have pytz 2024.1 which is incompatible.\u001b[0m\n",
      "\u001b[31mERROR: fosforio 1.0.1 has requirement pandas==2.0.0, but you'll have pandas 2.0.3 which is incompatible.\u001b[0m\n",
      "\u001b[31mERROR: snowflake-ml-python 1.0.1 has requirement pandas<2,>=1.0.0, but you'll have pandas 2.0.3 which is incompatible.\u001b[0m\n",
      "\u001b[31mERROR: snowflake-ml-python 1.0.1 has requirement snowflake-snowpark-python<2,>=1.4.0, but you'll have snowflake-snowpark-python 1.0.0 which is incompatible.\u001b[0m\n",
      "\u001b[31mERROR: snowflake-ml-python 1.0.1 has requirement xgboost<2,>=1.7.3, but you'll have xgboost 2.0.3 which is incompatible.\u001b[0m\n",
      "\u001b[31mERROR: mosaic-ai-serving 1.0.0 has requirement Flask==2.1.1; python_version >= \"3.7\", but you'll have flask 3.0.3 which is incompatible.\u001b[0m\n",
      "\u001b[31mERROR: mosaic-ai-serving 1.0.0 has requirement itsdangerous==2.0.1, but you'll have itsdangerous 2.2.0 which is incompatible.\u001b[0m\n",
      "\u001b[31mERROR: mosaic-ai-serving 1.0.0 has requirement Jinja2==3.0.3, but you'll have jinja2 3.1.4 which is incompatible.\u001b[0m\n",
      "\u001b[31mERROR: mosaic-ai-serving 1.0.0 has requirement matplotlib==3.6.0; python_version >= \"3.8\", but you'll have matplotlib 3.7.5 which is incompatible.\u001b[0m\n",
      "\u001b[31mERROR: mosaic-ai-client 1.0.0 has requirement matplotlib==3.1.1, but you'll have matplotlib 3.7.5 which is incompatible.\u001b[0m\n",
      "\u001b[?25hInstalling collected packages: threadpoolctl, numpy, scipy, joblib, scikit-learn\n",
      "Successfully installed joblib-1.4.2 numpy-1.24.4 scikit-learn-1.3.2 scipy-1.10.1 threadpoolctl-3.5.0\n",
      "\u001b[33mWARNING: You are using pip version 19.3.1; however, version 24.1.2 is available.\n",
      "You should consider upgrading via the 'pip install --upgrade pip' command.\u001b[0m\n"
     ]
    }
   ],
   "source": [
    "!pip install -U scikit-learn "
   ]
  },
  {
   "cell_type": "code",
   "execution_count": null,
   "id": "3f09fb43",
   "metadata": {},
   "outputs": [],
   "source": [
    "import time\n",
    "from snowflake.snowpark.session import Session\n",
    "import configparser\n",
    " \n",
    "import warnings\n",
    "warnings.filterwarnings(\"ignore\")\n",
    " \n",
    "config = configparser.ConfigParser()\n",
    "config.read(\"snowflake_connection.ini\")\n",
    " \n",
    "connection_parameters = {\n",
    "    \"user\": f'{config[\"Snowflake\"][\"user\"]}',\n",
    "    \"password\": f'{config[\"Snowflake\"][\"password\"]}',\n",
    "    \"account\": f'{config[\"Snowflake\"][\"account\"]}',\n",
    "    \"WAREHOUSE\": f'{config[\"Snowflake\"][\"WAREHOUSE\"]}',\n",
    "    \"DATABASE\": f'{config[\"Snowflake\"][\"DATABASE\"]}',\n",
    "    \"SCHEMA\": f'{config[\"Snowflake\"][\"SCHEMA\"]}'\n",
    "}\n",
    " \n",
    "def snowflake_connector(conn):\n",
    "    try:\n",
    "        session = Session.builder.configs(conn).create()\n",
    "        print(\"connection successful!\")\n",
    "    except:\n",
    "        raise ValueError(\"error while connecting with db\")\n",
    "    return session\n",
    " \n",
    "session = snowflake_connector(connection_parameters)"
   ]
  },
  {
   "cell_type": "code",
   "execution_count": null,
   "id": "e0a30854",
   "metadata": {},
   "outputs": [],
   "source": [
    "df_or = session.table(\"CPG_DATA_ORIGINAL\").to_pandas()\n",
    "df_test_or = session.table(\"CPG_DATA_ORIGINAL\").to_pandas()"
   ]
  },
  {
   "cell_type": "code",
   "execution_count": null,
   "id": "27e6b96a",
   "metadata": {},
   "outputs": [],
   "source": [
    "df_or"
   ]
  },
  {
   "cell_type": "code",
   "execution_count": null,
   "id": "bfc39a6a",
   "metadata": {},
   "outputs": [],
   "source": [
    "\n",
    "df_date = df_or[[\"Date\",\"Location_type\"]]\n",
    "df_date\n",
    "\n",
    "df_date = df_date.iloc[:100, :]\n",
    "df_date"
   ]
  },
  {
   "cell_type": "code",
   "execution_count": null,
   "id": "37bf3d0b",
   "metadata": {},
   "outputs": [],
   "source": [
    "#df_or100 = df_or.iloc[:100, :]\n",
    "#df_or100\n",
    "#df_test_or = session.table(\"CPG_DATA_ORIGINAL\").to_pandas()\n",
    "\n",
    "#df_or100= df_or100.reset_index()\n",
    "#df_or100"
   ]
  },
  {
   "cell_type": "code",
   "execution_count": null,
   "id": "469feb00",
   "metadata": {},
   "outputs": [],
   "source": [
    "#df_or\n",
    "#df_test_or= df_test_or.reset_index()\n",
    "#df_test_or.head()\n",
    "#df_or\n",
    "#df_test_or"
   ]
  },
  {
   "cell_type": "code",
   "execution_count": null,
   "id": "272df73b",
   "metadata": {},
   "outputs": [],
   "source": []
  },
  {
   "cell_type": "code",
   "execution_count": null,
   "id": "e0a07299",
   "metadata": {},
   "outputs": [],
   "source": [
    "import pandas as pd\n",
    "import numpy as np\n",
    "import sklearn \n",
    "\n",
    "#import matplotlib.pyplot as plt\n",
    "#%matplotlib inline\n",
    "#import seaborn as sns\n",
    "\n",
    "\n",
    "from sklearn.preprocessing import LabelEncoder, StandardScaler\n",
    "\n",
    "from sklearn.linear_model import LinearRegression\n",
    "from sklearn.tree import DecisionTreeRegressor\n",
    "from sklearn.ensemble import RandomForestRegressor, GradientBoostingRegressor\n",
    "from sklearn.svm import SVR\n",
    "\n",
    "from sklearn.metrics import mean_squared_error, r2_score, mean_absolute_error\n",
    "import warnings\n",
    "warnings.simplefilter(action='ignore')"
   ]
  },
  {
   "cell_type": "code",
   "execution_count": null,
   "id": "a946d326",
   "metadata": {},
   "outputs": [],
   "source": [
    "# train dataset\n",
    "#df = pd.read_csv(\"1.FMCG_data_original.csv\")\n",
    "\n",
    "# test dataset\n",
    "#df_test = pd.read_csv(\"1.FMCG_data_original.csv\")"
   ]
  },
  {
   "cell_type": "code",
   "execution_count": null,
   "id": "c0186c2f",
   "metadata": {},
   "outputs": [],
   "source": [
    "df_or.nunique().sort_values(ascending=False)"
   ]
  },
  {
   "cell_type": "code",
   "execution_count": null,
   "id": "f350b4ab",
   "metadata": {},
   "outputs": [],
   "source": [
    "\n",
    "df_or\n"
   ]
  },
  {
   "cell_type": "code",
   "execution_count": null,
   "id": "798728d2",
   "metadata": {},
   "outputs": [],
   "source": [
    "df_or.drop(columns=['Ware_house_ID','WH_Manager_ID','Date'], inplace = True)\n",
    "df_or['workers_num'].median()\n",
    "df_or['approved_wh_govt_certificate'].mode()\n",
    "df_or['approved_wh_govt_certificate'].fillna(df_or['approved_wh_govt_certificate'].mode()[0], inplace=True)\n",
    "df_or.isnull().sum()\n",
    "df_or.nunique().sort_values(ascending= True)"
   ]
  },
  {
   "cell_type": "code",
   "execution_count": null,
   "id": "338f5f71",
   "metadata": {},
   "outputs": [],
   "source": [
    "for i in df_or.columns[df_or.nunique()<=4]:\n",
    "    print(\"Number of unique values in column \", i, ' :', len(df_or[i].unique()))\n",
    "    print(df_or[i].value_counts())\n",
    "    print(' ')"
   ]
  },
  {
   "cell_type": "code",
   "execution_count": null,
   "id": "e620a48f",
   "metadata": {},
   "outputs": [],
   "source": [
    "def count_outliers(df_or):\n",
    "    outliers={}\n",
    "    for i in df_or.columns:\n",
    "        if pd.api.types.is_numeric_dtype(df_or[i]):\n",
    "            q1 = df_or[i].quantile(0.25)\n",
    "            q3 = df_or[i].quantile(0.75)\n",
    "            iqr = q3 - q1\n",
    "            lower = q1 - 1.5*iqr\n",
    "            upper = q3 + 1.5*iqr\n",
    "            outliers[i] = df_or[(df_or[i] < lower) | (df_or[i] > upper)].shape[0]\n",
    "        else:\n",
    "            pass\n",
    "    return outliers"
   ]
  },
  {
   "cell_type": "code",
   "execution_count": null,
   "id": "2a283585",
   "metadata": {},
   "outputs": [],
   "source": [
    "outlier_counts = count_outliers(df_or)\n",
    "outlier_counts"
   ]
  },
  {
   "cell_type": "code",
   "execution_count": null,
   "id": "82bed5de",
   "metadata": {},
   "outputs": [],
   "source": [
    "df_or['product_wg_ton'].corr(df_or['flood_proof'])\n",
    "df_or['product_wg_ton'].corr(df_or['flood_impacted'])\n",
    "df_or.drop(columns=['flood_proof', 'flood_impacted'], inplace = True)"
   ]
  },
  {
   "cell_type": "code",
   "execution_count": null,
   "id": "284e1d60",
   "metadata": {},
   "outputs": [],
   "source": [
    "def remove_outliers(df_or):\n",
    "    num_df = df_or.select_dtypes(include=['int', 'float'])\n",
    "    q1 = num_df.quantile(0.25)\n",
    "    q3 = num_df.quantile(0.75)\n",
    "    iqr = q3 - q1\n",
    "    lower = q1 - 1.5*iqr\n",
    "    upper = q3 + 1.5*iqr\n",
    "    df_no_outliers = num_df[((num_df >= lower) & (num_df <= upper)).all(axis=1)]\n",
    "    return df_or.loc[df_no_outliers.index]"
   ]
  },
  {
   "cell_type": "code",
   "execution_count": null,
   "id": "3160ac5d",
   "metadata": {},
   "outputs": [],
   "source": [
    "df_or = remove_outliers(df_or)\n",
    "df_or.shape"
   ]
  },
  {
   "cell_type": "code",
   "execution_count": null,
   "id": "d203d977",
   "metadata": {},
   "outputs": [],
   "source": [
    "df_or"
   ]
  },
  {
   "cell_type": "code",
   "execution_count": null,
   "id": "2c666c9d",
   "metadata": {},
   "outputs": [],
   "source": [
    "df_test_or.nunique().sort_values(ascending=False)"
   ]
  },
  {
   "cell_type": "code",
   "execution_count": null,
   "id": "ee62f0fa",
   "metadata": {},
   "outputs": [],
   "source": [
    "df_test_or.drop(columns=['Ware_house_ID', 'WH_Manager_ID','Date'], inplace = True)\n",
    "print(len(df_test_or[df_test_or.duplicated]))"
   ]
  },
  {
   "cell_type": "code",
   "execution_count": null,
   "id": "a0a3e51a",
   "metadata": {},
   "outputs": [],
   "source": [
    "df_test_or"
   ]
  },
  {
   "cell_type": "code",
   "execution_count": null,
   "id": "252cc2b5",
   "metadata": {},
   "outputs": [],
   "source": [
    "# print percentage of null values in each column\n",
    "\n",
    "null_values_features = [i for i in df_test_or.columns if df_test_or[i].isnull().sum()>1]\n",
    "for i in null_values_features:\n",
    "    print(i, np.round(df_test_or[i].isnull().mean()*100, 2), \"% missing values\")"
   ]
  },
  {
   "cell_type": "code",
   "execution_count": null,
   "id": "9cedeb1c",
   "metadata": {},
   "outputs": [],
   "source": [
    "df_test_or.drop(columns=['wh_est_year'], inplace = True)\n",
    "df_test_or['workers_num'].median()\n",
    "df_test_or['workers_num'].fillna(df_test_or['workers_num'].median(), inplace=True)\n",
    "df_test_or['approved_wh_govt_certificate'].mode()\n",
    "df_test_or['approved_wh_govt_certificate'].fillna(df_test_or['approved_wh_govt_certificate'].mode()[0], inplace=True)\n",
    "df_test_or.isnull().sum()\n",
    "df_test_or.nunique().sort_values(ascending= True)"
   ]
  },
  {
   "cell_type": "code",
   "execution_count": null,
   "id": "a02a3685",
   "metadata": {},
   "outputs": [],
   "source": [
    "for i in df_test_or.columns[df_test_or.nunique()<=4]:\n",
    "    print(\"Number of unique values in column \", i, ' :', len(df_test_or[i].unique()))\n",
    "    print(df_test_or[i].value_counts())\n",
    "    print(' ')"
   ]
  },
  {
   "cell_type": "code",
   "execution_count": null,
   "id": "1c2bb460",
   "metadata": {},
   "outputs": [],
   "source": [
    "df_test_or['product_wg_ton'].corr(df_test_or['storage_issue_reported'])"
   ]
  },
  {
   "cell_type": "code",
   "execution_count": null,
   "id": "cc5a94ff",
   "metadata": {},
   "outputs": [],
   "source": [
    "df_test_or.drop(columns=['flood_proof', 'flood_impacted'], inplace = True)"
   ]
  },
  {
   "cell_type": "code",
   "execution_count": null,
   "id": "51eca58d",
   "metadata": {},
   "outputs": [],
   "source": [
    "def remove_outliers(df_test_or):\n",
    "    num_df = df_test_or.select_dtypes(include=['int', 'float'])\n",
    "    q1 = num_df.quantile(0.25)\n",
    "    q3 = num_df.quantile(0.75)\n",
    "    iqr = q3 - q1\n",
    "    lower = q1 - 1.5*iqr\n",
    "    upper = q3 + 1.5*iqr\n",
    "    df_no_outliers = num_df[((num_df >= lower) & (num_df <= upper)).all(axis=1)]\n",
    "    return df_test_or.loc[df_no_outliers.index]"
   ]
  },
  {
   "cell_type": "code",
   "execution_count": null,
   "id": "19d7c79b",
   "metadata": {},
   "outputs": [],
   "source": [
    "df_test_or = remove_outliers(df_test_or)\n",
    "df_test_or"
   ]
  },
  {
   "cell_type": "code",
   "execution_count": null,
   "id": "c642be2c",
   "metadata": {},
   "outputs": [],
   "source": [
    "#df_or_dt = df_or[['Date']].astype(str)\n",
    "#df_or_dt.head()\n",
    "\n",
    "\n",
    "#df_or_dt\n"
   ]
  },
  {
   "cell_type": "code",
   "execution_count": null,
   "id": "e007ce30",
   "metadata": {},
   "outputs": [],
   "source": [
    "#df_test_or_dt = df_test_or[['Date']].astype(str)\n",
    "#df_test_or_dt.head()"
   ]
  },
  {
   "cell_type": "code",
   "execution_count": null,
   "id": "0f5b837b",
   "metadata": {},
   "outputs": [],
   "source": [
    "# df_or_dt - only date column\n",
    "\n",
    "# df_or1 - all columns except date column \n",
    "\n",
    "# df_test_or_dt - only date column\n",
    "\n",
    "# df_test_or1 - all columns except date column"
   ]
  },
  {
   "cell_type": "code",
   "execution_count": null,
   "id": "d096e891",
   "metadata": {},
   "outputs": [],
   "source": [
    "#df_or1 = df_or.drop(['Date'], axis=1)\n",
    "#df_or1.head()"
   ]
  },
  {
   "cell_type": "code",
   "execution_count": null,
   "id": "5162c212",
   "metadata": {},
   "outputs": [],
   "source": [
    "#df_test_or1 = df_test_or.drop(['Date'], axis=1)\n",
    "#df_test_or1.head()"
   ]
  },
  {
   "cell_type": "code",
   "execution_count": null,
   "id": "347fcac5",
   "metadata": {},
   "outputs": [],
   "source": [
    "# Numerical columns & categorical columns in train dataset\n",
    "\n",
    "num_columns_train=[i for i in df_or.columns if df_or[i].dtypes != 'O']\n",
    "cat_columns_train=[i for i in df_or.columns if df_or[i].dtypes == 'O']\n",
    "\n",
    "# Numerical columns & categorical columns in test dataset\n",
    "\n",
    "num_columns_test=[i for i in df_test_or.columns if df_test_or[i].dtypes != 'O']\n",
    "cat_columns_test=[i for i in df_test_or.columns if df_test_or[i].dtypes == 'O']"
   ]
  },
  {
   "cell_type": "code",
   "execution_count": null,
   "id": "086cfc3a",
   "metadata": {},
   "outputs": [],
   "source": []
  },
  {
   "cell_type": "code",
   "execution_count": null,
   "id": "fa4d2fc8",
   "metadata": {},
   "outputs": [],
   "source": [
    "for i in cat_columns_train:\n",
    "    df_or[i] = LabelEncoder().fit_transform(df_or[i])\n",
    "\n",
    "for i in cat_columns_test:\n",
    "    df_test_or[i] = LabelEncoder().fit_transform(df_test_or[i])"
   ]
  },
  {
   "cell_type": "code",
   "execution_count": null,
   "id": "86fd9119",
   "metadata": {},
   "outputs": [],
   "source": [
    "# display number of unique values in each column\n",
    "df_or.nunique().sort_values(ascending=False)"
   ]
  },
  {
   "cell_type": "code",
   "execution_count": null,
   "id": "917107b1",
   "metadata": {},
   "outputs": [],
   "source": [
    "columns_with_more_than_two_unique_values_train = df_or.columns[ df_or.nunique()>2]"
   ]
  },
  {
   "cell_type": "code",
   "execution_count": null,
   "id": "c61d9243",
   "metadata": {},
   "outputs": [],
   "source": [
    "columns_with_more_than_two_unique_values_test = df_test_or.columns[df_test_or.nunique()>2]"
   ]
  },
  {
   "cell_type": "code",
   "execution_count": null,
   "id": "ba75ad06",
   "metadata": {},
   "outputs": [],
   "source": []
  },
  {
   "cell_type": "code",
   "execution_count": null,
   "id": "3b024990",
   "metadata": {},
   "outputs": [],
   "source": []
  },
  {
   "cell_type": "code",
   "execution_count": null,
   "id": "60e699e9",
   "metadata": {},
   "outputs": [],
   "source": []
  },
  {
   "cell_type": "code",
   "execution_count": null,
   "id": "a64ed333",
   "metadata": {},
   "outputs": [],
   "source": [
    "# df_or_dt - only date column\n",
    "\n",
    "# df_or1 - all columns except date column \n",
    "\n",
    "# df_test_or_dt - only date column\n",
    "\n",
    "# df_test_or1 - all columns except date column"
   ]
  },
  {
   "cell_type": "code",
   "execution_count": null,
   "id": "d7e6b7a7",
   "metadata": {},
   "outputs": [],
   "source": []
  },
  {
   "cell_type": "code",
   "execution_count": null,
   "id": "118a405e",
   "metadata": {},
   "outputs": [],
   "source": [
    "#df_or2 = pd.concat([df_or_dt,df_or1], ignore_index=True, sort=False)\n",
    "#df_or2.head()"
   ]
  },
  {
   "cell_type": "code",
   "execution_count": null,
   "id": "56abae18",
   "metadata": {},
   "outputs": [],
   "source": [
    "df_or"
   ]
  },
  {
   "cell_type": "code",
   "execution_count": null,
   "id": "1b97a121",
   "metadata": {},
   "outputs": [],
   "source": [
    "#df['Location_type'] = df['Location_type'].replace([0,1])\n",
    "#df"
   ]
  },
  {
   "cell_type": "code",
   "execution_count": null,
   "id": "803b2091",
   "metadata": {},
   "outputs": [],
   "source": [
    "X_train = df_or.drop(['product_wg_ton','wh_est_year', 'WH_regional_zone'], axis=1)\n",
    "Y_train = df_or['product_wg_ton']"
   ]
  },
  {
   "cell_type": "code",
   "execution_count": null,
   "id": "2a871adc",
   "metadata": {},
   "outputs": [],
   "source": [
    "X_train.columns"
   ]
  },
  {
   "cell_type": "code",
   "execution_count": null,
   "id": "4d156767",
   "metadata": {},
   "outputs": [],
   "source": [
    "# df_or_dt - only date column\n",
    "\n",
    "# df_or1 - all columns except date column \n",
    "\n",
    "# df_test_or_dt - only date column\n",
    "\n",
    "# df_test_or1 - all columns except date column"
   ]
  },
  {
   "cell_type": "code",
   "execution_count": null,
   "id": "d709fbfc",
   "metadata": {},
   "outputs": [],
   "source": [
    "#df_test_or2 = pd.concat([df_test_or_dt,df_test_or1], ignore_index=True, sort=False)"
   ]
  },
  {
   "cell_type": "code",
   "execution_count": null,
   "id": "335c8eaf",
   "metadata": {},
   "outputs": [],
   "source": [
    "#df_test_or2.head()"
   ]
  },
  {
   "cell_type": "code",
   "execution_count": null,
   "id": "0646a78c",
   "metadata": {},
   "outputs": [],
   "source": [
    "df_test_or"
   ]
  },
  {
   "cell_type": "code",
   "execution_count": null,
   "id": "c7c40c88",
   "metadata": {},
   "outputs": [],
   "source": [
    "X_test = df_test_or.drop(['product_wg_ton','WH_regional_zone'], axis=1)\n",
    "X_test.head()"
   ]
  },
  {
   "cell_type": "code",
   "execution_count": null,
   "id": "7b480a90",
   "metadata": {},
   "outputs": [],
   "source": [
    "X_test.columns"
   ]
  },
  {
   "cell_type": "code",
   "execution_count": null,
   "id": "8c94e3c3",
   "metadata": {},
   "outputs": [],
   "source": []
  },
  {
   "cell_type": "code",
   "execution_count": null,
   "id": "1b94a790",
   "metadata": {},
   "outputs": [],
   "source": [
    "X_test = X_test.iloc[:500, :]\n",
    "X_test.columns"
   ]
  },
  {
   "cell_type": "code",
   "execution_count": null,
   "id": "8e9dabd2",
   "metadata": {},
   "outputs": [],
   "source": [
    "#Linear Regression\n",
    "LRmodel = LinearRegression()"
   ]
  },
  {
   "cell_type": "code",
   "execution_count": null,
   "id": "651d3d69",
   "metadata": {},
   "outputs": [],
   "source": [
    "LRmodel.fit(X_train, Y_train)"
   ]
  },
  {
   "cell_type": "code",
   "execution_count": null,
   "id": "babc154e",
   "metadata": {},
   "outputs": [],
   "source": [
    "LRmodel.fit(X_train, Y_train)\n",
    "\n",
    "LR_y_predicted = LRmodel.predict(X_test)\n",
    "LR_y_predicted\n"
   ]
  },
  {
   "cell_type": "code",
   "execution_count": null,
   "id": "abcdca7c",
   "metadata": {},
   "outputs": [],
   "source": [
    "predictions_location_nochange = pd.DataFrame(LR_y_predicted, columns =['product_wg_ton_pred_location_nochange']) \n",
    "predictions_location_nochange"
   ]
  },
  {
   "cell_type": "code",
   "execution_count": null,
   "id": "6a5f5293",
   "metadata": {},
   "outputs": [],
   "source": [
    "df_location = df_or[[\"Location_type\"]]\n",
    "df_location\n",
    "\n",
    "df_location = df_location.iloc[:100, :]\n",
    "df_location"
   ]
  },
  {
   "cell_type": "code",
   "execution_count": null,
   "id": "5f8dc6ae",
   "metadata": {},
   "outputs": [],
   "source": []
  },
  {
   "cell_type": "code",
   "execution_count": null,
   "id": "1e45f86a",
   "metadata": {},
   "outputs": [],
   "source": [
    "ch = predictions_location_nochange.iloc[:500, :]\n",
    "ch"
   ]
  },
  {
   "cell_type": "code",
   "execution_count": null,
   "id": "03c3fe62",
   "metadata": {},
   "outputs": [],
   "source": [
    "allcols = df_test_or.iloc[:500, :]\n",
    "allcols.isnull().sum()"
   ]
  },
  {
   "cell_type": "code",
   "execution_count": null,
   "id": "adac363b",
   "metadata": {},
   "outputs": [],
   "source": [
    "all = pd.concat([df_date, predictions_location_nochange,allcols], axis=1, join='outer')\n",
    "all.isnull().sum()\n",
    "\n",
    "all = all.dropna()\n",
    "all.isnull().sum()"
   ]
  },
  {
   "cell_type": "code",
   "execution_count": null,
   "id": "f321f0f5",
   "metadata": {},
   "outputs": [],
   "source": [
    "all"
   ]
  },
  {
   "cell_type": "code",
   "execution_count": null,
   "id": "c848b7d0",
   "metadata": {},
   "outputs": [],
   "source": [
    "df_nochange_location=session.createDataFrame(\n",
    "        all.values.tolist(),\n",
    "        schema=all.columns.tolist())\n"
   ]
  },
  {
   "cell_type": "code",
   "execution_count": null,
   "id": "60b1dc76",
   "metadata": {},
   "outputs": [],
   "source": [
    "df_nochange_location.write.mode(\"overwrite\").save_as_table(\"NOCHANGE_LOCATION_fun\")"
   ]
  },
  {
   "cell_type": "code",
   "execution_count": null,
   "id": "48646ce6",
   "metadata": {},
   "outputs": [],
   "source": []
  },
  {
   "cell_type": "code",
   "execution_count": null,
   "id": "a4d481bb",
   "metadata": {},
   "outputs": [],
   "source": []
  },
  {
   "cell_type": "code",
   "execution_count": null,
   "id": "890a5e52",
   "metadata": {},
   "outputs": [],
   "source": []
  },
  {
   "cell_type": "code",
   "execution_count": null,
   "id": "457c8501",
   "metadata": {},
   "outputs": [],
   "source": [
    "\n",
    "allcols = df_test_or.iloc[:100, :]\n",
    "allcols.isnull().sum()"
   ]
  },
  {
   "cell_type": "code",
   "execution_count": null,
   "id": "90527f6c",
   "metadata": {},
   "outputs": [],
   "source": []
  },
  {
   "cell_type": "code",
   "execution_count": null,
   "id": "cc129578",
   "metadata": {},
   "outputs": [],
   "source": [
    "final_reco = pd.concat([two_cols, allcols], axis=1, join='outer')\n",
    "final_reco\n",
    "\n",
    "final_reco = final_reco.iloc[:99, :]\n",
    "final_reco"
   ]
  },
  {
   "cell_type": "code",
   "execution_count": null,
   "id": "7b6e50c2",
   "metadata": {},
   "outputs": [],
   "source": [
    "df_nochange_location=session.createDataFrame(\n",
    "        final_reco.values.tolist(),\n",
    "        schema=final_reco.columns.tolist())\n",
    "\n"
   ]
  },
  {
   "cell_type": "code",
   "execution_count": null,
   "id": "15086987",
   "metadata": {},
   "outputs": [],
   "source": []
  },
  {
   "cell_type": "code",
   "execution_count": null,
   "id": "c3650742",
   "metadata": {},
   "outputs": [],
   "source": []
  },
  {
   "cell_type": "code",
   "execution_count": null,
   "id": "ebbc2ea6",
   "metadata": {},
   "outputs": [],
   "source": [
    "final_reco = pd.merge(df_test_or,predictions_location_nochange,on='index',how='inner')"
   ]
  },
  {
   "cell_type": "code",
   "execution_count": null,
   "id": "5761e9c5",
   "metadata": {},
   "outputs": [],
   "source": []
  },
  {
   "cell_type": "code",
   "execution_count": null,
   "id": "c033dc54",
   "metadata": {},
   "outputs": [],
   "source": []
  },
  {
   "cell_type": "code",
   "execution_count": null,
   "id": "d179bc93",
   "metadata": {},
   "outputs": [],
   "source": []
  },
  {
   "cell_type": "code",
   "execution_count": null,
   "id": "de81b728",
   "metadata": {},
   "outputs": [],
   "source": [
    "df_test_or = df_test_or.iloc[:100, :]\n",
    "df_test_or.columns"
   ]
  },
  {
   "cell_type": "code",
   "execution_count": null,
   "id": "3cef280a",
   "metadata": {},
   "outputs": [],
   "source": [
    "df_test_or.isnull().sum()"
   ]
  },
  {
   "cell_type": "code",
   "execution_count": null,
   "id": "a504caca",
   "metadata": {},
   "outputs": [],
   "source": [
    "df_test_or"
   ]
  },
  {
   "cell_type": "code",
   "execution_count": null,
   "id": "f2da582e",
   "metadata": {},
   "outputs": [],
   "source": [
    "predictions_location_nochange = predictions_location_nochange.reset_index()\n",
    "predictions_location_nochange\n",
    "\n",
    "df_test_or"
   ]
  },
  {
   "cell_type": "code",
   "execution_count": null,
   "id": "a3feb4ba",
   "metadata": {},
   "outputs": [],
   "source": [
    "df_test_or = df_test_or.reset_index()\n",
    "df_test_or"
   ]
  },
  {
   "cell_type": "code",
   "execution_count": null,
   "id": "41ce6e42",
   "metadata": {},
   "outputs": [],
   "source": [
    "final_reco = pd.merge(df_test_or,predictions_location_nochange,on='index',how='inner')"
   ]
  },
  {
   "cell_type": "code",
   "execution_count": null,
   "id": "6bfe4741",
   "metadata": {},
   "outputs": [],
   "source": [
    "final_reco"
   ]
  },
  {
   "cell_type": "code",
   "execution_count": null,
   "id": "c61089e3",
   "metadata": {},
   "outputs": [],
   "source": [
    "df_nochange_location=session.createDataFrame(\n",
    "        final_reco.values.tolist(),\n",
    "        schema=final_reco.columns.tolist())\n",
    "\n",
    "df_nochange_location.write.mode(\"overwrite\").save_as_table(\"NOCHANGE_LOCATION_rev\")"
   ]
  },
  {
   "cell_type": "code",
   "execution_count": null,
   "id": "1e073038",
   "metadata": {},
   "outputs": [],
   "source": [
    "df_nochange_location.write.mode(\"overwrite\").save_as_table(\"NOCHANGE_LOCATION_rev\")"
   ]
  },
  {
   "cell_type": "code",
   "execution_count": null,
   "id": "25fe9da5",
   "metadata": {},
   "outputs": [],
   "source": []
  },
  {
   "cell_type": "code",
   "execution_count": null,
   "id": "b26c90e3",
   "metadata": {},
   "outputs": [],
   "source": []
  },
  {
   "cell_type": "code",
   "execution_count": null,
   "id": "f698bc84",
   "metadata": {},
   "outputs": [],
   "source": []
  },
  {
   "cell_type": "code",
   "execution_count": null,
   "id": "13db6990",
   "metadata": {},
   "outputs": [],
   "source": [
    "df_test_or = session.table(\"CPG_DATA_ORIGINAL\").to_pandas()\n",
    "df_test_or\n",
    "df_test_or100 = df_test_or.iloc[:100, :]\n",
    "df_test_or100"
   ]
  },
  {
   "cell_type": "code",
   "execution_count": null,
   "id": "4ccdfd42",
   "metadata": {},
   "outputs": [],
   "source": [
    "gg= pd.concat([df_test_or100, predictions_location_nochange], axis=1, join='outer')\n",
    "gg.head(100)"
   ]
  },
  {
   "cell_type": "code",
   "execution_count": null,
   "id": "604bd9b2",
   "metadata": {},
   "outputs": [],
   "source": []
  },
  {
   "cell_type": "code",
   "execution_count": null,
   "id": "d8231882",
   "metadata": {},
   "outputs": [],
   "source": []
  },
  {
   "cell_type": "code",
   "execution_count": null,
   "id": "4012daea",
   "metadata": {},
   "outputs": [],
   "source": [
    "df_nochange_location=session.createDataFrame(\n",
    "        gg.values.tolist(),\n",
    "        schema=gg.columns.tolist())"
   ]
  },
  {
   "cell_type": "code",
   "execution_count": null,
   "id": "96b57d9b",
   "metadata": {},
   "outputs": [],
   "source": [
    "df_nochange_location"
   ]
  },
  {
   "cell_type": "code",
   "execution_count": null,
   "id": "6f73726c",
   "metadata": {},
   "outputs": [],
   "source": [
    "df_nochange_location.write.mode(\"overwrite\").save_as_table(\"NOCHANGE_LOCATION\")"
   ]
  },
  {
   "cell_type": "code",
   "execution_count": null,
   "id": "72b4ad4d",
   "metadata": {},
   "outputs": [],
   "source": []
  },
  {
   "cell_type": "code",
   "execution_count": null,
   "id": "cb770d5f",
   "metadata": {},
   "outputs": [],
   "source": []
  },
  {
   "cell_type": "code",
   "execution_count": null,
   "id": "7d625126",
   "metadata": {},
   "outputs": [],
   "source": []
  },
  {
   "cell_type": "code",
   "execution_count": null,
   "id": "9d8c2233",
   "metadata": {},
   "outputs": [],
   "source": []
  },
  {
   "cell_type": "code",
   "execution_count": null,
   "id": "2c70bf6c",
   "metadata": {},
   "outputs": [],
   "source": []
  },
  {
   "cell_type": "code",
   "execution_count": null,
   "id": "78c16198",
   "metadata": {},
   "outputs": [],
   "source": [
    "predictions_location_nochange = predictions_location_nochange.reset_index()\n",
    "predictions_location_nochange"
   ]
  },
  {
   "cell_type": "code",
   "execution_count": null,
   "id": "1c43c544",
   "metadata": {},
   "outputs": [],
   "source": [
    "df_test_or = session.table(\"CPG_DATA_ORIGINAL\").to_pandas()\n",
    "df_test_or"
   ]
  },
  {
   "cell_type": "code",
   "execution_count": null,
   "id": "4fc1dd16",
   "metadata": {},
   "outputs": [],
   "source": []
  },
  {
   "cell_type": "code",
   "execution_count": null,
   "id": "ff979647",
   "metadata": {},
   "outputs": [],
   "source": [
    "df_merged = pd.concat([df_test_or, predictions_location_nochange], ignore_index=True, sort=False)"
   ]
  },
  {
   "cell_type": "code",
   "execution_count": null,
   "id": "6bfb84fa",
   "metadata": {},
   "outputs": [],
   "source": [
    "df_merged"
   ]
  },
  {
   "cell_type": "code",
   "execution_count": null,
   "id": "58bf4154",
   "metadata": {},
   "outputs": [],
   "source": []
  },
  {
   "cell_type": "code",
   "execution_count": null,
   "id": "f63b8de7",
   "metadata": {},
   "outputs": [],
   "source": []
  },
  {
   "cell_type": "code",
   "execution_count": null,
   "id": "a3e9b19d",
   "metadata": {},
   "outputs": [],
   "source": []
  },
  {
   "cell_type": "code",
   "execution_count": null,
   "id": "b3ea2d10",
   "metadata": {},
   "outputs": [],
   "source": []
  },
  {
   "cell_type": "code",
   "execution_count": null,
   "id": "852a6a50",
   "metadata": {},
   "outputs": [],
   "source": []
  },
  {
   "cell_type": "code",
   "execution_count": null,
   "id": "bf0f0e3b",
   "metadata": {},
   "outputs": [],
   "source": [
    "df_test_or= df_test_or.reset_index()\n",
    "df_test_or.head()"
   ]
  },
  {
   "cell_type": "code",
   "execution_count": null,
   "id": "d18d4b53",
   "metadata": {},
   "outputs": [],
   "source": [
    "df_test_or = df_test_or.iloc[:100, :]\n",
    "df_test_or"
   ]
  },
  {
   "cell_type": "code",
   "execution_count": null,
   "id": "9d29b7bb",
   "metadata": {},
   "outputs": [],
   "source": [
    "final_reco1 = pd.merge(df_test_or,predictions_location_nochange,on='index',how='inner')"
   ]
  },
  {
   "cell_type": "code",
   "execution_count": null,
   "id": "a461a5f1",
   "metadata": {},
   "outputs": [],
   "source": [
    "final_reco1"
   ]
  },
  {
   "cell_type": "code",
   "execution_count": null,
   "id": "070bca82",
   "metadata": {},
   "outputs": [],
   "source": [
    "df_nochange_location=session.createDataFrame(\n",
    "        final_reco1.values.tolist(),\n",
    "        schema=final_reco1.columns.tolist())\n"
   ]
  },
  {
   "cell_type": "code",
   "execution_count": null,
   "id": "b21ca94f",
   "metadata": {},
   "outputs": [],
   "source": [
    "df_nochange_location.write.mode(\"overwrite\").save_as_table(\"PRED_NOCHANGE_LOCATION\")"
   ]
  },
  {
   "cell_type": "code",
   "execution_count": null,
   "id": "919c4303",
   "metadata": {},
   "outputs": [],
   "source": []
  },
  {
   "cell_type": "code",
   "execution_count": null,
   "id": "77ceb8ab",
   "metadata": {},
   "outputs": [],
   "source": [
    "#####WITH CHANGED LOCATION "
   ]
  },
  {
   "cell_type": "code",
   "execution_count": null,
   "id": "e5608bfa",
   "metadata": {},
   "outputs": [],
   "source": [
    "!pip install -U scikit-learn"
   ]
  },
  {
   "cell_type": "code",
   "execution_count": null,
   "id": "3c43ef4e",
   "metadata": {},
   "outputs": [],
   "source": [
    "import time\n",
    "from snowflake.snowpark.session import Session\n",
    "import configparser\n",
    " \n",
    "import warnings\n",
    "warnings.filterwarnings(\"ignore\")\n",
    " \n",
    "config = configparser.ConfigParser()\n",
    "config.read(\"snowflake_connection.ini\")\n",
    " \n",
    "connection_parameters = {\n",
    "    \"user\": f'{config[\"Snowflake\"][\"user\"]}',\n",
    "    \"password\": f'{config[\"Snowflake\"][\"password\"]}',\n",
    "    \"account\": f'{config[\"Snowflake\"][\"account\"]}',\n",
    "    \"WAREHOUSE\": f'{config[\"Snowflake\"][\"WAREHOUSE\"]}',\n",
    "    \"DATABASE\": f'{config[\"Snowflake\"][\"DATABASE\"]}',\n",
    "    \"SCHEMA\": f'{config[\"Snowflake\"][\"SCHEMA\"]}'\n",
    "}\n",
    " \n",
    "def snowflake_connector(conn):\n",
    "    try:\n",
    "        session = Session.builder.configs(conn).create()\n",
    "        print(\"connection successful!\")\n",
    "    except:\n",
    "        raise ValueError(\"error while connecting with db\")\n",
    "    return session\n",
    " \n",
    "session = snowflake_connector(connection_parameters)"
   ]
  },
  {
   "cell_type": "code",
   "execution_count": null,
   "id": "742a7aa3",
   "metadata": {},
   "outputs": [],
   "source": [
    "df_CL = session.table(\"CPG_DATA_ORIGINAL\").to_pandas()\n",
    "df_test_CL = session.table(\"CPG_DATA_ORIGINAL\").to_pandas()"
   ]
  },
  {
   "cell_type": "code",
   "execution_count": null,
   "id": "3382e369",
   "metadata": {},
   "outputs": [],
   "source": [
    "df_CL.head()"
   ]
  },
  {
   "cell_type": "code",
   "execution_count": null,
   "id": "8c192f06",
   "metadata": {},
   "outputs": [],
   "source": [
    "import numpy as np\n",
    "\n",
    "# Calculate the number of records for 'rural' and 'urban'\n",
    "total_records = len(df_CL)\n",
    "rural_count = int(total_records * 0.7)\n",
    "urban_count = total_records - rural_count\n",
    "\n",
    "# Create the 'location' variable\n",
    "location_changed = ['rural'] * rural_count + ['urban'] * urban_count\n",
    "np.random.shuffle(location_changed)  # Shuffle to mix 'rural' and 'urban' values\n",
    "\n",
    "# Add the 'location' variable to the DataFrame\n",
    "df_CL['location_changed'] = location_changed\n",
    "\n",
    "# Save the updated DataFrame back to a CSV file\n",
    "df_CL.to_csv('CPG_DATA_LOCATION_CHANGE1.csv', index=False)  # Replace 'updated_file.csv' with the desired output file name\n",
    "\n",
    "# Print a success message\n",
    "print(\"The 'location' variable has been added to the CSV file with 70% rural and 30% urban categories.\")\n"
   ]
  },
  {
   "cell_type": "code",
   "execution_count": null,
   "id": "044ef77a",
   "metadata": {},
   "outputs": [],
   "source": [
    "df_CL.head()"
   ]
  },
  {
   "cell_type": "code",
   "execution_count": null,
   "id": "98d26f7c",
   "metadata": {},
   "outputs": [],
   "source": []
  },
  {
   "cell_type": "code",
   "execution_count": null,
   "id": "e9040a4e",
   "metadata": {},
   "outputs": [],
   "source": [
    "df_test_CL = session.table(\"CPG_DATA_ORIGINAL\").to_pandas()"
   ]
  },
  {
   "cell_type": "code",
   "execution_count": null,
   "id": "1a232f01",
   "metadata": {},
   "outputs": [],
   "source": [
    "import numpy as np\n",
    "\n",
    "# Calculate the number of records for 'rural' and 'urban'\n",
    "total_records = len(df_test_CL)\n",
    "rural_count = int(total_records * 0.7)\n",
    "urban_count = total_records - rural_count\n",
    "\n",
    "# Create the 'location' variable\n",
    "location_changed = ['rural'] * rural_count + ['urban'] * urban_count\n",
    "np.random.shuffle(location_changed)  # Shuffle to mix 'rural' and 'urban' values\n",
    "\n",
    "# Add the 'location' variable to the DataFrame\n",
    "df_test_CL['location_changed'] = location_changed\n",
    "\n",
    "# Save the updated DataFrame back to a CSV file\n",
    "df_test_CL.to_csv('CPG_DATA_LOCATION_CHANGE1.csv', index=False)  # Replace 'updated_file.csv' with the desired output file name\n",
    "\n",
    "# Print a success message\n",
    "print(\"The 'location' variable has been added to the CSV file with 70% rural and 30% urban categories.\")"
   ]
  },
  {
   "cell_type": "code",
   "execution_count": null,
   "id": "5c25808e",
   "metadata": {},
   "outputs": [],
   "source": [
    "df_test_CL"
   ]
  },
  {
   "cell_type": "code",
   "execution_count": null,
   "id": "5f141d4d",
   "metadata": {},
   "outputs": [],
   "source": [
    "df_CL.head()\n"
   ]
  },
  {
   "cell_type": "code",
   "execution_count": null,
   "id": "ea49fda2",
   "metadata": {},
   "outputs": [],
   "source": [
    "df_test_CL.head()"
   ]
  },
  {
   "cell_type": "code",
   "execution_count": null,
   "id": "1b324e5c",
   "metadata": {},
   "outputs": [],
   "source": [
    "df_CL= df_CL.reset_index()\n",
    "df_CL.head()"
   ]
  },
  {
   "cell_type": "code",
   "execution_count": null,
   "id": "bd436642",
   "metadata": {},
   "outputs": [],
   "source": [
    "df_test_CL= df_test_CL.reset_index()\n",
    "df_test_CL.head()"
   ]
  },
  {
   "cell_type": "code",
   "execution_count": null,
   "id": "28af0199",
   "metadata": {},
   "outputs": [],
   "source": [
    "import pandas as pd\n",
    "import numpy as np\n",
    "import sklearn \n",
    "\n",
    "#import matplotlib.pyplot as plt\n",
    "#%matplotlib inline\n",
    "#import seaborn as sns\n",
    "\n",
    "\n",
    "from sklearn.preprocessing import LabelEncoder, StandardScaler\n",
    "\n",
    "from sklearn.linear_model import LinearRegression\n",
    "from sklearn.tree import DecisionTreeRegressor\n",
    "from sklearn.ensemble import RandomForestRegressor, GradientBoostingRegressor\n",
    "from sklearn.svm import SVR\n",
    "\n",
    "from sklearn.metrics import mean_squared_error, r2_score, mean_absolute_error\n",
    "import warnings\n",
    "warnings.simplefilter(action='ignore')"
   ]
  },
  {
   "cell_type": "code",
   "execution_count": null,
   "id": "79de084e",
   "metadata": {},
   "outputs": [],
   "source": [
    "df_CL.nunique().sort_values(ascending=False)\n",
    "df_CL.drop(columns=['Ware_house_ID','WH_Manager_ID','Date'], inplace = True)\n",
    "df_CL['workers_num'].median()\n",
    "df_CL['approved_wh_govt_certificate'].mode()\n",
    "df_CL['approved_wh_govt_certificate'].fillna(df_CL['approved_wh_govt_certificate'].mode()[0], inplace=True)\n",
    "df_CL.isnull().sum()\n",
    "df_CL.nunique().sort_values(ascending= True)"
   ]
  },
  {
   "cell_type": "code",
   "execution_count": null,
   "id": "312a859e",
   "metadata": {},
   "outputs": [],
   "source": [
    "for i in df_CL.columns[df_CL.nunique()<=4]:\n",
    "    print(\"Number of unique values in column \", i, ' :', len(df_CL[i].unique()))\n",
    "    print(df_CL[i].value_counts())\n",
    "    print(' ')"
   ]
  },
  {
   "cell_type": "code",
   "execution_count": null,
   "id": "745ab8fc",
   "metadata": {},
   "outputs": [],
   "source": [
    "def count_outliers(df_CL):\n",
    "    outliers={}\n",
    "    for i in df_CL.columns:\n",
    "        if pd.api.types.is_numeric_dtype(df_CL[i]):\n",
    "            q1 = df_CL[i].quantile(0.25)\n",
    "            q3 = df_CL[i].quantile(0.75)\n",
    "            iqr = q3 - q1\n",
    "            lower = q1 - 1.5*iqr\n",
    "            upper = q3 + 1.5*iqr\n",
    "            outliers[i] = df_CL[(df_CL[i] < lower) | (df_CL[i] > upper)].shape[0]\n",
    "        else:\n",
    "            pass\n",
    "    return outliers"
   ]
  },
  {
   "cell_type": "code",
   "execution_count": null,
   "id": "578ec72c",
   "metadata": {},
   "outputs": [],
   "source": [
    "outlier_counts = count_outliers(df_CL)\n",
    "outlier_counts"
   ]
  },
  {
   "cell_type": "code",
   "execution_count": null,
   "id": "fd1079db",
   "metadata": {},
   "outputs": [],
   "source": [
    "df_CL['product_wg_ton'].corr(df_CL['flood_proof'])\n",
    "df_CL['product_wg_ton'].corr(df_CL['flood_impacted'])\n",
    "df_CL.drop(columns=['flood_proof', 'flood_impacted'], inplace = True)\n"
   ]
  },
  {
   "cell_type": "code",
   "execution_count": null,
   "id": "38a5e458",
   "metadata": {},
   "outputs": [],
   "source": [
    "def remove_outliers(df_CL):\n",
    "    num_df = df_CL.select_dtypes(include=['int', 'float'])\n",
    "    q1 = num_df.quantile(0.25)\n",
    "    q3 = num_df.quantile(0.75)\n",
    "    iqr = q3 - q1\n",
    "    lower = q1 - 1.5*iqr\n",
    "    upper = q3 + 1.5*iqr\n",
    "    df_no_outliers = num_df[((num_df >= lower) & (num_df <= upper)).all(axis=1)]\n",
    "    return df_CL.loc[df_no_outliers.index]"
   ]
  },
  {
   "cell_type": "code",
   "execution_count": null,
   "id": "d13b47fe",
   "metadata": {},
   "outputs": [],
   "source": [
    "df_CL = remove_outliers(df_CL)\n",
    "df_CL.shape"
   ]
  },
  {
   "cell_type": "code",
   "execution_count": null,
   "id": "d358a5e4",
   "metadata": {},
   "outputs": [],
   "source": [
    "df_test_CL.nunique().sort_values(ascending=False)"
   ]
  },
  {
   "cell_type": "code",
   "execution_count": null,
   "id": "9d04635b",
   "metadata": {},
   "outputs": [],
   "source": [
    "df_test_CL.drop(columns=['Ware_house_ID', 'WH_Manager_ID'], inplace = True)\n",
    "print(len(df_test_CL[df_test_CL.duplicated]))\n",
    "\n"
   ]
  },
  {
   "cell_type": "code",
   "execution_count": null,
   "id": "cd007961",
   "metadata": {},
   "outputs": [],
   "source": [
    "null_values_features = [i for i in df_test_CL.columns if df_test_CL[i].isnull().sum()>1]\n",
    "for i in null_values_features:\n",
    "    print(i, np.round(df_test_CL[i].isnull().mean()*100, 2), \"% missing values\")\n"
   ]
  },
  {
   "cell_type": "code",
   "execution_count": null,
   "id": "660bf159",
   "metadata": {},
   "outputs": [],
   "source": [
    "df_test_CL.drop(columns=['wh_est_year'], inplace = True)\n",
    "df_test_CL['workers_num'].median()\n",
    "df_test_CL['workers_num'].fillna(df_test_CL['workers_num'].median(), inplace=True)\n",
    "df_test_CL['approved_wh_govt_certificate'].mode()\n",
    "df_test_CL['approved_wh_govt_certificate'].fillna(df_test_CL['approved_wh_govt_certificate'].mode()[0], inplace=True)\n",
    "df_test_CL.isnull().sum()\n",
    "df_test_CL.nunique().sort_values(ascending= True)"
   ]
  },
  {
   "cell_type": "code",
   "execution_count": null,
   "id": "7ff2f327",
   "metadata": {},
   "outputs": [],
   "source": [
    "for i in df_test_CL.columns[df_test_CL.nunique()<=4]:\n",
    "    print(\"Number of unique values in column \", i, ' :', len(df_test_CL[i].unique()))\n",
    "    print(df_test_CL[i].value_counts())\n",
    "    print(' ')"
   ]
  },
  {
   "cell_type": "code",
   "execution_count": null,
   "id": "cc64c697",
   "metadata": {},
   "outputs": [],
   "source": [
    "df_test_CL['product_wg_ton'].corr(df_test_CL['storage_issue_reported'])\n",
    "df_test_CL.drop(columns=['flood_proof', 'flood_impacted'], inplace = True)\n",
    "\n"
   ]
  },
  {
   "cell_type": "code",
   "execution_count": null,
   "id": "3186ec4f",
   "metadata": {},
   "outputs": [],
   "source": [
    "def remove_outliers(df_test_CL):\n",
    "    num_df = df_test_CL.select_dtypes(include=['int', 'float'])\n",
    "    q1 = num_df.quantile(0.25)\n",
    "    q3 = num_df.quantile(0.75)\n",
    "    iqr = q3 - q1\n",
    "    lower = q1 - 1.5*iqr\n",
    "    upper = q3 + 1.5*iqr\n",
    "    df_no_outliers = num_df[((num_df >= lower) & (num_df <= upper)).all(axis=1)]\n",
    "    return df_test_CL.loc[df_no_outliers.index]"
   ]
  },
  {
   "cell_type": "code",
   "execution_count": null,
   "id": "e30e9620",
   "metadata": {},
   "outputs": [],
   "source": [
    "df_test_CL = remove_outliers(df_test_CL)\n",
    "df_test_CL.head()"
   ]
  },
  {
   "cell_type": "code",
   "execution_count": null,
   "id": "81c1e1ab",
   "metadata": {},
   "outputs": [],
   "source": [
    "num_columns_train=[i for i in df_CL.columns if df_CL[i].dtypes != 'O']\n",
    "cat_columns_train=[i for i in df_CL.columns if df_CL[i].dtypes == 'O']\n",
    "\n",
    "# Numerical columns & categorical columns in test dataset\n",
    "\n",
    "num_columns_test=[i for i in df_test_CL.columns if df_test_CL[i].dtypes != 'O']\n",
    "cat_columns_test=[i for i in df_test_CL.columns if df_test_CL[i].dtypes == 'O']\n",
    "\n",
    "\n"
   ]
  },
  {
   "cell_type": "code",
   "execution_count": null,
   "id": "25d1beee",
   "metadata": {},
   "outputs": [],
   "source": [
    "for i in cat_columns_train:\n",
    "    df_CL[i] = LabelEncoder().fit_transform(df_CL[i])\n",
    "\n",
    "for i in cat_columns_test:\n",
    "    df_test_CL[i] = LabelEncoder().fit_transform(df_test_CL[i])\n",
    "    \n",
    "\n"
   ]
  },
  {
   "cell_type": "code",
   "execution_count": null,
   "id": "894e3eec",
   "metadata": {},
   "outputs": [],
   "source": [
    "df_CL.nunique().sort_values(ascending=False)\n",
    "columns_with_more_than_two_unique_values_train = df_CL.columns[df_CL.nunique()>2]\n",
    "columns_with_more_than_two_unique_values_test = df_test_CL.columns[df_test_CL.nunique()>2]\n"
   ]
  },
  {
   "cell_type": "code",
   "execution_count": null,
   "id": "0f0c45df",
   "metadata": {},
   "outputs": [],
   "source": [
    "X_train = df_CL.drop(['product_wg_ton','wh_est_year', 'WH_regional_zone'], axis=1)\n",
    "Y_train = df_CL['product_wg_ton']\n",
    "X_train.columns\n"
   ]
  },
  {
   "cell_type": "code",
   "execution_count": null,
   "id": "34c622c2",
   "metadata": {},
   "outputs": [],
   "source": [
    "X_test =  df_test_CL.drop(['product_wg_ton','WH_regional_zone','Date'], axis=1)\n",
    "X_test.head()\n",
    "X_test.columns"
   ]
  },
  {
   "cell_type": "code",
   "execution_count": null,
   "id": "0748f46b",
   "metadata": {},
   "outputs": [],
   "source": [
    "X_train.columns"
   ]
  },
  {
   "cell_type": "code",
   "execution_count": null,
   "id": "eaf8eecd",
   "metadata": {},
   "outputs": [],
   "source": [
    "X_train= X_train.reset_index()"
   ]
  },
  {
   "cell_type": "code",
   "execution_count": null,
   "id": "16042dee",
   "metadata": {},
   "outputs": [],
   "source": [
    "X_train.columns"
   ]
  },
  {
   "cell_type": "code",
   "execution_count": null,
   "id": "f4d11b08",
   "metadata": {},
   "outputs": [],
   "source": [
    "X_test1 = X_test.iloc[:100, :]\n",
    "X_test1.columns"
   ]
  },
  {
   "cell_type": "code",
   "execution_count": null,
   "id": "9fb1e035",
   "metadata": {},
   "outputs": [],
   "source": [
    "X_train.columns"
   ]
  },
  {
   "cell_type": "code",
   "execution_count": null,
   "id": "7850185b",
   "metadata": {},
   "outputs": [],
   "source": [
    "X_train = X_train.drop(['level_0'], axis=1)\n",
    "X_train.columns"
   ]
  },
  {
   "cell_type": "code",
   "execution_count": null,
   "id": "036f80b9",
   "metadata": {},
   "outputs": [],
   "source": [
    "GBmodel = GradientBoostingRegressor()\n",
    "GBmodel.fit(X_train,Y_train)\n",
    "GB_predicted = GBmodel.predict(X_test1)\n",
    "GB_predicted"
   ]
  },
  {
   "cell_type": "code",
   "execution_count": null,
   "id": "1d8e6df7",
   "metadata": {},
   "outputs": [],
   "source": [
    "predictions_location_change = pd.DataFrame(GB_predicted, columns =['product_wg_ton_pred_location_change']) \n",
    "predictions_location_change\n"
   ]
  },
  {
   "cell_type": "code",
   "execution_count": null,
   "id": "0fd94c84",
   "metadata": {},
   "outputs": [],
   "source": [
    "predictions_location_change = predictions_location_change.reset_index()\n",
    "predictions_location_change\n"
   ]
  },
  {
   "cell_type": "code",
   "execution_count": null,
   "id": "d8435df7",
   "metadata": {},
   "outputs": [],
   "source": []
  },
  {
   "cell_type": "code",
   "execution_count": null,
   "id": "8576d267",
   "metadata": {},
   "outputs": [],
   "source": [
    "predictions_location_change.shape"
   ]
  },
  {
   "cell_type": "code",
   "execution_count": null,
   "id": "c58e8de1",
   "metadata": {},
   "outputs": [],
   "source": [
    "#df_test_CL= df_test_CL.reset_index()\n",
    "#df_test_CL.head()\n",
    "\n",
    "df_test_CL = df_test_CL.iloc[:100, :]\n",
    "df_test_CL"
   ]
  },
  {
   "cell_type": "code",
   "execution_count": null,
   "id": "09a7f361",
   "metadata": {},
   "outputs": [],
   "source": [
    "final_reco1 = pd.merge(df_test_or,predictions_location_change,on='index',how='inner')\n",
    "\n"
   ]
  },
  {
   "cell_type": "code",
   "execution_count": null,
   "id": "b4fd82b7",
   "metadata": {},
   "outputs": [],
   "source": [
    "df_nochange_location=session.createDataFrame(\n",
    "        final_reco1.values.tolist(),\n",
    "        schema=final_reco1.columns.tolist())\n",
    "\n"
   ]
  },
  {
   "cell_type": "code",
   "execution_count": null,
   "id": "05fda9ea",
   "metadata": {},
   "outputs": [],
   "source": [
    "df_nochange_location.write.mode(\"overwrite\").save_as_table(\"CPGWH_DEMO.FMCG.CPG_DATA_PRED_NOCHANGE_LOCATION0\")"
   ]
  },
  {
   "cell_type": "code",
   "execution_count": null,
   "id": "38102933",
   "metadata": {},
   "outputs": [],
   "source": []
  },
  {
   "cell_type": "code",
   "execution_count": null,
   "id": "7d174793",
   "metadata": {},
   "outputs": [],
   "source": []
  },
  {
   "cell_type": "code",
   "execution_count": null,
   "id": "ed6935ba",
   "metadata": {},
   "outputs": [],
   "source": []
  },
  {
   "cell_type": "code",
   "execution_count": null,
   "id": "e2aac54d",
   "metadata": {},
   "outputs": [],
   "source": []
  },
  {
   "cell_type": "code",
   "execution_count": null,
   "id": "ad1d22a8",
   "metadata": {},
   "outputs": [],
   "source": []
  },
  {
   "cell_type": "code",
   "execution_count": null,
   "id": "9d980168",
   "metadata": {},
   "outputs": [],
   "source": []
  },
  {
   "cell_type": "code",
   "execution_count": null,
   "id": "2f538cda",
   "metadata": {},
   "outputs": [],
   "source": [
    "final_reco = pd.merge(df_test_CL,predictions_location_change,on='index',how='inner')"
   ]
  },
  {
   "cell_type": "code",
   "execution_count": null,
   "id": "9f17d091",
   "metadata": {},
   "outputs": [],
   "source": [
    "df_change_location=session.createDataFrame(\n",
    "        final_reco.values.tolist(),\n",
    "        schema=final_reco.columns.tolist())\n",
    "\n",
    "\n"
   ]
  },
  {
   "cell_type": "code",
   "execution_count": null,
   "id": "2ee239ff",
   "metadata": {},
   "outputs": [],
   "source": [
    "df_change_location.write.mode(\"overwrite\").save_as_table(\"CPGWH_DEMO.FMCG.CPG_DATA_PRED_CHANGE_LOCATION12\")"
   ]
  },
  {
   "cell_type": "code",
   "execution_count": null,
   "id": "dcb7f21b",
   "metadata": {},
   "outputs": [],
   "source": []
  },
  {
   "cell_type": "code",
   "execution_count": null,
   "id": "81beee43",
   "metadata": {},
   "outputs": [],
   "source": []
  },
  {
   "cell_type": "code",
   "execution_count": null,
   "id": "76cae8e5",
   "metadata": {},
   "outputs": [],
   "source": []
  },
  {
   "cell_type": "code",
   "execution_count": null,
   "id": "3cdf2b21",
   "metadata": {},
   "outputs": [],
   "source": []
  },
  {
   "cell_type": "code",
   "execution_count": null,
   "id": "8db73d1c",
   "metadata": {},
   "outputs": [],
   "source": []
  },
  {
   "cell_type": "code",
   "execution_count": null,
   "id": "e2a8c2e3",
   "metadata": {},
   "outputs": [],
   "source": []
  },
  {
   "cell_type": "code",
   "execution_count": null,
   "id": "7daaf0ea",
   "metadata": {},
   "outputs": [],
   "source": []
  },
  {
   "cell_type": "code",
   "execution_count": null,
   "id": "4ebdf106",
   "metadata": {},
   "outputs": [],
   "source": []
  },
  {
   "cell_type": "code",
   "execution_count": null,
   "id": "2816e5d2",
   "metadata": {},
   "outputs": [],
   "source": []
  },
  {
   "cell_type": "code",
   "execution_count": null,
   "id": "45d83018",
   "metadata": {},
   "outputs": [],
   "source": []
  },
  {
   "cell_type": "code",
   "execution_count": null,
   "id": "2131ab9b",
   "metadata": {},
   "outputs": [],
   "source": []
  },
  {
   "cell_type": "code",
   "execution_count": null,
   "id": "dd47a579",
   "metadata": {},
   "outputs": [],
   "source": []
  },
  {
   "cell_type": "code",
   "execution_count": null,
   "id": "ce456219",
   "metadata": {},
   "outputs": [],
   "source": []
  },
  {
   "cell_type": "code",
   "execution_count": null,
   "id": "4f3b4f52",
   "metadata": {},
   "outputs": [],
   "source": []
  },
  {
   "cell_type": "code",
   "execution_count": null,
   "id": "de1839a2",
   "metadata": {},
   "outputs": [],
   "source": []
  },
  {
   "cell_type": "code",
   "execution_count": null,
   "id": "4791405e",
   "metadata": {},
   "outputs": [],
   "source": []
  },
  {
   "cell_type": "code",
   "execution_count": null,
   "id": "9df81d64",
   "metadata": {},
   "outputs": [],
   "source": []
  },
  {
   "cell_type": "code",
   "execution_count": null,
   "id": "29acac3d",
   "metadata": {},
   "outputs": [],
   "source": []
  },
  {
   "cell_type": "code",
   "execution_count": null,
   "id": "3be9bdeb",
   "metadata": {},
   "outputs": [],
   "source": []
  },
  {
   "cell_type": "code",
   "execution_count": null,
   "id": "7c4f9e25",
   "metadata": {},
   "outputs": [],
   "source": []
  },
  {
   "cell_type": "code",
   "execution_count": null,
   "id": "83240746",
   "metadata": {},
   "outputs": [],
   "source": []
  },
  {
   "cell_type": "code",
   "execution_count": null,
   "id": "e2a9a3cb",
   "metadata": {},
   "outputs": [],
   "source": []
  },
  {
   "cell_type": "code",
   "execution_count": null,
   "id": "1bca97b3",
   "metadata": {
    "scrolled": true
   },
   "outputs": [],
   "source": [
    "predictions_nolocationchange = pd.DataFrame(LR_y_predicted, columns =['product_wg_ton_pred_nolocationchange']) \n",
    "predictions_nolocationchange"
   ]
  },
  {
   "cell_type": "code",
   "execution_count": null,
   "id": "fc39ac1f",
   "metadata": {},
   "outputs": [],
   "source": [
    "predictions_nolocationchange = predictions_nolocationchange.reset_index()\n",
    "\n",
    "predictions_nolocationchange"
   ]
  },
  {
   "cell_type": "code",
   "execution_count": null,
   "id": "d0ec7304",
   "metadata": {},
   "outputs": [],
   "source": [
    "final_reco = pd.merge(df_test_or,predictions_nolocationchange,on='index',how='inner')\n",
    "final_reco.head()"
   ]
  },
  {
   "cell_type": "code",
   "execution_count": null,
   "id": "e27f3dfb",
   "metadata": {},
   "outputs": [],
   "source": [
    "df_nochange_location=session.createDataFrame(\n",
    "        final_reco.values.tolist(),\n",
    "        schema=final_reco.columns.tolist())"
   ]
  },
  {
   "cell_type": "code",
   "execution_count": null,
   "id": "eb939a0a",
   "metadata": {},
   "outputs": [],
   "source": [
    "df_test_or.write.mode(\"overwrite\").save_as_table(\"CPG_DATA_PRED_NOCHANGE11\")\n"
   ]
  },
  {
   "cell_type": "code",
   "execution_count": null,
   "id": "311eefad",
   "metadata": {},
   "outputs": [],
   "source": [
    "final_reco.to_csv('FMCG_data_original_predictions.csv', index=False)"
   ]
  },
  {
   "cell_type": "code",
   "execution_count": null,
   "id": "6b3c8a37",
   "metadata": {},
   "outputs": [],
   "source": [
    "final_reco"
   ]
  },
  {
   "cell_type": "code",
   "execution_count": null,
   "id": "2ad7dde3",
   "metadata": {},
   "outputs": [],
   "source": [
    "df_test_or.write.mode(\"overwrite\").save_as_table(\"CPG_DATA_PRED_NOCHANGE11\")"
   ]
  },
  {
   "cell_type": "code",
   "execution_count": null,
   "id": "7c1b5de9",
   "metadata": {},
   "outputs": [],
   "source": []
  },
  {
   "cell_type": "code",
   "execution_count": null,
   "id": "28c12414",
   "metadata": {},
   "outputs": [],
   "source": []
  },
  {
   "cell_type": "code",
   "execution_count": null,
   "id": "6b17ec98",
   "metadata": {},
   "outputs": [],
   "source": []
  },
  {
   "cell_type": "code",
   "execution_count": null,
   "id": "fc140a6a",
   "metadata": {},
   "outputs": [],
   "source": [
    "\n",
    "predictions_location_nochange = predictions_nolocationchange.reset_index()\n",
    "\n",
    "predictions_location_nochange"
   ]
  },
  {
   "cell_type": "code",
   "execution_count": null,
   "id": "a10415c9",
   "metadata": {},
   "outputs": [],
   "source": [
    "df_test_location= df_test.reset_index()\n",
    "df_test_location"
   ]
  },
  {
   "cell_type": "code",
   "execution_count": null,
   "id": "803a9926",
   "metadata": {},
   "outputs": [],
   "source": []
  },
  {
   "cell_type": "code",
   "execution_count": null,
   "id": "76d685aa",
   "metadata": {},
   "outputs": [],
   "source": []
  },
  {
   "cell_type": "code",
   "execution_count": null,
   "id": "39c248c4",
   "metadata": {},
   "outputs": [],
   "source": [
    "final_reco = pd.merge(df_test,predictions_location,on='index',how='inner')"
   ]
  },
  {
   "cell_type": "code",
   "execution_count": null,
   "id": "0f322138",
   "metadata": {},
   "outputs": [],
   "source": []
  },
  {
   "cell_type": "code",
   "execution_count": null,
   "id": "d3bb34de",
   "metadata": {},
   "outputs": [],
   "source": [
    "df_test.write.mode(\"overwrite\").save_as_table(\"CPG_DATA_PRED_NOCHANGE1\")\n",
    "predictions_location.to_csv('FMCG_data_original_predictions.csv', index=False)"
   ]
  },
  {
   "cell_type": "code",
   "execution_count": null,
   "id": "2e6e680b",
   "metadata": {},
   "outputs": [],
   "source": [
    "predictions_location.to_csv('FMCG_data_original_predictions.csv', index=False)"
   ]
  },
  {
   "cell_type": "code",
   "execution_count": null,
   "id": "f10ea901",
   "metadata": {},
   "outputs": [],
   "source": [
    "Y_test = df_test['product_wg_ton']\n",
    "Y_test.head()"
   ]
  },
  {
   "cell_type": "code",
   "execution_count": null,
   "id": "756e4a23",
   "metadata": {},
   "outputs": [],
   "source": [
    "# r2 score\n",
    "lr_r2 = r2_score(Y_test, LR_y_predicted).round(3)\n",
    "print('R2 score:  ', lr_r2)\n",
    "\n",
    "# root mean squared error (RMSE)\n",
    "lr_rmse = np.sqrt(mean_squared_error(Y_test, LR_y_predicted)).round(3)\n",
    "print('Root Mean Squared Error:  ', lr_rmse) \n",
    "\n",
    "# mean absolute error (MAE)\n",
    "lr_mae = mean_absolute_error(Y_test, LR_y_predicted).round(3)\n",
    "print('Mean Absolute Error:  ', lr_mae)"
   ]
  },
  {
   "cell_type": "code",
   "execution_count": null,
   "id": "96360864",
   "metadata": {},
   "outputs": [],
   "source": []
  },
  {
   "cell_type": "code",
   "execution_count": null,
   "id": "66ea761f",
   "metadata": {},
   "outputs": [],
   "source": [
    "DTmodel = DecisionTreeRegressor(random_state = 0)"
   ]
  },
  {
   "cell_type": "code",
   "execution_count": null,
   "id": "641a4d40",
   "metadata": {},
   "outputs": [],
   "source": [
    "\n",
    "DTmodel.fit(X_train, Y_train) "
   ]
  },
  {
   "cell_type": "code",
   "execution_count": null,
   "id": "006d0488",
   "metadata": {},
   "outputs": [],
   "source": [
    "DT_predicted = DTmodel.predict(X_test)"
   ]
  },
  {
   "cell_type": "code",
   "execution_count": null,
   "id": "4c09df99",
   "metadata": {},
   "outputs": [],
   "source": [
    "DT_predicted"
   ]
  },
  {
   "cell_type": "code",
   "execution_count": null,
   "id": "2a42ff40",
   "metadata": {},
   "outputs": [],
   "source": [
    "# r2 score\n",
    "dt_r2 = r2_score(Y_test, DT_predicted).round(3)\n",
    "print('R2 score:  ', dt_r2)\n",
    "\n",
    "# root mean squared error (RMSE)\n",
    "dt_rmse = np.sqrt(mean_squared_error(Y_test, DT_predicted)).round(3)\n",
    "print('Root Mean Squared Error:  ', dt_rmse) \n",
    "\n",
    "# mean absolute error (MAE)\n",
    "dt_mae = mean_absolute_error(Y_test, DT_predicted).round(3)\n",
    "print('Mean Absolute Error:  ', dt_mae)"
   ]
  },
  {
   "cell_type": "code",
   "execution_count": null,
   "id": "162c9554",
   "metadata": {},
   "outputs": [],
   "source": []
  },
  {
   "cell_type": "code",
   "execution_count": null,
   "id": "439706d5",
   "metadata": {},
   "outputs": [],
   "source": [
    "RFmodel = RandomForestRegressor(n_estimators = 100, max_depth = 4, random_state = 0) \n",
    "RFmodel.fit(X_train, Y_train)\n",
    "RF_predicted = RFmodel.predict(X_test)\n",
    "RF_predicted"
   ]
  },
  {
   "cell_type": "code",
   "execution_count": null,
   "id": "bb837e31",
   "metadata": {},
   "outputs": [],
   "source": [
    "# r2 score\n",
    "rf_r2 = r2_score(Y_test, RF_predicted).round(3)\n",
    "print('R2 score:  ', rf_r2)\n",
    "\n",
    "# root mean squared error (RMSE)\n",
    "rf_rmse = np.sqrt(mean_squared_error(Y_test, RF_predicted)).round(3)\n",
    "print('Root Mean Squared Error:  ', rf_rmse) \n",
    "\n",
    "# mean absolute error (MAE)\n",
    "rf_mae = mean_absolute_error(Y_test, RF_predicted).round(3)\n",
    "print('Mean Absolute Error:  ', rf_mae)"
   ]
  },
  {
   "cell_type": "code",
   "execution_count": null,
   "id": "94d74221",
   "metadata": {},
   "outputs": [],
   "source": []
  },
  {
   "cell_type": "code",
   "execution_count": null,
   "id": "25a2c019",
   "metadata": {},
   "outputs": [],
   "source": [
    "\n",
    "GBmodel = GradientBoostingRegressor()\n",
    "GBmodel.fit(X_train,Y_train)\n",
    "GB_predicted = GBmodel.predict(X_test)\n",
    "GB_predicted"
   ]
  },
  {
   "cell_type": "code",
   "execution_count": null,
   "id": "01c70a0e",
   "metadata": {},
   "outputs": [],
   "source": [
    "gb_r2 = r2_score(Y_test, GB_predicted).round(3)\n",
    "print('R2 score:  ', gb_r2)\n",
    "\n",
    "# root mean squared error (RMSE)\n",
    "gb_rmse = np.sqrt(mean_squared_error(Y_test, GB_predicted)).round(3)\n",
    "print('Root Mean Squared Error:  ', gb_rmse) \n",
    "\n",
    "# mean absolute error (MAE)\n",
    "gb_mae = mean_absolute_error(Y_test, GB_predicted).round(3)\n",
    "print('Mean Absolute Error:  ', gb_mae)"
   ]
  },
  {
   "cell_type": "code",
   "execution_count": null,
   "id": "120e11a1",
   "metadata": {},
   "outputs": [],
   "source": [
    "ax1 = plt.subplot2grid((2, 3), (0, 0))\n",
    "plt.scatter(Y_test, LR_y_predicted, color='#ffdab9', alpha=0.3, label='Actual')\n",
    "plt.plot([min(Y_test), max(Y_test)], [min(Y_test), max(Y_test)], linestyle='--', color='#2f4f4f', label='Predicted')\n",
    "plt.title('Linear Regression')\n",
    "plt.xlabel('Actual Values')\n",
    "plt.ylabel('Predicted Values')\n",
    "plt.legend()\n",
    "\n",
    "\n",
    "ax1 = plt.subplot2grid((2, 3), (0, 1))\n",
    "plt.scatter(Y_test, DT_predicted, color='#ffdab9', alpha=0.3)\n",
    "plt.plot([min(Y_test), max(Y_test)], [min(Y_test), max(Y_test)], linestyle='--', color='#2f4f4f')\n",
    "plt.title('Decision Tree')\n",
    "plt.xlabel('Actual Values')\n",
    "plt.ylabel('Predicted Values')"
   ]
  },
  {
   "cell_type": "code",
   "execution_count": null,
   "id": "e956b71a",
   "metadata": {},
   "outputs": [],
   "source": [
    "ax1 = plt.subplot2grid((2, 3), (1, 1))\n",
    "plt.scatter(Y_test, GB_predicted, color='#ffdab9', alpha=0.3)  # alpha controls point transparency for better visualization\n",
    "plt.plot([min(Y_test), max(Y_test)], [min(Y_test), max(Y_test)], linestyle='--',color='#2f4f4f')\n",
    "plt.title('Gradient Boosting')\n",
    "plt.xlabel('Actual Values')\n",
    "plt.ylabel('Predicted Values')\n",
    "\n",
    "plt.show()"
   ]
  },
  {
   "cell_type": "code",
   "execution_count": null,
   "id": "bb537b7d",
   "metadata": {},
   "outputs": [],
   "source": []
  },
  {
   "cell_type": "code",
   "execution_count": null,
   "id": "e5d19c11",
   "metadata": {},
   "outputs": [],
   "source": []
  },
  {
   "cell_type": "code",
   "execution_count": null,
   "id": "f5b5108c",
   "metadata": {},
   "outputs": [],
   "source": []
  },
  {
   "cell_type": "code",
   "execution_count": null,
   "id": "9b3a8e8b",
   "metadata": {},
   "outputs": [],
   "source": [
    "import numpy as np\n",
    "\n",
    "# Calculate the number of records for 'rural' and 'urban'\n",
    "total_records = len(df_or)\n",
    "rural_count = int(total_records * 0.7)\n",
    "urban_count = total_records - rural_count\n",
    "\n",
    "# Create the 'location' variable\n",
    "location_changed = ['rural'] * rural_count + ['urban'] * urban_count\n",
    "np.random.shuffle(location_changed)  # Shuffle to mix 'rural' and 'urban' values\n",
    "\n",
    "# Add the 'location' variable to the DataFrame\n",
    "df['location_changed'] = location_changed\n",
    "\n",
    "# Save the updated DataFrame back to a CSV file\n",
    "df.to_csv('CPG_DATA_ORIGINAL.csv', index=False)  # Replace 'updated_file.csv' with the desired output file name\n",
    "\n",
    "# Print a success message\n",
    "print(\"The 'location' variable has been added to the CSV file with 70% rural and 30% urban categories.\")\n"
   ]
  }
 ],
 "metadata": {
  "kernelspec": {
   "display_name": "Python 3",
   "language": "python",
   "name": "python3"
  },
  "language_info": {
   "codemirror_mode": {
    "name": "ipython",
    "version": 3
   },
   "file_extension": ".py",
   "mimetype": "text/x-python",
   "name": "python",
   "nbconvert_exporter": "python",
   "pygments_lexer": "ipython3",
   "version": "3.8.18"
  }
 },
 "nbformat": 4,
 "nbformat_minor": 5
}
