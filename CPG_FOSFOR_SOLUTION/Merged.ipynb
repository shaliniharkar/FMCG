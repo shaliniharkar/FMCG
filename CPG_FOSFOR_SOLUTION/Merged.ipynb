{
 "cells": [
  {
   "cell_type": "code",
   "execution_count": 1,
   "id": "c664fabd",
   "metadata": {},
   "outputs": [
    {
     "name": "stdout",
     "output_type": "stream",
     "text": [
      "\u001b[33mWARNING: The directory '/home/mosaic-ai/.cache/pip/http' or its parent directory is not owned by the current user and the cache has been disabled. Please check the permissions and owner of that directory. If executing pip with sudo, you may want sudo's -H flag.\u001b[0m\n",
      "\u001b[33mWARNING: The directory '/home/mosaic-ai/.cache/pip' or its parent directory is not owned by the current user and caching wheels has been disabled. check the permissions and owner of that directory. If executing pip with sudo, you may want sudo's -H flag.\u001b[0m\n",
      "Collecting scikit-learn\n",
      "\u001b[?25l  Downloading https://files.pythonhosted.org/packages/3f/48/6fdd99f5717045f9984616b5c2ec683d6286d30c0ac234563062132b83ab/scikit_learn-1.3.2-cp38-cp38-manylinux_2_17_x86_64.manylinux2014_x86_64.whl (11.1MB)\n",
      "\u001b[K     |████████████████████████████████| 11.1MB 4.1MB/s eta 0:00:01\n",
      "\u001b[?25hCollecting joblib>=1.1.1\n",
      "\u001b[?25l  Downloading https://files.pythonhosted.org/packages/91/29/df4b9b42f2be0b623cbd5e2140cafcaa2bef0759a00b7b70104dcfe2fb51/joblib-1.4.2-py3-none-any.whl (301kB)\n",
      "\u001b[K     |████████████████████████████████| 307kB 71.5MB/s eta 0:00:01\n",
      "\u001b[?25hCollecting numpy<2.0,>=1.17.3\n",
      "\u001b[?25l  Downloading https://files.pythonhosted.org/packages/98/5d/5738903efe0ecb73e51eb44feafba32bdba2081263d40c5043568ff60faf/numpy-1.24.4-cp38-cp38-manylinux_2_17_x86_64.manylinux2014_x86_64.whl (17.3MB)\n",
      "\u001b[K     |████████████████████████████████| 17.3MB 76.7MB/s eta 0:00:01\n",
      "\u001b[?25hCollecting scipy>=1.5.0\n",
      "\u001b[?25l  Downloading https://files.pythonhosted.org/packages/69/f0/fb07a9548e48b687b8bf2fa81d71aba9cfc548d365046ca1c791e24db99d/scipy-1.10.1-cp38-cp38-manylinux_2_17_x86_64.manylinux2014_x86_64.whl (34.5MB)\n",
      "\u001b[K     |████████████████████████████████| 34.5MB 67.2MB/s eta 0:00:01\n",
      "\u001b[?25hCollecting threadpoolctl>=2.0.0\n",
      "  Downloading https://files.pythonhosted.org/packages/4b/2c/ffbf7a134b9ab11a67b0cf0726453cedd9c5043a4fe7a35d1cefa9a1bcfb/threadpoolctl-3.5.0-py3-none-any.whl\n",
      "\u001b[31mERROR: mlflow 2.10.0 has requirement pytz<2024, but you'll have pytz 2024.1 which is incompatible.\u001b[0m\n",
      "\u001b[31mERROR: fosforio 1.0.1 has requirement pandas==2.0.0, but you'll have pandas 2.0.3 which is incompatible.\u001b[0m\n",
      "\u001b[31mERROR: snowflake-ml-python 1.0.1 has requirement pandas<2,>=1.0.0, but you'll have pandas 2.0.3 which is incompatible.\u001b[0m\n",
      "\u001b[31mERROR: snowflake-ml-python 1.0.1 has requirement snowflake-snowpark-python<2,>=1.4.0, but you'll have snowflake-snowpark-python 1.0.0 which is incompatible.\u001b[0m\n",
      "\u001b[31mERROR: snowflake-ml-python 1.0.1 has requirement xgboost<2,>=1.7.3, but you'll have xgboost 2.0.3 which is incompatible.\u001b[0m\n",
      "\u001b[31mERROR: mosaic-ai-serving 1.0.0 has requirement Flask==2.1.1; python_version >= \"3.7\", but you'll have flask 3.0.3 which is incompatible.\u001b[0m\n",
      "\u001b[31mERROR: mosaic-ai-serving 1.0.0 has requirement itsdangerous==2.0.1, but you'll have itsdangerous 2.2.0 which is incompatible.\u001b[0m\n",
      "\u001b[31mERROR: mosaic-ai-serving 1.0.0 has requirement Jinja2==3.0.3, but you'll have jinja2 3.1.4 which is incompatible.\u001b[0m\n",
      "\u001b[31mERROR: mosaic-ai-serving 1.0.0 has requirement matplotlib==3.6.0; python_version >= \"3.8\", but you'll have matplotlib 3.7.5 which is incompatible.\u001b[0m\n",
      "\u001b[31mERROR: mosaic-ai-client 1.0.0 has requirement matplotlib==3.1.1, but you'll have matplotlib 3.7.5 which is incompatible.\u001b[0m\n",
      "Installing collected packages: joblib, numpy, scipy, threadpoolctl, scikit-learn\n",
      "Successfully installed joblib-1.4.2 numpy-1.24.4 scikit-learn-1.3.2 scipy-1.10.1 threadpoolctl-3.5.0\n",
      "\u001b[33mWARNING: You are using pip version 19.3.1; however, version 24.2 is available.\n",
      "You should consider upgrading via the 'pip install --upgrade pip' command.\u001b[0m\n"
     ]
    }
   ],
   "source": [
    "!pip install -U scikit-learn "
   ]
  },
  {
   "cell_type": "code",
   "execution_count": 2,
   "id": "3f09fb43",
   "metadata": {},
   "outputs": [
    {
     "name": "stdout",
     "output_type": "stream",
     "text": [
      "connection successful!\n"
     ]
    }
   ],
   "source": [
    "import time\n",
    "from snowflake.snowpark.session import Session\n",
    "import configparser\n",
    " \n",
    "import warnings\n",
    "warnings.filterwarnings(\"ignore\")\n",
    " \n",
    "config = configparser.ConfigParser()\n",
    "config.read(\"snowflake_connection.ini\")\n",
    " \n",
    "connection_parameters = {\n",
    "    \"user\": f'{config[\"Snowflake\"][\"user\"]}',\n",
    "    \"password\": f'{config[\"Snowflake\"][\"password\"]}',\n",
    "    \"account\": f'{config[\"Snowflake\"][\"account\"]}',\n",
    "    \"WAREHOUSE\": f'{config[\"Snowflake\"][\"WAREHOUSE\"]}',\n",
    "    \"DATABASE\": f'{config[\"Snowflake\"][\"DATABASE\"]}',\n",
    "    \"SCHEMA\": f'{config[\"Snowflake\"][\"SCHEMA\"]}'\n",
    "}\n",
    " \n",
    "def snowflake_connector(conn):\n",
    "    try:\n",
    "        session = Session.builder.configs(conn).create()\n",
    "        print(\"connection successful!\")\n",
    "    except:\n",
    "        raise ValueError(\"error while connecting with db\")\n",
    "    return session\n",
    " \n",
    "session = snowflake_connector(connection_parameters)"
   ]
  },
  {
   "cell_type": "code",
   "execution_count": 3,
   "id": "e0a30854",
   "metadata": {},
   "outputs": [],
   "source": [
    "df_or = session.table(\"CPG_DATA_ORIGINAL\").to_pandas()\n",
    "df_test_or = session.table(\"CPG_DATA_ORIGINAL\").to_pandas()"
   ]
  },
  {
   "cell_type": "code",
   "execution_count": 4,
   "id": "f904fefa",
   "metadata": {},
   "outputs": [
    {
     "data": {
      "text/html": [
       "<div>\n",
       "<style scoped>\n",
       "    .dataframe tbody tr th:only-of-type {\n",
       "        vertical-align: middle;\n",
       "    }\n",
       "\n",
       "    .dataframe tbody tr th {\n",
       "        vertical-align: top;\n",
       "    }\n",
       "\n",
       "    .dataframe thead th {\n",
       "        text-align: right;\n",
       "    }\n",
       "</style>\n",
       "<table border=\"1\" class=\"dataframe\">\n",
       "  <thead>\n",
       "    <tr style=\"text-align: right;\">\n",
       "      <th></th>\n",
       "      <th>Date</th>\n",
       "      <th>Ware_house_ID</th>\n",
       "      <th>WH_Manager_ID</th>\n",
       "      <th>Location_type</th>\n",
       "      <th>WH_capacity_size</th>\n",
       "      <th>zone</th>\n",
       "      <th>WH_regional_zone</th>\n",
       "      <th>Refill_Requests</th>\n",
       "      <th>transport_issue</th>\n",
       "      <th>No_of_Competitor</th>\n",
       "      <th>...</th>\n",
       "      <th>electric_supply</th>\n",
       "      <th>dist_from_hub</th>\n",
       "      <th>workers_num</th>\n",
       "      <th>wh_est_year</th>\n",
       "      <th>storage_issue_reported</th>\n",
       "      <th>temp_reg_mach</th>\n",
       "      <th>approved_wh_govt_certificate</th>\n",
       "      <th>wh_breakdown</th>\n",
       "      <th>govt_check</th>\n",
       "      <th>product_wg_ton</th>\n",
       "    </tr>\n",
       "  </thead>\n",
       "  <tbody>\n",
       "    <tr>\n",
       "      <th>0</th>\n",
       "      <td>2023-01-01</td>\n",
       "      <td>WH_100000</td>\n",
       "      <td>EID_50000</td>\n",
       "      <td>Urban</td>\n",
       "      <td>Small</td>\n",
       "      <td>West</td>\n",
       "      <td>Zone 6</td>\n",
       "      <td>3</td>\n",
       "      <td>1</td>\n",
       "      <td>2</td>\n",
       "      <td>...</td>\n",
       "      <td>1</td>\n",
       "      <td>91.0</td>\n",
       "      <td>29.0</td>\n",
       "      <td>NaN</td>\n",
       "      <td>13</td>\n",
       "      <td>0.0</td>\n",
       "      <td>A</td>\n",
       "      <td>5.0</td>\n",
       "      <td>15.0</td>\n",
       "      <td>17115.0</td>\n",
       "    </tr>\n",
       "    <tr>\n",
       "      <th>1</th>\n",
       "      <td>2023-01-01</td>\n",
       "      <td>WH_100001</td>\n",
       "      <td>EID_50001</td>\n",
       "      <td>Rural</td>\n",
       "      <td>Large</td>\n",
       "      <td>North</td>\n",
       "      <td>Zone 5</td>\n",
       "      <td>0</td>\n",
       "      <td>0</td>\n",
       "      <td>4</td>\n",
       "      <td>...</td>\n",
       "      <td>1</td>\n",
       "      <td>210.0</td>\n",
       "      <td>31.0</td>\n",
       "      <td>NaN</td>\n",
       "      <td>4</td>\n",
       "      <td>0.0</td>\n",
       "      <td>A</td>\n",
       "      <td>3.0</td>\n",
       "      <td>17.0</td>\n",
       "      <td>5074.0</td>\n",
       "    </tr>\n",
       "    <tr>\n",
       "      <th>2</th>\n",
       "      <td>2023-01-01</td>\n",
       "      <td>WH_100002</td>\n",
       "      <td>EID_50002</td>\n",
       "      <td>Rural</td>\n",
       "      <td>Mid</td>\n",
       "      <td>South</td>\n",
       "      <td>Zone 2</td>\n",
       "      <td>1</td>\n",
       "      <td>0</td>\n",
       "      <td>4</td>\n",
       "      <td>...</td>\n",
       "      <td>0</td>\n",
       "      <td>161.0</td>\n",
       "      <td>37.0</td>\n",
       "      <td>NaN</td>\n",
       "      <td>17</td>\n",
       "      <td>0.0</td>\n",
       "      <td>A</td>\n",
       "      <td>6.0</td>\n",
       "      <td>22.0</td>\n",
       "      <td>23137.0</td>\n",
       "    </tr>\n",
       "    <tr>\n",
       "      <th>3</th>\n",
       "      <td>2023-01-01</td>\n",
       "      <td>WH_100003</td>\n",
       "      <td>EID_50003</td>\n",
       "      <td>Rural</td>\n",
       "      <td>Mid</td>\n",
       "      <td>North</td>\n",
       "      <td>Zone 3</td>\n",
       "      <td>7</td>\n",
       "      <td>4</td>\n",
       "      <td>2</td>\n",
       "      <td>...</td>\n",
       "      <td>0</td>\n",
       "      <td>103.0</td>\n",
       "      <td>21.0</td>\n",
       "      <td>NaN</td>\n",
       "      <td>17</td>\n",
       "      <td>1.0</td>\n",
       "      <td>A+</td>\n",
       "      <td>3.0</td>\n",
       "      <td>27.0</td>\n",
       "      <td>22115.0</td>\n",
       "    </tr>\n",
       "    <tr>\n",
       "      <th>4</th>\n",
       "      <td>2023-01-01</td>\n",
       "      <td>WH_100004</td>\n",
       "      <td>EID_50004</td>\n",
       "      <td>Rural</td>\n",
       "      <td>Large</td>\n",
       "      <td>North</td>\n",
       "      <td>Zone 5</td>\n",
       "      <td>3</td>\n",
       "      <td>1</td>\n",
       "      <td>2</td>\n",
       "      <td>...</td>\n",
       "      <td>1</td>\n",
       "      <td>112.0</td>\n",
       "      <td>25.0</td>\n",
       "      <td>2009.0</td>\n",
       "      <td>18</td>\n",
       "      <td>0.0</td>\n",
       "      <td>C</td>\n",
       "      <td>6.0</td>\n",
       "      <td>24.0</td>\n",
       "      <td>24071.0</td>\n",
       "    </tr>\n",
       "  </tbody>\n",
       "</table>\n",
       "<p>5 rows × 25 columns</p>\n",
       "</div>"
      ],
      "text/plain": [
       "         Date Ware_house_ID WH_Manager_ID Location_type WH_capacity_size  \\\n",
       "0  2023-01-01     WH_100000     EID_50000         Urban            Small   \n",
       "1  2023-01-01     WH_100001     EID_50001         Rural            Large   \n",
       "2  2023-01-01     WH_100002     EID_50002         Rural              Mid   \n",
       "3  2023-01-01     WH_100003     EID_50003         Rural              Mid   \n",
       "4  2023-01-01     WH_100004     EID_50004         Rural            Large   \n",
       "\n",
       "    zone WH_regional_zone  Refill_Requests  transport_issue  No_of_Competitor  \\\n",
       "0   West           Zone 6                3                1                 2   \n",
       "1  North           Zone 5                0                0                 4   \n",
       "2  South           Zone 2                1                0                 4   \n",
       "3  North           Zone 3                7                4                 2   \n",
       "4  North           Zone 5                3                1                 2   \n",
       "\n",
       "   ...  electric_supply dist_from_hub  workers_num  wh_est_year  \\\n",
       "0  ...                1          91.0         29.0          NaN   \n",
       "1  ...                1         210.0         31.0          NaN   \n",
       "2  ...                0         161.0         37.0          NaN   \n",
       "3  ...                0         103.0         21.0          NaN   \n",
       "4  ...                1         112.0         25.0       2009.0   \n",
       "\n",
       "   storage_issue_reported  temp_reg_mach  approved_wh_govt_certificate  \\\n",
       "0                      13            0.0                             A   \n",
       "1                       4            0.0                             A   \n",
       "2                      17            0.0                             A   \n",
       "3                      17            1.0                            A+   \n",
       "4                      18            0.0                             C   \n",
       "\n",
       "   wh_breakdown  govt_check  product_wg_ton  \n",
       "0           5.0        15.0         17115.0  \n",
       "1           3.0        17.0          5074.0  \n",
       "2           6.0        22.0         23137.0  \n",
       "3           3.0        27.0         22115.0  \n",
       "4           6.0        24.0         24071.0  \n",
       "\n",
       "[5 rows x 25 columns]"
      ]
     },
     "execution_count": 4,
     "metadata": {},
     "output_type": "execute_result"
    }
   ],
   "source": [
    "df_or.head()"
   ]
  },
  {
   "cell_type": "code",
   "execution_count": 5,
   "id": "648b011c",
   "metadata": {},
   "outputs": [],
   "source": [
    "import pandas as pd\n",
    "df_or = pd.DataFrame(df_or)\n",
    "df_test_or = pd.DataFrame(df_test_or)\n",
    "# Convert column names to uppercase\n",
    "df_or.columns = [col.upper() for col in df_or.columns]\n",
    "\n",
    "df_test_or.columns = [col.upper() for col in df_test_or.columns]\n",
    "\n"
   ]
  },
  {
   "cell_type": "code",
   "execution_count": 7,
   "id": "756714b0",
   "metadata": {},
   "outputs": [
    {
     "data": {
      "text/html": [
       "<div>\n",
       "<style scoped>\n",
       "    .dataframe tbody tr th:only-of-type {\n",
       "        vertical-align: middle;\n",
       "    }\n",
       "\n",
       "    .dataframe tbody tr th {\n",
       "        vertical-align: top;\n",
       "    }\n",
       "\n",
       "    .dataframe thead th {\n",
       "        text-align: right;\n",
       "    }\n",
       "</style>\n",
       "<table border=\"1\" class=\"dataframe\">\n",
       "  <thead>\n",
       "    <tr style=\"text-align: right;\">\n",
       "      <th></th>\n",
       "      <th>DATE</th>\n",
       "      <th>WARE_HOUSE_ID</th>\n",
       "      <th>WH_MANAGER_ID</th>\n",
       "      <th>LOCATION_TYPE</th>\n",
       "      <th>WH_CAPACITY_SIZE</th>\n",
       "      <th>ZONE</th>\n",
       "      <th>WH_REGIONAL_ZONE</th>\n",
       "      <th>REFILL_REQUESTS</th>\n",
       "      <th>TRANSPORT_ISSUE</th>\n",
       "      <th>NO_OF_COMPETITOR</th>\n",
       "      <th>...</th>\n",
       "      <th>ELECTRIC_SUPPLY</th>\n",
       "      <th>DIST_FROM_HUB</th>\n",
       "      <th>WORKERS_NUM</th>\n",
       "      <th>WH_EST_YEAR</th>\n",
       "      <th>STORAGE_ISSUE_REPORTED</th>\n",
       "      <th>TEMP_REG_MACH</th>\n",
       "      <th>APPROVED_WH_GOVT_CERTIFICATE</th>\n",
       "      <th>WH_BREAKDOWN</th>\n",
       "      <th>GOVT_CHECK</th>\n",
       "      <th>PRODUCT_WG_TON</th>\n",
       "    </tr>\n",
       "  </thead>\n",
       "  <tbody>\n",
       "    <tr>\n",
       "      <th>0</th>\n",
       "      <td>2023-01-01</td>\n",
       "      <td>WH_100000</td>\n",
       "      <td>EID_50000</td>\n",
       "      <td>Urban</td>\n",
       "      <td>Small</td>\n",
       "      <td>West</td>\n",
       "      <td>Zone 6</td>\n",
       "      <td>3</td>\n",
       "      <td>1</td>\n",
       "      <td>2</td>\n",
       "      <td>...</td>\n",
       "      <td>1</td>\n",
       "      <td>91.0</td>\n",
       "      <td>29.0</td>\n",
       "      <td>NaN</td>\n",
       "      <td>13</td>\n",
       "      <td>0.0</td>\n",
       "      <td>A</td>\n",
       "      <td>5.0</td>\n",
       "      <td>15.0</td>\n",
       "      <td>17115.0</td>\n",
       "    </tr>\n",
       "    <tr>\n",
       "      <th>1</th>\n",
       "      <td>2023-01-01</td>\n",
       "      <td>WH_100001</td>\n",
       "      <td>EID_50001</td>\n",
       "      <td>Rural</td>\n",
       "      <td>Large</td>\n",
       "      <td>North</td>\n",
       "      <td>Zone 5</td>\n",
       "      <td>0</td>\n",
       "      <td>0</td>\n",
       "      <td>4</td>\n",
       "      <td>...</td>\n",
       "      <td>1</td>\n",
       "      <td>210.0</td>\n",
       "      <td>31.0</td>\n",
       "      <td>NaN</td>\n",
       "      <td>4</td>\n",
       "      <td>0.0</td>\n",
       "      <td>A</td>\n",
       "      <td>3.0</td>\n",
       "      <td>17.0</td>\n",
       "      <td>5074.0</td>\n",
       "    </tr>\n",
       "    <tr>\n",
       "      <th>2</th>\n",
       "      <td>2023-01-01</td>\n",
       "      <td>WH_100002</td>\n",
       "      <td>EID_50002</td>\n",
       "      <td>Rural</td>\n",
       "      <td>Mid</td>\n",
       "      <td>South</td>\n",
       "      <td>Zone 2</td>\n",
       "      <td>1</td>\n",
       "      <td>0</td>\n",
       "      <td>4</td>\n",
       "      <td>...</td>\n",
       "      <td>0</td>\n",
       "      <td>161.0</td>\n",
       "      <td>37.0</td>\n",
       "      <td>NaN</td>\n",
       "      <td>17</td>\n",
       "      <td>0.0</td>\n",
       "      <td>A</td>\n",
       "      <td>6.0</td>\n",
       "      <td>22.0</td>\n",
       "      <td>23137.0</td>\n",
       "    </tr>\n",
       "    <tr>\n",
       "      <th>3</th>\n",
       "      <td>2023-01-01</td>\n",
       "      <td>WH_100003</td>\n",
       "      <td>EID_50003</td>\n",
       "      <td>Rural</td>\n",
       "      <td>Mid</td>\n",
       "      <td>North</td>\n",
       "      <td>Zone 3</td>\n",
       "      <td>7</td>\n",
       "      <td>4</td>\n",
       "      <td>2</td>\n",
       "      <td>...</td>\n",
       "      <td>0</td>\n",
       "      <td>103.0</td>\n",
       "      <td>21.0</td>\n",
       "      <td>NaN</td>\n",
       "      <td>17</td>\n",
       "      <td>1.0</td>\n",
       "      <td>A+</td>\n",
       "      <td>3.0</td>\n",
       "      <td>27.0</td>\n",
       "      <td>22115.0</td>\n",
       "    </tr>\n",
       "    <tr>\n",
       "      <th>4</th>\n",
       "      <td>2023-01-01</td>\n",
       "      <td>WH_100004</td>\n",
       "      <td>EID_50004</td>\n",
       "      <td>Rural</td>\n",
       "      <td>Large</td>\n",
       "      <td>North</td>\n",
       "      <td>Zone 5</td>\n",
       "      <td>3</td>\n",
       "      <td>1</td>\n",
       "      <td>2</td>\n",
       "      <td>...</td>\n",
       "      <td>1</td>\n",
       "      <td>112.0</td>\n",
       "      <td>25.0</td>\n",
       "      <td>2009.0</td>\n",
       "      <td>18</td>\n",
       "      <td>0.0</td>\n",
       "      <td>C</td>\n",
       "      <td>6.0</td>\n",
       "      <td>24.0</td>\n",
       "      <td>24071.0</td>\n",
       "    </tr>\n",
       "    <tr>\n",
       "      <th>...</th>\n",
       "      <td>...</td>\n",
       "      <td>...</td>\n",
       "      <td>...</td>\n",
       "      <td>...</td>\n",
       "      <td>...</td>\n",
       "      <td>...</td>\n",
       "      <td>...</td>\n",
       "      <td>...</td>\n",
       "      <td>...</td>\n",
       "      <td>...</td>\n",
       "      <td>...</td>\n",
       "      <td>...</td>\n",
       "      <td>...</td>\n",
       "      <td>...</td>\n",
       "      <td>...</td>\n",
       "      <td>...</td>\n",
       "      <td>...</td>\n",
       "      <td>...</td>\n",
       "      <td>...</td>\n",
       "      <td>...</td>\n",
       "      <td>...</td>\n",
       "    </tr>\n",
       "    <tr>\n",
       "      <th>349996</th>\n",
       "      <td>2024-02-01</td>\n",
       "      <td>WH_124996</td>\n",
       "      <td>EID_74996</td>\n",
       "      <td>Rural</td>\n",
       "      <td>Mid</td>\n",
       "      <td>West</td>\n",
       "      <td>Zone 2</td>\n",
       "      <td>4</td>\n",
       "      <td>7</td>\n",
       "      <td>1</td>\n",
       "      <td>...</td>\n",
       "      <td>1</td>\n",
       "      <td>130.0</td>\n",
       "      <td>39.0</td>\n",
       "      <td>2005.0</td>\n",
       "      <td>23</td>\n",
       "      <td>0.0</td>\n",
       "      <td>B</td>\n",
       "      <td>21.0</td>\n",
       "      <td>36.0</td>\n",
       "      <td>37853.0</td>\n",
       "    </tr>\n",
       "    <tr>\n",
       "      <th>349997</th>\n",
       "      <td>2024-02-01</td>\n",
       "      <td>WH_124997</td>\n",
       "      <td>EID_74997</td>\n",
       "      <td>Urban</td>\n",
       "      <td>Large</td>\n",
       "      <td>South</td>\n",
       "      <td>Zone 5</td>\n",
       "      <td>12</td>\n",
       "      <td>4</td>\n",
       "      <td>0</td>\n",
       "      <td>...</td>\n",
       "      <td>1</td>\n",
       "      <td>147.0</td>\n",
       "      <td>27.0</td>\n",
       "      <td>2012.0</td>\n",
       "      <td>12</td>\n",
       "      <td>1.0</td>\n",
       "      <td>A</td>\n",
       "      <td>30.0</td>\n",
       "      <td>55.0</td>\n",
       "      <td>65888.0</td>\n",
       "    </tr>\n",
       "    <tr>\n",
       "      <th>349998</th>\n",
       "      <td>2024-02-01</td>\n",
       "      <td>WH_124998</td>\n",
       "      <td>EID_74998</td>\n",
       "      <td>Rural</td>\n",
       "      <td>Small</td>\n",
       "      <td>North</td>\n",
       "      <td>Zone 1</td>\n",
       "      <td>1</td>\n",
       "      <td>4</td>\n",
       "      <td>10</td>\n",
       "      <td>...</td>\n",
       "      <td>1</td>\n",
       "      <td>60.0</td>\n",
       "      <td>44.0</td>\n",
       "      <td>NaN</td>\n",
       "      <td>24</td>\n",
       "      <td>0.0</td>\n",
       "      <td>B</td>\n",
       "      <td>17.0</td>\n",
       "      <td>38.0</td>\n",
       "      <td>38534.0</td>\n",
       "    </tr>\n",
       "    <tr>\n",
       "      <th>349999</th>\n",
       "      <td>2024-02-01</td>\n",
       "      <td>WH_124999</td>\n",
       "      <td>EID_74999</td>\n",
       "      <td>Rural</td>\n",
       "      <td>Mid</td>\n",
       "      <td>West</td>\n",
       "      <td>Zone 4</td>\n",
       "      <td>3</td>\n",
       "      <td>3</td>\n",
       "      <td>4</td>\n",
       "      <td>...</td>\n",
       "      <td>1</td>\n",
       "      <td>239.0</td>\n",
       "      <td>57.0</td>\n",
       "      <td>NaN</td>\n",
       "      <td>22</td>\n",
       "      <td>0.0</td>\n",
       "      <td>B+</td>\n",
       "      <td>16.0</td>\n",
       "      <td>41.0</td>\n",
       "      <td>58351.0</td>\n",
       "    </tr>\n",
       "    <tr>\n",
       "      <th>350000</th>\n",
       "      <td>2024-02-01</td>\n",
       "      <td>WH_100000</td>\n",
       "      <td>EID_50000</td>\n",
       "      <td>Urban</td>\n",
       "      <td>Small</td>\n",
       "      <td>West</td>\n",
       "      <td>Zone 6</td>\n",
       "      <td>4</td>\n",
       "      <td>2</td>\n",
       "      <td>3</td>\n",
       "      <td>...</td>\n",
       "      <td>1</td>\n",
       "      <td>91.0</td>\n",
       "      <td>56.0</td>\n",
       "      <td>2019.0</td>\n",
       "      <td>5</td>\n",
       "      <td>0.0</td>\n",
       "      <td>A</td>\n",
       "      <td>33.0</td>\n",
       "      <td>39.0</td>\n",
       "      <td>50619.0</td>\n",
       "    </tr>\n",
       "  </tbody>\n",
       "</table>\n",
       "<p>350001 rows × 25 columns</p>\n",
       "</div>"
      ],
      "text/plain": [
       "              DATE WARE_HOUSE_ID WH_MANAGER_ID LOCATION_TYPE WH_CAPACITY_SIZE  \\\n",
       "0       2023-01-01     WH_100000     EID_50000         Urban            Small   \n",
       "1       2023-01-01     WH_100001     EID_50001         Rural            Large   \n",
       "2       2023-01-01     WH_100002     EID_50002         Rural              Mid   \n",
       "3       2023-01-01     WH_100003     EID_50003         Rural              Mid   \n",
       "4       2023-01-01     WH_100004     EID_50004         Rural            Large   \n",
       "...            ...           ...           ...           ...              ...   \n",
       "349996  2024-02-01     WH_124996     EID_74996         Rural              Mid   \n",
       "349997  2024-02-01     WH_124997     EID_74997         Urban            Large   \n",
       "349998  2024-02-01     WH_124998     EID_74998         Rural            Small   \n",
       "349999  2024-02-01     WH_124999     EID_74999         Rural              Mid   \n",
       "350000  2024-02-01     WH_100000     EID_50000         Urban            Small   \n",
       "\n",
       "         ZONE WH_REGIONAL_ZONE  REFILL_REQUESTS  TRANSPORT_ISSUE  \\\n",
       "0        West           Zone 6                3                1   \n",
       "1       North           Zone 5                0                0   \n",
       "2       South           Zone 2                1                0   \n",
       "3       North           Zone 3                7                4   \n",
       "4       North           Zone 5                3                1   \n",
       "...       ...              ...              ...              ...   \n",
       "349996   West           Zone 2                4                7   \n",
       "349997  South           Zone 5               12                4   \n",
       "349998  North           Zone 1                1                4   \n",
       "349999   West           Zone 4                3                3   \n",
       "350000   West           Zone 6                4                2   \n",
       "\n",
       "        NO_OF_COMPETITOR  ...  ELECTRIC_SUPPLY DIST_FROM_HUB  WORKERS_NUM  \\\n",
       "0                      2  ...                1          91.0         29.0   \n",
       "1                      4  ...                1         210.0         31.0   \n",
       "2                      4  ...                0         161.0         37.0   \n",
       "3                      2  ...                0         103.0         21.0   \n",
       "4                      2  ...                1         112.0         25.0   \n",
       "...                  ...  ...              ...           ...          ...   \n",
       "349996                 1  ...                1         130.0         39.0   \n",
       "349997                 0  ...                1         147.0         27.0   \n",
       "349998                10  ...                1          60.0         44.0   \n",
       "349999                 4  ...                1         239.0         57.0   \n",
       "350000                 3  ...                1          91.0         56.0   \n",
       "\n",
       "        WH_EST_YEAR  STORAGE_ISSUE_REPORTED  TEMP_REG_MACH  \\\n",
       "0               NaN                      13            0.0   \n",
       "1               NaN                       4            0.0   \n",
       "2               NaN                      17            0.0   \n",
       "3               NaN                      17            1.0   \n",
       "4            2009.0                      18            0.0   \n",
       "...             ...                     ...            ...   \n",
       "349996       2005.0                      23            0.0   \n",
       "349997       2012.0                      12            1.0   \n",
       "349998          NaN                      24            0.0   \n",
       "349999          NaN                      22            0.0   \n",
       "350000       2019.0                       5            0.0   \n",
       "\n",
       "        APPROVED_WH_GOVT_CERTIFICATE  WH_BREAKDOWN  GOVT_CHECK  PRODUCT_WG_TON  \n",
       "0                                  A           5.0        15.0         17115.0  \n",
       "1                                  A           3.0        17.0          5074.0  \n",
       "2                                  A           6.0        22.0         23137.0  \n",
       "3                                 A+           3.0        27.0         22115.0  \n",
       "4                                  C           6.0        24.0         24071.0  \n",
       "...                              ...           ...         ...             ...  \n",
       "349996                             B          21.0        36.0         37853.0  \n",
       "349997                             A          30.0        55.0         65888.0  \n",
       "349998                             B          17.0        38.0         38534.0  \n",
       "349999                            B+          16.0        41.0         58351.0  \n",
       "350000                             A          33.0        39.0         50619.0  \n",
       "\n",
       "[350001 rows x 25 columns]"
      ]
     },
     "execution_count": 7,
     "metadata": {},
     "output_type": "execute_result"
    }
   ],
   "source": [
    "df_or\n",
    "df_test_or"
   ]
  },
  {
   "cell_type": "code",
   "execution_count": 8,
   "id": "bfc39a6a",
   "metadata": {},
   "outputs": [
    {
     "data": {
      "text/html": [
       "<div>\n",
       "<style scoped>\n",
       "    .dataframe tbody tr th:only-of-type {\n",
       "        vertical-align: middle;\n",
       "    }\n",
       "\n",
       "    .dataframe tbody tr th {\n",
       "        vertical-align: top;\n",
       "    }\n",
       "\n",
       "    .dataframe thead th {\n",
       "        text-align: right;\n",
       "    }\n",
       "</style>\n",
       "<table border=\"1\" class=\"dataframe\">\n",
       "  <thead>\n",
       "    <tr style=\"text-align: right;\">\n",
       "      <th></th>\n",
       "      <th>DATE</th>\n",
       "      <th>WARE_HOUSE_ID</th>\n",
       "      <th>LOCATION_TYPE</th>\n",
       "      <th>WH_CAPACITY_SIZE</th>\n",
       "      <th>ZONE</th>\n",
       "      <th>WH_REGIONAL_ZONE</th>\n",
       "      <th>APPROVED_WH_GOVT_CERTIFICATE</th>\n",
       "    </tr>\n",
       "  </thead>\n",
       "  <tbody>\n",
       "    <tr>\n",
       "      <th>0</th>\n",
       "      <td>2023-01-01</td>\n",
       "      <td>WH_100000</td>\n",
       "      <td>Urban</td>\n",
       "      <td>Small</td>\n",
       "      <td>West</td>\n",
       "      <td>Zone 6</td>\n",
       "      <td>A</td>\n",
       "    </tr>\n",
       "    <tr>\n",
       "      <th>1</th>\n",
       "      <td>2023-01-01</td>\n",
       "      <td>WH_100001</td>\n",
       "      <td>Rural</td>\n",
       "      <td>Large</td>\n",
       "      <td>North</td>\n",
       "      <td>Zone 5</td>\n",
       "      <td>A</td>\n",
       "    </tr>\n",
       "    <tr>\n",
       "      <th>2</th>\n",
       "      <td>2023-01-01</td>\n",
       "      <td>WH_100002</td>\n",
       "      <td>Rural</td>\n",
       "      <td>Mid</td>\n",
       "      <td>South</td>\n",
       "      <td>Zone 2</td>\n",
       "      <td>A</td>\n",
       "    </tr>\n",
       "    <tr>\n",
       "      <th>3</th>\n",
       "      <td>2023-01-01</td>\n",
       "      <td>WH_100003</td>\n",
       "      <td>Rural</td>\n",
       "      <td>Mid</td>\n",
       "      <td>North</td>\n",
       "      <td>Zone 3</td>\n",
       "      <td>A+</td>\n",
       "    </tr>\n",
       "    <tr>\n",
       "      <th>4</th>\n",
       "      <td>2023-01-01</td>\n",
       "      <td>WH_100004</td>\n",
       "      <td>Rural</td>\n",
       "      <td>Large</td>\n",
       "      <td>North</td>\n",
       "      <td>Zone 5</td>\n",
       "      <td>C</td>\n",
       "    </tr>\n",
       "    <tr>\n",
       "      <th>...</th>\n",
       "      <td>...</td>\n",
       "      <td>...</td>\n",
       "      <td>...</td>\n",
       "      <td>...</td>\n",
       "      <td>...</td>\n",
       "      <td>...</td>\n",
       "      <td>...</td>\n",
       "    </tr>\n",
       "    <tr>\n",
       "      <th>326772</th>\n",
       "      <td>2024-02-01</td>\n",
       "      <td>WH_101772</td>\n",
       "      <td>Rural</td>\n",
       "      <td>Mid</td>\n",
       "      <td>North</td>\n",
       "      <td>Zone 4</td>\n",
       "      <td>C</td>\n",
       "    </tr>\n",
       "    <tr>\n",
       "      <th>326773</th>\n",
       "      <td>2024-02-01</td>\n",
       "      <td>WH_101773</td>\n",
       "      <td>Rural</td>\n",
       "      <td>Large</td>\n",
       "      <td>North</td>\n",
       "      <td>Zone 6</td>\n",
       "      <td>A+</td>\n",
       "    </tr>\n",
       "    <tr>\n",
       "      <th>326774</th>\n",
       "      <td>2024-02-01</td>\n",
       "      <td>WH_101774</td>\n",
       "      <td>Rural</td>\n",
       "      <td>Small</td>\n",
       "      <td>North</td>\n",
       "      <td>Zone 1</td>\n",
       "      <td>A+</td>\n",
       "    </tr>\n",
       "    <tr>\n",
       "      <th>326775</th>\n",
       "      <td>2024-02-01</td>\n",
       "      <td>WH_101775</td>\n",
       "      <td>Rural</td>\n",
       "      <td>Mid</td>\n",
       "      <td>North</td>\n",
       "      <td>Zone 4</td>\n",
       "      <td>C</td>\n",
       "    </tr>\n",
       "    <tr>\n",
       "      <th>326776</th>\n",
       "      <td>2024-02-01</td>\n",
       "      <td>WH_101776</td>\n",
       "      <td>Rural</td>\n",
       "      <td>Small</td>\n",
       "      <td>South</td>\n",
       "      <td>Zone 1</td>\n",
       "      <td>B</td>\n",
       "    </tr>\n",
       "  </tbody>\n",
       "</table>\n",
       "<p>326777 rows × 7 columns</p>\n",
       "</div>"
      ],
      "text/plain": [
       "              DATE WARE_HOUSE_ID LOCATION_TYPE WH_CAPACITY_SIZE   ZONE  \\\n",
       "0       2023-01-01     WH_100000         Urban            Small   West   \n",
       "1       2023-01-01     WH_100001         Rural            Large  North   \n",
       "2       2023-01-01     WH_100002         Rural              Mid  South   \n",
       "3       2023-01-01     WH_100003         Rural              Mid  North   \n",
       "4       2023-01-01     WH_100004         Rural            Large  North   \n",
       "...            ...           ...           ...              ...    ...   \n",
       "326772  2024-02-01     WH_101772         Rural              Mid  North   \n",
       "326773  2024-02-01     WH_101773         Rural            Large  North   \n",
       "326774  2024-02-01     WH_101774         Rural            Small  North   \n",
       "326775  2024-02-01     WH_101775         Rural              Mid  North   \n",
       "326776  2024-02-01     WH_101776         Rural            Small  South   \n",
       "\n",
       "       WH_REGIONAL_ZONE APPROVED_WH_GOVT_CERTIFICATE  \n",
       "0                Zone 6                            A  \n",
       "1                Zone 5                            A  \n",
       "2                Zone 2                            A  \n",
       "3                Zone 3                           A+  \n",
       "4                Zone 5                            C  \n",
       "...                 ...                          ...  \n",
       "326772           Zone 4                            C  \n",
       "326773           Zone 6                           A+  \n",
       "326774           Zone 1                           A+  \n",
       "326775           Zone 4                            C  \n",
       "326776           Zone 1                            B  \n",
       "\n",
       "[326777 rows x 7 columns]"
      ]
     },
     "execution_count": 8,
     "metadata": {},
     "output_type": "execute_result"
    }
   ],
   "source": [
    "\n",
    "df_date = df_or[[\"DATE\",\"WARE_HOUSE_ID\",\"LOCATION_TYPE\",\"WH_CAPACITY_SIZE\",\"ZONE\",\"WH_REGIONAL_ZONE\",\"APPROVED_WH_GOVT_CERTIFICATE\"]]\n",
    "df_date\n",
    "\n",
    "df_date = df_date.iloc[:326777, :]\n",
    "df_date"
   ]
  },
  {
   "cell_type": "code",
   "execution_count": null,
   "id": "37bf3d0b",
   "metadata": {},
   "outputs": [],
   "source": [
    "#df_or100 = df_or.iloc[:100, :]\n",
    "#df_or100\n",
    "#df_test_or = session.table(\"CPG_DATA_ORIGINAL\").to_pandas()\n",
    "\n",
    "#df_or100= df_or100.reset_index()\n",
    "#df_or100"
   ]
  },
  {
   "cell_type": "code",
   "execution_count": null,
   "id": "469feb00",
   "metadata": {},
   "outputs": [],
   "source": [
    "#df_or\n",
    "#df_test_or= df_test_or.reset_index()\n",
    "#df_test_or.head()\n",
    "#df_or\n",
    "#df_test_or"
   ]
  },
  {
   "cell_type": "code",
   "execution_count": null,
   "id": "272df73b",
   "metadata": {},
   "outputs": [],
   "source": []
  },
  {
   "cell_type": "code",
   "execution_count": 9,
   "id": "e0a07299",
   "metadata": {},
   "outputs": [],
   "source": [
    "import pandas as pd\n",
    "import numpy as np\n",
    "import sklearn \n",
    "\n",
    "#import matplotlib.pyplot as plt\n",
    "#%matplotlib inline\n",
    "#import seaborn as sns\n",
    "\n",
    "\n",
    "from sklearn.preprocessing import LabelEncoder, StandardScaler\n",
    "\n",
    "from sklearn.linear_model import LinearRegression\n",
    "from sklearn.tree import DecisionTreeRegressor\n",
    "from sklearn.ensemble import RandomForestRegressor, GradientBoostingRegressor\n",
    "from sklearn.svm import SVR\n",
    "\n",
    "from sklearn.metrics import mean_squared_error, r2_score, mean_absolute_error\n",
    "import warnings\n",
    "warnings.simplefilter(action='ignore')"
   ]
  },
  {
   "cell_type": "code",
   "execution_count": null,
   "id": "a946d326",
   "metadata": {},
   "outputs": [],
   "source": [
    "# train dataset\n",
    "#df = pd.read_csv(\"1.FMCG_data_original.csv\")\n",
    "\n",
    "# test dataset\n",
    "#df_test = pd.read_csv(\"1.FMCG_data_original.csv\")"
   ]
  },
  {
   "cell_type": "code",
   "execution_count": 10,
   "id": "c0186c2f",
   "metadata": {},
   "outputs": [
    {
     "data": {
      "text/plain": [
       "PRODUCT_WG_TON                  65179\n",
       "WH_MANAGER_ID                   25000\n",
       "WARE_HOUSE_ID                   25000\n",
       "NO_OF_RETAILERS                  9068\n",
       "DIST_FROM_HUB                     217\n",
       "NUMBER_OF_DISTRIBUTORS            138\n",
       "WORKERS_NUM                       122\n",
       "STORAGE_ISSUE_REPORTED             73\n",
       "GOVT_CHECK                         70\n",
       "WH_BREAKDOWN                       47\n",
       "WH_EST_YEAR                        28\n",
       "REFILL_REQUESTS                    27\n",
       "TRANSPORT_ISSUE                    23\n",
       "NO_OF_COMPETITOR                   23\n",
       "DATE                               14\n",
       "APPROVED_WH_GOVT_CERTIFICATE        7\n",
       "WH_REGIONAL_ZONE                    6\n",
       "ZONE                                4\n",
       "WH_CAPACITY_SIZE                    3\n",
       "LOCATION_TYPE                       2\n",
       "FLOOD_PROOF                         2\n",
       "FLOOD_IMPACTED                      2\n",
       "TEMP_REG_MACH                       2\n",
       "WAREHOUSE_OWNERSHIP                 2\n",
       "ELECTRIC_SUPPLY                     2\n",
       "dtype: int64"
      ]
     },
     "execution_count": 10,
     "metadata": {},
     "output_type": "execute_result"
    }
   ],
   "source": [
    "df_or.nunique().sort_values(ascending=False)"
   ]
  },
  {
   "cell_type": "code",
   "execution_count": 11,
   "id": "f350b4ab",
   "metadata": {},
   "outputs": [
    {
     "data": {
      "text/plain": [
       "(350001, 25)"
      ]
     },
     "execution_count": 11,
     "metadata": {},
     "output_type": "execute_result"
    }
   ],
   "source": [
    "\n",
    "df_or.shape\n",
    "\n"
   ]
  },
  {
   "cell_type": "code",
   "execution_count": 12,
   "id": "798728d2",
   "metadata": {},
   "outputs": [
    {
     "data": {
      "text/plain": [
       "ELECTRIC_SUPPLY                     2\n",
       "LOCATION_TYPE                       2\n",
       "FLOOD_PROOF                         2\n",
       "FLOOD_IMPACTED                      2\n",
       "WAREHOUSE_OWNERSHIP                 2\n",
       "TEMP_REG_MACH                       2\n",
       "WH_CAPACITY_SIZE                    3\n",
       "ZONE                                4\n",
       "WH_REGIONAL_ZONE                    6\n",
       "APPROVED_WH_GOVT_CERTIFICATE        7\n",
       "DATE                               14\n",
       "NO_OF_COMPETITOR                   23\n",
       "TRANSPORT_ISSUE                    23\n",
       "REFILL_REQUESTS                    27\n",
       "WH_EST_YEAR                        28\n",
       "WH_BREAKDOWN                       47\n",
       "GOVT_CHECK                         70\n",
       "STORAGE_ISSUE_REPORTED             73\n",
       "WORKERS_NUM                       122\n",
       "NUMBER_OF_DISTRIBUTORS            138\n",
       "DIST_FROM_HUB                     217\n",
       "NO_OF_RETAILERS                  9068\n",
       "WH_MANAGER_ID                   25000\n",
       "WARE_HOUSE_ID                   25000\n",
       "PRODUCT_WG_TON                  65179\n",
       "dtype: int64"
      ]
     },
     "execution_count": 12,
     "metadata": {},
     "output_type": "execute_result"
    }
   ],
   "source": [
    "#df_or.drop(columns=['WARE_HOUSE_ID','WH_MANAGER_ID','DATE'], inplace = True)\n",
    "df_or['WORKERS_NUM'].median()\n",
    "df_or['APPROVED_WH_GOVT_CERTIFICATE'].mode()\n",
    "df_or['APPROVED_WH_GOVT_CERTIFICATE'].fillna(df_or['APPROVED_WH_GOVT_CERTIFICATE'].mode()[0], inplace=True)\n",
    "df_or.isnull().sum()\n",
    "df_or.nunique().sort_values(ascending= True)"
   ]
  },
  {
   "cell_type": "code",
   "execution_count": 13,
   "id": "338f5f71",
   "metadata": {},
   "outputs": [
    {
     "name": "stdout",
     "output_type": "stream",
     "text": [
      "Number of unique values in column  LOCATION_TYPE  : 2\n",
      "LOCATION_TYPE\n",
      "Rural    321398\n",
      "Urban     28603\n",
      "Name: count, dtype: int64\n",
      " \n",
      "Number of unique values in column  WH_CAPACITY_SIZE  : 3\n",
      "WH_CAPACITY_SIZE\n",
      "Large    142366\n",
      "Mid      140280\n",
      "Small     67355\n",
      "Name: count, dtype: int64\n",
      " \n",
      "Number of unique values in column  ZONE  : 4\n",
      "ZONE\n",
      "North    143892\n",
      "West     111035\n",
      "South     89068\n",
      "East       6006\n",
      "Name: count, dtype: int64\n",
      " \n",
      "Number of unique values in column  WAREHOUSE_OWNERSHIP  : 2\n",
      "WAREHOUSE_OWNERSHIP\n",
      "Company Owned    190092\n",
      "Rented           159909\n",
      "Name: count, dtype: int64\n",
      " \n",
      "Number of unique values in column  FLOOD_IMPACTED  : 2\n",
      "FLOOD_IMPACTED\n",
      "0    315645\n",
      "1     34356\n",
      "Name: count, dtype: int64\n",
      " \n",
      "Number of unique values in column  FLOOD_PROOF  : 2\n",
      "FLOOD_PROOF\n",
      "0    330876\n",
      "1     19125\n",
      "Name: count, dtype: int64\n",
      " \n",
      "Number of unique values in column  ELECTRIC_SUPPLY  : 2\n",
      "ELECTRIC_SUPPLY\n",
      "1    229909\n",
      "0    120092\n",
      "Name: count, dtype: int64\n",
      " \n",
      "Number of unique values in column  TEMP_REG_MACH  : 3\n",
      "TEMP_REG_MACH\n",
      "0.0    243852\n",
      "1.0    106148\n",
      "Name: count, dtype: int64\n",
      " \n"
     ]
    }
   ],
   "source": [
    "for i in df_or.columns[df_or.nunique()<=4]:\n",
    "    print(\"Number of unique values in column \", i, ' :', len(df_or[i].unique()))\n",
    "    print(df_or[i].value_counts())\n",
    "    print(' ')"
   ]
  },
  {
   "cell_type": "code",
   "execution_count": 14,
   "id": "e620a48f",
   "metadata": {},
   "outputs": [],
   "source": [
    "def count_outliers(df_or):\n",
    "    outliers={}\n",
    "    for i in df_or.columns:\n",
    "        if pd.api.types.is_numeric_dtype(df_or[i]):\n",
    "            q1 = df_or[i].quantile(0.25)\n",
    "            q3 = df_or[i].quantile(0.75)\n",
    "            iqr = q3 - q1\n",
    "            lower = q1 - 1.5*iqr\n",
    "            upper = q3 + 1.5*iqr\n",
    "            outliers[i] = df_or[(df_or[i] < lower) | (df_or[i] > upper)].shape[0]\n",
    "        else:\n",
    "            pass\n",
    "    return outliers"
   ]
  },
  {
   "cell_type": "code",
   "execution_count": 15,
   "id": "2a283585",
   "metadata": {},
   "outputs": [
    {
     "data": {
      "text/plain": [
       "{'REFILL_REQUESTS': 4159,\n",
       " 'TRANSPORT_ISSUE': 3852,\n",
       " 'NO_OF_COMPETITOR': 16980,\n",
       " 'NO_OF_RETAILERS': 7980,\n",
       " 'NUMBER_OF_DISTRIBUTORS': 494,\n",
       " 'FLOOD_IMPACTED': 34356,\n",
       " 'FLOOD_PROOF': 19125,\n",
       " 'ELECTRIC_SUPPLY': 0,\n",
       " 'DIST_FROM_HUB': 0,\n",
       " 'WORKERS_NUM': 8332,\n",
       " 'WH_EST_YEAR': 0,\n",
       " 'STORAGE_ISSUE_REPORTED': 932,\n",
       " 'TEMP_REG_MACH': 0,\n",
       " 'WH_BREAKDOWN': 436,\n",
       " 'GOVT_CHECK': 114,\n",
       " 'PRODUCT_WG_TON': 1327}"
      ]
     },
     "execution_count": 15,
     "metadata": {},
     "output_type": "execute_result"
    }
   ],
   "source": [
    "outlier_counts = count_outliers(df_or)\n",
    "outlier_counts"
   ]
  },
  {
   "cell_type": "code",
   "execution_count": 16,
   "id": "82bed5de",
   "metadata": {},
   "outputs": [],
   "source": [
    "df_or['PRODUCT_WG_TON'].corr(df_or['FLOOD_PROOF'])\n",
    "df_or['PRODUCT_WG_TON'].corr(df_or['FLOOD_IMPACTED'])\n",
    "df_or.drop(columns=['FLOOD_PROOF', 'FLOOD_IMPACTED'], inplace = True)"
   ]
  },
  {
   "cell_type": "code",
   "execution_count": 17,
   "id": "284e1d60",
   "metadata": {},
   "outputs": [],
   "source": [
    "def remove_outliers(df_or):\n",
    "    num_df = df_or.select_dtypes(include=['int', 'float'])\n",
    "    q1 = num_df.quantile(0.25)\n",
    "    q3 = num_df.quantile(0.75)\n",
    "    iqr = q3 - q1\n",
    "    lower = q1 - 1.5*iqr\n",
    "    upper = q3 + 1.5*iqr\n",
    "    df_no_outliers = num_df[((num_df >= lower) & (num_df <= upper)).all(axis=1)]\n",
    "    return df_or.loc[df_no_outliers.index]"
   ]
  },
  {
   "cell_type": "code",
   "execution_count": 18,
   "id": "3160ac5d",
   "metadata": {},
   "outputs": [
    {
     "data": {
      "text/plain": [
       "(173446, 23)"
      ]
     },
     "execution_count": 18,
     "metadata": {},
     "output_type": "execute_result"
    }
   ],
   "source": [
    "df_or = remove_outliers(df_or)\n",
    "df_or.shape"
   ]
  },
  {
   "cell_type": "code",
   "execution_count": 19,
   "id": "d203d977",
   "metadata": {},
   "outputs": [
    {
     "data": {
      "text/html": [
       "<div>\n",
       "<style scoped>\n",
       "    .dataframe tbody tr th:only-of-type {\n",
       "        vertical-align: middle;\n",
       "    }\n",
       "\n",
       "    .dataframe tbody tr th {\n",
       "        vertical-align: top;\n",
       "    }\n",
       "\n",
       "    .dataframe thead th {\n",
       "        text-align: right;\n",
       "    }\n",
       "</style>\n",
       "<table border=\"1\" class=\"dataframe\">\n",
       "  <thead>\n",
       "    <tr style=\"text-align: right;\">\n",
       "      <th></th>\n",
       "      <th>DATE</th>\n",
       "      <th>WARE_HOUSE_ID</th>\n",
       "      <th>WH_MANAGER_ID</th>\n",
       "      <th>LOCATION_TYPE</th>\n",
       "      <th>WH_CAPACITY_SIZE</th>\n",
       "      <th>ZONE</th>\n",
       "      <th>WH_REGIONAL_ZONE</th>\n",
       "      <th>REFILL_REQUESTS</th>\n",
       "      <th>TRANSPORT_ISSUE</th>\n",
       "      <th>NO_OF_COMPETITOR</th>\n",
       "      <th>...</th>\n",
       "      <th>ELECTRIC_SUPPLY</th>\n",
       "      <th>DIST_FROM_HUB</th>\n",
       "      <th>WORKERS_NUM</th>\n",
       "      <th>WH_EST_YEAR</th>\n",
       "      <th>STORAGE_ISSUE_REPORTED</th>\n",
       "      <th>TEMP_REG_MACH</th>\n",
       "      <th>APPROVED_WH_GOVT_CERTIFICATE</th>\n",
       "      <th>WH_BREAKDOWN</th>\n",
       "      <th>GOVT_CHECK</th>\n",
       "      <th>PRODUCT_WG_TON</th>\n",
       "    </tr>\n",
       "  </thead>\n",
       "  <tbody>\n",
       "    <tr>\n",
       "      <th>4</th>\n",
       "      <td>2023-01-01</td>\n",
       "      <td>WH_100004</td>\n",
       "      <td>EID_50004</td>\n",
       "      <td>Rural</td>\n",
       "      <td>Large</td>\n",
       "      <td>North</td>\n",
       "      <td>Zone 5</td>\n",
       "      <td>3</td>\n",
       "      <td>1</td>\n",
       "      <td>2</td>\n",
       "      <td>...</td>\n",
       "      <td>1</td>\n",
       "      <td>112.0</td>\n",
       "      <td>25.0</td>\n",
       "      <td>2009.0</td>\n",
       "      <td>18</td>\n",
       "      <td>0.0</td>\n",
       "      <td>C</td>\n",
       "      <td>6.0</td>\n",
       "      <td>24.0</td>\n",
       "      <td>24071.0</td>\n",
       "    </tr>\n",
       "    <tr>\n",
       "      <th>5</th>\n",
       "      <td>2023-01-01</td>\n",
       "      <td>WH_100005</td>\n",
       "      <td>EID_50005</td>\n",
       "      <td>Rural</td>\n",
       "      <td>Small</td>\n",
       "      <td>West</td>\n",
       "      <td>Zone 1</td>\n",
       "      <td>8</td>\n",
       "      <td>0</td>\n",
       "      <td>2</td>\n",
       "      <td>...</td>\n",
       "      <td>1</td>\n",
       "      <td>152.0</td>\n",
       "      <td>35.0</td>\n",
       "      <td>2009.0</td>\n",
       "      <td>23</td>\n",
       "      <td>1.0</td>\n",
       "      <td>A+</td>\n",
       "      <td>3.0</td>\n",
       "      <td>3.0</td>\n",
       "      <td>32134.0</td>\n",
       "    </tr>\n",
       "    <tr>\n",
       "      <th>6</th>\n",
       "      <td>2023-01-01</td>\n",
       "      <td>WH_100006</td>\n",
       "      <td>EID_50006</td>\n",
       "      <td>Rural</td>\n",
       "      <td>Large</td>\n",
       "      <td>West</td>\n",
       "      <td>Zone 6</td>\n",
       "      <td>8</td>\n",
       "      <td>0</td>\n",
       "      <td>4</td>\n",
       "      <td>...</td>\n",
       "      <td>1</td>\n",
       "      <td>77.0</td>\n",
       "      <td>27.0</td>\n",
       "      <td>2010.0</td>\n",
       "      <td>24</td>\n",
       "      <td>0.0</td>\n",
       "      <td>B</td>\n",
       "      <td>3.0</td>\n",
       "      <td>6.0</td>\n",
       "      <td>30142.0</td>\n",
       "    </tr>\n",
       "    <tr>\n",
       "      <th>8</th>\n",
       "      <td>2023-01-01</td>\n",
       "      <td>WH_100008</td>\n",
       "      <td>EID_50008</td>\n",
       "      <td>Rural</td>\n",
       "      <td>Small</td>\n",
       "      <td>South</td>\n",
       "      <td>Zone 6</td>\n",
       "      <td>8</td>\n",
       "      <td>1</td>\n",
       "      <td>4</td>\n",
       "      <td>...</td>\n",
       "      <td>1</td>\n",
       "      <td>124.0</td>\n",
       "      <td>22.0</td>\n",
       "      <td>2013.0</td>\n",
       "      <td>13</td>\n",
       "      <td>1.0</td>\n",
       "      <td>A+</td>\n",
       "      <td>5.0</td>\n",
       "      <td>2.0</td>\n",
       "      <td>18082.0</td>\n",
       "    </tr>\n",
       "    <tr>\n",
       "      <th>10</th>\n",
       "      <td>2023-01-01</td>\n",
       "      <td>WH_100010</td>\n",
       "      <td>EID_50010</td>\n",
       "      <td>Rural</td>\n",
       "      <td>Large</td>\n",
       "      <td>North</td>\n",
       "      <td>Zone 6</td>\n",
       "      <td>7</td>\n",
       "      <td>1</td>\n",
       "      <td>3</td>\n",
       "      <td>...</td>\n",
       "      <td>1</td>\n",
       "      <td>150.0</td>\n",
       "      <td>37.0</td>\n",
       "      <td>1999.0</td>\n",
       "      <td>17</td>\n",
       "      <td>0.0</td>\n",
       "      <td>B+</td>\n",
       "      <td>4.0</td>\n",
       "      <td>6.0</td>\n",
       "      <td>21125.0</td>\n",
       "    </tr>\n",
       "    <tr>\n",
       "      <th>...</th>\n",
       "      <td>...</td>\n",
       "      <td>...</td>\n",
       "      <td>...</td>\n",
       "      <td>...</td>\n",
       "      <td>...</td>\n",
       "      <td>...</td>\n",
       "      <td>...</td>\n",
       "      <td>...</td>\n",
       "      <td>...</td>\n",
       "      <td>...</td>\n",
       "      <td>...</td>\n",
       "      <td>...</td>\n",
       "      <td>...</td>\n",
       "      <td>...</td>\n",
       "      <td>...</td>\n",
       "      <td>...</td>\n",
       "      <td>...</td>\n",
       "      <td>...</td>\n",
       "      <td>...</td>\n",
       "      <td>...</td>\n",
       "      <td>...</td>\n",
       "    </tr>\n",
       "    <tr>\n",
       "      <th>349994</th>\n",
       "      <td>2024-02-01</td>\n",
       "      <td>WH_124994</td>\n",
       "      <td>EID_74994</td>\n",
       "      <td>Rural</td>\n",
       "      <td>Mid</td>\n",
       "      <td>North</td>\n",
       "      <td>Zone 4</td>\n",
       "      <td>2</td>\n",
       "      <td>3</td>\n",
       "      <td>5</td>\n",
       "      <td>...</td>\n",
       "      <td>0</td>\n",
       "      <td>71.0</td>\n",
       "      <td>46.0</td>\n",
       "      <td>2000.0</td>\n",
       "      <td>26</td>\n",
       "      <td>0.0</td>\n",
       "      <td>A</td>\n",
       "      <td>26.0</td>\n",
       "      <td>35.0</td>\n",
       "      <td>45654.0</td>\n",
       "    </tr>\n",
       "    <tr>\n",
       "      <th>349995</th>\n",
       "      <td>2024-02-01</td>\n",
       "      <td>WH_124995</td>\n",
       "      <td>EID_74995</td>\n",
       "      <td>Rural</td>\n",
       "      <td>Small</td>\n",
       "      <td>North</td>\n",
       "      <td>Zone 1</td>\n",
       "      <td>11</td>\n",
       "      <td>0</td>\n",
       "      <td>7</td>\n",
       "      <td>...</td>\n",
       "      <td>1</td>\n",
       "      <td>142.0</td>\n",
       "      <td>62.0</td>\n",
       "      <td>2016.0</td>\n",
       "      <td>8</td>\n",
       "      <td>0.0</td>\n",
       "      <td>B+</td>\n",
       "      <td>28.0</td>\n",
       "      <td>38.0</td>\n",
       "      <td>52057.0</td>\n",
       "    </tr>\n",
       "    <tr>\n",
       "      <th>349996</th>\n",
       "      <td>2024-02-01</td>\n",
       "      <td>WH_124996</td>\n",
       "      <td>EID_74996</td>\n",
       "      <td>Rural</td>\n",
       "      <td>Mid</td>\n",
       "      <td>West</td>\n",
       "      <td>Zone 2</td>\n",
       "      <td>4</td>\n",
       "      <td>7</td>\n",
       "      <td>1</td>\n",
       "      <td>...</td>\n",
       "      <td>1</td>\n",
       "      <td>130.0</td>\n",
       "      <td>39.0</td>\n",
       "      <td>2005.0</td>\n",
       "      <td>23</td>\n",
       "      <td>0.0</td>\n",
       "      <td>B</td>\n",
       "      <td>21.0</td>\n",
       "      <td>36.0</td>\n",
       "      <td>37853.0</td>\n",
       "    </tr>\n",
       "    <tr>\n",
       "      <th>349997</th>\n",
       "      <td>2024-02-01</td>\n",
       "      <td>WH_124997</td>\n",
       "      <td>EID_74997</td>\n",
       "      <td>Urban</td>\n",
       "      <td>Large</td>\n",
       "      <td>South</td>\n",
       "      <td>Zone 5</td>\n",
       "      <td>12</td>\n",
       "      <td>4</td>\n",
       "      <td>0</td>\n",
       "      <td>...</td>\n",
       "      <td>1</td>\n",
       "      <td>147.0</td>\n",
       "      <td>27.0</td>\n",
       "      <td>2012.0</td>\n",
       "      <td>12</td>\n",
       "      <td>1.0</td>\n",
       "      <td>A</td>\n",
       "      <td>30.0</td>\n",
       "      <td>55.0</td>\n",
       "      <td>65888.0</td>\n",
       "    </tr>\n",
       "    <tr>\n",
       "      <th>350000</th>\n",
       "      <td>2024-02-01</td>\n",
       "      <td>WH_100000</td>\n",
       "      <td>EID_50000</td>\n",
       "      <td>Urban</td>\n",
       "      <td>Small</td>\n",
       "      <td>West</td>\n",
       "      <td>Zone 6</td>\n",
       "      <td>4</td>\n",
       "      <td>2</td>\n",
       "      <td>3</td>\n",
       "      <td>...</td>\n",
       "      <td>1</td>\n",
       "      <td>91.0</td>\n",
       "      <td>56.0</td>\n",
       "      <td>2019.0</td>\n",
       "      <td>5</td>\n",
       "      <td>0.0</td>\n",
       "      <td>A</td>\n",
       "      <td>33.0</td>\n",
       "      <td>39.0</td>\n",
       "      <td>50619.0</td>\n",
       "    </tr>\n",
       "  </tbody>\n",
       "</table>\n",
       "<p>173446 rows × 23 columns</p>\n",
       "</div>"
      ],
      "text/plain": [
       "              DATE WARE_HOUSE_ID WH_MANAGER_ID LOCATION_TYPE WH_CAPACITY_SIZE  \\\n",
       "4       2023-01-01     WH_100004     EID_50004         Rural            Large   \n",
       "5       2023-01-01     WH_100005     EID_50005         Rural            Small   \n",
       "6       2023-01-01     WH_100006     EID_50006         Rural            Large   \n",
       "8       2023-01-01     WH_100008     EID_50008         Rural            Small   \n",
       "10      2023-01-01     WH_100010     EID_50010         Rural            Large   \n",
       "...            ...           ...           ...           ...              ...   \n",
       "349994  2024-02-01     WH_124994     EID_74994         Rural              Mid   \n",
       "349995  2024-02-01     WH_124995     EID_74995         Rural            Small   \n",
       "349996  2024-02-01     WH_124996     EID_74996         Rural              Mid   \n",
       "349997  2024-02-01     WH_124997     EID_74997         Urban            Large   \n",
       "350000  2024-02-01     WH_100000     EID_50000         Urban            Small   \n",
       "\n",
       "         ZONE WH_REGIONAL_ZONE  REFILL_REQUESTS  TRANSPORT_ISSUE  \\\n",
       "4       North           Zone 5                3                1   \n",
       "5        West           Zone 1                8                0   \n",
       "6        West           Zone 6                8                0   \n",
       "8       South           Zone 6                8                1   \n",
       "10      North           Zone 6                7                1   \n",
       "...       ...              ...              ...              ...   \n",
       "349994  North           Zone 4                2                3   \n",
       "349995  North           Zone 1               11                0   \n",
       "349996   West           Zone 2                4                7   \n",
       "349997  South           Zone 5               12                4   \n",
       "350000   West           Zone 6                4                2   \n",
       "\n",
       "        NO_OF_COMPETITOR  ...  ELECTRIC_SUPPLY DIST_FROM_HUB  WORKERS_NUM  \\\n",
       "4                      2  ...                1         112.0         25.0   \n",
       "5                      2  ...                1         152.0         35.0   \n",
       "6                      4  ...                1          77.0         27.0   \n",
       "8                      4  ...                1         124.0         22.0   \n",
       "10                     3  ...                1         150.0         37.0   \n",
       "...                  ...  ...              ...           ...          ...   \n",
       "349994                 5  ...                0          71.0         46.0   \n",
       "349995                 7  ...                1         142.0         62.0   \n",
       "349996                 1  ...                1         130.0         39.0   \n",
       "349997                 0  ...                1         147.0         27.0   \n",
       "350000                 3  ...                1          91.0         56.0   \n",
       "\n",
       "        WH_EST_YEAR  STORAGE_ISSUE_REPORTED  TEMP_REG_MACH  \\\n",
       "4            2009.0                      18            0.0   \n",
       "5            2009.0                      23            1.0   \n",
       "6            2010.0                      24            0.0   \n",
       "8            2013.0                      13            1.0   \n",
       "10           1999.0                      17            0.0   \n",
       "...             ...                     ...            ...   \n",
       "349994       2000.0                      26            0.0   \n",
       "349995       2016.0                       8            0.0   \n",
       "349996       2005.0                      23            0.0   \n",
       "349997       2012.0                      12            1.0   \n",
       "350000       2019.0                       5            0.0   \n",
       "\n",
       "        APPROVED_WH_GOVT_CERTIFICATE  WH_BREAKDOWN  GOVT_CHECK PRODUCT_WG_TON  \n",
       "4                                  C           6.0        24.0        24071.0  \n",
       "5                                 A+           3.0         3.0        32134.0  \n",
       "6                                  B           3.0         6.0        30142.0  \n",
       "8                                 A+           5.0         2.0        18082.0  \n",
       "10                                B+           4.0         6.0        21125.0  \n",
       "...                              ...           ...         ...            ...  \n",
       "349994                             A          26.0        35.0        45654.0  \n",
       "349995                            B+          28.0        38.0        52057.0  \n",
       "349996                             B          21.0        36.0        37853.0  \n",
       "349997                             A          30.0        55.0        65888.0  \n",
       "350000                             A          33.0        39.0        50619.0  \n",
       "\n",
       "[173446 rows x 23 columns]"
      ]
     },
     "execution_count": 19,
     "metadata": {},
     "output_type": "execute_result"
    }
   ],
   "source": [
    "df_or"
   ]
  },
  {
   "cell_type": "code",
   "execution_count": 20,
   "id": "2c666c9d",
   "metadata": {},
   "outputs": [
    {
     "data": {
      "text/plain": [
       "PRODUCT_WG_TON                  65179\n",
       "WH_MANAGER_ID                   25000\n",
       "WARE_HOUSE_ID                   25000\n",
       "NO_OF_RETAILERS                  9068\n",
       "DIST_FROM_HUB                     217\n",
       "NUMBER_OF_DISTRIBUTORS            138\n",
       "WORKERS_NUM                       122\n",
       "STORAGE_ISSUE_REPORTED             73\n",
       "GOVT_CHECK                         70\n",
       "WH_BREAKDOWN                       47\n",
       "WH_EST_YEAR                        28\n",
       "REFILL_REQUESTS                    27\n",
       "TRANSPORT_ISSUE                    23\n",
       "NO_OF_COMPETITOR                   23\n",
       "DATE                               14\n",
       "APPROVED_WH_GOVT_CERTIFICATE        7\n",
       "WH_REGIONAL_ZONE                    6\n",
       "ZONE                                4\n",
       "WH_CAPACITY_SIZE                    3\n",
       "LOCATION_TYPE                       2\n",
       "FLOOD_PROOF                         2\n",
       "FLOOD_IMPACTED                      2\n",
       "TEMP_REG_MACH                       2\n",
       "WAREHOUSE_OWNERSHIP                 2\n",
       "ELECTRIC_SUPPLY                     2\n",
       "dtype: int64"
      ]
     },
     "execution_count": 20,
     "metadata": {},
     "output_type": "execute_result"
    }
   ],
   "source": [
    "df_test_or.nunique().sort_values(ascending=False)"
   ]
  },
  {
   "cell_type": "code",
   "execution_count": null,
   "id": "ee62f0fa",
   "metadata": {},
   "outputs": [],
   "source": [
    "#df_test_or.drop(columns=['WARE_HOUSE_ID', 'WH_MANAGER_ID','DATE'], inplace = True)\n",
    "#print(len(df_test_or[df_test_or.duplicated]))"
   ]
  },
  {
   "cell_type": "code",
   "execution_count": null,
   "id": "a0a3e51a",
   "metadata": {},
   "outputs": [],
   "source": [
    "df_test_or"
   ]
  },
  {
   "cell_type": "code",
   "execution_count": 21,
   "id": "252cc2b5",
   "metadata": {},
   "outputs": [
    {
     "name": "stdout",
     "output_type": "stream",
     "text": [
      "WORKERS_NUM 0.28 % missing values\n",
      "WH_EST_YEAR 47.52 % missing values\n"
     ]
    }
   ],
   "source": [
    "# print percentage of null values in each column\n",
    "\n",
    "null_values_features = [i for i in df_test_or.columns if df_test_or[i].isnull().sum()>1]\n",
    "for i in null_values_features:\n",
    "    print(i, np.round(df_test_or[i].isnull().mean()*100, 2), \"% missing values\")"
   ]
  },
  {
   "cell_type": "code",
   "execution_count": 22,
   "id": "35e85c1c",
   "metadata": {},
   "outputs": [
    {
     "data": {
      "text/plain": [
       "Index(['DATE', 'WARE_HOUSE_ID', 'WH_MANAGER_ID', 'LOCATION_TYPE',\n",
       "       'WH_CAPACITY_SIZE', 'ZONE', 'WH_REGIONAL_ZONE', 'REFILL_REQUESTS',\n",
       "       'TRANSPORT_ISSUE', 'NO_OF_COMPETITOR', 'NO_OF_RETAILERS',\n",
       "       'WAREHOUSE_OWNERSHIP', 'NUMBER_OF_DISTRIBUTORS', 'FLOOD_IMPACTED',\n",
       "       'FLOOD_PROOF', 'ELECTRIC_SUPPLY', 'DIST_FROM_HUB', 'WORKERS_NUM',\n",
       "       'WH_EST_YEAR', 'STORAGE_ISSUE_REPORTED', 'TEMP_REG_MACH',\n",
       "       'APPROVED_WH_GOVT_CERTIFICATE', 'WH_BREAKDOWN', 'GOVT_CHECK',\n",
       "       'PRODUCT_WG_TON'],\n",
       "      dtype='object')"
      ]
     },
     "execution_count": 22,
     "metadata": {},
     "output_type": "execute_result"
    }
   ],
   "source": [
    "df_test_or.columns"
   ]
  },
  {
   "cell_type": "code",
   "execution_count": 23,
   "id": "9cedeb1c",
   "metadata": {},
   "outputs": [
    {
     "data": {
      "text/plain": [
       "ELECTRIC_SUPPLY                     2\n",
       "LOCATION_TYPE                       2\n",
       "FLOOD_PROOF                         2\n",
       "FLOOD_IMPACTED                      2\n",
       "WAREHOUSE_OWNERSHIP                 2\n",
       "TEMP_REG_MACH                       2\n",
       "WH_CAPACITY_SIZE                    3\n",
       "ZONE                                4\n",
       "WH_REGIONAL_ZONE                    6\n",
       "APPROVED_WH_GOVT_CERTIFICATE        7\n",
       "DATE                               14\n",
       "NO_OF_COMPETITOR                   23\n",
       "TRANSPORT_ISSUE                    23\n",
       "REFILL_REQUESTS                    27\n",
       "WH_EST_YEAR                        28\n",
       "WH_BREAKDOWN                       47\n",
       "GOVT_CHECK                         70\n",
       "STORAGE_ISSUE_REPORTED             73\n",
       "WORKERS_NUM                       122\n",
       "NUMBER_OF_DISTRIBUTORS            138\n",
       "DIST_FROM_HUB                     217\n",
       "NO_OF_RETAILERS                  9068\n",
       "WH_MANAGER_ID                   25000\n",
       "WARE_HOUSE_ID                   25000\n",
       "PRODUCT_WG_TON                  65179\n",
       "dtype: int64"
      ]
     },
     "execution_count": 23,
     "metadata": {},
     "output_type": "execute_result"
    }
   ],
   "source": [
    "#df_test_or.drop(columns=['WH_EST_YEAR'], inplace = True)\n",
    "df_test_or['WORKERS_NUM'].median()\n",
    "df_test_or['WORKERS_NUM'].fillna(df_test_or['WORKERS_NUM'].median(), inplace=True)\n",
    "df_test_or['APPROVED_WH_GOVT_CERTIFICATE'].mode()\n",
    "df_test_or['APPROVED_WH_GOVT_CERTIFICATE'].fillna(df_test_or['APPROVED_WH_GOVT_CERTIFICATE'].mode()[0], inplace=True)\n",
    "df_test_or.isnull().sum()\n",
    "df_test_or.nunique().sort_values(ascending= True)"
   ]
  },
  {
   "cell_type": "code",
   "execution_count": 24,
   "id": "a02a3685",
   "metadata": {},
   "outputs": [
    {
     "name": "stdout",
     "output_type": "stream",
     "text": [
      "Number of unique values in column  LOCATION_TYPE  : 2\n",
      "LOCATION_TYPE\n",
      "Rural    321398\n",
      "Urban     28603\n",
      "Name: count, dtype: int64\n",
      " \n",
      "Number of unique values in column  WH_CAPACITY_SIZE  : 3\n",
      "WH_CAPACITY_SIZE\n",
      "Large    142366\n",
      "Mid      140280\n",
      "Small     67355\n",
      "Name: count, dtype: int64\n",
      " \n",
      "Number of unique values in column  ZONE  : 4\n",
      "ZONE\n",
      "North    143892\n",
      "West     111035\n",
      "South     89068\n",
      "East       6006\n",
      "Name: count, dtype: int64\n",
      " \n",
      "Number of unique values in column  WAREHOUSE_OWNERSHIP  : 2\n",
      "WAREHOUSE_OWNERSHIP\n",
      "Company Owned    190092\n",
      "Rented           159909\n",
      "Name: count, dtype: int64\n",
      " \n",
      "Number of unique values in column  FLOOD_IMPACTED  : 2\n",
      "FLOOD_IMPACTED\n",
      "0    315645\n",
      "1     34356\n",
      "Name: count, dtype: int64\n",
      " \n",
      "Number of unique values in column  FLOOD_PROOF  : 2\n",
      "FLOOD_PROOF\n",
      "0    330876\n",
      "1     19125\n",
      "Name: count, dtype: int64\n",
      " \n",
      "Number of unique values in column  ELECTRIC_SUPPLY  : 2\n",
      "ELECTRIC_SUPPLY\n",
      "1    229909\n",
      "0    120092\n",
      "Name: count, dtype: int64\n",
      " \n",
      "Number of unique values in column  TEMP_REG_MACH  : 3\n",
      "TEMP_REG_MACH\n",
      "0.0    243852\n",
      "1.0    106148\n",
      "Name: count, dtype: int64\n",
      " \n"
     ]
    }
   ],
   "source": [
    "for i in df_test_or.columns[df_test_or.nunique()<=4]:\n",
    "    print(\"Number of unique values in column \", i, ' :', len(df_test_or[i].unique()))\n",
    "    print(df_test_or[i].value_counts())\n",
    "    print(' ')"
   ]
  },
  {
   "cell_type": "code",
   "execution_count": null,
   "id": "a540d996",
   "metadata": {},
   "outputs": [],
   "source": [
    "df_test_or.columns"
   ]
  },
  {
   "cell_type": "code",
   "execution_count": 25,
   "id": "1c2bb460",
   "metadata": {},
   "outputs": [
    {
     "data": {
      "text/plain": [
       "0.6887753290004746"
      ]
     },
     "execution_count": 25,
     "metadata": {},
     "output_type": "execute_result"
    }
   ],
   "source": [
    "df_test_or['PRODUCT_WG_TON'].corr(df_test_or['STORAGE_ISSUE_REPORTED'])"
   ]
  },
  {
   "cell_type": "code",
   "execution_count": 26,
   "id": "cc5a94ff",
   "metadata": {},
   "outputs": [],
   "source": [
    "df_test_or.drop(columns=['FLOOD_PROOF', 'FLOOD_IMPACTED'], inplace = True)"
   ]
  },
  {
   "cell_type": "code",
   "execution_count": 27,
   "id": "51eca58d",
   "metadata": {},
   "outputs": [],
   "source": [
    "def remove_outliers(df_test_or):\n",
    "    num_df = df_test_or.select_dtypes(include=['int', 'float'])\n",
    "    q1 = num_df.quantile(0.25)\n",
    "    q3 = num_df.quantile(0.75)\n",
    "    iqr = q3 - q1\n",
    "    lower = q1 - 1.5*iqr\n",
    "    upper = q3 + 1.5*iqr\n",
    "    df_no_outliers = num_df[((num_df >= lower) & (num_df <= upper)).all(axis=1)]\n",
    "    return df_test_or.loc[df_no_outliers.index]"
   ]
  },
  {
   "cell_type": "code",
   "execution_count": 28,
   "id": "19d7c79b",
   "metadata": {},
   "outputs": [
    {
     "data": {
      "text/html": [
       "<div>\n",
       "<style scoped>\n",
       "    .dataframe tbody tr th:only-of-type {\n",
       "        vertical-align: middle;\n",
       "    }\n",
       "\n",
       "    .dataframe tbody tr th {\n",
       "        vertical-align: top;\n",
       "    }\n",
       "\n",
       "    .dataframe thead th {\n",
       "        text-align: right;\n",
       "    }\n",
       "</style>\n",
       "<table border=\"1\" class=\"dataframe\">\n",
       "  <thead>\n",
       "    <tr style=\"text-align: right;\">\n",
       "      <th></th>\n",
       "      <th>DATE</th>\n",
       "      <th>WARE_HOUSE_ID</th>\n",
       "      <th>WH_MANAGER_ID</th>\n",
       "      <th>LOCATION_TYPE</th>\n",
       "      <th>WH_CAPACITY_SIZE</th>\n",
       "      <th>ZONE</th>\n",
       "      <th>WH_REGIONAL_ZONE</th>\n",
       "      <th>REFILL_REQUESTS</th>\n",
       "      <th>TRANSPORT_ISSUE</th>\n",
       "      <th>NO_OF_COMPETITOR</th>\n",
       "      <th>...</th>\n",
       "      <th>ELECTRIC_SUPPLY</th>\n",
       "      <th>DIST_FROM_HUB</th>\n",
       "      <th>WORKERS_NUM</th>\n",
       "      <th>WH_EST_YEAR</th>\n",
       "      <th>STORAGE_ISSUE_REPORTED</th>\n",
       "      <th>TEMP_REG_MACH</th>\n",
       "      <th>APPROVED_WH_GOVT_CERTIFICATE</th>\n",
       "      <th>WH_BREAKDOWN</th>\n",
       "      <th>GOVT_CHECK</th>\n",
       "      <th>PRODUCT_WG_TON</th>\n",
       "    </tr>\n",
       "  </thead>\n",
       "  <tbody>\n",
       "    <tr>\n",
       "      <th>4</th>\n",
       "      <td>2023-01-01</td>\n",
       "      <td>WH_100004</td>\n",
       "      <td>EID_50004</td>\n",
       "      <td>Rural</td>\n",
       "      <td>Large</td>\n",
       "      <td>North</td>\n",
       "      <td>Zone 5</td>\n",
       "      <td>3</td>\n",
       "      <td>1</td>\n",
       "      <td>2</td>\n",
       "      <td>...</td>\n",
       "      <td>1</td>\n",
       "      <td>112.0</td>\n",
       "      <td>25.0</td>\n",
       "      <td>2009.0</td>\n",
       "      <td>18</td>\n",
       "      <td>0.0</td>\n",
       "      <td>C</td>\n",
       "      <td>6.0</td>\n",
       "      <td>24.0</td>\n",
       "      <td>24071.0</td>\n",
       "    </tr>\n",
       "    <tr>\n",
       "      <th>5</th>\n",
       "      <td>2023-01-01</td>\n",
       "      <td>WH_100005</td>\n",
       "      <td>EID_50005</td>\n",
       "      <td>Rural</td>\n",
       "      <td>Small</td>\n",
       "      <td>West</td>\n",
       "      <td>Zone 1</td>\n",
       "      <td>8</td>\n",
       "      <td>0</td>\n",
       "      <td>2</td>\n",
       "      <td>...</td>\n",
       "      <td>1</td>\n",
       "      <td>152.0</td>\n",
       "      <td>35.0</td>\n",
       "      <td>2009.0</td>\n",
       "      <td>23</td>\n",
       "      <td>1.0</td>\n",
       "      <td>A+</td>\n",
       "      <td>3.0</td>\n",
       "      <td>3.0</td>\n",
       "      <td>32134.0</td>\n",
       "    </tr>\n",
       "    <tr>\n",
       "      <th>6</th>\n",
       "      <td>2023-01-01</td>\n",
       "      <td>WH_100006</td>\n",
       "      <td>EID_50006</td>\n",
       "      <td>Rural</td>\n",
       "      <td>Large</td>\n",
       "      <td>West</td>\n",
       "      <td>Zone 6</td>\n",
       "      <td>8</td>\n",
       "      <td>0</td>\n",
       "      <td>4</td>\n",
       "      <td>...</td>\n",
       "      <td>1</td>\n",
       "      <td>77.0</td>\n",
       "      <td>27.0</td>\n",
       "      <td>2010.0</td>\n",
       "      <td>24</td>\n",
       "      <td>0.0</td>\n",
       "      <td>B</td>\n",
       "      <td>3.0</td>\n",
       "      <td>6.0</td>\n",
       "      <td>30142.0</td>\n",
       "    </tr>\n",
       "    <tr>\n",
       "      <th>8</th>\n",
       "      <td>2023-01-01</td>\n",
       "      <td>WH_100008</td>\n",
       "      <td>EID_50008</td>\n",
       "      <td>Rural</td>\n",
       "      <td>Small</td>\n",
       "      <td>South</td>\n",
       "      <td>Zone 6</td>\n",
       "      <td>8</td>\n",
       "      <td>1</td>\n",
       "      <td>4</td>\n",
       "      <td>...</td>\n",
       "      <td>1</td>\n",
       "      <td>124.0</td>\n",
       "      <td>22.0</td>\n",
       "      <td>2013.0</td>\n",
       "      <td>13</td>\n",
       "      <td>1.0</td>\n",
       "      <td>A+</td>\n",
       "      <td>5.0</td>\n",
       "      <td>2.0</td>\n",
       "      <td>18082.0</td>\n",
       "    </tr>\n",
       "    <tr>\n",
       "      <th>10</th>\n",
       "      <td>2023-01-01</td>\n",
       "      <td>WH_100010</td>\n",
       "      <td>EID_50010</td>\n",
       "      <td>Rural</td>\n",
       "      <td>Large</td>\n",
       "      <td>North</td>\n",
       "      <td>Zone 6</td>\n",
       "      <td>7</td>\n",
       "      <td>1</td>\n",
       "      <td>3</td>\n",
       "      <td>...</td>\n",
       "      <td>1</td>\n",
       "      <td>150.0</td>\n",
       "      <td>37.0</td>\n",
       "      <td>1999.0</td>\n",
       "      <td>17</td>\n",
       "      <td>0.0</td>\n",
       "      <td>B+</td>\n",
       "      <td>4.0</td>\n",
       "      <td>6.0</td>\n",
       "      <td>21125.0</td>\n",
       "    </tr>\n",
       "    <tr>\n",
       "      <th>...</th>\n",
       "      <td>...</td>\n",
       "      <td>...</td>\n",
       "      <td>...</td>\n",
       "      <td>...</td>\n",
       "      <td>...</td>\n",
       "      <td>...</td>\n",
       "      <td>...</td>\n",
       "      <td>...</td>\n",
       "      <td>...</td>\n",
       "      <td>...</td>\n",
       "      <td>...</td>\n",
       "      <td>...</td>\n",
       "      <td>...</td>\n",
       "      <td>...</td>\n",
       "      <td>...</td>\n",
       "      <td>...</td>\n",
       "      <td>...</td>\n",
       "      <td>...</td>\n",
       "      <td>...</td>\n",
       "      <td>...</td>\n",
       "      <td>...</td>\n",
       "    </tr>\n",
       "    <tr>\n",
       "      <th>349994</th>\n",
       "      <td>2024-02-01</td>\n",
       "      <td>WH_124994</td>\n",
       "      <td>EID_74994</td>\n",
       "      <td>Rural</td>\n",
       "      <td>Mid</td>\n",
       "      <td>North</td>\n",
       "      <td>Zone 4</td>\n",
       "      <td>2</td>\n",
       "      <td>3</td>\n",
       "      <td>5</td>\n",
       "      <td>...</td>\n",
       "      <td>0</td>\n",
       "      <td>71.0</td>\n",
       "      <td>46.0</td>\n",
       "      <td>2000.0</td>\n",
       "      <td>26</td>\n",
       "      <td>0.0</td>\n",
       "      <td>A</td>\n",
       "      <td>26.0</td>\n",
       "      <td>35.0</td>\n",
       "      <td>45654.0</td>\n",
       "    </tr>\n",
       "    <tr>\n",
       "      <th>349995</th>\n",
       "      <td>2024-02-01</td>\n",
       "      <td>WH_124995</td>\n",
       "      <td>EID_74995</td>\n",
       "      <td>Rural</td>\n",
       "      <td>Small</td>\n",
       "      <td>North</td>\n",
       "      <td>Zone 1</td>\n",
       "      <td>11</td>\n",
       "      <td>0</td>\n",
       "      <td>7</td>\n",
       "      <td>...</td>\n",
       "      <td>1</td>\n",
       "      <td>142.0</td>\n",
       "      <td>62.0</td>\n",
       "      <td>2016.0</td>\n",
       "      <td>8</td>\n",
       "      <td>0.0</td>\n",
       "      <td>B+</td>\n",
       "      <td>28.0</td>\n",
       "      <td>38.0</td>\n",
       "      <td>52057.0</td>\n",
       "    </tr>\n",
       "    <tr>\n",
       "      <th>349996</th>\n",
       "      <td>2024-02-01</td>\n",
       "      <td>WH_124996</td>\n",
       "      <td>EID_74996</td>\n",
       "      <td>Rural</td>\n",
       "      <td>Mid</td>\n",
       "      <td>West</td>\n",
       "      <td>Zone 2</td>\n",
       "      <td>4</td>\n",
       "      <td>7</td>\n",
       "      <td>1</td>\n",
       "      <td>...</td>\n",
       "      <td>1</td>\n",
       "      <td>130.0</td>\n",
       "      <td>39.0</td>\n",
       "      <td>2005.0</td>\n",
       "      <td>23</td>\n",
       "      <td>0.0</td>\n",
       "      <td>B</td>\n",
       "      <td>21.0</td>\n",
       "      <td>36.0</td>\n",
       "      <td>37853.0</td>\n",
       "    </tr>\n",
       "    <tr>\n",
       "      <th>349997</th>\n",
       "      <td>2024-02-01</td>\n",
       "      <td>WH_124997</td>\n",
       "      <td>EID_74997</td>\n",
       "      <td>Urban</td>\n",
       "      <td>Large</td>\n",
       "      <td>South</td>\n",
       "      <td>Zone 5</td>\n",
       "      <td>12</td>\n",
       "      <td>4</td>\n",
       "      <td>0</td>\n",
       "      <td>...</td>\n",
       "      <td>1</td>\n",
       "      <td>147.0</td>\n",
       "      <td>27.0</td>\n",
       "      <td>2012.0</td>\n",
       "      <td>12</td>\n",
       "      <td>1.0</td>\n",
       "      <td>A</td>\n",
       "      <td>30.0</td>\n",
       "      <td>55.0</td>\n",
       "      <td>65888.0</td>\n",
       "    </tr>\n",
       "    <tr>\n",
       "      <th>350000</th>\n",
       "      <td>2024-02-01</td>\n",
       "      <td>WH_100000</td>\n",
       "      <td>EID_50000</td>\n",
       "      <td>Urban</td>\n",
       "      <td>Small</td>\n",
       "      <td>West</td>\n",
       "      <td>Zone 6</td>\n",
       "      <td>4</td>\n",
       "      <td>2</td>\n",
       "      <td>3</td>\n",
       "      <td>...</td>\n",
       "      <td>1</td>\n",
       "      <td>91.0</td>\n",
       "      <td>56.0</td>\n",
       "      <td>2019.0</td>\n",
       "      <td>5</td>\n",
       "      <td>0.0</td>\n",
       "      <td>A</td>\n",
       "      <td>33.0</td>\n",
       "      <td>39.0</td>\n",
       "      <td>50619.0</td>\n",
       "    </tr>\n",
       "  </tbody>\n",
       "</table>\n",
       "<p>173976 rows × 23 columns</p>\n",
       "</div>"
      ],
      "text/plain": [
       "              DATE WARE_HOUSE_ID WH_MANAGER_ID LOCATION_TYPE WH_CAPACITY_SIZE  \\\n",
       "4       2023-01-01     WH_100004     EID_50004         Rural            Large   \n",
       "5       2023-01-01     WH_100005     EID_50005         Rural            Small   \n",
       "6       2023-01-01     WH_100006     EID_50006         Rural            Large   \n",
       "8       2023-01-01     WH_100008     EID_50008         Rural            Small   \n",
       "10      2023-01-01     WH_100010     EID_50010         Rural            Large   \n",
       "...            ...           ...           ...           ...              ...   \n",
       "349994  2024-02-01     WH_124994     EID_74994         Rural              Mid   \n",
       "349995  2024-02-01     WH_124995     EID_74995         Rural            Small   \n",
       "349996  2024-02-01     WH_124996     EID_74996         Rural              Mid   \n",
       "349997  2024-02-01     WH_124997     EID_74997         Urban            Large   \n",
       "350000  2024-02-01     WH_100000     EID_50000         Urban            Small   \n",
       "\n",
       "         ZONE WH_REGIONAL_ZONE  REFILL_REQUESTS  TRANSPORT_ISSUE  \\\n",
       "4       North           Zone 5                3                1   \n",
       "5        West           Zone 1                8                0   \n",
       "6        West           Zone 6                8                0   \n",
       "8       South           Zone 6                8                1   \n",
       "10      North           Zone 6                7                1   \n",
       "...       ...              ...              ...              ...   \n",
       "349994  North           Zone 4                2                3   \n",
       "349995  North           Zone 1               11                0   \n",
       "349996   West           Zone 2                4                7   \n",
       "349997  South           Zone 5               12                4   \n",
       "350000   West           Zone 6                4                2   \n",
       "\n",
       "        NO_OF_COMPETITOR  ...  ELECTRIC_SUPPLY DIST_FROM_HUB  WORKERS_NUM  \\\n",
       "4                      2  ...                1         112.0         25.0   \n",
       "5                      2  ...                1         152.0         35.0   \n",
       "6                      4  ...                1          77.0         27.0   \n",
       "8                      4  ...                1         124.0         22.0   \n",
       "10                     3  ...                1         150.0         37.0   \n",
       "...                  ...  ...              ...           ...          ...   \n",
       "349994                 5  ...                0          71.0         46.0   \n",
       "349995                 7  ...                1         142.0         62.0   \n",
       "349996                 1  ...                1         130.0         39.0   \n",
       "349997                 0  ...                1         147.0         27.0   \n",
       "350000                 3  ...                1          91.0         56.0   \n",
       "\n",
       "        WH_EST_YEAR  STORAGE_ISSUE_REPORTED  TEMP_REG_MACH  \\\n",
       "4            2009.0                      18            0.0   \n",
       "5            2009.0                      23            1.0   \n",
       "6            2010.0                      24            0.0   \n",
       "8            2013.0                      13            1.0   \n",
       "10           1999.0                      17            0.0   \n",
       "...             ...                     ...            ...   \n",
       "349994       2000.0                      26            0.0   \n",
       "349995       2016.0                       8            0.0   \n",
       "349996       2005.0                      23            0.0   \n",
       "349997       2012.0                      12            1.0   \n",
       "350000       2019.0                       5            0.0   \n",
       "\n",
       "        APPROVED_WH_GOVT_CERTIFICATE  WH_BREAKDOWN  GOVT_CHECK PRODUCT_WG_TON  \n",
       "4                                  C           6.0        24.0        24071.0  \n",
       "5                                 A+           3.0         3.0        32134.0  \n",
       "6                                  B           3.0         6.0        30142.0  \n",
       "8                                 A+           5.0         2.0        18082.0  \n",
       "10                                B+           4.0         6.0        21125.0  \n",
       "...                              ...           ...         ...            ...  \n",
       "349994                             A          26.0        35.0        45654.0  \n",
       "349995                            B+          28.0        38.0        52057.0  \n",
       "349996                             B          21.0        36.0        37853.0  \n",
       "349997                             A          30.0        55.0        65888.0  \n",
       "350000                             A          33.0        39.0        50619.0  \n",
       "\n",
       "[173976 rows x 23 columns]"
      ]
     },
     "execution_count": 28,
     "metadata": {},
     "output_type": "execute_result"
    }
   ],
   "source": [
    "df_test_or = remove_outliers(df_test_or)\n",
    "df_test_or"
   ]
  },
  {
   "cell_type": "code",
   "execution_count": null,
   "id": "c642be2c",
   "metadata": {},
   "outputs": [],
   "source": [
    "#df_or_dt = df_or[['Date']].astype(str)\n",
    "#df_or_dt.head()\n",
    "\n",
    "\n",
    "#df_or_dt\n"
   ]
  },
  {
   "cell_type": "code",
   "execution_count": null,
   "id": "e007ce30",
   "metadata": {},
   "outputs": [],
   "source": [
    "#df_test_or_dt = df_test_or[['Date']].astype(str)\n",
    "#df_test_or_dt.head()"
   ]
  },
  {
   "cell_type": "code",
   "execution_count": null,
   "id": "0f5b837b",
   "metadata": {},
   "outputs": [],
   "source": [
    "# df_or_dt - only date column\n",
    "\n",
    "# df_or1 - all columns except date column \n",
    "\n",
    "# df_test_or_dt - only date column\n",
    "\n",
    "# df_test_or1 - all columns except date column"
   ]
  },
  {
   "cell_type": "code",
   "execution_count": null,
   "id": "d096e891",
   "metadata": {},
   "outputs": [],
   "source": [
    "#df_or1 = df_or.drop(['Date'], axis=1)\n",
    "#df_or1.head()"
   ]
  },
  {
   "cell_type": "code",
   "execution_count": null,
   "id": "5162c212",
   "metadata": {},
   "outputs": [],
   "source": [
    "#df_test_or1 = df_test_or.drop(['Date'], axis=1)\n",
    "#df_test_or1.head()"
   ]
  },
  {
   "cell_type": "code",
   "execution_count": 29,
   "id": "347fcac5",
   "metadata": {},
   "outputs": [],
   "source": [
    "# Numerical columns & categorical columns in train dataset\n",
    "\n",
    "num_columns_train=[i for i in df_or.columns if df_or[i].dtypes != 'O']\n",
    "cat_columns_train=[i for i in df_or.columns if df_or[i].dtypes == 'O']\n",
    "\n",
    "# Numerical columns & categorical columns in test dataset\n",
    "\n",
    "num_columns_test=[i for i in df_test_or.columns if df_test_or[i].dtypes != 'O']\n",
    "cat_columns_test=[i for i in df_test_or.columns if df_test_or[i].dtypes == 'O']"
   ]
  },
  {
   "cell_type": "code",
   "execution_count": 31,
   "id": "086cfc3a",
   "metadata": {},
   "outputs": [
    {
     "data": {
      "text/plain": [
       "['DATE',\n",
       " 'WARE_HOUSE_ID',\n",
       " 'WH_MANAGER_ID',\n",
       " 'LOCATION_TYPE',\n",
       " 'WH_CAPACITY_SIZE',\n",
       " 'ZONE',\n",
       " 'WH_REGIONAL_ZONE',\n",
       " 'WAREHOUSE_OWNERSHIP',\n",
       " 'APPROVED_WH_GOVT_CERTIFICATE']"
      ]
     },
     "execution_count": 31,
     "metadata": {},
     "output_type": "execute_result"
    }
   ],
   "source": [
    "cat_columns_test"
   ]
  },
  {
   "cell_type": "code",
   "execution_count": 32,
   "id": "fa4d2fc8",
   "metadata": {},
   "outputs": [],
   "source": [
    "for i in cat_columns_train:\n",
    "    df_or[i] = LabelEncoder().fit_transform(df_or[i])\n",
    "\n",
    "for i in cat_columns_test:\n",
    "    df_test_or[i] = LabelEncoder().fit_transform(df_test_or[i])"
   ]
  },
  {
   "cell_type": "code",
   "execution_count": 33,
   "id": "86fd9119",
   "metadata": {},
   "outputs": [
    {
     "data": {
      "text/plain": [
       "PRODUCT_WG_TON                  55501\n",
       "WH_MANAGER_ID                   24335\n",
       "WARE_HOUSE_ID                   24335\n",
       "NO_OF_RETAILERS                  6279\n",
       "DIST_FROM_HUB                     217\n",
       "NUMBER_OF_DISTRIBUTORS            115\n",
       "STORAGE_ISSUE_REPORTED             72\n",
       "GOVT_CHECK                         63\n",
       "WORKERS_NUM                        60\n",
       "WH_BREAKDOWN                       38\n",
       "WH_EST_YEAR                        28\n",
       "REFILL_REQUESTS                    27\n",
       "TRANSPORT_ISSUE                    23\n",
       "NO_OF_COMPETITOR                   23\n",
       "DATE                               14\n",
       "APPROVED_WH_GOVT_CERTIFICATE        7\n",
       "WH_REGIONAL_ZONE                    6\n",
       "ZONE                                4\n",
       "WH_CAPACITY_SIZE                    3\n",
       "ELECTRIC_SUPPLY                     2\n",
       "TEMP_REG_MACH                       2\n",
       "LOCATION_TYPE                       2\n",
       "WAREHOUSE_OWNERSHIP                 2\n",
       "dtype: int64"
      ]
     },
     "execution_count": 33,
     "metadata": {},
     "output_type": "execute_result"
    }
   ],
   "source": [
    "# display number of unique values in each column\n",
    "df_or.nunique().sort_values(ascending=False)"
   ]
  },
  {
   "cell_type": "code",
   "execution_count": 34,
   "id": "917107b1",
   "metadata": {},
   "outputs": [],
   "source": [
    "columns_with_more_than_two_unique_values_train = df_or.columns[ df_or.nunique()>2]"
   ]
  },
  {
   "cell_type": "code",
   "execution_count": 35,
   "id": "c61d9243",
   "metadata": {},
   "outputs": [],
   "source": [
    "columns_with_more_than_two_unique_values_test = df_test_or.columns[df_test_or.nunique()>2]"
   ]
  },
  {
   "cell_type": "code",
   "execution_count": null,
   "id": "ba75ad06",
   "metadata": {},
   "outputs": [],
   "source": []
  },
  {
   "cell_type": "code",
   "execution_count": null,
   "id": "3b024990",
   "metadata": {},
   "outputs": [],
   "source": []
  },
  {
   "cell_type": "code",
   "execution_count": null,
   "id": "60e699e9",
   "metadata": {},
   "outputs": [],
   "source": []
  },
  {
   "cell_type": "code",
   "execution_count": null,
   "id": "a64ed333",
   "metadata": {},
   "outputs": [],
   "source": [
    "# df_or_dt - only date column\n",
    "\n",
    "# df_or1 - all columns except date column \n",
    "\n",
    "# df_test_or_dt - only date column\n",
    "\n",
    "# df_test_or1 - all columns except date column"
   ]
  },
  {
   "cell_type": "code",
   "execution_count": null,
   "id": "d7e6b7a7",
   "metadata": {},
   "outputs": [],
   "source": []
  },
  {
   "cell_type": "code",
   "execution_count": null,
   "id": "118a405e",
   "metadata": {},
   "outputs": [],
   "source": [
    "#df_or2 = pd.concat([df_or_dt,df_or1], ignore_index=True, sort=False)\n",
    "#df_or2.head()"
   ]
  },
  {
   "cell_type": "code",
   "execution_count": null,
   "id": "56abae18",
   "metadata": {},
   "outputs": [],
   "source": [
    "df_or.columns"
   ]
  },
  {
   "cell_type": "code",
   "execution_count": null,
   "id": "1b97a121",
   "metadata": {},
   "outputs": [],
   "source": [
    "#df['Location_type'] = df['Location_type'].replace([0,1])\n",
    "#df"
   ]
  },
  {
   "cell_type": "code",
   "execution_count": null,
   "id": "a678faa5",
   "metadata": {},
   "outputs": [],
   "source": []
  },
  {
   "cell_type": "code",
   "execution_count": 36,
   "id": "803b2091",
   "metadata": {},
   "outputs": [],
   "source": [
    "X_train = df_or.drop(['PRODUCT_WG_TON', 'WH_REGIONAL_ZONE'], axis=1)\n",
    "Y_train = df_or['PRODUCT_WG_TON']"
   ]
  },
  {
   "cell_type": "code",
   "execution_count": 37,
   "id": "2a871adc",
   "metadata": {},
   "outputs": [
    {
     "data": {
      "text/plain": [
       "Index(['DATE', 'WARE_HOUSE_ID', 'WH_MANAGER_ID', 'LOCATION_TYPE',\n",
       "       'WH_CAPACITY_SIZE', 'ZONE', 'REFILL_REQUESTS', 'TRANSPORT_ISSUE',\n",
       "       'NO_OF_COMPETITOR', 'NO_OF_RETAILERS', 'WAREHOUSE_OWNERSHIP',\n",
       "       'NUMBER_OF_DISTRIBUTORS', 'ELECTRIC_SUPPLY', 'DIST_FROM_HUB',\n",
       "       'WORKERS_NUM', 'WH_EST_YEAR', 'STORAGE_ISSUE_REPORTED', 'TEMP_REG_MACH',\n",
       "       'APPROVED_WH_GOVT_CERTIFICATE', 'WH_BREAKDOWN', 'GOVT_CHECK'],\n",
       "      dtype='object')"
      ]
     },
     "execution_count": 37,
     "metadata": {},
     "output_type": "execute_result"
    }
   ],
   "source": [
    "X_train.columns"
   ]
  },
  {
   "cell_type": "code",
   "execution_count": null,
   "id": "4d156767",
   "metadata": {},
   "outputs": [],
   "source": [
    "# df_or_dt - only date column\n",
    "\n",
    "# df_or1 - all columns except date column \n",
    "\n",
    "# df_test_or_dt - only date column\n",
    "\n",
    "# df_test_or1 - all columns except date column"
   ]
  },
  {
   "cell_type": "code",
   "execution_count": null,
   "id": "d709fbfc",
   "metadata": {},
   "outputs": [],
   "source": [
    "#df_test_or2 = pd.concat([df_test_or_dt,df_test_or1], ignore_index=True, sort=False)"
   ]
  },
  {
   "cell_type": "code",
   "execution_count": null,
   "id": "335c8eaf",
   "metadata": {},
   "outputs": [],
   "source": [
    "#df_test_or2.head()"
   ]
  },
  {
   "cell_type": "code",
   "execution_count": null,
   "id": "0646a78c",
   "metadata": {},
   "outputs": [],
   "source": [
    "df_test_or"
   ]
  },
  {
   "cell_type": "code",
   "execution_count": 38,
   "id": "c7c40c88",
   "metadata": {},
   "outputs": [
    {
     "data": {
      "text/plain": [
       "(173976, 21)"
      ]
     },
     "execution_count": 38,
     "metadata": {},
     "output_type": "execute_result"
    }
   ],
   "source": [
    "X_test = df_test_or.drop(['PRODUCT_WG_TON','WH_REGIONAL_ZONE'], axis=1)\n",
    "X_test.shape\n"
   ]
  },
  {
   "cell_type": "code",
   "execution_count": 39,
   "id": "7b480a90",
   "metadata": {},
   "outputs": [
    {
     "data": {
      "text/plain": [
       "Index(['DATE', 'WARE_HOUSE_ID', 'WH_MANAGER_ID', 'LOCATION_TYPE',\n",
       "       'WH_CAPACITY_SIZE', 'ZONE', 'REFILL_REQUESTS', 'TRANSPORT_ISSUE',\n",
       "       'NO_OF_COMPETITOR', 'NO_OF_RETAILERS', 'WAREHOUSE_OWNERSHIP',\n",
       "       'NUMBER_OF_DISTRIBUTORS', 'ELECTRIC_SUPPLY', 'DIST_FROM_HUB',\n",
       "       'WORKERS_NUM', 'WH_EST_YEAR', 'STORAGE_ISSUE_REPORTED', 'TEMP_REG_MACH',\n",
       "       'APPROVED_WH_GOVT_CERTIFICATE', 'WH_BREAKDOWN', 'GOVT_CHECK'],\n",
       "      dtype='object')"
      ]
     },
     "execution_count": 39,
     "metadata": {},
     "output_type": "execute_result"
    }
   ],
   "source": [
    "X_test.columns"
   ]
  },
  {
   "cell_type": "code",
   "execution_count": null,
   "id": "8c94e3c3",
   "metadata": {},
   "outputs": [],
   "source": []
  },
  {
   "cell_type": "code",
   "execution_count": 40,
   "id": "1b94a790",
   "metadata": {},
   "outputs": [
    {
     "data": {
      "text/plain": [
       "Index(['DATE', 'WARE_HOUSE_ID', 'WH_MANAGER_ID', 'LOCATION_TYPE',\n",
       "       'WH_CAPACITY_SIZE', 'ZONE', 'REFILL_REQUESTS', 'TRANSPORT_ISSUE',\n",
       "       'NO_OF_COMPETITOR', 'NO_OF_RETAILERS', 'WAREHOUSE_OWNERSHIP',\n",
       "       'NUMBER_OF_DISTRIBUTORS', 'ELECTRIC_SUPPLY', 'DIST_FROM_HUB',\n",
       "       'WORKERS_NUM', 'WH_EST_YEAR', 'STORAGE_ISSUE_REPORTED', 'TEMP_REG_MACH',\n",
       "       'APPROVED_WH_GOVT_CERTIFICATE', 'WH_BREAKDOWN', 'GOVT_CHECK'],\n",
       "      dtype='object')"
      ]
     },
     "execution_count": 40,
     "metadata": {},
     "output_type": "execute_result"
    }
   ],
   "source": [
    "X_test = X_test.iloc[:326777, :]\n",
    "X_test.columns"
   ]
  },
  {
   "cell_type": "code",
   "execution_count": 41,
   "id": "8e9dabd2",
   "metadata": {},
   "outputs": [],
   "source": [
    "#Linear Regression\n",
    "LRmodel = LinearRegression()"
   ]
  },
  {
   "cell_type": "code",
   "execution_count": 42,
   "id": "651d3d69",
   "metadata": {},
   "outputs": [
    {
     "data": {
      "text/html": [
       "<style>#sk-container-id-1 {color: black;}#sk-container-id-1 pre{padding: 0;}#sk-container-id-1 div.sk-toggleable {background-color: white;}#sk-container-id-1 label.sk-toggleable__label {cursor: pointer;display: block;width: 100%;margin-bottom: 0;padding: 0.3em;box-sizing: border-box;text-align: center;}#sk-container-id-1 label.sk-toggleable__label-arrow:before {content: \"▸\";float: left;margin-right: 0.25em;color: #696969;}#sk-container-id-1 label.sk-toggleable__label-arrow:hover:before {color: black;}#sk-container-id-1 div.sk-estimator:hover label.sk-toggleable__label-arrow:before {color: black;}#sk-container-id-1 div.sk-toggleable__content {max-height: 0;max-width: 0;overflow: hidden;text-align: left;background-color: #f0f8ff;}#sk-container-id-1 div.sk-toggleable__content pre {margin: 0.2em;color: black;border-radius: 0.25em;background-color: #f0f8ff;}#sk-container-id-1 input.sk-toggleable__control:checked~div.sk-toggleable__content {max-height: 200px;max-width: 100%;overflow: auto;}#sk-container-id-1 input.sk-toggleable__control:checked~label.sk-toggleable__label-arrow:before {content: \"▾\";}#sk-container-id-1 div.sk-estimator input.sk-toggleable__control:checked~label.sk-toggleable__label {background-color: #d4ebff;}#sk-container-id-1 div.sk-label input.sk-toggleable__control:checked~label.sk-toggleable__label {background-color: #d4ebff;}#sk-container-id-1 input.sk-hidden--visually {border: 0;clip: rect(1px 1px 1px 1px);clip: rect(1px, 1px, 1px, 1px);height: 1px;margin: -1px;overflow: hidden;padding: 0;position: absolute;width: 1px;}#sk-container-id-1 div.sk-estimator {font-family: monospace;background-color: #f0f8ff;border: 1px dotted black;border-radius: 0.25em;box-sizing: border-box;margin-bottom: 0.5em;}#sk-container-id-1 div.sk-estimator:hover {background-color: #d4ebff;}#sk-container-id-1 div.sk-parallel-item::after {content: \"\";width: 100%;border-bottom: 1px solid gray;flex-grow: 1;}#sk-container-id-1 div.sk-label:hover label.sk-toggleable__label {background-color: #d4ebff;}#sk-container-id-1 div.sk-serial::before {content: \"\";position: absolute;border-left: 1px solid gray;box-sizing: border-box;top: 0;bottom: 0;left: 50%;z-index: 0;}#sk-container-id-1 div.sk-serial {display: flex;flex-direction: column;align-items: center;background-color: white;padding-right: 0.2em;padding-left: 0.2em;position: relative;}#sk-container-id-1 div.sk-item {position: relative;z-index: 1;}#sk-container-id-1 div.sk-parallel {display: flex;align-items: stretch;justify-content: center;background-color: white;position: relative;}#sk-container-id-1 div.sk-item::before, #sk-container-id-1 div.sk-parallel-item::before {content: \"\";position: absolute;border-left: 1px solid gray;box-sizing: border-box;top: 0;bottom: 0;left: 50%;z-index: -1;}#sk-container-id-1 div.sk-parallel-item {display: flex;flex-direction: column;z-index: 1;position: relative;background-color: white;}#sk-container-id-1 div.sk-parallel-item:first-child::after {align-self: flex-end;width: 50%;}#sk-container-id-1 div.sk-parallel-item:last-child::after {align-self: flex-start;width: 50%;}#sk-container-id-1 div.sk-parallel-item:only-child::after {width: 0;}#sk-container-id-1 div.sk-dashed-wrapped {border: 1px dashed gray;margin: 0 0.4em 0.5em 0.4em;box-sizing: border-box;padding-bottom: 0.4em;background-color: white;}#sk-container-id-1 div.sk-label label {font-family: monospace;font-weight: bold;display: inline-block;line-height: 1.2em;}#sk-container-id-1 div.sk-label-container {text-align: center;}#sk-container-id-1 div.sk-container {/* jupyter's `normalize.less` sets `[hidden] { display: none; }` but bootstrap.min.css set `[hidden] { display: none !important; }` so we also need the `!important` here to be able to override the default hidden behavior on the sphinx rendered scikit-learn.org. See: https://github.com/scikit-learn/scikit-learn/issues/21755 */display: inline-block !important;position: relative;}#sk-container-id-1 div.sk-text-repr-fallback {display: none;}</style><div id=\"sk-container-id-1\" class=\"sk-top-container\"><div class=\"sk-text-repr-fallback\"><pre>LinearRegression()</pre><b>In a Jupyter environment, please rerun this cell to show the HTML representation or trust the notebook. <br />On GitHub, the HTML representation is unable to render, please try loading this page with nbviewer.org.</b></div><div class=\"sk-container\" hidden><div class=\"sk-item\"><div class=\"sk-estimator sk-toggleable\"><input class=\"sk-toggleable__control sk-hidden--visually\" id=\"sk-estimator-id-1\" type=\"checkbox\" checked><label for=\"sk-estimator-id-1\" class=\"sk-toggleable__label sk-toggleable__label-arrow\">LinearRegression</label><div class=\"sk-toggleable__content\"><pre>LinearRegression()</pre></div></div></div></div></div>"
      ],
      "text/plain": [
       "LinearRegression()"
      ]
     },
     "execution_count": 42,
     "metadata": {},
     "output_type": "execute_result"
    }
   ],
   "source": [
    "LRmodel.fit(X_train, Y_train)"
   ]
  },
  {
   "cell_type": "code",
   "execution_count": 43,
   "id": "babc154e",
   "metadata": {},
   "outputs": [
    {
     "data": {
      "text/plain": [
       "array([19589.38644327, 26537.3758957 , 24997.08039974, ...,\n",
       "       43857.56334851, 39014.91172457, 31372.02454517])"
      ]
     },
     "execution_count": 43,
     "metadata": {},
     "output_type": "execute_result"
    }
   ],
   "source": [
    "LRmodel.fit(X_train, Y_train)\n",
    "\n",
    "LR_y_predicted = LRmodel.predict(X_test)\n",
    "LR_y_predicted\n"
   ]
  },
  {
   "cell_type": "code",
   "execution_count": 44,
   "id": "abcdca7c",
   "metadata": {},
   "outputs": [
    {
     "data": {
      "text/html": [
       "<div>\n",
       "<style scoped>\n",
       "    .dataframe tbody tr th:only-of-type {\n",
       "        vertical-align: middle;\n",
       "    }\n",
       "\n",
       "    .dataframe tbody tr th {\n",
       "        vertical-align: top;\n",
       "    }\n",
       "\n",
       "    .dataframe thead th {\n",
       "        text-align: right;\n",
       "    }\n",
       "</style>\n",
       "<table border=\"1\" class=\"dataframe\">\n",
       "  <thead>\n",
       "    <tr style=\"text-align: right;\">\n",
       "      <th></th>\n",
       "      <th>PRODUCT_WG_TON_PRED_LOCATION_NOCHANGE</th>\n",
       "    </tr>\n",
       "  </thead>\n",
       "  <tbody>\n",
       "    <tr>\n",
       "      <th>0</th>\n",
       "      <td>19589.386443</td>\n",
       "    </tr>\n",
       "    <tr>\n",
       "      <th>1</th>\n",
       "      <td>26537.375896</td>\n",
       "    </tr>\n",
       "    <tr>\n",
       "      <th>2</th>\n",
       "      <td>24997.080400</td>\n",
       "    </tr>\n",
       "    <tr>\n",
       "      <th>3</th>\n",
       "      <td>18523.813714</td>\n",
       "    </tr>\n",
       "    <tr>\n",
       "      <th>4</th>\n",
       "      <td>21154.641684</td>\n",
       "    </tr>\n",
       "    <tr>\n",
       "      <th>...</th>\n",
       "      <td>...</td>\n",
       "    </tr>\n",
       "    <tr>\n",
       "      <th>173971</th>\n",
       "      <td>49145.789713</td>\n",
       "    </tr>\n",
       "    <tr>\n",
       "      <th>173972</th>\n",
       "      <td>31788.588928</td>\n",
       "    </tr>\n",
       "    <tr>\n",
       "      <th>173973</th>\n",
       "      <td>43857.563349</td>\n",
       "    </tr>\n",
       "    <tr>\n",
       "      <th>173974</th>\n",
       "      <td>39014.911725</td>\n",
       "    </tr>\n",
       "    <tr>\n",
       "      <th>173975</th>\n",
       "      <td>31372.024545</td>\n",
       "    </tr>\n",
       "  </tbody>\n",
       "</table>\n",
       "<p>173976 rows × 1 columns</p>\n",
       "</div>"
      ],
      "text/plain": [
       "        PRODUCT_WG_TON_PRED_LOCATION_NOCHANGE\n",
       "0                                19589.386443\n",
       "1                                26537.375896\n",
       "2                                24997.080400\n",
       "3                                18523.813714\n",
       "4                                21154.641684\n",
       "...                                       ...\n",
       "173971                           49145.789713\n",
       "173972                           31788.588928\n",
       "173973                           43857.563349\n",
       "173974                           39014.911725\n",
       "173975                           31372.024545\n",
       "\n",
       "[173976 rows x 1 columns]"
      ]
     },
     "execution_count": 44,
     "metadata": {},
     "output_type": "execute_result"
    }
   ],
   "source": [
    "predictions_location_nochange = pd.DataFrame(LR_y_predicted, columns =['PRODUCT_WG_TON_PRED_LOCATION_NOCHANGE']) \n",
    "predictions_location_nochange\n"
   ]
  },
  {
   "cell_type": "code",
   "execution_count": null,
   "id": "770b7d61",
   "metadata": {},
   "outputs": [],
   "source": []
  },
  {
   "cell_type": "code",
   "execution_count": null,
   "id": "1e45f86a",
   "metadata": {},
   "outputs": [],
   "source": [
    "#ch = predictions_location_nochange.iloc[:500, :]\n",
    "#ch"
   ]
  },
  {
   "cell_type": "code",
   "execution_count": null,
   "id": "03c3fe62",
   "metadata": {},
   "outputs": [],
   "source": [
    "allcols = df_test_or.iloc[:326777, :]\n",
    "allcols.isnull().sum()"
   ]
  },
  {
   "cell_type": "code",
   "execution_count": null,
   "id": "b43c500d",
   "metadata": {},
   "outputs": [],
   "source": [
    "allcols"
   ]
  },
  {
   "cell_type": "code",
   "execution_count": null,
   "id": "763f5fc9",
   "metadata": {},
   "outputs": [],
   "source": [
    "# Assuming you have a DataFrame called 'df'\n",
    "columns_to_drop = ['LOCATION_TYPE', 'WH_CAPACITY_SIZE', 'ZONE','WH_REGIONAL_ZONE','WAREHOUSE_OWNERSHIP','APPROVED_WH_GOVT_CERTIFICATE']  # Replace with actual column names\n",
    "allcols.drop(columns=columns_to_drop, inplace=True)\n"
   ]
  },
  {
   "cell_type": "code",
   "execution_count": null,
   "id": "69c43ffe",
   "metadata": {},
   "outputs": [],
   "source": [
    "allcols"
   ]
  },
  {
   "cell_type": "code",
   "execution_count": null,
   "id": "6c20ebba",
   "metadata": {},
   "outputs": [],
   "source": []
  },
  {
   "cell_type": "code",
   "execution_count": null,
   "id": "26a5e093",
   "metadata": {},
   "outputs": [],
   "source": []
  },
  {
   "cell_type": "code",
   "execution_count": null,
   "id": "adac363b",
   "metadata": {},
   "outputs": [],
   "source": [
    "final_reco = pd.concat([df_date, predictions_location_nochange,allcols], axis=1, join='outer')\n",
    "final_reco.isnull().sum()\n",
    "\n",
    "final_reco= final_reco.dropna()\n",
    "final_reco.isnull().sum()\n",
    "final_reco"
   ]
  },
  {
   "cell_type": "code",
   "execution_count": null,
   "id": "912f4598",
   "metadata": {},
   "outputs": [],
   "source": [
    "final_reco"
   ]
  },
  {
   "cell_type": "code",
   "execution_count": null,
   "id": "bcaf7cfa",
   "metadata": {},
   "outputs": [],
   "source": [
    "df_nochange_location=session.createDataFrame(\n",
    "        final_reco.values.tolist(),\n",
    "        schema=final_reco.columns.tolist())"
   ]
  },
  {
   "cell_type": "code",
   "execution_count": null,
   "id": "60b1dc76",
   "metadata": {},
   "outputs": [],
   "source": [
    "df_nochange_location.write.mode(\"overwrite\").save_as_table(\"NOCHANGE_LOCATION_DEMO\")"
   ]
  },
  {
   "cell_type": "code",
   "execution_count": null,
   "id": "48646ce6",
   "metadata": {},
   "outputs": [],
   "source": []
  },
  {
   "cell_type": "code",
   "execution_count": null,
   "id": "e1720de9",
   "metadata": {},
   "outputs": [],
   "source": []
  },
  {
   "cell_type": "code",
   "execution_count": null,
   "id": "5ebd82ca",
   "metadata": {},
   "outputs": [],
   "source": []
  },
  {
   "cell_type": "code",
   "execution_count": null,
   "id": "dcbf004f",
   "metadata": {},
   "outputs": [],
   "source": []
  },
  {
   "cell_type": "code",
   "execution_count": null,
   "id": "a735dc81",
   "metadata": {},
   "outputs": [],
   "source": []
  },
  {
   "cell_type": "code",
   "execution_count": null,
   "id": "6bddb0e8",
   "metadata": {},
   "outputs": [],
   "source": []
  },
  {
   "cell_type": "code",
   "execution_count": null,
   "id": "bf20afdb",
   "metadata": {},
   "outputs": [],
   "source": []
  },
  {
   "cell_type": "code",
   "execution_count": null,
   "id": "ab1addc5",
   "metadata": {},
   "outputs": [],
   "source": []
  },
  {
   "cell_type": "code",
   "execution_count": null,
   "id": "6835a7d0",
   "metadata": {},
   "outputs": [],
   "source": []
  },
  {
   "cell_type": "code",
   "execution_count": null,
   "id": "f2059ed2",
   "metadata": {},
   "outputs": [],
   "source": []
  },
  {
   "cell_type": "code",
   "execution_count": null,
   "id": "f692d4db",
   "metadata": {},
   "outputs": [],
   "source": []
  },
  {
   "cell_type": "code",
   "execution_count": null,
   "id": "e12a42d4",
   "metadata": {},
   "outputs": [],
   "source": []
  },
  {
   "cell_type": "code",
   "execution_count": null,
   "id": "b2a26d91",
   "metadata": {},
   "outputs": [],
   "source": []
  },
  {
   "cell_type": "code",
   "execution_count": null,
   "id": "844c2804",
   "metadata": {},
   "outputs": [],
   "source": []
  },
  {
   "cell_type": "code",
   "execution_count": null,
   "id": "74e87019",
   "metadata": {},
   "outputs": [],
   "source": []
  },
  {
   "cell_type": "code",
   "execution_count": null,
   "id": "24829ec6",
   "metadata": {},
   "outputs": [],
   "source": []
  },
  {
   "cell_type": "code",
   "execution_count": null,
   "id": "7ce048e3",
   "metadata": {},
   "outputs": [],
   "source": []
  },
  {
   "cell_type": "code",
   "execution_count": null,
   "id": "a4d481bb",
   "metadata": {},
   "outputs": [],
   "source": []
  },
  {
   "cell_type": "code",
   "execution_count": null,
   "id": "890a5e52",
   "metadata": {},
   "outputs": [],
   "source": []
  },
  {
   "cell_type": "code",
   "execution_count": null,
   "id": "457c8501",
   "metadata": {},
   "outputs": [],
   "source": [
    "\n",
    "allcols = df_test_or.iloc[:100, :]\n",
    "allcols.isnull().sum()"
   ]
  },
  {
   "cell_type": "code",
   "execution_count": null,
   "id": "90527f6c",
   "metadata": {},
   "outputs": [],
   "source": []
  },
  {
   "cell_type": "code",
   "execution_count": null,
   "id": "cc129578",
   "metadata": {},
   "outputs": [],
   "source": [
    "final_reco = pd.concat([two_cols, allcols], axis=1, join='outer')\n",
    "final_reco\n",
    "\n",
    "final_reco = final_reco.iloc[:99, :]\n",
    "final_reco"
   ]
  },
  {
   "cell_type": "code",
   "execution_count": null,
   "id": "7b6e50c2",
   "metadata": {},
   "outputs": [],
   "source": [
    "df_nochange_location=session.createDataFrame(\n",
    "        final_reco.values.tolist(),\n",
    "        schema=final_reco.columns.tolist())\n",
    "\n"
   ]
  },
  {
   "cell_type": "code",
   "execution_count": null,
   "id": "15086987",
   "metadata": {},
   "outputs": [],
   "source": []
  },
  {
   "cell_type": "code",
   "execution_count": null,
   "id": "c3650742",
   "metadata": {},
   "outputs": [],
   "source": []
  },
  {
   "cell_type": "code",
   "execution_count": null,
   "id": "ebbc2ea6",
   "metadata": {},
   "outputs": [],
   "source": [
    "final_reco = pd.merge(df_test_or,predictions_location_nochange,on='index',how='inner')"
   ]
  },
  {
   "cell_type": "code",
   "execution_count": null,
   "id": "5761e9c5",
   "metadata": {},
   "outputs": [],
   "source": []
  },
  {
   "cell_type": "code",
   "execution_count": null,
   "id": "c033dc54",
   "metadata": {},
   "outputs": [],
   "source": []
  },
  {
   "cell_type": "code",
   "execution_count": null,
   "id": "d179bc93",
   "metadata": {},
   "outputs": [],
   "source": []
  },
  {
   "cell_type": "code",
   "execution_count": null,
   "id": "de81b728",
   "metadata": {},
   "outputs": [],
   "source": [
    "df_test_or = df_test_or.iloc[:100, :]\n",
    "df_test_or.columns"
   ]
  },
  {
   "cell_type": "code",
   "execution_count": null,
   "id": "3cef280a",
   "metadata": {},
   "outputs": [],
   "source": [
    "df_test_or.isnull().sum()"
   ]
  },
  {
   "cell_type": "code",
   "execution_count": null,
   "id": "a504caca",
   "metadata": {},
   "outputs": [],
   "source": [
    "df_test_or"
   ]
  },
  {
   "cell_type": "code",
   "execution_count": null,
   "id": "f2da582e",
   "metadata": {},
   "outputs": [],
   "source": [
    "predictions_location_nochange = predictions_location_nochange.reset_index()\n",
    "predictions_location_nochange\n",
    "\n",
    "df_test_or"
   ]
  },
  {
   "cell_type": "code",
   "execution_count": null,
   "id": "a3feb4ba",
   "metadata": {},
   "outputs": [],
   "source": [
    "df_test_or = df_test_or.reset_index()\n",
    "df_test_or"
   ]
  },
  {
   "cell_type": "code",
   "execution_count": null,
   "id": "41ce6e42",
   "metadata": {},
   "outputs": [],
   "source": [
    "final_reco = pd.merge(df_test_or,predictions_location_nochange,on='index',how='inner')"
   ]
  },
  {
   "cell_type": "code",
   "execution_count": null,
   "id": "6bfe4741",
   "metadata": {},
   "outputs": [],
   "source": [
    "final_reco"
   ]
  },
  {
   "cell_type": "code",
   "execution_count": null,
   "id": "c61089e3",
   "metadata": {},
   "outputs": [],
   "source": [
    "df_nochange_location=session.createDataFrame(\n",
    "        final_reco.values.tolist(),\n",
    "        schema=final_reco.columns.tolist())\n",
    "\n",
    "df_nochange_location.write.mode(\"overwrite\").save_as_table(\"NOCHANGE_LOCATION_rev\")"
   ]
  },
  {
   "cell_type": "code",
   "execution_count": null,
   "id": "1e073038",
   "metadata": {},
   "outputs": [],
   "source": [
    "df_nochange_location.write.mode(\"overwrite\").save_as_table(\"NOCHANGE_LOCATION_rev\")"
   ]
  },
  {
   "cell_type": "code",
   "execution_count": null,
   "id": "25fe9da5",
   "metadata": {},
   "outputs": [],
   "source": []
  },
  {
   "cell_type": "code",
   "execution_count": null,
   "id": "b26c90e3",
   "metadata": {},
   "outputs": [],
   "source": []
  },
  {
   "cell_type": "code",
   "execution_count": null,
   "id": "f698bc84",
   "metadata": {},
   "outputs": [],
   "source": []
  },
  {
   "cell_type": "code",
   "execution_count": null,
   "id": "13db6990",
   "metadata": {},
   "outputs": [],
   "source": [
    "df_test_or = session.table(\"CPG_DATA_ORIGINAL\").to_pandas()\n",
    "df_test_or\n",
    "df_test_or100 = df_test_or.iloc[:100, :]\n",
    "df_test_or100"
   ]
  },
  {
   "cell_type": "code",
   "execution_count": null,
   "id": "4ccdfd42",
   "metadata": {},
   "outputs": [],
   "source": [
    "gg= pd.concat([df_test_or100, predictions_location_nochange], axis=1, join='outer')\n",
    "gg.head(100)"
   ]
  },
  {
   "cell_type": "code",
   "execution_count": null,
   "id": "604bd9b2",
   "metadata": {},
   "outputs": [],
   "source": []
  },
  {
   "cell_type": "code",
   "execution_count": null,
   "id": "d8231882",
   "metadata": {},
   "outputs": [],
   "source": []
  },
  {
   "cell_type": "code",
   "execution_count": null,
   "id": "4012daea",
   "metadata": {},
   "outputs": [],
   "source": [
    "df_nochange_location=session.createDataFrame(\n",
    "        gg.values.tolist(),\n",
    "        schema=gg.columns.tolist())"
   ]
  },
  {
   "cell_type": "code",
   "execution_count": null,
   "id": "96b57d9b",
   "metadata": {},
   "outputs": [],
   "source": [
    "df_nochange_location"
   ]
  },
  {
   "cell_type": "code",
   "execution_count": null,
   "id": "6f73726c",
   "metadata": {},
   "outputs": [],
   "source": [
    "df_nochange_location.write.mode(\"overwrite\").save_as_table(\"NOCHANGE_LOCATION\")"
   ]
  },
  {
   "cell_type": "code",
   "execution_count": null,
   "id": "72b4ad4d",
   "metadata": {},
   "outputs": [],
   "source": []
  },
  {
   "cell_type": "code",
   "execution_count": null,
   "id": "cb770d5f",
   "metadata": {},
   "outputs": [],
   "source": []
  },
  {
   "cell_type": "code",
   "execution_count": null,
   "id": "7d625126",
   "metadata": {},
   "outputs": [],
   "source": []
  },
  {
   "cell_type": "code",
   "execution_count": null,
   "id": "9d8c2233",
   "metadata": {},
   "outputs": [],
   "source": []
  },
  {
   "cell_type": "code",
   "execution_count": null,
   "id": "2c70bf6c",
   "metadata": {},
   "outputs": [],
   "source": []
  },
  {
   "cell_type": "code",
   "execution_count": null,
   "id": "78c16198",
   "metadata": {},
   "outputs": [],
   "source": [
    "predictions_location_nochange = predictions_location_nochange.reset_index()\n",
    "predictions_location_nochange"
   ]
  },
  {
   "cell_type": "code",
   "execution_count": null,
   "id": "1c43c544",
   "metadata": {},
   "outputs": [],
   "source": [
    "df_test_or = session.table(\"CPG_DATA_ORIGINAL\").to_pandas()\n",
    "df_test_or"
   ]
  },
  {
   "cell_type": "code",
   "execution_count": null,
   "id": "4fc1dd16",
   "metadata": {},
   "outputs": [],
   "source": []
  },
  {
   "cell_type": "code",
   "execution_count": null,
   "id": "ff979647",
   "metadata": {},
   "outputs": [],
   "source": [
    "df_merged = pd.concat([df_test_or, predictions_location_nochange], ignore_index=True, sort=False)"
   ]
  },
  {
   "cell_type": "code",
   "execution_count": null,
   "id": "6bfb84fa",
   "metadata": {},
   "outputs": [],
   "source": [
    "df_merged"
   ]
  },
  {
   "cell_type": "code",
   "execution_count": null,
   "id": "58bf4154",
   "metadata": {},
   "outputs": [],
   "source": []
  },
  {
   "cell_type": "code",
   "execution_count": null,
   "id": "f63b8de7",
   "metadata": {},
   "outputs": [],
   "source": []
  },
  {
   "cell_type": "code",
   "execution_count": null,
   "id": "a3e9b19d",
   "metadata": {},
   "outputs": [],
   "source": []
  },
  {
   "cell_type": "code",
   "execution_count": null,
   "id": "b3ea2d10",
   "metadata": {},
   "outputs": [],
   "source": []
  },
  {
   "cell_type": "code",
   "execution_count": null,
   "id": "852a6a50",
   "metadata": {},
   "outputs": [],
   "source": []
  },
  {
   "cell_type": "code",
   "execution_count": null,
   "id": "bf0f0e3b",
   "metadata": {},
   "outputs": [],
   "source": [
    "df_test_or= df_test_or.reset_index()\n",
    "df_test_or.head()"
   ]
  },
  {
   "cell_type": "code",
   "execution_count": null,
   "id": "d18d4b53",
   "metadata": {},
   "outputs": [],
   "source": [
    "df_test_or = df_test_or.iloc[:100, :]\n",
    "df_test_or"
   ]
  },
  {
   "cell_type": "code",
   "execution_count": null,
   "id": "9d29b7bb",
   "metadata": {},
   "outputs": [],
   "source": [
    "final_reco1 = pd.merge(df_test_or,predictions_location_nochange,on='index',how='inner')"
   ]
  },
  {
   "cell_type": "code",
   "execution_count": null,
   "id": "a461a5f1",
   "metadata": {},
   "outputs": [],
   "source": [
    "final_reco1"
   ]
  },
  {
   "cell_type": "code",
   "execution_count": null,
   "id": "070bca82",
   "metadata": {},
   "outputs": [],
   "source": [
    "df_nochange_location=session.createDataFrame(\n",
    "        final_reco1.values.tolist(),\n",
    "        schema=final_reco1.columns.tolist())\n"
   ]
  },
  {
   "cell_type": "code",
   "execution_count": null,
   "id": "b21ca94f",
   "metadata": {},
   "outputs": [],
   "source": [
    "df_nochange_location.write.mode(\"overwrite\").save_as_table(\"PRED_NOCHANGE_LOCATION\")"
   ]
  },
  {
   "cell_type": "code",
   "execution_count": null,
   "id": "919c4303",
   "metadata": {},
   "outputs": [],
   "source": []
  },
  {
   "cell_type": "code",
   "execution_count": null,
   "id": "77ceb8ab",
   "metadata": {},
   "outputs": [],
   "source": [
    "#####WITH CHANGED LOCATION "
   ]
  },
  {
   "cell_type": "code",
   "execution_count": null,
   "id": "e5608bfa",
   "metadata": {},
   "outputs": [],
   "source": [
    "!pip install -U scikit-learn"
   ]
  },
  {
   "cell_type": "code",
   "execution_count": null,
   "id": "3c43ef4e",
   "metadata": {},
   "outputs": [],
   "source": [
    "import time\n",
    "from snowflake.snowpark.session import Session\n",
    "import configparser\n",
    " \n",
    "import warnings\n",
    "warnings.filterwarnings(\"ignore\")\n",
    " \n",
    "config = configparser.ConfigParser()\n",
    "config.read(\"snowflake_connection.ini\")\n",
    " \n",
    "connection_parameters = {\n",
    "    \"user\": f'{config[\"Snowflake\"][\"user\"]}',\n",
    "    \"password\": f'{config[\"Snowflake\"][\"password\"]}',\n",
    "    \"account\": f'{config[\"Snowflake\"][\"account\"]}',\n",
    "    \"WAREHOUSE\": f'{config[\"Snowflake\"][\"WAREHOUSE\"]}',\n",
    "    \"DATABASE\": f'{config[\"Snowflake\"][\"DATABASE\"]}',\n",
    "    \"SCHEMA\": f'{config[\"Snowflake\"][\"SCHEMA\"]}'\n",
    "}\n",
    " \n",
    "def snowflake_connector(conn):\n",
    "    try:\n",
    "        session = Session.builder.configs(conn).create()\n",
    "        print(\"connection successful!\")\n",
    "    except:\n",
    "        raise ValueError(\"error while connecting with db\")\n",
    "    return session\n",
    " \n",
    "session = snowflake_connector(connection_parameters)"
   ]
  },
  {
   "cell_type": "code",
   "execution_count": null,
   "id": "742a7aa3",
   "metadata": {},
   "outputs": [],
   "source": [
    "df_CL = session.table(\"CPG_DATA_ORIGINAL\").to_pandas()\n",
    "df_test_CL = session.table(\"CPG_DATA_ORIGINAL\").to_pandas()"
   ]
  },
  {
   "cell_type": "code",
   "execution_count": null,
   "id": "3382e369",
   "metadata": {},
   "outputs": [],
   "source": [
    "df_CL.head()"
   ]
  },
  {
   "cell_type": "code",
   "execution_count": null,
   "id": "8c192f06",
   "metadata": {},
   "outputs": [],
   "source": [
    "import numpy as np\n",
    "\n",
    "# Calculate the number of records for 'rural' and 'urban'\n",
    "total_records = len(df_CL)\n",
    "rural_count = int(total_records * 0.7)\n",
    "urban_count = total_records - rural_count\n",
    "\n",
    "# Create the 'location' variable\n",
    "location_changed = ['rural'] * rural_count + ['urban'] * urban_count\n",
    "np.random.shuffle(location_changed)  # Shuffle to mix 'rural' and 'urban' values\n",
    "\n",
    "# Add the 'location' variable to the DataFrame\n",
    "df_CL['location_changed'] = location_changed\n",
    "\n",
    "# Save the updated DataFrame back to a CSV file\n",
    "df_CL.to_csv('CPG_DATA_LOCATION_CHANGE1.csv', index=False)  # Replace 'updated_file.csv' with the desired output file name\n",
    "\n",
    "# Print a success message\n",
    "print(\"The 'location' variable has been added to the CSV file with 70% rural and 30% urban categories.\")\n"
   ]
  },
  {
   "cell_type": "code",
   "execution_count": null,
   "id": "044ef77a",
   "metadata": {},
   "outputs": [],
   "source": [
    "df_CL.head()"
   ]
  },
  {
   "cell_type": "code",
   "execution_count": null,
   "id": "98d26f7c",
   "metadata": {},
   "outputs": [],
   "source": []
  },
  {
   "cell_type": "code",
   "execution_count": null,
   "id": "e9040a4e",
   "metadata": {},
   "outputs": [],
   "source": [
    "df_test_CL = session.table(\"CPG_DATA_ORIGINAL\").to_pandas()"
   ]
  },
  {
   "cell_type": "code",
   "execution_count": null,
   "id": "1a232f01",
   "metadata": {},
   "outputs": [],
   "source": [
    "import numpy as np\n",
    "\n",
    "# Calculate the number of records for 'rural' and 'urban'\n",
    "total_records = len(df_test_CL)\n",
    "rural_count = int(total_records * 0.7)\n",
    "urban_count = total_records - rural_count\n",
    "\n",
    "# Create the 'location' variable\n",
    "location_changed = ['rural'] * rural_count + ['urban'] * urban_count\n",
    "np.random.shuffle(location_changed)  # Shuffle to mix 'rural' and 'urban' values\n",
    "\n",
    "# Add the 'location' variable to the DataFrame\n",
    "df_test_CL['location_changed'] = location_changed\n",
    "\n",
    "# Save the updated DataFrame back to a CSV file\n",
    "df_test_CL.to_csv('CPG_DATA_LOCATION_CHANGE1.csv', index=False)  # Replace 'updated_file.csv' with the desired output file name\n",
    "\n",
    "# Print a success message\n",
    "print(\"The 'location' variable has been added to the CSV file with 70% rural and 30% urban categories.\")"
   ]
  },
  {
   "cell_type": "code",
   "execution_count": null,
   "id": "5c25808e",
   "metadata": {},
   "outputs": [],
   "source": [
    "df_test_CL"
   ]
  },
  {
   "cell_type": "code",
   "execution_count": null,
   "id": "5f141d4d",
   "metadata": {},
   "outputs": [],
   "source": [
    "df_CL.head()\n"
   ]
  },
  {
   "cell_type": "code",
   "execution_count": null,
   "id": "ea49fda2",
   "metadata": {},
   "outputs": [],
   "source": [
    "df_test_CL.head()"
   ]
  },
  {
   "cell_type": "code",
   "execution_count": null,
   "id": "1b324e5c",
   "metadata": {},
   "outputs": [],
   "source": [
    "df_CL= df_CL.reset_index()\n",
    "df_CL.head()"
   ]
  },
  {
   "cell_type": "code",
   "execution_count": null,
   "id": "bd436642",
   "metadata": {},
   "outputs": [],
   "source": [
    "df_test_CL= df_test_CL.reset_index()\n",
    "df_test_CL.head()"
   ]
  },
  {
   "cell_type": "code",
   "execution_count": null,
   "id": "28af0199",
   "metadata": {},
   "outputs": [],
   "source": [
    "import pandas as pd\n",
    "import numpy as np\n",
    "import sklearn \n",
    "\n",
    "#import matplotlib.pyplot as plt\n",
    "#%matplotlib inline\n",
    "#import seaborn as sns\n",
    "\n",
    "\n",
    "from sklearn.preprocessing import LabelEncoder, StandardScaler\n",
    "\n",
    "from sklearn.linear_model import LinearRegression\n",
    "from sklearn.tree import DecisionTreeRegressor\n",
    "from sklearn.ensemble import RandomForestRegressor, GradientBoostingRegressor\n",
    "from sklearn.svm import SVR\n",
    "\n",
    "from sklearn.metrics import mean_squared_error, r2_score, mean_absolute_error\n",
    "import warnings\n",
    "warnings.simplefilter(action='ignore')"
   ]
  },
  {
   "cell_type": "code",
   "execution_count": null,
   "id": "79de084e",
   "metadata": {},
   "outputs": [],
   "source": [
    "df_CL.nunique().sort_values(ascending=False)\n",
    "df_CL.drop(columns=['Ware_house_ID','WH_Manager_ID','Date'], inplace = True)\n",
    "df_CL['workers_num'].median()\n",
    "df_CL['approved_wh_govt_certificate'].mode()\n",
    "df_CL['approved_wh_govt_certificate'].fillna(df_CL['approved_wh_govt_certificate'].mode()[0], inplace=True)\n",
    "df_CL.isnull().sum()\n",
    "df_CL.nunique().sort_values(ascending= True)"
   ]
  },
  {
   "cell_type": "code",
   "execution_count": null,
   "id": "312a859e",
   "metadata": {},
   "outputs": [],
   "source": [
    "for i in df_CL.columns[df_CL.nunique()<=4]:\n",
    "    print(\"Number of unique values in column \", i, ' :', len(df_CL[i].unique()))\n",
    "    print(df_CL[i].value_counts())\n",
    "    print(' ')"
   ]
  },
  {
   "cell_type": "code",
   "execution_count": null,
   "id": "745ab8fc",
   "metadata": {},
   "outputs": [],
   "source": [
    "def count_outliers(df_CL):\n",
    "    outliers={}\n",
    "    for i in df_CL.columns:\n",
    "        if pd.api.types.is_numeric_dtype(df_CL[i]):\n",
    "            q1 = df_CL[i].quantile(0.25)\n",
    "            q3 = df_CL[i].quantile(0.75)\n",
    "            iqr = q3 - q1\n",
    "            lower = q1 - 1.5*iqr\n",
    "            upper = q3 + 1.5*iqr\n",
    "            outliers[i] = df_CL[(df_CL[i] < lower) | (df_CL[i] > upper)].shape[0]\n",
    "        else:\n",
    "            pass\n",
    "    return outliers"
   ]
  },
  {
   "cell_type": "code",
   "execution_count": null,
   "id": "578ec72c",
   "metadata": {},
   "outputs": [],
   "source": [
    "outlier_counts = count_outliers(df_CL)\n",
    "outlier_counts"
   ]
  },
  {
   "cell_type": "code",
   "execution_count": null,
   "id": "fd1079db",
   "metadata": {},
   "outputs": [],
   "source": [
    "df_CL['product_wg_ton'].corr(df_CL['flood_proof'])\n",
    "df_CL['product_wg_ton'].corr(df_CL['flood_impacted'])\n",
    "df_CL.drop(columns=['flood_proof', 'flood_impacted'], inplace = True)\n"
   ]
  },
  {
   "cell_type": "code",
   "execution_count": null,
   "id": "38a5e458",
   "metadata": {},
   "outputs": [],
   "source": [
    "def remove_outliers(df_CL):\n",
    "    num_df = df_CL.select_dtypes(include=['int', 'float'])\n",
    "    q1 = num_df.quantile(0.25)\n",
    "    q3 = num_df.quantile(0.75)\n",
    "    iqr = q3 - q1\n",
    "    lower = q1 - 1.5*iqr\n",
    "    upper = q3 + 1.5*iqr\n",
    "    df_no_outliers = num_df[((num_df >= lower) & (num_df <= upper)).all(axis=1)]\n",
    "    return df_CL.loc[df_no_outliers.index]"
   ]
  },
  {
   "cell_type": "code",
   "execution_count": null,
   "id": "d13b47fe",
   "metadata": {},
   "outputs": [],
   "source": [
    "df_CL = remove_outliers(df_CL)\n",
    "df_CL.shape"
   ]
  },
  {
   "cell_type": "code",
   "execution_count": null,
   "id": "d358a5e4",
   "metadata": {},
   "outputs": [],
   "source": [
    "df_test_CL.nunique().sort_values(ascending=False)"
   ]
  },
  {
   "cell_type": "code",
   "execution_count": null,
   "id": "9d04635b",
   "metadata": {},
   "outputs": [],
   "source": [
    "df_test_CL.drop(columns=['Ware_house_ID', 'WH_Manager_ID'], inplace = True)\n",
    "print(len(df_test_CL[df_test_CL.duplicated]))\n",
    "\n"
   ]
  },
  {
   "cell_type": "code",
   "execution_count": null,
   "id": "cd007961",
   "metadata": {},
   "outputs": [],
   "source": [
    "null_values_features = [i for i in df_test_CL.columns if df_test_CL[i].isnull().sum()>1]\n",
    "for i in null_values_features:\n",
    "    print(i, np.round(df_test_CL[i].isnull().mean()*100, 2), \"% missing values\")\n"
   ]
  },
  {
   "cell_type": "code",
   "execution_count": null,
   "id": "660bf159",
   "metadata": {},
   "outputs": [],
   "source": [
    "df_test_CL.drop(columns=['wh_est_year'], inplace = True)\n",
    "df_test_CL['workers_num'].median()\n",
    "df_test_CL['workers_num'].fillna(df_test_CL['workers_num'].median(), inplace=True)\n",
    "df_test_CL['approved_wh_govt_certificate'].mode()\n",
    "df_test_CL['approved_wh_govt_certificate'].fillna(df_test_CL['approved_wh_govt_certificate'].mode()[0], inplace=True)\n",
    "df_test_CL.isnull().sum()\n",
    "df_test_CL.nunique().sort_values(ascending= True)"
   ]
  },
  {
   "cell_type": "code",
   "execution_count": null,
   "id": "7ff2f327",
   "metadata": {},
   "outputs": [],
   "source": [
    "for i in df_test_CL.columns[df_test_CL.nunique()<=4]:\n",
    "    print(\"Number of unique values in column \", i, ' :', len(df_test_CL[i].unique()))\n",
    "    print(df_test_CL[i].value_counts())\n",
    "    print(' ')"
   ]
  },
  {
   "cell_type": "code",
   "execution_count": null,
   "id": "cc64c697",
   "metadata": {},
   "outputs": [],
   "source": [
    "df_test_CL['product_wg_ton'].corr(df_test_CL['storage_issue_reported'])\n",
    "df_test_CL.drop(columns=['flood_proof', 'flood_impacted'], inplace = True)\n",
    "\n"
   ]
  },
  {
   "cell_type": "code",
   "execution_count": null,
   "id": "3186ec4f",
   "metadata": {},
   "outputs": [],
   "source": [
    "def remove_outliers(df_test_CL):\n",
    "    num_df = df_test_CL.select_dtypes(include=['int', 'float'])\n",
    "    q1 = num_df.quantile(0.25)\n",
    "    q3 = num_df.quantile(0.75)\n",
    "    iqr = q3 - q1\n",
    "    lower = q1 - 1.5*iqr\n",
    "    upper = q3 + 1.5*iqr\n",
    "    df_no_outliers = num_df[((num_df >= lower) & (num_df <= upper)).all(axis=1)]\n",
    "    return df_test_CL.loc[df_no_outliers.index]"
   ]
  },
  {
   "cell_type": "code",
   "execution_count": null,
   "id": "e30e9620",
   "metadata": {},
   "outputs": [],
   "source": [
    "df_test_CL = remove_outliers(df_test_CL)\n",
    "df_test_CL.head()"
   ]
  },
  {
   "cell_type": "code",
   "execution_count": null,
   "id": "81c1e1ab",
   "metadata": {},
   "outputs": [],
   "source": [
    "num_columns_train=[i for i in df_CL.columns if df_CL[i].dtypes != 'O']\n",
    "cat_columns_train=[i for i in df_CL.columns if df_CL[i].dtypes == 'O']\n",
    "\n",
    "# Numerical columns & categorical columns in test dataset\n",
    "\n",
    "num_columns_test=[i for i in df_test_CL.columns if df_test_CL[i].dtypes != 'O']\n",
    "cat_columns_test=[i for i in df_test_CL.columns if df_test_CL[i].dtypes == 'O']\n",
    "\n",
    "\n"
   ]
  },
  {
   "cell_type": "code",
   "execution_count": null,
   "id": "25d1beee",
   "metadata": {},
   "outputs": [],
   "source": [
    "for i in cat_columns_train:\n",
    "    df_CL[i] = LabelEncoder().fit_transform(df_CL[i])\n",
    "\n",
    "for i in cat_columns_test:\n",
    "    df_test_CL[i] = LabelEncoder().fit_transform(df_test_CL[i])\n",
    "    \n",
    "\n"
   ]
  },
  {
   "cell_type": "code",
   "execution_count": null,
   "id": "894e3eec",
   "metadata": {},
   "outputs": [],
   "source": [
    "df_CL.nunique().sort_values(ascending=False)\n",
    "columns_with_more_than_two_unique_values_train = df_CL.columns[df_CL.nunique()>2]\n",
    "columns_with_more_than_two_unique_values_test = df_test_CL.columns[df_test_CL.nunique()>2]\n"
   ]
  },
  {
   "cell_type": "code",
   "execution_count": null,
   "id": "0f0c45df",
   "metadata": {},
   "outputs": [],
   "source": [
    "X_train = df_CL.drop(['product_wg_ton','wh_est_year', 'WH_regional_zone'], axis=1)\n",
    "Y_train = df_CL['product_wg_ton']\n",
    "X_train.columns\n"
   ]
  },
  {
   "cell_type": "code",
   "execution_count": null,
   "id": "34c622c2",
   "metadata": {},
   "outputs": [],
   "source": [
    "X_test =  df_test_CL.drop(['product_wg_ton','WH_regional_zone','Date'], axis=1)\n",
    "X_test.head()\n",
    "X_test.columns"
   ]
  },
  {
   "cell_type": "code",
   "execution_count": null,
   "id": "0748f46b",
   "metadata": {},
   "outputs": [],
   "source": [
    "X_train.columns"
   ]
  },
  {
   "cell_type": "code",
   "execution_count": null,
   "id": "eaf8eecd",
   "metadata": {},
   "outputs": [],
   "source": [
    "X_train= X_train.reset_index()"
   ]
  },
  {
   "cell_type": "code",
   "execution_count": null,
   "id": "16042dee",
   "metadata": {},
   "outputs": [],
   "source": [
    "X_train.columns"
   ]
  },
  {
   "cell_type": "code",
   "execution_count": null,
   "id": "f4d11b08",
   "metadata": {},
   "outputs": [],
   "source": [
    "X_test1 = X_test.iloc[:100, :]\n",
    "X_test1.columns"
   ]
  },
  {
   "cell_type": "code",
   "execution_count": null,
   "id": "9fb1e035",
   "metadata": {},
   "outputs": [],
   "source": [
    "X_train.columns"
   ]
  },
  {
   "cell_type": "code",
   "execution_count": null,
   "id": "7850185b",
   "metadata": {},
   "outputs": [],
   "source": [
    "X_train = X_train.drop(['level_0'], axis=1)\n",
    "X_train.columns"
   ]
  },
  {
   "cell_type": "code",
   "execution_count": null,
   "id": "036f80b9",
   "metadata": {},
   "outputs": [],
   "source": [
    "GBmodel = GradientBoostingRegressor()\n",
    "GBmodel.fit(X_train,Y_train)\n",
    "GB_predicted = GBmodel.predict(X_test1)\n",
    "GB_predicted"
   ]
  },
  {
   "cell_type": "code",
   "execution_count": null,
   "id": "1d8e6df7",
   "metadata": {},
   "outputs": [],
   "source": [
    "predictions_location_change = pd.DataFrame(GB_predicted, columns =['product_wg_ton_pred_location_change']) \n",
    "predictions_location_change\n"
   ]
  },
  {
   "cell_type": "code",
   "execution_count": null,
   "id": "0fd94c84",
   "metadata": {},
   "outputs": [],
   "source": [
    "predictions_location_change = predictions_location_change.reset_index()\n",
    "predictions_location_change\n"
   ]
  },
  {
   "cell_type": "code",
   "execution_count": null,
   "id": "d8435df7",
   "metadata": {},
   "outputs": [],
   "source": []
  },
  {
   "cell_type": "code",
   "execution_count": null,
   "id": "8576d267",
   "metadata": {},
   "outputs": [],
   "source": [
    "predictions_location_change.shape"
   ]
  },
  {
   "cell_type": "code",
   "execution_count": null,
   "id": "c58e8de1",
   "metadata": {},
   "outputs": [],
   "source": [
    "#df_test_CL= df_test_CL.reset_index()\n",
    "#df_test_CL.head()\n",
    "\n",
    "df_test_CL = df_test_CL.iloc[:100, :]\n",
    "df_test_CL"
   ]
  },
  {
   "cell_type": "code",
   "execution_count": null,
   "id": "09a7f361",
   "metadata": {},
   "outputs": [],
   "source": [
    "final_reco1 = pd.merge(df_test_or,predictions_location_change,on='index',how='inner')\n",
    "\n"
   ]
  },
  {
   "cell_type": "code",
   "execution_count": null,
   "id": "b4fd82b7",
   "metadata": {},
   "outputs": [],
   "source": [
    "df_nochange_location=session.createDataFrame(\n",
    "        final_reco1.values.tolist(),\n",
    "        schema=final_reco1.columns.tolist())\n",
    "\n"
   ]
  },
  {
   "cell_type": "code",
   "execution_count": null,
   "id": "05fda9ea",
   "metadata": {},
   "outputs": [],
   "source": [
    "df_nochange_location.write.mode(\"overwrite\").save_as_table(\"CPGWH_DEMO.FMCG.CPG_DATA_PRED_NOCHANGE_LOCATION0\")"
   ]
  },
  {
   "cell_type": "code",
   "execution_count": null,
   "id": "38102933",
   "metadata": {},
   "outputs": [],
   "source": []
  },
  {
   "cell_type": "code",
   "execution_count": null,
   "id": "7d174793",
   "metadata": {},
   "outputs": [],
   "source": []
  },
  {
   "cell_type": "code",
   "execution_count": null,
   "id": "ed6935ba",
   "metadata": {},
   "outputs": [],
   "source": []
  },
  {
   "cell_type": "code",
   "execution_count": null,
   "id": "e2aac54d",
   "metadata": {},
   "outputs": [],
   "source": []
  },
  {
   "cell_type": "code",
   "execution_count": null,
   "id": "ad1d22a8",
   "metadata": {},
   "outputs": [],
   "source": []
  },
  {
   "cell_type": "code",
   "execution_count": null,
   "id": "9d980168",
   "metadata": {},
   "outputs": [],
   "source": []
  },
  {
   "cell_type": "code",
   "execution_count": null,
   "id": "2f538cda",
   "metadata": {},
   "outputs": [],
   "source": [
    "final_reco = pd.merge(df_test_CL,predictions_location_change,on='index',how='inner')"
   ]
  },
  {
   "cell_type": "code",
   "execution_count": null,
   "id": "9f17d091",
   "metadata": {},
   "outputs": [],
   "source": [
    "df_change_location=session.createDataFrame(\n",
    "        final_reco.values.tolist(),\n",
    "        schema=final_reco.columns.tolist())\n",
    "\n",
    "\n"
   ]
  },
  {
   "cell_type": "code",
   "execution_count": null,
   "id": "2ee239ff",
   "metadata": {},
   "outputs": [],
   "source": [
    "df_change_location.write.mode(\"overwrite\").save_as_table(\"CPGWH_DEMO.FMCG.CPG_DATA_PRED_CHANGE_LOCATION12\")"
   ]
  },
  {
   "cell_type": "code",
   "execution_count": null,
   "id": "dcb7f21b",
   "metadata": {},
   "outputs": [],
   "source": []
  },
  {
   "cell_type": "code",
   "execution_count": null,
   "id": "81beee43",
   "metadata": {},
   "outputs": [],
   "source": []
  },
  {
   "cell_type": "code",
   "execution_count": null,
   "id": "76cae8e5",
   "metadata": {},
   "outputs": [],
   "source": []
  },
  {
   "cell_type": "code",
   "execution_count": null,
   "id": "3cdf2b21",
   "metadata": {},
   "outputs": [],
   "source": []
  },
  {
   "cell_type": "code",
   "execution_count": null,
   "id": "8db73d1c",
   "metadata": {},
   "outputs": [],
   "source": []
  },
  {
   "cell_type": "code",
   "execution_count": null,
   "id": "e2a8c2e3",
   "metadata": {},
   "outputs": [],
   "source": []
  },
  {
   "cell_type": "code",
   "execution_count": null,
   "id": "7daaf0ea",
   "metadata": {},
   "outputs": [],
   "source": []
  },
  {
   "cell_type": "code",
   "execution_count": null,
   "id": "4ebdf106",
   "metadata": {},
   "outputs": [],
   "source": []
  },
  {
   "cell_type": "code",
   "execution_count": null,
   "id": "2816e5d2",
   "metadata": {},
   "outputs": [],
   "source": []
  },
  {
   "cell_type": "code",
   "execution_count": null,
   "id": "45d83018",
   "metadata": {},
   "outputs": [],
   "source": []
  },
  {
   "cell_type": "code",
   "execution_count": null,
   "id": "2131ab9b",
   "metadata": {},
   "outputs": [],
   "source": []
  },
  {
   "cell_type": "code",
   "execution_count": null,
   "id": "dd47a579",
   "metadata": {},
   "outputs": [],
   "source": []
  },
  {
   "cell_type": "code",
   "execution_count": null,
   "id": "ce456219",
   "metadata": {},
   "outputs": [],
   "source": []
  },
  {
   "cell_type": "code",
   "execution_count": null,
   "id": "4f3b4f52",
   "metadata": {},
   "outputs": [],
   "source": []
  },
  {
   "cell_type": "code",
   "execution_count": null,
   "id": "de1839a2",
   "metadata": {},
   "outputs": [],
   "source": []
  },
  {
   "cell_type": "code",
   "execution_count": null,
   "id": "4791405e",
   "metadata": {},
   "outputs": [],
   "source": []
  },
  {
   "cell_type": "code",
   "execution_count": null,
   "id": "9df81d64",
   "metadata": {},
   "outputs": [],
   "source": []
  },
  {
   "cell_type": "code",
   "execution_count": null,
   "id": "29acac3d",
   "metadata": {},
   "outputs": [],
   "source": []
  },
  {
   "cell_type": "code",
   "execution_count": null,
   "id": "3be9bdeb",
   "metadata": {},
   "outputs": [],
   "source": []
  },
  {
   "cell_type": "code",
   "execution_count": null,
   "id": "7c4f9e25",
   "metadata": {},
   "outputs": [],
   "source": []
  },
  {
   "cell_type": "code",
   "execution_count": null,
   "id": "83240746",
   "metadata": {},
   "outputs": [],
   "source": []
  },
  {
   "cell_type": "code",
   "execution_count": null,
   "id": "e2a9a3cb",
   "metadata": {},
   "outputs": [],
   "source": []
  },
  {
   "cell_type": "code",
   "execution_count": null,
   "id": "1bca97b3",
   "metadata": {
    "scrolled": true
   },
   "outputs": [],
   "source": [
    "predictions_nolocationchange = pd.DataFrame(LR_y_predicted, columns =['product_wg_ton_pred_nolocationchange']) \n",
    "predictions_nolocationchange"
   ]
  },
  {
   "cell_type": "code",
   "execution_count": null,
   "id": "fc39ac1f",
   "metadata": {},
   "outputs": [],
   "source": [
    "predictions_nolocationchange = predictions_nolocationchange.reset_index()\n",
    "\n",
    "predictions_nolocationchange"
   ]
  },
  {
   "cell_type": "code",
   "execution_count": null,
   "id": "d0ec7304",
   "metadata": {},
   "outputs": [],
   "source": [
    "final_reco = pd.merge(df_test_or,predictions_nolocationchange,on='index',how='inner')\n",
    "final_reco.head()"
   ]
  },
  {
   "cell_type": "code",
   "execution_count": null,
   "id": "e27f3dfb",
   "metadata": {},
   "outputs": [],
   "source": [
    "df_nochange_location=session.createDataFrame(\n",
    "        final_reco.values.tolist(),\n",
    "        schema=final_reco.columns.tolist())"
   ]
  },
  {
   "cell_type": "code",
   "execution_count": null,
   "id": "eb939a0a",
   "metadata": {},
   "outputs": [],
   "source": [
    "df_test_or.write.mode(\"overwrite\").save_as_table(\"CPG_DATA_PRED_NOCHANGE11\")\n"
   ]
  },
  {
   "cell_type": "code",
   "execution_count": null,
   "id": "311eefad",
   "metadata": {},
   "outputs": [],
   "source": [
    "final_reco.to_csv('FMCG_data_original_predictions.csv', index=False)"
   ]
  },
  {
   "cell_type": "code",
   "execution_count": null,
   "id": "6b3c8a37",
   "metadata": {},
   "outputs": [],
   "source": [
    "final_reco"
   ]
  },
  {
   "cell_type": "code",
   "execution_count": null,
   "id": "2ad7dde3",
   "metadata": {},
   "outputs": [],
   "source": [
    "df_test_or.write.mode(\"overwrite\").save_as_table(\"CPG_DATA_PRED_NOCHANGE11\")"
   ]
  },
  {
   "cell_type": "code",
   "execution_count": null,
   "id": "7c1b5de9",
   "metadata": {},
   "outputs": [],
   "source": []
  },
  {
   "cell_type": "code",
   "execution_count": null,
   "id": "28c12414",
   "metadata": {},
   "outputs": [],
   "source": []
  },
  {
   "cell_type": "code",
   "execution_count": null,
   "id": "6b17ec98",
   "metadata": {},
   "outputs": [],
   "source": []
  },
  {
   "cell_type": "code",
   "execution_count": null,
   "id": "fc140a6a",
   "metadata": {},
   "outputs": [],
   "source": [
    "\n",
    "predictions_location_nochange = predictions_nolocationchange.reset_index()\n",
    "\n",
    "predictions_location_nochange"
   ]
  },
  {
   "cell_type": "code",
   "execution_count": null,
   "id": "a10415c9",
   "metadata": {},
   "outputs": [],
   "source": [
    "df_test_location= df_test.reset_index()\n",
    "df_test_location"
   ]
  },
  {
   "cell_type": "code",
   "execution_count": null,
   "id": "803a9926",
   "metadata": {},
   "outputs": [],
   "source": []
  },
  {
   "cell_type": "code",
   "execution_count": null,
   "id": "76d685aa",
   "metadata": {},
   "outputs": [],
   "source": []
  },
  {
   "cell_type": "code",
   "execution_count": null,
   "id": "39c248c4",
   "metadata": {},
   "outputs": [],
   "source": [
    "final_reco = pd.merge(df_test,predictions_location,on='index',how='inner')"
   ]
  },
  {
   "cell_type": "code",
   "execution_count": null,
   "id": "0f322138",
   "metadata": {},
   "outputs": [],
   "source": []
  },
  {
   "cell_type": "code",
   "execution_count": null,
   "id": "d3bb34de",
   "metadata": {},
   "outputs": [],
   "source": [
    "df_test.write.mode(\"overwrite\").save_as_table(\"CPG_DATA_PRED_NOCHANGE1\")\n",
    "predictions_location.to_csv('FMCG_data_original_predictions.csv', index=False)"
   ]
  },
  {
   "cell_type": "code",
   "execution_count": null,
   "id": "2e6e680b",
   "metadata": {},
   "outputs": [],
   "source": [
    "predictions_location.to_csv('FMCG_data_original_predictions.csv', index=False)"
   ]
  },
  {
   "cell_type": "code",
   "execution_count": null,
   "id": "f10ea901",
   "metadata": {},
   "outputs": [],
   "source": [
    "Y_test = df_test['product_wg_ton']\n",
    "Y_test.head()"
   ]
  },
  {
   "cell_type": "code",
   "execution_count": null,
   "id": "756e4a23",
   "metadata": {},
   "outputs": [],
   "source": [
    "# r2 score\n",
    "lr_r2 = r2_score(Y_test, LR_y_predicted).round(3)\n",
    "print('R2 score:  ', lr_r2)\n",
    "\n",
    "# root mean squared error (RMSE)\n",
    "lr_rmse = np.sqrt(mean_squared_error(Y_test, LR_y_predicted)).round(3)\n",
    "print('Root Mean Squared Error:  ', lr_rmse) \n",
    "\n",
    "# mean absolute error (MAE)\n",
    "lr_mae = mean_absolute_error(Y_test, LR_y_predicted).round(3)\n",
    "print('Mean Absolute Error:  ', lr_mae)"
   ]
  },
  {
   "cell_type": "code",
   "execution_count": null,
   "id": "96360864",
   "metadata": {},
   "outputs": [],
   "source": []
  },
  {
   "cell_type": "code",
   "execution_count": null,
   "id": "66ea761f",
   "metadata": {},
   "outputs": [],
   "source": [
    "DTmodel = DecisionTreeRegressor(random_state = 0)"
   ]
  },
  {
   "cell_type": "code",
   "execution_count": null,
   "id": "641a4d40",
   "metadata": {},
   "outputs": [],
   "source": [
    "\n",
    "DTmodel.fit(X_train, Y_train) "
   ]
  },
  {
   "cell_type": "code",
   "execution_count": null,
   "id": "006d0488",
   "metadata": {},
   "outputs": [],
   "source": [
    "DT_predicted = DTmodel.predict(X_test)"
   ]
  },
  {
   "cell_type": "code",
   "execution_count": null,
   "id": "4c09df99",
   "metadata": {},
   "outputs": [],
   "source": [
    "DT_predicted"
   ]
  },
  {
   "cell_type": "code",
   "execution_count": null,
   "id": "2a42ff40",
   "metadata": {},
   "outputs": [],
   "source": [
    "# r2 score\n",
    "dt_r2 = r2_score(Y_test, DT_predicted).round(3)\n",
    "print('R2 score:  ', dt_r2)\n",
    "\n",
    "# root mean squared error (RMSE)\n",
    "dt_rmse = np.sqrt(mean_squared_error(Y_test, DT_predicted)).round(3)\n",
    "print('Root Mean Squared Error:  ', dt_rmse) \n",
    "\n",
    "# mean absolute error (MAE)\n",
    "dt_mae = mean_absolute_error(Y_test, DT_predicted).round(3)\n",
    "print('Mean Absolute Error:  ', dt_mae)"
   ]
  },
  {
   "cell_type": "code",
   "execution_count": null,
   "id": "162c9554",
   "metadata": {},
   "outputs": [],
   "source": []
  },
  {
   "cell_type": "code",
   "execution_count": null,
   "id": "439706d5",
   "metadata": {},
   "outputs": [],
   "source": [
    "RFmodel = RandomForestRegressor(n_estimators = 100, max_depth = 4, random_state = 0) \n",
    "RFmodel.fit(X_train, Y_train)\n",
    "RF_predicted = RFmodel.predict(X_test)\n",
    "RF_predicted"
   ]
  },
  {
   "cell_type": "code",
   "execution_count": null,
   "id": "bb837e31",
   "metadata": {},
   "outputs": [],
   "source": [
    "# r2 score\n",
    "rf_r2 = r2_score(Y_test, RF_predicted).round(3)\n",
    "print('R2 score:  ', rf_r2)\n",
    "\n",
    "# root mean squared error (RMSE)\n",
    "rf_rmse = np.sqrt(mean_squared_error(Y_test, RF_predicted)).round(3)\n",
    "print('Root Mean Squared Error:  ', rf_rmse) \n",
    "\n",
    "# mean absolute error (MAE)\n",
    "rf_mae = mean_absolute_error(Y_test, RF_predicted).round(3)\n",
    "print('Mean Absolute Error:  ', rf_mae)"
   ]
  },
  {
   "cell_type": "code",
   "execution_count": null,
   "id": "94d74221",
   "metadata": {},
   "outputs": [],
   "source": []
  },
  {
   "cell_type": "code",
   "execution_count": null,
   "id": "25a2c019",
   "metadata": {},
   "outputs": [],
   "source": [
    "\n",
    "GBmodel = GradientBoostingRegressor()\n",
    "GBmodel.fit(X_train,Y_train)\n",
    "GB_predicted = GBmodel.predict(X_test)\n",
    "GB_predicted"
   ]
  },
  {
   "cell_type": "code",
   "execution_count": null,
   "id": "01c70a0e",
   "metadata": {},
   "outputs": [],
   "source": [
    "gb_r2 = r2_score(Y_test, GB_predicted).round(3)\n",
    "print('R2 score:  ', gb_r2)\n",
    "\n",
    "# root mean squared error (RMSE)\n",
    "gb_rmse = np.sqrt(mean_squared_error(Y_test, GB_predicted)).round(3)\n",
    "print('Root Mean Squared Error:  ', gb_rmse) \n",
    "\n",
    "# mean absolute error (MAE)\n",
    "gb_mae = mean_absolute_error(Y_test, GB_predicted).round(3)\n",
    "print('Mean Absolute Error:  ', gb_mae)"
   ]
  },
  {
   "cell_type": "code",
   "execution_count": null,
   "id": "120e11a1",
   "metadata": {},
   "outputs": [],
   "source": [
    "ax1 = plt.subplot2grid((2, 3), (0, 0))\n",
    "plt.scatter(Y_test, LR_y_predicted, color='#ffdab9', alpha=0.3, label='Actual')\n",
    "plt.plot([min(Y_test), max(Y_test)], [min(Y_test), max(Y_test)], linestyle='--', color='#2f4f4f', label='Predicted')\n",
    "plt.title('Linear Regression')\n",
    "plt.xlabel('Actual Values')\n",
    "plt.ylabel('Predicted Values')\n",
    "plt.legend()\n",
    "\n",
    "\n",
    "ax1 = plt.subplot2grid((2, 3), (0, 1))\n",
    "plt.scatter(Y_test, DT_predicted, color='#ffdab9', alpha=0.3)\n",
    "plt.plot([min(Y_test), max(Y_test)], [min(Y_test), max(Y_test)], linestyle='--', color='#2f4f4f')\n",
    "plt.title('Decision Tree')\n",
    "plt.xlabel('Actual Values')\n",
    "plt.ylabel('Predicted Values')"
   ]
  },
  {
   "cell_type": "code",
   "execution_count": null,
   "id": "e956b71a",
   "metadata": {},
   "outputs": [],
   "source": [
    "ax1 = plt.subplot2grid((2, 3), (1, 1))\n",
    "plt.scatter(Y_test, GB_predicted, color='#ffdab9', alpha=0.3)  # alpha controls point transparency for better visualization\n",
    "plt.plot([min(Y_test), max(Y_test)], [min(Y_test), max(Y_test)], linestyle='--',color='#2f4f4f')\n",
    "plt.title('Gradient Boosting')\n",
    "plt.xlabel('Actual Values')\n",
    "plt.ylabel('Predicted Values')\n",
    "\n",
    "plt.show()"
   ]
  },
  {
   "cell_type": "code",
   "execution_count": null,
   "id": "bb537b7d",
   "metadata": {},
   "outputs": [],
   "source": []
  },
  {
   "cell_type": "code",
   "execution_count": null,
   "id": "e5d19c11",
   "metadata": {},
   "outputs": [],
   "source": []
  },
  {
   "cell_type": "code",
   "execution_count": null,
   "id": "f5b5108c",
   "metadata": {},
   "outputs": [],
   "source": []
  },
  {
   "cell_type": "code",
   "execution_count": null,
   "id": "9b3a8e8b",
   "metadata": {},
   "outputs": [],
   "source": [
    "import numpy as np\n",
    "\n",
    "# Calculate the number of records for 'rural' and 'urban'\n",
    "total_records = len(df_or)\n",
    "rural_count = int(total_records * 0.7)\n",
    "urban_count = total_records - rural_count\n",
    "\n",
    "# Create the 'location' variable\n",
    "location_changed = ['rural'] * rural_count + ['urban'] * urban_count\n",
    "np.random.shuffle(location_changed)  # Shuffle to mix 'rural' and 'urban' values\n",
    "\n",
    "# Add the 'location' variable to the DataFrame\n",
    "df['location_changed'] = location_changed\n",
    "\n",
    "# Save the updated DataFrame back to a CSV file\n",
    "df.to_csv('CPG_DATA_ORIGINAL.csv', index=False)  # Replace 'updated_file.csv' with the desired output file name\n",
    "\n",
    "# Print a success message\n",
    "print(\"The 'location' variable has been added to the CSV file with 70% rural and 30% urban categories.\")\n"
   ]
  }
 ],
 "metadata": {
  "kernelspec": {
   "display_name": "Python 3",
   "language": "python",
   "name": "python3"
  },
  "language_info": {
   "codemirror_mode": {
    "name": "ipython",
    "version": 3
   },
   "file_extension": ".py",
   "mimetype": "text/x-python",
   "name": "python",
   "nbconvert_exporter": "python",
   "pygments_lexer": "ipython3",
   "version": "3.8.18"
  }
 },
 "nbformat": 4,
 "nbformat_minor": 5
}
