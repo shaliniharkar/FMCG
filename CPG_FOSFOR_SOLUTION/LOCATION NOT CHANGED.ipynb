{
 "cells": [
  {
   "cell_type": "code",
   "execution_count": 1,
   "id": "1b0ca3e0",
   "metadata": {},
   "outputs": [
    {
     "name": "stdout",
     "output_type": "stream",
     "text": [
      "connection successful!\n"
     ]
    }
   ],
   "source": [
    "import time\n",
    "from snowflake.snowpark.session import Session\n",
    "import configparser\n",
    " \n",
    "import warnings\n",
    "warnings.filterwarnings(\"ignore\")\n",
    " \n",
    "config = configparser.ConfigParser()\n",
    "config.read(\"snowflake_connection.ini\")\n",
    " \n",
    "connection_parameters = {\n",
    "    \"user\": f'{config[\"Snowflake\"][\"user\"]}',\n",
    "    \"password\": f'{config[\"Snowflake\"][\"password\"]}',\n",
    "    \"account\": f'{config[\"Snowflake\"][\"account\"]}',\n",
    "    \"WAREHOUSE\": f'{config[\"Snowflake\"][\"WAREHOUSE\"]}',\n",
    "    \"DATABASE\": f'{config[\"Snowflake\"][\"DATABASE\"]}',\n",
    "    \"SCHEMA\": f'{config[\"Snowflake\"][\"SCHEMA\"]}'\n",
    "}\n",
    " \n",
    "def snowflake_connector(conn):\n",
    "    try:\n",
    "        session = Session.builder.configs(conn).create()\n",
    "        print(\"connection successful!\")\n",
    "    except:\n",
    "        raise ValueError(\"error while connecting with db\")\n",
    "    return session\n",
    " \n",
    "session = snowflake_connector(connection_parameters)"
   ]
  },
  {
   "cell_type": "code",
   "execution_count": 2,
   "id": "b081dd2f",
   "metadata": {},
   "outputs": [],
   "source": [
    "df = session.table(\"CPG_DATA_ORIGINAL\").to_pandas()\n",
    "df_test = session.table(\"CPG_DATA_ORIGINAL\").to_pandas()"
   ]
  },
  {
   "cell_type": "code",
   "execution_count": 3,
   "id": "4f8f909b",
   "metadata": {},
   "outputs": [],
   "source": [
    "#Changed location DONT RUN THE BELOW CELL"
   ]
  },
  {
   "cell_type": "code",
   "execution_count": null,
   "id": "2ad9b91a",
   "metadata": {},
   "outputs": [],
   "source": [
    "import numpy as np\n",
    "\n",
    "# Calculate the number of records for 'rural' and 'urban'\n",
    "total_records = len(df)\n",
    "rural_count = int(total_records * 0.7)\n",
    "urban_count = total_records - rural_count\n",
    "\n",
    "# Create the 'location' variable\n",
    "location = ['rural'] * rural_count + ['urban'] * urban_count\n",
    "np.random.shuffle(location)  # Shuffle to mix 'rural' and 'urban' values\n",
    "\n",
    "# Add the 'location' variable to the DataFrame\n",
    "df['location'] = location\n",
    "\n",
    "# Save the updated DataFrame back to a CSV file\n",
    "df.to_csv('CPG_DATA_LOCATION_CHANGE.csv', index=False)  # Replace 'updated_file.csv' with the desired output file name\n",
    "\n",
    "# Print a success message\n",
    "print(\"The 'location' variable has been added to the CSV file with 70% rural and 30% urban categories.\")\n"
   ]
  },
  {
   "cell_type": "code",
   "execution_count": null,
   "id": "04481b1a",
   "metadata": {},
   "outputs": [],
   "source": [
    "#df_location= df\n",
    "#df_test_location= df"
   ]
  },
  {
   "cell_type": "code",
   "execution_count": null,
   "id": "4209f193",
   "metadata": {},
   "outputs": [],
   "source": [
    "!pip install -U scikit-learn"
   ]
  },
  {
   "cell_type": "code",
   "execution_count": null,
   "id": "e0a07299",
   "metadata": {},
   "outputs": [],
   "source": [
    "import pandas as pd\n",
    "import numpy as np\n",
    "\n",
    "#import matplotlib.pyplot as plt\n",
    "#%matplotlib inline\n",
    "\n",
    "\n",
    "\n",
    "from sklearn.preprocessing import LabelEncoder, StandardScaler\n",
    "\n",
    "from sklearn.linear_model import LinearRegression\n",
    "from sklearn.tree import DecisionTreeRegressor\n",
    "from sklearn.ensemble import RandomForestRegressor, GradientBoostingRegressor\n",
    "from sklearn.svm import SVR\n",
    "\n",
    "from sklearn.metrics import mean_squared_error, r2_score, mean_absolute_error"
   ]
  },
  {
   "cell_type": "code",
   "execution_count": null,
   "id": "26e3c314",
   "metadata": {},
   "outputs": [],
   "source": [
    "import warnings\n",
    "warnings.simplefilter(action='ignore')"
   ]
  },
  {
   "cell_type": "code",
   "execution_count": null,
   "id": "1aa5c9f2",
   "metadata": {},
   "outputs": [],
   "source": []
  },
  {
   "cell_type": "code",
   "execution_count": null,
   "id": "a946d326",
   "metadata": {},
   "outputs": [],
   "source": [
    "# train dataset\n",
    "#df = pd.read_csv(\"3.FMCG_data_location_changed.csv\")\n",
    "\n",
    "# test dataset\n",
    "#df_test = pd.read_csv(\"3.FMCG_data_location_changed.csv\")"
   ]
  },
  {
   "cell_type": "code",
   "execution_count": null,
   "id": "ddcfd0da",
   "metadata": {},
   "outputs": [],
   "source": []
  },
  {
   "cell_type": "code",
   "execution_count": null,
   "id": "59a8c0f9",
   "metadata": {},
   "outputs": [],
   "source": []
  },
  {
   "cell_type": "code",
   "execution_count": null,
   "id": "c0186c2f",
   "metadata": {},
   "outputs": [],
   "source": [
    "df_location.nunique().sort_values(ascending=False)"
   ]
  },
  {
   "cell_type": "code",
   "execution_count": null,
   "id": "798728d2",
   "metadata": {},
   "outputs": [],
   "source": [
    "df_location.drop(columns=['Ware_house_ID','WH_Manager_ID','Date'], inplace = True)\n",
    "df_location['workers_num'].median()\n",
    "df_location['approved_wh_govt_certificate'].mode()\n",
    "df_location['approved_wh_govt_certificate'].fillna(df_location['approved_wh_govt_certificate'].mode()[0], inplace=True)\n",
    "df_location.isnull().sum()\n",
    "df_location.nunique().sort_values(ascending= True)"
   ]
  },
  {
   "cell_type": "code",
   "execution_count": null,
   "id": "338f5f71",
   "metadata": {},
   "outputs": [],
   "source": [
    "for i in df.columns[df_location.nunique()<=4]:\n",
    "    print(\"Number of unique values in column \", i, ' :', len(df_location[i].unique()))\n",
    "    print(df_location[i].value_counts())\n",
    "    print(' ')"
   ]
  },
  {
   "cell_type": "code",
   "execution_count": null,
   "id": "e620a48f",
   "metadata": {},
   "outputs": [],
   "source": [
    "def count_outliers(df_location):\n",
    "    outliers={}\n",
    "    for i in df_location.columns:\n",
    "        if pd.api.types.is_numeric_dtype(df_location[i]):\n",
    "            q1 = df_location[i].quantile(0.25)\n",
    "            q3 = df_location[i].quantile(0.75)\n",
    "            iqr = q3 - q1\n",
    "            lower = q1 - 1.5*iqr\n",
    "            upper = q3 + 1.5*iqr\n",
    "            outliers[i] = df[(df[i] < lower) | (df_location[i] > upper)].shape[0]\n",
    "        else:\n",
    "            pass\n",
    "    return outliers"
   ]
  },
  {
   "cell_type": "code",
   "execution_count": null,
   "id": "2a283585",
   "metadata": {},
   "outputs": [],
   "source": [
    "outlier_counts = count_outliers(df_location)\n",
    "outlier_counts"
   ]
  },
  {
   "cell_type": "code",
   "execution_count": null,
   "id": "82bed5de",
   "metadata": {},
   "outputs": [],
   "source": [
    "df_location['product_wg_ton'].corr(df_location['flood_proof'])\n",
    "df_location['product_wg_ton'].corr(df_location['flood_impacted'])\n",
    "df_location.drop(columns=['flood_proof', 'flood_impacted'], inplace = True)"
   ]
  },
  {
   "cell_type": "code",
   "execution_count": null,
   "id": "284e1d60",
   "metadata": {},
   "outputs": [],
   "source": [
    "def remove_outliers(df_location):\n",
    "    num_df = df_location.select_dtypes(include=['int', 'float'])\n",
    "    q1 = num_df.quantile(0.25)\n",
    "    q3 = num_df.quantile(0.75)\n",
    "    iqr = q3 - q1\n",
    "    lower = q1 - 1.5*iqr\n",
    "    upper = q3 + 1.5*iqr\n",
    "    df_no_outliers = num_df[((num_df >= lower) & (num_df <= upper)).all(axis=1)]\n",
    "    return df.loc[df_no_outliers.index]"
   ]
  },
  {
   "cell_type": "code",
   "execution_count": null,
   "id": "3160ac5d",
   "metadata": {},
   "outputs": [],
   "source": [
    "df_location = remove_outliers(df_location)\n",
    "df_location.shape"
   ]
  },
  {
   "cell_type": "code",
   "execution_count": null,
   "id": "fceb040f",
   "metadata": {},
   "outputs": [],
   "source": [
    "df_location"
   ]
  },
  {
   "cell_type": "code",
   "execution_count": null,
   "id": "2c666c9d",
   "metadata": {},
   "outputs": [],
   "source": [
    "df_test_location.nunique().sort_values(ascending=False)"
   ]
  },
  {
   "cell_type": "code",
   "execution_count": null,
   "id": "f3e56959",
   "metadata": {},
   "outputs": [],
   "source": [
    "df_test_location"
   ]
  },
  {
   "cell_type": "code",
   "execution_count": null,
   "id": "ee62f0fa",
   "metadata": {},
   "outputs": [],
   "source": [
    "#df_test_location.drop(columns=['Ware_house_ID', 'WH_Manager_ID'], inplace = True)\n",
    "#print(len(df_test_location[df_test_location.duplicated]))"
   ]
  },
  {
   "cell_type": "code",
   "execution_count": null,
   "id": "252cc2b5",
   "metadata": {},
   "outputs": [],
   "source": [
    "# print percentage of null values in each column\n",
    "\n",
    "null_values_features = [i for i in df_test_location.columns if df_test_location[i].isnull().sum()>1]\n",
    "for i in null_values_features:\n",
    "    print(i, np.round(df_test_location[i].isnull().mean()*100, 2), \"% missing values\")"
   ]
  },
  {
   "cell_type": "code",
   "execution_count": null,
   "id": "9cedeb1c",
   "metadata": {},
   "outputs": [],
   "source": [
    "df_test_location.drop(columns=['wh_est_year'], inplace = True)\n",
    "df_test_location['workers_num'].median()\n",
    "df_test_location['workers_num'].fillna(df_test_location['workers_num'].median(), inplace=True)\n",
    "df_test_location['approved_wh_govt_certificate'].mode()\n",
    "df_test_location['approved_wh_govt_certificate'].fillna(df_test_location['approved_wh_govt_certificate'].mode()[0], inplace=True)\n",
    "df_test_location.isnull().sum()\n",
    "df_test_location.nunique().sort_values(ascending= True)"
   ]
  },
  {
   "cell_type": "code",
   "execution_count": null,
   "id": "a02a3685",
   "metadata": {},
   "outputs": [],
   "source": [
    "for i in df_test_location.columns[df_test_location.nunique()<=4]:\n",
    "    print(\"Number of unique values in column \", i, ' :', len(df_test_location[i].unique()))\n",
    "    print(df_test_location[i].value_counts())\n",
    "    print(' ')"
   ]
  },
  {
   "cell_type": "code",
   "execution_count": null,
   "id": "1c2bb460",
   "metadata": {},
   "outputs": [],
   "source": [
    "df_test_location['product_wg_ton'].corr(df_test_location['storage_issue_reported'])"
   ]
  },
  {
   "cell_type": "code",
   "execution_count": null,
   "id": "cc5a94ff",
   "metadata": {},
   "outputs": [],
   "source": [
    "#df_test_location.drop(columns=['flood_proof', 'flood_impacted'], inplace = True)"
   ]
  },
  {
   "cell_type": "code",
   "execution_count": null,
   "id": "51eca58d",
   "metadata": {},
   "outputs": [],
   "source": [
    "def remove_outliers(df_test_location):\n",
    "    num_df = df_test_location.select_dtypes(include=['int', 'float'])\n",
    "    q1 = num_df.quantile(0.25)\n",
    "    q3 = num_df.quantile(0.75)\n",
    "    iqr = q3 - q1\n",
    "    lower = q1 - 1.5*iqr\n",
    "    upper = q3 + 1.5*iqr\n",
    "    df_no_outliers = num_df[((num_df >= lower) & (num_df <= upper)).all(axis=1)]\n",
    "    return df_test_location.loc[df_no_outliers.index]"
   ]
  },
  {
   "cell_type": "code",
   "execution_count": null,
   "id": "19d7c79b",
   "metadata": {},
   "outputs": [],
   "source": [
    "df_test_location = remove_outliers(df_test_location)"
   ]
  },
  {
   "cell_type": "code",
   "execution_count": null,
   "id": "347fcac5",
   "metadata": {},
   "outputs": [],
   "source": [
    "# Numerical columns & categorical columns in train dataset\n",
    "\n",
    "num_columns_train=[i for i in df_location.columns if df_location[i].dtypes != 'O']\n",
    "cat_columns_train=[i for i in df_location.columns if df_location[i].dtypes == 'O']\n",
    "\n",
    "# Numerical columns & categorical columns in test dataset\n",
    "\n",
    "num_columns_test=[i for i in df_test_location.columns if df_test_location[i].dtypes != 'O']\n",
    "cat_columns_test=[i for i in df_test_location.columns if df_test_location[i].dtypes == 'O']"
   ]
  },
  {
   "cell_type": "code",
   "execution_count": null,
   "id": "fa4d2fc8",
   "metadata": {},
   "outputs": [],
   "source": [
    "for i in cat_columns_train:\n",
    "    df_location[i] = LabelEncoder().fit_transform(df_location[i])\n",
    "\n",
    "for i in cat_columns_test:\n",
    "    df_test_location[i] = LabelEncoder().fit_transform(df_test_location[i])"
   ]
  },
  {
   "cell_type": "code",
   "execution_count": null,
   "id": "86fd9119",
   "metadata": {},
   "outputs": [],
   "source": [
    "# display number of unique values in each column\n",
    "df_location.nunique().sort_values(ascending=False)"
   ]
  },
  {
   "cell_type": "code",
   "execution_count": null,
   "id": "917107b1",
   "metadata": {},
   "outputs": [],
   "source": [
    "columns_with_more_than_two_unique_values_train = df_location.columns[df_location.nunique()>2]"
   ]
  },
  {
   "cell_type": "code",
   "execution_count": null,
   "id": "c61d9243",
   "metadata": {},
   "outputs": [],
   "source": [
    "columns_with_more_than_two_unique_values_test = df_test_location.columns[df_test_location.nunique()>2]"
   ]
  },
  {
   "cell_type": "code",
   "execution_count": null,
   "id": "3b6b425d",
   "metadata": {},
   "outputs": [],
   "source": [
    "df_location = df_location.drop(columns=['Location_type'])"
   ]
  },
  {
   "cell_type": "code",
   "execution_count": null,
   "id": "8e4314d2",
   "metadata": {},
   "outputs": [],
   "source": [
    "df_location.head()"
   ]
  },
  {
   "cell_type": "code",
   "execution_count": null,
   "id": "56c6801b",
   "metadata": {},
   "outputs": [],
   "source": [
    "df_location_test = df_location "
   ]
  },
  {
   "cell_type": "code",
   "execution_count": null,
   "id": "a757a8b7",
   "metadata": {},
   "outputs": [],
   "source": []
  },
  {
   "cell_type": "code",
   "execution_count": null,
   "id": "4013ecd8",
   "metadata": {},
   "outputs": [],
   "source": []
  },
  {
   "cell_type": "code",
   "execution_count": null,
   "id": "187624b9",
   "metadata": {},
   "outputs": [],
   "source": []
  },
  {
   "cell_type": "code",
   "execution_count": null,
   "id": "8abe219c",
   "metadata": {},
   "outputs": [],
   "source": []
  },
  {
   "cell_type": "code",
   "execution_count": null,
   "id": "11256910",
   "metadata": {},
   "outputs": [],
   "source": []
  },
  {
   "cell_type": "code",
   "execution_count": null,
   "id": "803b2091",
   "metadata": {},
   "outputs": [],
   "source": [
    "\n",
    "X_train = df_location.drop(['product_wg_ton', 'WH_regional_zone'], axis=1)\n",
    "Y_train = df_location['product_wg_ton']\n"
   ]
  },
  {
   "cell_type": "code",
   "execution_count": null,
   "id": "ff8b37d1",
   "metadata": {},
   "outputs": [],
   "source": [
    "X_test = df_location_test.drop(['product_wg_ton','WH_regional_zone'], axis=1)\n",
    "X_test.head()"
   ]
  },
  {
   "cell_type": "code",
   "execution_count": null,
   "id": "8e9dabd2",
   "metadata": {},
   "outputs": [],
   "source": [
    "#Linear Regression\n",
    "LRmodel = LinearRegression()"
   ]
  },
  {
   "cell_type": "code",
   "execution_count": null,
   "id": "651d3d69",
   "metadata": {},
   "outputs": [],
   "source": [
    "LRmodel.fit(X_train, Y_train)"
   ]
  },
  {
   "cell_type": "code",
   "execution_count": null,
   "id": "2dcc317e",
   "metadata": {},
   "outputs": [],
   "source": []
  },
  {
   "cell_type": "code",
   "execution_count": null,
   "id": "babc154e",
   "metadata": {},
   "outputs": [],
   "source": [
    "LR_y_predicted = LRmodel.predict(X_test)\n",
    "LR_y_predicted\n"
   ]
  },
  {
   "cell_type": "code",
   "execution_count": null,
   "id": "1bca97b3",
   "metadata": {},
   "outputs": [],
   "source": [
    "predictions_location_nochange = pd.DataFrame(LR_y_predicted, columns =['product_wg_ton_pred_location_notchange']) \n",
    "predictions_location_nochange\n",
    "predictions_location_nochange = predictions_location.reset_index()\n"
   ]
  },
  {
   "cell_type": "code",
   "execution_count": null,
   "id": "d9005e94",
   "metadata": {},
   "outputs": [],
   "source": [
    "predictions_location_nochange"
   ]
  },
  {
   "cell_type": "code",
   "execution_count": null,
   "id": "76db0fec",
   "metadata": {},
   "outputs": [],
   "source": [
    "df_test_location= df_test.reset_index()\n",
    "df_test_location"
   ]
  },
  {
   "cell_type": "code",
   "execution_count": null,
   "id": "53150053",
   "metadata": {},
   "outputs": [],
   "source": [
    "final_reco = pd.merge(df_test_location,predictions_location_nochange,on='index',how='inner')"
   ]
  },
  {
   "cell_type": "code",
   "execution_count": null,
   "id": "2abdacb2",
   "metadata": {},
   "outputs": [],
   "source": [
    "final_reco"
   ]
  },
  {
   "cell_type": "code",
   "execution_count": null,
   "id": "7e12133f",
   "metadata": {},
   "outputs": [],
   "source": []
  },
  {
   "cell_type": "code",
   "execution_count": null,
   "id": "57c4f983",
   "metadata": {},
   "outputs": [],
   "source": [
    "df_nochange_location=session.createDataFrame(\n",
    "        final_reco.values.tolist(),\n",
    "        schema=final_reco.columns.tolist())"
   ]
  },
  {
   "cell_type": "code",
   "execution_count": null,
   "id": "9a63074f",
   "metadata": {},
   "outputs": [],
   "source": [
    "df_nochange_location.write.mode(\"overwrite\").save_as_table(\"CPGWH_DEMO.FMCG.CPG_DATA_PRED_NOCHANGE_LOCATION1\")"
   ]
  },
  {
   "cell_type": "code",
   "execution_count": null,
   "id": "d4b8f21f",
   "metadata": {},
   "outputs": [],
   "source": []
  },
  {
   "cell_type": "code",
   "execution_count": null,
   "id": "3ec3b9df",
   "metadata": {},
   "outputs": [],
   "source": []
  },
  {
   "cell_type": "code",
   "execution_count": null,
   "id": "5850ccdc",
   "metadata": {},
   "outputs": [],
   "source": []
  },
  {
   "cell_type": "code",
   "execution_count": null,
   "id": "386b3dc0",
   "metadata": {},
   "outputs": [],
   "source": []
  },
  {
   "cell_type": "code",
   "execution_count": null,
   "id": "b6f7f502",
   "metadata": {},
   "outputs": [],
   "source": []
  },
  {
   "cell_type": "code",
   "execution_count": null,
   "id": "916c5745",
   "metadata": {},
   "outputs": [],
   "source": []
  },
  {
   "cell_type": "code",
   "execution_count": null,
   "id": "939136d7",
   "metadata": {},
   "outputs": [],
   "source": []
  },
  {
   "cell_type": "code",
   "execution_count": null,
   "id": "8ea2a7b5",
   "metadata": {},
   "outputs": [],
   "source": []
  },
  {
   "cell_type": "code",
   "execution_count": null,
   "id": "5ca3fbc7",
   "metadata": {},
   "outputs": [],
   "source": []
  },
  {
   "cell_type": "code",
   "execution_count": null,
   "id": "303089f3",
   "metadata": {},
   "outputs": [],
   "source": []
  },
  {
   "cell_type": "code",
   "execution_count": null,
   "id": "5507fa1c",
   "metadata": {},
   "outputs": [],
   "source": []
  },
  {
   "cell_type": "code",
   "execution_count": null,
   "id": "d3ca0b92",
   "metadata": {},
   "outputs": [],
   "source": []
  },
  {
   "cell_type": "code",
   "execution_count": null,
   "id": "6395979c",
   "metadata": {},
   "outputs": [],
   "source": []
  },
  {
   "cell_type": "code",
   "execution_count": null,
   "id": "c2132ca8",
   "metadata": {},
   "outputs": [],
   "source": [
    "df_nochange.write.mode(\"overwrite\").save_as_table(\"CPGWH_DEMO.FMCG.CPG_DATA_PRED_NOCHANGE\")"
   ]
  },
  {
   "cell_type": "code",
   "execution_count": null,
   "id": "8f81a15c",
   "metadata": {},
   "outputs": [],
   "source": []
  },
  {
   "cell_type": "code",
   "execution_count": null,
   "id": "786e1602",
   "metadata": {},
   "outputs": [],
   "source": []
  },
  {
   "cell_type": "code",
   "execution_count": null,
   "id": "41f38ab6",
   "metadata": {},
   "outputs": [],
   "source": []
  },
  {
   "cell_type": "code",
   "execution_count": null,
   "id": "6315d6b0",
   "metadata": {},
   "outputs": [],
   "source": []
  },
  {
   "cell_type": "code",
   "execution_count": null,
   "id": "b8e738ff",
   "metadata": {},
   "outputs": [],
   "source": []
  },
  {
   "cell_type": "code",
   "execution_count": null,
   "id": "e76e42d3",
   "metadata": {},
   "outputs": [],
   "source": []
  },
  {
   "cell_type": "code",
   "execution_count": null,
   "id": "2e6e680b",
   "metadata": {},
   "outputs": [],
   "source": [
    "predictions_location.to_csv('FMCG_data_original_predictions.csv', index=False)"
   ]
  },
  {
   "cell_type": "code",
   "execution_count": null,
   "id": "f10ea901",
   "metadata": {},
   "outputs": [],
   "source": [
    "Y_test = df_test['product_wg_ton']\n",
    "Y_test.head()"
   ]
  },
  {
   "cell_type": "code",
   "execution_count": null,
   "id": "756e4a23",
   "metadata": {},
   "outputs": [],
   "source": [
    "# r2 score\n",
    "lr_r2 = r2_score(Y_test, LR_y_predicted).round(3)\n",
    "print('R2 score:  ', lr_r2)\n",
    "\n",
    "# root mean squared error (RMSE)\n",
    "lr_rmse = np.sqrt(mean_squared_error(Y_test, LR_y_predicted)).round(3)\n",
    "print('Root Mean Squared Error:  ', lr_rmse) \n",
    "\n",
    "# mean absolute error (MAE)\n",
    "lr_mae = mean_absolute_error(Y_test, LR_y_predicted).round(3)\n",
    "print('Mean Absolute Error:  ', lr_mae)"
   ]
  },
  {
   "cell_type": "code",
   "execution_count": null,
   "id": "96360864",
   "metadata": {},
   "outputs": [],
   "source": []
  },
  {
   "cell_type": "code",
   "execution_count": null,
   "id": "66ea761f",
   "metadata": {},
   "outputs": [],
   "source": [
    "DTmodel = DecisionTreeRegressor(random_state = 0)"
   ]
  },
  {
   "cell_type": "code",
   "execution_count": null,
   "id": "641a4d40",
   "metadata": {},
   "outputs": [],
   "source": [
    "\n",
    "DTmodel.fit(X_train, Y_train) "
   ]
  },
  {
   "cell_type": "code",
   "execution_count": null,
   "id": "006d0488",
   "metadata": {},
   "outputs": [],
   "source": [
    "DT_predicted = DTmodel.predict(X_test)"
   ]
  },
  {
   "cell_type": "code",
   "execution_count": null,
   "id": "4c09df99",
   "metadata": {},
   "outputs": [],
   "source": [
    "DT_predicted"
   ]
  },
  {
   "cell_type": "code",
   "execution_count": null,
   "id": "2a42ff40",
   "metadata": {},
   "outputs": [],
   "source": [
    "# r2 score\n",
    "dt_r2 = r2_score(Y_test, DT_predicted).round(3)\n",
    "print('R2 score:  ', dt_r2)\n",
    "\n",
    "# root mean squared error (RMSE)\n",
    "dt_rmse = np.sqrt(mean_squared_error(Y_test, DT_predicted)).round(3)\n",
    "print('Root Mean Squared Error:  ', dt_rmse) \n",
    "\n",
    "# mean absolute error (MAE)\n",
    "dt_mae = mean_absolute_error(Y_test, DT_predicted).round(3)\n",
    "print('Mean Absolute Error:  ', dt_mae)"
   ]
  },
  {
   "cell_type": "code",
   "execution_count": null,
   "id": "162c9554",
   "metadata": {},
   "outputs": [],
   "source": []
  },
  {
   "cell_type": "code",
   "execution_count": null,
   "id": "439706d5",
   "metadata": {},
   "outputs": [],
   "source": [
    "RFmodel = RandomForestRegressor(n_estimators = 100, max_depth = 4, random_state = 0) \n",
    "RFmodel.fit(X_train, Y_train)\n",
    "RF_predicted = RFmodel.predict(X_test)\n",
    "RF_predicted"
   ]
  },
  {
   "cell_type": "code",
   "execution_count": null,
   "id": "bb837e31",
   "metadata": {},
   "outputs": [],
   "source": [
    "# r2 score\n",
    "rf_r2 = r2_score(Y_test, RF_predicted).round(3)\n",
    "print('R2 score:  ', rf_r2)\n",
    "\n",
    "# root mean squared error (RMSE)\n",
    "rf_rmse = np.sqrt(mean_squared_error(Y_test, RF_predicted)).round(3)\n",
    "print('Root Mean Squared Error:  ', rf_rmse) \n",
    "\n",
    "# mean absolute error (MAE)\n",
    "rf_mae = mean_absolute_error(Y_test, RF_predicted).round(3)\n",
    "print('Mean Absolute Error:  ', rf_mae)"
   ]
  },
  {
   "cell_type": "code",
   "execution_count": null,
   "id": "94d74221",
   "metadata": {},
   "outputs": [],
   "source": []
  },
  {
   "cell_type": "code",
   "execution_count": null,
   "id": "25a2c019",
   "metadata": {},
   "outputs": [],
   "source": [
    "\n",
    "GBmodel = GradientBoostingRegressor()\n",
    "GBmodel.fit(X_train,Y_train)\n",
    "GB_predicted = GBmodel.predict(X_test)\n",
    "GB_predicted"
   ]
  },
  {
   "cell_type": "code",
   "execution_count": null,
   "id": "01c70a0e",
   "metadata": {},
   "outputs": [],
   "source": [
    "gb_r2 = r2_score(Y_test, GB_predicted).round(3)\n",
    "print('R2 score:  ', gb_r2)\n",
    "\n",
    "# root mean squared error (RMSE)\n",
    "gb_rmse = np.sqrt(mean_squared_error(Y_test, GB_predicted)).round(3)\n",
    "print('Root Mean Squared Error:  ', gb_rmse) \n",
    "\n",
    "# mean absolute error (MAE)\n",
    "gb_mae = mean_absolute_error(Y_test, GB_predicted).round(3)\n",
    "print('Mean Absolute Error:  ', gb_mae)"
   ]
  },
  {
   "cell_type": "code",
   "execution_count": null,
   "id": "120e11a1",
   "metadata": {},
   "outputs": [],
   "source": [
    "ax1 = plt.subplot2grid((2, 3), (0, 0))\n",
    "plt.scatter(Y_test, LR_y_predicted, color='#ffdab9', alpha=0.3, label='Actual')\n",
    "plt.plot([min(Y_test), max(Y_test)], [min(Y_test), max(Y_test)], linestyle='--', color='#2f4f4f', label='Predicted')\n",
    "plt.title('Linear Regression')\n",
    "plt.xlabel('Actual Values')\n",
    "plt.ylabel('Predicted Values')\n",
    "plt.legend()\n",
    "\n",
    "\n",
    "ax1 = plt.subplot2grid((2, 3), (0, 1))\n",
    "plt.scatter(Y_test, DT_predicted, color='#ffdab9', alpha=0.3)\n",
    "plt.plot([min(Y_test), max(Y_test)], [min(Y_test), max(Y_test)], linestyle='--', color='#2f4f4f')\n",
    "plt.title('Decision Tree')\n",
    "plt.xlabel('Actual Values')\n",
    "plt.ylabel('Predicted Values')"
   ]
  },
  {
   "cell_type": "code",
   "execution_count": null,
   "id": "e956b71a",
   "metadata": {},
   "outputs": [],
   "source": [
    "ax1 = plt.subplot2grid((2, 3), (1, 1))\n",
    "plt.scatter(Y_test, GB_predicted, color='#ffdab9', alpha=0.3)  # alpha controls point transparency for better visualization\n",
    "plt.plot([min(Y_test), max(Y_test)], [min(Y_test), max(Y_test)], linestyle='--',color='#2f4f4f')\n",
    "plt.title('Gradient Boosting')\n",
    "plt.xlabel('Actual Values')\n",
    "plt.ylabel('Predicted Values')\n",
    "\n",
    "plt.show()"
   ]
  },
  {
   "cell_type": "code",
   "execution_count": null,
   "id": "bb537b7d",
   "metadata": {},
   "outputs": [],
   "source": []
  }
 ],
 "metadata": {
  "kernelspec": {
   "display_name": "Python 3",
   "language": "python",
   "name": "python3"
  },
  "language_info": {
   "codemirror_mode": {
    "name": "ipython",
    "version": 3
   },
   "file_extension": ".py",
   "mimetype": "text/x-python",
   "name": "python",
   "nbconvert_exporter": "python",
   "pygments_lexer": "ipython3",
   "version": "3.8.18"
  }
 },
 "nbformat": 4,
 "nbformat_minor": 5
}
