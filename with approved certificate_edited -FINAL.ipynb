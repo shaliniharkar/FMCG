{
 "cells": [
  {
   "cell_type": "code",
   "execution_count": 1,
   "id": "c2fc81f1",
   "metadata": {},
   "outputs": [],
   "source": [
    "import pandas as pd\n",
    "import numpy as np\n",
    "\n",
    "import matplotlib.pyplot as plt\n",
    "%matplotlib inline\n",
    "#import seaborn as sns\n",
    "\n",
    "\n",
    "from sklearn.preprocessing import LabelEncoder, StandardScaler\n",
    "\n",
    "from sklearn.linear_model import LinearRegression\n",
    "from sklearn.tree import DecisionTreeRegressor\n",
    "from sklearn.ensemble import RandomForestRegressor, GradientBoostingRegressor\n",
    "from sklearn.svm import SVR\n",
    "\n",
    "from sklearn.metrics import mean_squared_error, r2_score, mean_absolute_error"
   ]
  },
  {
   "cell_type": "code",
   "execution_count": 2,
   "id": "42a81458",
   "metadata": {},
   "outputs": [],
   "source": [
    "import warnings\n",
    "warnings.simplefilter(action='ignore')"
   ]
  },
  {
   "cell_type": "code",
   "execution_count": 3,
   "id": "1942b030",
   "metadata": {},
   "outputs": [],
   "source": [
    "# train dataset\n",
    "df = pd.read_csv(\"FMCG_data.csv\")\n",
    "\n",
    "# test dataset\n",
    "df_test = pd.read_csv(\"FMCG_data.csv\")"
   ]
  },
  {
   "cell_type": "code",
   "execution_count": 4,
   "id": "6c0fedc0",
   "metadata": {},
   "outputs": [
    {
     "data": {
      "text/html": [
       "<div>\n",
       "<style scoped>\n",
       "    .dataframe tbody tr th:only-of-type {\n",
       "        vertical-align: middle;\n",
       "    }\n",
       "\n",
       "    .dataframe tbody tr th {\n",
       "        vertical-align: top;\n",
       "    }\n",
       "\n",
       "    .dataframe thead th {\n",
       "        text-align: right;\n",
       "    }\n",
       "</style>\n",
       "<table border=\"1\" class=\"dataframe\">\n",
       "  <thead>\n",
       "    <tr style=\"text-align: right;\">\n",
       "      <th></th>\n",
       "      <th>Date</th>\n",
       "      <th>Ware_house_ID</th>\n",
       "      <th>WH_Manager_ID</th>\n",
       "      <th>Location_type</th>\n",
       "      <th>WH_capacity_size</th>\n",
       "      <th>zone</th>\n",
       "      <th>WH_regional_zone</th>\n",
       "      <th>Refill_Requests</th>\n",
       "      <th>transport_issue</th>\n",
       "      <th>No_of_Competitor</th>\n",
       "      <th>...</th>\n",
       "      <th>electric_supply</th>\n",
       "      <th>dist_from_hub</th>\n",
       "      <th>workers_num</th>\n",
       "      <th>wh_est_year</th>\n",
       "      <th>storage_issue_reported</th>\n",
       "      <th>temp_reg_mach</th>\n",
       "      <th>approved_wh_govt_certificate</th>\n",
       "      <th>wh_breakdown</th>\n",
       "      <th>govt_check</th>\n",
       "      <th>product_wg_ton</th>\n",
       "    </tr>\n",
       "  </thead>\n",
       "  <tbody>\n",
       "    <tr>\n",
       "      <th>0</th>\n",
       "      <td>01-01-2023</td>\n",
       "      <td>WH_100000</td>\n",
       "      <td>EID_50000</td>\n",
       "      <td>Urban</td>\n",
       "      <td>Small</td>\n",
       "      <td>West</td>\n",
       "      <td>Zone 6</td>\n",
       "      <td>3</td>\n",
       "      <td>1</td>\n",
       "      <td>2</td>\n",
       "      <td>...</td>\n",
       "      <td>1</td>\n",
       "      <td>91</td>\n",
       "      <td>29.0</td>\n",
       "      <td>NaN</td>\n",
       "      <td>13</td>\n",
       "      <td>0.0</td>\n",
       "      <td>A</td>\n",
       "      <td>5.0</td>\n",
       "      <td>15.0</td>\n",
       "      <td>17115.0</td>\n",
       "    </tr>\n",
       "    <tr>\n",
       "      <th>1</th>\n",
       "      <td>01-01-2023</td>\n",
       "      <td>WH_100001</td>\n",
       "      <td>EID_50001</td>\n",
       "      <td>Rural</td>\n",
       "      <td>Large</td>\n",
       "      <td>North</td>\n",
       "      <td>Zone 5</td>\n",
       "      <td>0</td>\n",
       "      <td>0</td>\n",
       "      <td>4</td>\n",
       "      <td>...</td>\n",
       "      <td>1</td>\n",
       "      <td>210</td>\n",
       "      <td>31.0</td>\n",
       "      <td>NaN</td>\n",
       "      <td>4</td>\n",
       "      <td>0.0</td>\n",
       "      <td>A</td>\n",
       "      <td>3.0</td>\n",
       "      <td>17.0</td>\n",
       "      <td>5074.0</td>\n",
       "    </tr>\n",
       "    <tr>\n",
       "      <th>2</th>\n",
       "      <td>01-01-2023</td>\n",
       "      <td>WH_100002</td>\n",
       "      <td>EID_50002</td>\n",
       "      <td>Rural</td>\n",
       "      <td>Mid</td>\n",
       "      <td>South</td>\n",
       "      <td>Zone 2</td>\n",
       "      <td>1</td>\n",
       "      <td>0</td>\n",
       "      <td>4</td>\n",
       "      <td>...</td>\n",
       "      <td>0</td>\n",
       "      <td>161</td>\n",
       "      <td>37.0</td>\n",
       "      <td>NaN</td>\n",
       "      <td>17</td>\n",
       "      <td>0.0</td>\n",
       "      <td>A</td>\n",
       "      <td>6.0</td>\n",
       "      <td>22.0</td>\n",
       "      <td>23137.0</td>\n",
       "    </tr>\n",
       "    <tr>\n",
       "      <th>3</th>\n",
       "      <td>01-01-2023</td>\n",
       "      <td>WH_100003</td>\n",
       "      <td>EID_50003</td>\n",
       "      <td>Rural</td>\n",
       "      <td>Mid</td>\n",
       "      <td>North</td>\n",
       "      <td>Zone 3</td>\n",
       "      <td>7</td>\n",
       "      <td>4</td>\n",
       "      <td>2</td>\n",
       "      <td>...</td>\n",
       "      <td>0</td>\n",
       "      <td>103</td>\n",
       "      <td>21.0</td>\n",
       "      <td>NaN</td>\n",
       "      <td>17</td>\n",
       "      <td>1.0</td>\n",
       "      <td>A+</td>\n",
       "      <td>3.0</td>\n",
       "      <td>27.0</td>\n",
       "      <td>22115.0</td>\n",
       "    </tr>\n",
       "    <tr>\n",
       "      <th>4</th>\n",
       "      <td>01-01-2023</td>\n",
       "      <td>WH_100004</td>\n",
       "      <td>EID_50004</td>\n",
       "      <td>Rural</td>\n",
       "      <td>Large</td>\n",
       "      <td>North</td>\n",
       "      <td>Zone 5</td>\n",
       "      <td>3</td>\n",
       "      <td>1</td>\n",
       "      <td>2</td>\n",
       "      <td>...</td>\n",
       "      <td>1</td>\n",
       "      <td>112</td>\n",
       "      <td>25.0</td>\n",
       "      <td>2009.0</td>\n",
       "      <td>18</td>\n",
       "      <td>0.0</td>\n",
       "      <td>C</td>\n",
       "      <td>6.0</td>\n",
       "      <td>24.0</td>\n",
       "      <td>24071.0</td>\n",
       "    </tr>\n",
       "  </tbody>\n",
       "</table>\n",
       "<p>5 rows × 25 columns</p>\n",
       "</div>"
      ],
      "text/plain": [
       "         Date Ware_house_ID WH_Manager_ID Location_type WH_capacity_size  \\\n",
       "0  01-01-2023     WH_100000     EID_50000         Urban            Small   \n",
       "1  01-01-2023     WH_100001     EID_50001         Rural            Large   \n",
       "2  01-01-2023     WH_100002     EID_50002         Rural              Mid   \n",
       "3  01-01-2023     WH_100003     EID_50003         Rural              Mid   \n",
       "4  01-01-2023     WH_100004     EID_50004         Rural            Large   \n",
       "\n",
       "    zone WH_regional_zone  Refill_Requests  transport_issue  No_of_Competitor  \\\n",
       "0   West           Zone 6                3                1                 2   \n",
       "1  North           Zone 5                0                0                 4   \n",
       "2  South           Zone 2                1                0                 4   \n",
       "3  North           Zone 3                7                4                 2   \n",
       "4  North           Zone 5                3                1                 2   \n",
       "\n",
       "   ...  electric_supply dist_from_hub  workers_num  wh_est_year  \\\n",
       "0  ...                1            91         29.0          NaN   \n",
       "1  ...                1           210         31.0          NaN   \n",
       "2  ...                0           161         37.0          NaN   \n",
       "3  ...                0           103         21.0          NaN   \n",
       "4  ...                1           112         25.0       2009.0   \n",
       "\n",
       "   storage_issue_reported  temp_reg_mach  approved_wh_govt_certificate  \\\n",
       "0                      13            0.0                             A   \n",
       "1                       4            0.0                             A   \n",
       "2                      17            0.0                             A   \n",
       "3                      17            1.0                            A+   \n",
       "4                      18            0.0                             C   \n",
       "\n",
       "   wh_breakdown  govt_check  product_wg_ton  \n",
       "0           5.0        15.0         17115.0  \n",
       "1           3.0        17.0          5074.0  \n",
       "2           6.0        22.0         23137.0  \n",
       "3           3.0        27.0         22115.0  \n",
       "4           6.0        24.0         24071.0  \n",
       "\n",
       "[5 rows x 25 columns]"
      ]
     },
     "execution_count": 4,
     "metadata": {},
     "output_type": "execute_result"
    }
   ],
   "source": [
    "df.head()"
   ]
  },
  {
   "cell_type": "code",
   "execution_count": null,
   "id": "2c0c6b22",
   "metadata": {},
   "outputs": [],
   "source": []
  },
  {
   "cell_type": "code",
   "execution_count": 5,
   "id": "cbc77113",
   "metadata": {},
   "outputs": [
    {
     "data": {
      "text/plain": [
       "product_wg_ton                  65179\n",
       "WH_Manager_ID                   25000\n",
       "Ware_house_ID                   25000\n",
       "No_of_retailers                  9068\n",
       "dist_from_hub                     217\n",
       "Number_of_distributors            138\n",
       "workers_num                       122\n",
       "storage_issue_reported             73\n",
       "govt_check                         70\n",
       "wh_breakdown                       47\n",
       "wh_est_year                        28\n",
       "Refill_Requests                    27\n",
       "transport_issue                    23\n",
       "No_of_Competitor                   23\n",
       "Date                               14\n",
       "approved_wh_govt_certificate        6\n",
       "WH_regional_zone                    6\n",
       "zone                                4\n",
       "WH_capacity_size                    3\n",
       "Location_type                       2\n",
       "flood_proof                         2\n",
       "flood_impacted                      2\n",
       "temp_reg_mach                       2\n",
       "Warehouse_Ownership                 2\n",
       "electric_supply                     2\n",
       "dtype: int64"
      ]
     },
     "execution_count": 5,
     "metadata": {},
     "output_type": "execute_result"
    }
   ],
   "source": [
    "\n",
    "df.nunique().sort_values(ascending=False)"
   ]
  },
  {
   "cell_type": "code",
   "execution_count": 6,
   "id": "ef38c560",
   "metadata": {},
   "outputs": [
    {
     "data": {
      "text/plain": [
       "Location_type                       2\n",
       "temp_reg_mach                       2\n",
       "electric_supply                     2\n",
       "flood_proof                         2\n",
       "Warehouse_Ownership                 2\n",
       "flood_impacted                      2\n",
       "WH_capacity_size                    3\n",
       "zone                                4\n",
       "WH_regional_zone                    6\n",
       "approved_wh_govt_certificate        6\n",
       "No_of_Competitor                   23\n",
       "transport_issue                    23\n",
       "Refill_Requests                    27\n",
       "wh_est_year                        28\n",
       "wh_breakdown                       47\n",
       "govt_check                         70\n",
       "storage_issue_reported             73\n",
       "workers_num                       122\n",
       "Number_of_distributors            138\n",
       "dist_from_hub                     217\n",
       "No_of_retailers                  9068\n",
       "product_wg_ton                  65179\n",
       "dtype: int64"
      ]
     },
     "execution_count": 6,
     "metadata": {},
     "output_type": "execute_result"
    }
   ],
   "source": [
    "df.drop(columns=['Ware_house_ID','WH_Manager_ID','Date'], inplace = True)\n",
    "df['workers_num'].median()\n",
    "df['approved_wh_govt_certificate'].mode()\n",
    "df['approved_wh_govt_certificate'].fillna(df['approved_wh_govt_certificate'].mode()[0], inplace=True)\n",
    "df.isnull().sum()\n",
    "df.nunique().sort_values(ascending= True)"
   ]
  },
  {
   "cell_type": "code",
   "execution_count": null,
   "id": "7a6c3bd0",
   "metadata": {},
   "outputs": [],
   "source": []
  },
  {
   "cell_type": "code",
   "execution_count": null,
   "id": "a667fafb",
   "metadata": {},
   "outputs": [],
   "source": []
  },
  {
   "cell_type": "code",
   "execution_count": 7,
   "id": "dc0c3301",
   "metadata": {},
   "outputs": [],
   "source": [
    "def count_outliers(df):\n",
    "    outliers={}\n",
    "    for i in df.columns:\n",
    "        if pd.api.types.is_numeric_dtype(df[i]):\n",
    "            q1 = df[i].quantile(0.25)\n",
    "            q3 = df[i].quantile(0.75)\n",
    "            iqr = q3 - q1\n",
    "            lower = q1 - 1.5*iqr\n",
    "            upper = q3 + 1.5*iqr\n",
    "            outliers[i] = df[(df[i] < lower) | (df[i] > upper)].shape[0]\n",
    "        else:\n",
    "            pass\n",
    "    return outliers"
   ]
  },
  {
   "cell_type": "code",
   "execution_count": 8,
   "id": "d57c84cd",
   "metadata": {},
   "outputs": [
    {
     "data": {
      "text/plain": [
       "{'Refill_Requests': 4159,\n",
       " 'transport_issue': 3852,\n",
       " 'No_of_Competitor': 16980,\n",
       " 'No_of_retailers': 7980,\n",
       " 'Number_of_distributors': 494,\n",
       " 'flood_impacted': 34356,\n",
       " 'flood_proof': 19125,\n",
       " 'electric_supply': 0,\n",
       " 'dist_from_hub': 0,\n",
       " 'workers_num': 8332,\n",
       " 'wh_est_year': 0,\n",
       " 'storage_issue_reported': 932,\n",
       " 'temp_reg_mach': 0,\n",
       " 'wh_breakdown': 436,\n",
       " 'govt_check': 114,\n",
       " 'product_wg_ton': 1327}"
      ]
     },
     "execution_count": 8,
     "metadata": {},
     "output_type": "execute_result"
    }
   ],
   "source": [
    "outlier_counts = count_outliers(df)\n",
    "outlier_counts"
   ]
  },
  {
   "cell_type": "code",
   "execution_count": 9,
   "id": "f08a47c8",
   "metadata": {},
   "outputs": [],
   "source": [
    "df['product_wg_ton'].corr(df['flood_proof'])\n",
    "df['product_wg_ton'].corr(df['flood_impacted'])\n",
    "df.drop(columns=['flood_proof', 'flood_impacted'], inplace = True)"
   ]
  },
  {
   "cell_type": "code",
   "execution_count": null,
   "id": "f6d5f979",
   "metadata": {},
   "outputs": [],
   "source": []
  },
  {
   "cell_type": "code",
   "execution_count": null,
   "id": "dcafac9f",
   "metadata": {},
   "outputs": [],
   "source": []
  },
  {
   "cell_type": "code",
   "execution_count": 10,
   "id": "2df62b8e",
   "metadata": {},
   "outputs": [],
   "source": [
    "def remove_outliers(df):\n",
    "    num_df = df.select_dtypes(include=['int', 'float'])\n",
    "    q1 = num_df.quantile(0.25)\n",
    "    q3 = num_df.quantile(0.75)\n",
    "    iqr = q3 - q1\n",
    "    lower = q1 - 1.5*iqr\n",
    "    upper = q3 + 1.5*iqr\n",
    "    df_no_outliers = num_df[((num_df >= lower) & (num_df <= upper)).all(axis=1)]\n",
    "    return df.loc[df_no_outliers.index]"
   ]
  },
  {
   "cell_type": "code",
   "execution_count": 11,
   "id": "e8ed7dfc",
   "metadata": {},
   "outputs": [
    {
     "data": {
      "text/plain": [
       "(161071, 20)"
      ]
     },
     "execution_count": 11,
     "metadata": {},
     "output_type": "execute_result"
    }
   ],
   "source": [
    "df = remove_outliers(df)\n",
    "df.shape"
   ]
  },
  {
   "cell_type": "code",
   "execution_count": 12,
   "id": "774fbf90",
   "metadata": {},
   "outputs": [
    {
     "data": {
      "text/plain": [
       "product_wg_ton                  65179\n",
       "WH_Manager_ID                   25000\n",
       "Ware_house_ID                   25000\n",
       "No_of_retailers                  9068\n",
       "dist_from_hub                     217\n",
       "Number_of_distributors            138\n",
       "workers_num                       122\n",
       "storage_issue_reported             73\n",
       "govt_check                         70\n",
       "wh_breakdown                       47\n",
       "wh_est_year                        28\n",
       "Refill_Requests                    27\n",
       "transport_issue                    23\n",
       "No_of_Competitor                   23\n",
       "Date                               14\n",
       "approved_wh_govt_certificate        6\n",
       "WH_regional_zone                    6\n",
       "zone                                4\n",
       "WH_capacity_size                    3\n",
       "Location_type                       2\n",
       "flood_proof                         2\n",
       "flood_impacted                      2\n",
       "temp_reg_mach                       2\n",
       "Warehouse_Ownership                 2\n",
       "electric_supply                     2\n",
       "dtype: int64"
      ]
     },
     "execution_count": 12,
     "metadata": {},
     "output_type": "execute_result"
    }
   ],
   "source": [
    "df_test.nunique().sort_values(ascending=False)"
   ]
  },
  {
   "cell_type": "code",
   "execution_count": 13,
   "id": "b64ef82b",
   "metadata": {},
   "outputs": [
    {
     "name": "stdout",
     "output_type": "stream",
     "text": [
      "0\n"
     ]
    }
   ],
   "source": [
    "df_test.drop(columns=['Ware_house_ID', 'WH_Manager_ID'], inplace = True)\n",
    "print(len(df_test[df_test.duplicated]))"
   ]
  },
  {
   "cell_type": "code",
   "execution_count": null,
   "id": "a09bb462",
   "metadata": {},
   "outputs": [],
   "source": []
  },
  {
   "cell_type": "code",
   "execution_count": 14,
   "id": "05316142",
   "metadata": {},
   "outputs": [
    {
     "name": "stdout",
     "output_type": "stream",
     "text": [
      "workers_num 0.28 % missing values\n",
      "wh_est_year 47.52 % missing values\n",
      "approved_wh_govt_certificate 3.63 % missing values\n"
     ]
    }
   ],
   "source": [
    "# print percentage of null values in each column\n",
    "\n",
    "null_values_features = [i for i in df_test.columns if df_test[i].isnull().sum()>1]\n",
    "for i in null_values_features:\n",
    "    print(i, np.round(df_test[i].isnull().mean()*100, 2), \"% missing values\")"
   ]
  },
  {
   "cell_type": "code",
   "execution_count": 15,
   "id": "c1cc8134",
   "metadata": {},
   "outputs": [
    {
     "data": {
      "text/plain": [
       "temp_reg_mach                       2\n",
       "Location_type                       2\n",
       "electric_supply                     2\n",
       "flood_proof                         2\n",
       "flood_impacted                      2\n",
       "Warehouse_Ownership                 2\n",
       "WH_capacity_size                    3\n",
       "zone                                4\n",
       "WH_regional_zone                    6\n",
       "approved_wh_govt_certificate        6\n",
       "Date                               14\n",
       "No_of_Competitor                   23\n",
       "transport_issue                    23\n",
       "Refill_Requests                    27\n",
       "wh_breakdown                       47\n",
       "govt_check                         70\n",
       "storage_issue_reported             73\n",
       "workers_num                       122\n",
       "Number_of_distributors            138\n",
       "dist_from_hub                     217\n",
       "No_of_retailers                  9068\n",
       "product_wg_ton                  65179\n",
       "dtype: int64"
      ]
     },
     "execution_count": 15,
     "metadata": {},
     "output_type": "execute_result"
    }
   ],
   "source": [
    "df_test.drop(columns=['wh_est_year'], inplace = True)\n",
    "df_test['workers_num'].median()\n",
    "df_test['workers_num'].fillna(df_test['workers_num'].median(), inplace=True)\n",
    "df_test['approved_wh_govt_certificate'].mode()\n",
    "df_test['approved_wh_govt_certificate'].fillna(df_test['approved_wh_govt_certificate'].mode()[0], inplace=True)\n",
    "df_test.isnull().sum()\n",
    "df_test.nunique().sort_values(ascending= True)"
   ]
  },
  {
   "cell_type": "code",
   "execution_count": null,
   "id": "ecdad2b0",
   "metadata": {},
   "outputs": [],
   "source": []
  },
  {
   "cell_type": "code",
   "execution_count": 16,
   "id": "beddf4fd",
   "metadata": {},
   "outputs": [
    {
     "name": "stdout",
     "output_type": "stream",
     "text": [
      "Number of unique values in column  Location_type  : 2\n",
      "Location_type\n",
      "Rural    321398\n",
      "Urban     28603\n",
      "Name: count, dtype: int64\n",
      " \n",
      "Number of unique values in column  WH_capacity_size  : 3\n",
      "WH_capacity_size\n",
      "Large    142366\n",
      "Mid      140280\n",
      "Small     67355\n",
      "Name: count, dtype: int64\n",
      " \n",
      "Number of unique values in column  zone  : 4\n",
      "zone\n",
      "North    143892\n",
      "West     111035\n",
      "South     89068\n",
      "East       6006\n",
      "Name: count, dtype: int64\n",
      " \n",
      "Number of unique values in column  Warehouse_Ownership  : 2\n",
      "Warehouse_Ownership\n",
      "Company Owned    190092\n",
      "Rented           159909\n",
      "Name: count, dtype: int64\n",
      " \n",
      "Number of unique values in column  flood_impacted  : 2\n",
      "flood_impacted\n",
      "0    315645\n",
      "1     34356\n",
      "Name: count, dtype: int64\n",
      " \n",
      "Number of unique values in column  flood_proof  : 2\n",
      "flood_proof\n",
      "0    330876\n",
      "1     19125\n",
      "Name: count, dtype: int64\n",
      " \n",
      "Number of unique values in column  electric_supply  : 2\n",
      "electric_supply\n",
      "1    229909\n",
      "0    120092\n",
      "Name: count, dtype: int64\n",
      " \n",
      "Number of unique values in column  temp_reg_mach  : 3\n",
      "temp_reg_mach\n",
      "0.0    243852\n",
      "1.0    106148\n",
      "Name: count, dtype: int64\n",
      " \n"
     ]
    }
   ],
   "source": [
    "for i in df_test.columns[df_test.nunique()<=4]:\n",
    "    print(\"Number of unique values in column \", i, ' :', len(df_test[i].unique()))\n",
    "    print(df_test[i].value_counts())\n",
    "    print(' ')"
   ]
  },
  {
   "cell_type": "code",
   "execution_count": null,
   "id": "8ea5a51b",
   "metadata": {},
   "outputs": [],
   "source": []
  },
  {
   "cell_type": "code",
   "execution_count": 17,
   "id": "6f9b22de",
   "metadata": {},
   "outputs": [
    {
     "data": {
      "text/plain": [
       "0.6887753290004746"
      ]
     },
     "execution_count": 17,
     "metadata": {},
     "output_type": "execute_result"
    }
   ],
   "source": [
    "df_test['product_wg_ton'].corr(df_test['storage_issue_reported'])"
   ]
  },
  {
   "cell_type": "code",
   "execution_count": 18,
   "id": "23b26a36",
   "metadata": {},
   "outputs": [],
   "source": [
    "df_test.drop(columns=['flood_proof', 'flood_impacted'], inplace = True)"
   ]
  },
  {
   "cell_type": "code",
   "execution_count": 19,
   "id": "ae0e829a",
   "metadata": {},
   "outputs": [],
   "source": [
    "def remove_outliers(df_test):\n",
    "    num_df = df_test.select_dtypes(include=['int', 'float'])\n",
    "    q1 = num_df.quantile(0.25)\n",
    "    q3 = num_df.quantile(0.75)\n",
    "    iqr = q3 - q1\n",
    "    lower = q1 - 1.5*iqr\n",
    "    upper = q3 + 1.5*iqr\n",
    "    df_no_outliers = num_df[((num_df >= lower) & (num_df <= upper)).all(axis=1)]\n",
    "    return df_test.loc[df_no_outliers.index]"
   ]
  },
  {
   "cell_type": "code",
   "execution_count": 20,
   "id": "aeae091a",
   "metadata": {},
   "outputs": [],
   "source": [
    "df_test = remove_outliers(df_test)"
   ]
  },
  {
   "cell_type": "code",
   "execution_count": 21,
   "id": "00a12530",
   "metadata": {},
   "outputs": [
    {
     "data": {
      "text/plain": [
       "(308322, 20)"
      ]
     },
     "execution_count": 21,
     "metadata": {},
     "output_type": "execute_result"
    }
   ],
   "source": [
    "df_test.shape"
   ]
  },
  {
   "cell_type": "code",
   "execution_count": 22,
   "id": "b80b6393",
   "metadata": {},
   "outputs": [
    {
     "data": {
      "text/plain": [
       "Index(['Date', 'Location_type', 'WH_capacity_size', 'zone', 'WH_regional_zone',\n",
       "       'Refill_Requests', 'transport_issue', 'No_of_Competitor',\n",
       "       'No_of_retailers', 'Warehouse_Ownership', 'Number_of_distributors',\n",
       "       'electric_supply', 'dist_from_hub', 'workers_num',\n",
       "       'storage_issue_reported', 'temp_reg_mach',\n",
       "       'approved_wh_govt_certificate', 'wh_breakdown', 'govt_check',\n",
       "       'product_wg_ton'],\n",
       "      dtype='object')"
      ]
     },
     "execution_count": 22,
     "metadata": {},
     "output_type": "execute_result"
    }
   ],
   "source": [
    "df_test.columns"
   ]
  },
  {
   "cell_type": "code",
   "execution_count": 23,
   "id": "33cc084c",
   "metadata": {},
   "outputs": [],
   "source": [
    "# Numerical columns & categorical columns in train dataset\n",
    "\n",
    "num_columns_train=[i for i in df.columns if df[i].dtypes != 'O']\n",
    "cat_columns_train=[i for i in df.columns if df[i].dtypes == 'O']\n",
    "\n",
    "# Numerical columns & categorical columns in test dataset\n",
    "\n",
    "num_columns_test=[i for i in df_test.columns if df_test[i].dtypes != 'O']\n",
    "cat_columns_test=[i for i in df_test.columns if df_test[i].dtypes == 'O']\n"
   ]
  },
  {
   "cell_type": "code",
   "execution_count": 24,
   "id": "ea95716b",
   "metadata": {},
   "outputs": [],
   "source": [
    "for i in cat_columns_train:\n",
    "    df[i] = LabelEncoder().fit_transform(df[i])\n",
    "\n",
    "for i in cat_columns_test:\n",
    "    df_test[i] = LabelEncoder().fit_transform(df_test[i])"
   ]
  },
  {
   "cell_type": "code",
   "execution_count": 25,
   "id": "42724175",
   "metadata": {},
   "outputs": [
    {
     "data": {
      "text/plain": [
       "product_wg_ton                  54049\n",
       "No_of_retailers                  6267\n",
       "dist_from_hub                     217\n",
       "Number_of_distributors            115\n",
       "govt_check                         63\n",
       "workers_num                        60\n",
       "storage_issue_reported             57\n",
       "wh_breakdown                       38\n",
       "wh_est_year                        28\n",
       "Refill_Requests                    15\n",
       "transport_issue                    11\n",
       "No_of_Competitor                   10\n",
       "approved_wh_govt_certificate        6\n",
       "WH_regional_zone                    6\n",
       "zone                                4\n",
       "WH_capacity_size                    3\n",
       "Location_type                       2\n",
       "temp_reg_mach                       2\n",
       "Warehouse_Ownership                 2\n",
       "electric_supply                     2\n",
       "dtype: int64"
      ]
     },
     "execution_count": 25,
     "metadata": {},
     "output_type": "execute_result"
    }
   ],
   "source": [
    "# display number of unique values in each column\n",
    "df.nunique().sort_values(ascending=False)"
   ]
  },
  {
   "cell_type": "code",
   "execution_count": 26,
   "id": "0136ad84",
   "metadata": {},
   "outputs": [],
   "source": [
    "columns_with_more_than_two_unique_values_train = df.columns[df.nunique()>2]"
   ]
  },
  {
   "cell_type": "code",
   "execution_count": 27,
   "id": "a2a61e46",
   "metadata": {},
   "outputs": [],
   "source": [
    "columns_with_more_than_two_unique_values_test = df_test.columns[df_test.nunique()>2]"
   ]
  },
  {
   "cell_type": "code",
   "execution_count": null,
   "id": "8621fd45",
   "metadata": {},
   "outputs": [],
   "source": [
    "#df['approved_wh_govt_certificate'] = df['approved_wh_govt_certificate'].replace([4,1], [2,5])\n",
    "#df"
   ]
  },
  {
   "cell_type": "code",
   "execution_count": 28,
   "id": "18022ad2",
   "metadata": {},
   "outputs": [
    {
     "data": {
      "text/plain": [
       "0         17115.0\n",
       "1          5074.0\n",
       "2         23137.0\n",
       "3         22115.0\n",
       "4         24071.0\n",
       "           ...   \n",
       "349995    52057.0\n",
       "349996    37853.0\n",
       "349997    65888.0\n",
       "349999    58351.0\n",
       "350000    50619.0\n",
       "Name: product_wg_ton, Length: 308322, dtype: float64"
      ]
     },
     "execution_count": 28,
     "metadata": {},
     "output_type": "execute_result"
    }
   ],
   "source": [
    "\n",
    "X_train = df.drop(['product_wg_ton','wh_est_year', 'WH_regional_zone'], axis=1)\n",
    "Y_train = df['product_wg_ton']\n",
    "X_test = df_test.drop(['product_wg_ton','WH_regional_zone','Date'], axis=1)\n",
    "X_test.head()\n",
    "\n",
    "Y_test = df_test['product_wg_ton']\n",
    "Y_test"
   ]
  },
  {
   "cell_type": "code",
   "execution_count": 29,
   "id": "235e0f5d",
   "metadata": {},
   "outputs": [
    {
     "data": {
      "text/plain": [
       "4         24071.0\n",
       "5         32134.0\n",
       "6         30142.0\n",
       "8         18082.0\n",
       "10        21125.0\n",
       "           ...   \n",
       "349994    45654.0\n",
       "349995    52057.0\n",
       "349996    37853.0\n",
       "349997    65888.0\n",
       "350000    50619.0\n",
       "Name: product_wg_ton, Length: 161071, dtype: float64"
      ]
     },
     "execution_count": 29,
     "metadata": {},
     "output_type": "execute_result"
    }
   ],
   "source": [
    "Y_train "
   ]
  },
  {
   "cell_type": "code",
   "execution_count": 30,
   "id": "3dcc7230",
   "metadata": {},
   "outputs": [
    {
     "data": {
      "text/html": [
       "<div>\n",
       "<style scoped>\n",
       "    .dataframe tbody tr th:only-of-type {\n",
       "        vertical-align: middle;\n",
       "    }\n",
       "\n",
       "    .dataframe tbody tr th {\n",
       "        vertical-align: top;\n",
       "    }\n",
       "\n",
       "    .dataframe thead th {\n",
       "        text-align: right;\n",
       "    }\n",
       "</style>\n",
       "<table border=\"1\" class=\"dataframe\">\n",
       "  <thead>\n",
       "    <tr style=\"text-align: right;\">\n",
       "      <th></th>\n",
       "      <th>Location_type</th>\n",
       "      <th>WH_capacity_size</th>\n",
       "      <th>zone</th>\n",
       "      <th>Refill_Requests</th>\n",
       "      <th>transport_issue</th>\n",
       "      <th>No_of_Competitor</th>\n",
       "      <th>No_of_retailers</th>\n",
       "      <th>Warehouse_Ownership</th>\n",
       "      <th>Number_of_distributors</th>\n",
       "      <th>electric_supply</th>\n",
       "      <th>dist_from_hub</th>\n",
       "      <th>workers_num</th>\n",
       "      <th>storage_issue_reported</th>\n",
       "      <th>temp_reg_mach</th>\n",
       "      <th>approved_wh_govt_certificate</th>\n",
       "      <th>wh_breakdown</th>\n",
       "      <th>govt_check</th>\n",
       "    </tr>\n",
       "  </thead>\n",
       "  <tbody>\n",
       "    <tr>\n",
       "      <th>0</th>\n",
       "      <td>1</td>\n",
       "      <td>2</td>\n",
       "      <td>3</td>\n",
       "      <td>3</td>\n",
       "      <td>1</td>\n",
       "      <td>2</td>\n",
       "      <td>4651</td>\n",
       "      <td>1</td>\n",
       "      <td>24</td>\n",
       "      <td>1</td>\n",
       "      <td>91</td>\n",
       "      <td>29.0</td>\n",
       "      <td>13</td>\n",
       "      <td>0.0</td>\n",
       "      <td>1</td>\n",
       "      <td>5.0</td>\n",
       "      <td>15.0</td>\n",
       "    </tr>\n",
       "    <tr>\n",
       "      <th>1</th>\n",
       "      <td>0</td>\n",
       "      <td>0</td>\n",
       "      <td>1</td>\n",
       "      <td>0</td>\n",
       "      <td>0</td>\n",
       "      <td>4</td>\n",
       "      <td>6217</td>\n",
       "      <td>0</td>\n",
       "      <td>47</td>\n",
       "      <td>1</td>\n",
       "      <td>210</td>\n",
       "      <td>31.0</td>\n",
       "      <td>4</td>\n",
       "      <td>0.0</td>\n",
       "      <td>1</td>\n",
       "      <td>3.0</td>\n",
       "      <td>17.0</td>\n",
       "    </tr>\n",
       "    <tr>\n",
       "      <th>2</th>\n",
       "      <td>0</td>\n",
       "      <td>1</td>\n",
       "      <td>2</td>\n",
       "      <td>1</td>\n",
       "      <td>0</td>\n",
       "      <td>4</td>\n",
       "      <td>4306</td>\n",
       "      <td>0</td>\n",
       "      <td>64</td>\n",
       "      <td>0</td>\n",
       "      <td>161</td>\n",
       "      <td>37.0</td>\n",
       "      <td>17</td>\n",
       "      <td>0.0</td>\n",
       "      <td>1</td>\n",
       "      <td>6.0</td>\n",
       "      <td>22.0</td>\n",
       "    </tr>\n",
       "    <tr>\n",
       "      <th>3</th>\n",
       "      <td>0</td>\n",
       "      <td>1</td>\n",
       "      <td>1</td>\n",
       "      <td>7</td>\n",
       "      <td>4</td>\n",
       "      <td>2</td>\n",
       "      <td>6000</td>\n",
       "      <td>1</td>\n",
       "      <td>50</td>\n",
       "      <td>0</td>\n",
       "      <td>103</td>\n",
       "      <td>21.0</td>\n",
       "      <td>17</td>\n",
       "      <td>1.0</td>\n",
       "      <td>2</td>\n",
       "      <td>3.0</td>\n",
       "      <td>27.0</td>\n",
       "    </tr>\n",
       "    <tr>\n",
       "      <th>4</th>\n",
       "      <td>0</td>\n",
       "      <td>0</td>\n",
       "      <td>1</td>\n",
       "      <td>3</td>\n",
       "      <td>1</td>\n",
       "      <td>2</td>\n",
       "      <td>4740</td>\n",
       "      <td>0</td>\n",
       "      <td>42</td>\n",
       "      <td>1</td>\n",
       "      <td>112</td>\n",
       "      <td>25.0</td>\n",
       "      <td>18</td>\n",
       "      <td>0.0</td>\n",
       "      <td>5</td>\n",
       "      <td>6.0</td>\n",
       "      <td>24.0</td>\n",
       "    </tr>\n",
       "  </tbody>\n",
       "</table>\n",
       "</div>"
      ],
      "text/plain": [
       "   Location_type  WH_capacity_size  zone  Refill_Requests  transport_issue  \\\n",
       "0              1                 2     3                3                1   \n",
       "1              0                 0     1                0                0   \n",
       "2              0                 1     2                1                0   \n",
       "3              0                 1     1                7                4   \n",
       "4              0                 0     1                3                1   \n",
       "\n",
       "   No_of_Competitor  No_of_retailers  Warehouse_Ownership  \\\n",
       "0                 2             4651                    1   \n",
       "1                 4             6217                    0   \n",
       "2                 4             4306                    0   \n",
       "3                 2             6000                    1   \n",
       "4                 2             4740                    0   \n",
       "\n",
       "   Number_of_distributors  electric_supply  dist_from_hub  workers_num  \\\n",
       "0                      24                1             91         29.0   \n",
       "1                      47                1            210         31.0   \n",
       "2                      64                0            161         37.0   \n",
       "3                      50                0            103         21.0   \n",
       "4                      42                1            112         25.0   \n",
       "\n",
       "   storage_issue_reported  temp_reg_mach  approved_wh_govt_certificate  \\\n",
       "0                      13            0.0                             1   \n",
       "1                       4            0.0                             1   \n",
       "2                      17            0.0                             1   \n",
       "3                      17            1.0                             2   \n",
       "4                      18            0.0                             5   \n",
       "\n",
       "   wh_breakdown  govt_check  \n",
       "0           5.0        15.0  \n",
       "1           3.0        17.0  \n",
       "2           6.0        22.0  \n",
       "3           3.0        27.0  \n",
       "4           6.0        24.0  "
      ]
     },
     "execution_count": 30,
     "metadata": {},
     "output_type": "execute_result"
    }
   ],
   "source": [
    "X_test = df_test.drop(['product_wg_ton','WH_regional_zone','Date'], axis=1)\n",
    "X_test.head()"
   ]
  },
  {
   "cell_type": "code",
   "execution_count": 31,
   "id": "d812e97e",
   "metadata": {},
   "outputs": [],
   "source": [
    "LRmodel = LinearRegression()"
   ]
  },
  {
   "cell_type": "code",
   "execution_count": 32,
   "id": "d460b233",
   "metadata": {},
   "outputs": [
    {
     "data": {
      "text/html": [
       "<style>#sk-container-id-1 {color: black;}#sk-container-id-1 pre{padding: 0;}#sk-container-id-1 div.sk-toggleable {background-color: white;}#sk-container-id-1 label.sk-toggleable__label {cursor: pointer;display: block;width: 100%;margin-bottom: 0;padding: 0.3em;box-sizing: border-box;text-align: center;}#sk-container-id-1 label.sk-toggleable__label-arrow:before {content: \"▸\";float: left;margin-right: 0.25em;color: #696969;}#sk-container-id-1 label.sk-toggleable__label-arrow:hover:before {color: black;}#sk-container-id-1 div.sk-estimator:hover label.sk-toggleable__label-arrow:before {color: black;}#sk-container-id-1 div.sk-toggleable__content {max-height: 0;max-width: 0;overflow: hidden;text-align: left;background-color: #f0f8ff;}#sk-container-id-1 div.sk-toggleable__content pre {margin: 0.2em;color: black;border-radius: 0.25em;background-color: #f0f8ff;}#sk-container-id-1 input.sk-toggleable__control:checked~div.sk-toggleable__content {max-height: 200px;max-width: 100%;overflow: auto;}#sk-container-id-1 input.sk-toggleable__control:checked~label.sk-toggleable__label-arrow:before {content: \"▾\";}#sk-container-id-1 div.sk-estimator input.sk-toggleable__control:checked~label.sk-toggleable__label {background-color: #d4ebff;}#sk-container-id-1 div.sk-label input.sk-toggleable__control:checked~label.sk-toggleable__label {background-color: #d4ebff;}#sk-container-id-1 input.sk-hidden--visually {border: 0;clip: rect(1px 1px 1px 1px);clip: rect(1px, 1px, 1px, 1px);height: 1px;margin: -1px;overflow: hidden;padding: 0;position: absolute;width: 1px;}#sk-container-id-1 div.sk-estimator {font-family: monospace;background-color: #f0f8ff;border: 1px dotted black;border-radius: 0.25em;box-sizing: border-box;margin-bottom: 0.5em;}#sk-container-id-1 div.sk-estimator:hover {background-color: #d4ebff;}#sk-container-id-1 div.sk-parallel-item::after {content: \"\";width: 100%;border-bottom: 1px solid gray;flex-grow: 1;}#sk-container-id-1 div.sk-label:hover label.sk-toggleable__label {background-color: #d4ebff;}#sk-container-id-1 div.sk-serial::before {content: \"\";position: absolute;border-left: 1px solid gray;box-sizing: border-box;top: 0;bottom: 0;left: 50%;z-index: 0;}#sk-container-id-1 div.sk-serial {display: flex;flex-direction: column;align-items: center;background-color: white;padding-right: 0.2em;padding-left: 0.2em;position: relative;}#sk-container-id-1 div.sk-item {position: relative;z-index: 1;}#sk-container-id-1 div.sk-parallel {display: flex;align-items: stretch;justify-content: center;background-color: white;position: relative;}#sk-container-id-1 div.sk-item::before, #sk-container-id-1 div.sk-parallel-item::before {content: \"\";position: absolute;border-left: 1px solid gray;box-sizing: border-box;top: 0;bottom: 0;left: 50%;z-index: -1;}#sk-container-id-1 div.sk-parallel-item {display: flex;flex-direction: column;z-index: 1;position: relative;background-color: white;}#sk-container-id-1 div.sk-parallel-item:first-child::after {align-self: flex-end;width: 50%;}#sk-container-id-1 div.sk-parallel-item:last-child::after {align-self: flex-start;width: 50%;}#sk-container-id-1 div.sk-parallel-item:only-child::after {width: 0;}#sk-container-id-1 div.sk-dashed-wrapped {border: 1px dashed gray;margin: 0 0.4em 0.5em 0.4em;box-sizing: border-box;padding-bottom: 0.4em;background-color: white;}#sk-container-id-1 div.sk-label label {font-family: monospace;font-weight: bold;display: inline-block;line-height: 1.2em;}#sk-container-id-1 div.sk-label-container {text-align: center;}#sk-container-id-1 div.sk-container {/* jupyter's `normalize.less` sets `[hidden] { display: none; }` but bootstrap.min.css set `[hidden] { display: none !important; }` so we also need the `!important` here to be able to override the default hidden behavior on the sphinx rendered scikit-learn.org. See: https://github.com/scikit-learn/scikit-learn/issues/21755 */display: inline-block !important;position: relative;}#sk-container-id-1 div.sk-text-repr-fallback {display: none;}</style><div id=\"sk-container-id-1\" class=\"sk-top-container\"><div class=\"sk-text-repr-fallback\"><pre>LinearRegression()</pre><b>In a Jupyter environment, please rerun this cell to show the HTML representation or trust the notebook. <br />On GitHub, the HTML representation is unable to render, please try loading this page with nbviewer.org.</b></div><div class=\"sk-container\" hidden><div class=\"sk-item\"><div class=\"sk-estimator sk-toggleable\"><input class=\"sk-toggleable__control sk-hidden--visually\" id=\"sk-estimator-id-1\" type=\"checkbox\" checked><label for=\"sk-estimator-id-1\" class=\"sk-toggleable__label sk-toggleable__label-arrow\">LinearRegression</label><div class=\"sk-toggleable__content\"><pre>LinearRegression()</pre></div></div></div></div></div>"
      ],
      "text/plain": [
       "LinearRegression()"
      ]
     },
     "execution_count": 32,
     "metadata": {},
     "output_type": "execute_result"
    }
   ],
   "source": [
    "LRmodel.fit(X_train, Y_train)"
   ]
  },
  {
   "cell_type": "code",
   "execution_count": 33,
   "id": "f01d0488",
   "metadata": {},
   "outputs": [
    {
     "data": {
      "text/plain": [
       "array([19980.323493  , 11659.06390159, 26112.3966083 , ...,\n",
       "       36649.42276116, 35867.24242118, 33085.05711565])"
      ]
     },
     "execution_count": 33,
     "metadata": {},
     "output_type": "execute_result"
    }
   ],
   "source": [
    "LR_y_predicted = LRmodel.predict(X_test)\n",
    "LR_y_predicted\n"
   ]
  },
  {
   "cell_type": "code",
   "execution_count": 34,
   "id": "1a9dd74c",
   "metadata": {},
   "outputs": [
    {
     "data": {
      "text/plain": [
       "0         17115.0\n",
       "1          5074.0\n",
       "2         23137.0\n",
       "3         22115.0\n",
       "4         24071.0\n",
       "           ...   \n",
       "349995    52057.0\n",
       "349996    37853.0\n",
       "349997    65888.0\n",
       "349999    58351.0\n",
       "350000    50619.0\n",
       "Name: product_wg_ton, Length: 308322, dtype: float64"
      ]
     },
     "execution_count": 34,
     "metadata": {},
     "output_type": "execute_result"
    }
   ],
   "source": [
    "Y_test"
   ]
  },
  {
   "cell_type": "code",
   "execution_count": 35,
   "id": "bf54ca47",
   "metadata": {},
   "outputs": [
    {
     "data": {
      "text/html": [
       "<div>\n",
       "<style scoped>\n",
       "    .dataframe tbody tr th:only-of-type {\n",
       "        vertical-align: middle;\n",
       "    }\n",
       "\n",
       "    .dataframe tbody tr th {\n",
       "        vertical-align: top;\n",
       "    }\n",
       "\n",
       "    .dataframe thead th {\n",
       "        text-align: right;\n",
       "    }\n",
       "</style>\n",
       "<table border=\"1\" class=\"dataframe\">\n",
       "  <thead>\n",
       "    <tr style=\"text-align: right;\">\n",
       "      <th></th>\n",
       "      <th>product_wg_ton_pred1</th>\n",
       "    </tr>\n",
       "  </thead>\n",
       "  <tbody>\n",
       "    <tr>\n",
       "      <th>0</th>\n",
       "      <td>19980.323493</td>\n",
       "    </tr>\n",
       "    <tr>\n",
       "      <th>1</th>\n",
       "      <td>11659.063902</td>\n",
       "    </tr>\n",
       "    <tr>\n",
       "      <th>2</th>\n",
       "      <td>26112.396608</td>\n",
       "    </tr>\n",
       "    <tr>\n",
       "      <th>3</th>\n",
       "      <td>24292.042436</td>\n",
       "    </tr>\n",
       "    <tr>\n",
       "      <th>4</th>\n",
       "      <td>22339.000891</td>\n",
       "    </tr>\n",
       "    <tr>\n",
       "      <th>...</th>\n",
       "      <td>...</td>\n",
       "    </tr>\n",
       "    <tr>\n",
       "      <th>308317</th>\n",
       "      <td>30741.944432</td>\n",
       "    </tr>\n",
       "    <tr>\n",
       "      <th>308318</th>\n",
       "      <td>39089.533537</td>\n",
       "    </tr>\n",
       "    <tr>\n",
       "      <th>308319</th>\n",
       "      <td>36649.422761</td>\n",
       "    </tr>\n",
       "    <tr>\n",
       "      <th>308320</th>\n",
       "      <td>35867.242421</td>\n",
       "    </tr>\n",
       "    <tr>\n",
       "      <th>308321</th>\n",
       "      <td>33085.057116</td>\n",
       "    </tr>\n",
       "  </tbody>\n",
       "</table>\n",
       "<p>308322 rows × 1 columns</p>\n",
       "</div>"
      ],
      "text/plain": [
       "        product_wg_ton_pred1\n",
       "0               19980.323493\n",
       "1               11659.063902\n",
       "2               26112.396608\n",
       "3               24292.042436\n",
       "4               22339.000891\n",
       "...                      ...\n",
       "308317          30741.944432\n",
       "308318          39089.533537\n",
       "308319          36649.422761\n",
       "308320          35867.242421\n",
       "308321          33085.057116\n",
       "\n",
       "[308322 rows x 1 columns]"
      ]
     },
     "execution_count": 35,
     "metadata": {},
     "output_type": "execute_result"
    }
   ],
   "source": [
    "predictions_1 = pd.DataFrame(LR_y_predicted, columns =['product_wg_ton_pred1']) \n",
    "predictions_1"
   ]
  },
  {
   "cell_type": "code",
   "execution_count": null,
   "id": "b1f9fbc9",
   "metadata": {},
   "outputs": [],
   "source": [
    "predictions_df = pd.DataFrame(predictions_1)\n",
    "\n",
    "# Write the DataFrame to a CSV file\n",
    "predictions_df.to_csv('predictions.csv', index=False)"
   ]
  },
  {
   "cell_type": "code",
   "execution_count": null,
   "id": "17d1299c",
   "metadata": {},
   "outputs": [],
   "source": []
  },
  {
   "cell_type": "code",
   "execution_count": null,
   "id": "2bc0d8f3",
   "metadata": {},
   "outputs": [],
   "source": []
  },
  {
   "cell_type": "code",
   "execution_count": null,
   "id": "9ab3690d",
   "metadata": {},
   "outputs": [],
   "source": [
    "# Evaluate  the model\n",
    "\n",
    "# r2 score\n",
    "lr_r2 = r2_score(Y_test, LR_y_predicted).round(3)\n",
    "print('R2 score:  ', lr_r2)\n",
    "\n",
    "# root mean squared error (RMSE)\n",
    "lr_rmse = np.sqrt(mean_squared_error(Y_test, LR_y_predicted)).round(3)\n",
    "print('Root Mean Squared Error:  ', lr_rmse) \n",
    "\n",
    "# mean absolute error (MAE)\n",
    "lr_mae = mean_absolute_error(Y_test, LR_y_predicted).round(3)\n",
    "print('Mean Absolute Error:  ', lr_mae)\n"
   ]
  },
  {
   "cell_type": "code",
   "execution_count": null,
   "id": "7bdac91c",
   "metadata": {},
   "outputs": [],
   "source": []
  },
  {
   "cell_type": "code",
   "execution_count": null,
   "id": "2e99d9d9",
   "metadata": {},
   "outputs": [],
   "source": [
    "\n",
    "DTmodel = DecisionTreeRegressor(random_state = 0) \n"
   ]
  },
  {
   "cell_type": "code",
   "execution_count": null,
   "id": "7fb8365c",
   "metadata": {},
   "outputs": [],
   "source": [
    "DTmodel.fit(X_train, Y_train)"
   ]
  },
  {
   "cell_type": "code",
   "execution_count": null,
   "id": "2fc246ac",
   "metadata": {},
   "outputs": [],
   "source": [
    "DT_predicted = DTmodel.predict(X_test)"
   ]
  },
  {
   "cell_type": "code",
   "execution_count": null,
   "id": "cf01d8c2",
   "metadata": {},
   "outputs": [],
   "source": [
    "# Evaluate  the model\n",
    "\n",
    "# r2 score\n",
    "dt_r2 = r2_score(Y_test, DT_predicted).round(3)\n",
    "print('R2 score:  ', dt_r2)\n",
    "\n",
    "# root mean squared error (RMSE)\n",
    "dt_rmse = np.sqrt(mean_squared_error(Y_test, DT_predicted)).round(3)\n",
    "print('Root Mean Squared Error:  ', dt_rmse) \n",
    "\n",
    "# mean absolute error (MAE)\n",
    "dt_mae = mean_absolute_error(Y_test, DT_predicted).round(3)\n",
    "print('Mean Absolute Error:  ', dt_mae)"
   ]
  },
  {
   "cell_type": "code",
   "execution_count": null,
   "id": "feb5a47e",
   "metadata": {},
   "outputs": [],
   "source": [
    "#Random Forest"
   ]
  },
  {
   "cell_type": "code",
   "execution_count": null,
   "id": "f8875da3",
   "metadata": {},
   "outputs": [],
   "source": [
    "# Initialize the model\n",
    "\n",
    "RFmodel = RandomForestRegressor(n_estimators = 100, max_depth = 4, random_state = 0) "
   ]
  },
  {
   "cell_type": "code",
   "execution_count": null,
   "id": "35ab9dff",
   "metadata": {},
   "outputs": [],
   "source": [
    "# Fit model to the training data\n",
    "\n",
    "RFmodel.fit(X_train, Y_train)"
   ]
  },
  {
   "cell_type": "code",
   "execution_count": null,
   "id": "fad6e75c",
   "metadata": {},
   "outputs": [],
   "source": [
    "# Make predictions on the test data\n",
    "\n",
    "RF_predicted = RFmodel.predict(X_test)\n",
    "RF_predicted"
   ]
  },
  {
   "cell_type": "code",
   "execution_count": null,
   "id": "3ba25d24",
   "metadata": {},
   "outputs": [],
   "source": [
    "# Evaluate  the model\n",
    "\n",
    "# r2 score\n",
    "rf_r2 = r2_score(Y_test, RF_predicted).round(3)\n",
    "print('R2 score:  ', rf_r2)\n",
    "\n",
    "# root mean squared error (RMSE)\n",
    "rf_rmse = np.sqrt(mean_squared_error(Y_test, RF_predicted)).round(3)\n",
    "print('Root Mean Squared Error:  ', rf_rmse) \n",
    "\n",
    "# mean absolute error (MAE)\n",
    "rf_mae = mean_absolute_error(Y_test, RF_predicted).round(3)\n",
    "print('Mean Absolute Error:  ', rf_mae)\n"
   ]
  },
  {
   "cell_type": "code",
   "execution_count": null,
   "id": "95ed4238",
   "metadata": {},
   "outputs": [],
   "source": []
  },
  {
   "cell_type": "code",
   "execution_count": null,
   "id": "939ccaaa",
   "metadata": {},
   "outputs": [],
   "source": [
    "# Initialize the model\n",
    "\n",
    "GBmodel = GradientBoostingRegressor()"
   ]
  },
  {
   "cell_type": "code",
   "execution_count": null,
   "id": "3d49d619",
   "metadata": {},
   "outputs": [],
   "source": [
    "# Fit model to the training data\n",
    "\n",
    "GBmodel.fit(X_train,Y_train)"
   ]
  },
  {
   "cell_type": "code",
   "execution_count": null,
   "id": "332e237b",
   "metadata": {},
   "outputs": [],
   "source": [
    "# Make predictions on the test data\n",
    "\n",
    "GB_predicted = GBmodel.predict(X_test)\n",
    "GB_predicted"
   ]
  },
  {
   "cell_type": "code",
   "execution_count": null,
   "id": "fe2bb701",
   "metadata": {},
   "outputs": [],
   "source": [
    "# Evaluate  the model\n",
    "\n",
    "# r2 score\n",
    "gb_r2 = r2_score(Y_test, GB_predicted).round(3)\n",
    "print('R2 score:  ', gb_r2)\n",
    "\n",
    "# root mean squared error (RMSE)\n",
    "gb_rmse = np.sqrt(mean_squared_error(Y_test, GB_predicted)).round(3)\n",
    "print('Root Mean Squared Error:  ', gb_rmse) \n",
    "\n",
    "# mean absolute error (MAE)\n",
    "gb_mae = mean_absolute_error(Y_test, GB_predicted).round(3)\n",
    "print('Mean Absolute Error:  ', gb_mae)"
   ]
  },
  {
   "cell_type": "code",
   "execution_count": null,
   "id": "7fd09358",
   "metadata": {},
   "outputs": [],
   "source": [
    "predictions = model.predict(data)\n",
    "\n",
    "# Create a DataFrame from the predictions\n",
    "predictions_df = pd.DataFrame(predictions)\n",
    "\n",
    "# Write the DataFrame to a CSV file\n",
    "predictions_df.to_csv('predictions.csv', index=False)"
   ]
  },
  {
   "cell_type": "code",
   "execution_count": null,
   "id": "cd0728e1",
   "metadata": {},
   "outputs": [],
   "source": [
    "GB_predicted"
   ]
  },
  {
   "cell_type": "code",
   "execution_count": null,
   "id": "e0f484b5",
   "metadata": {},
   "outputs": [],
   "source": []
  },
  {
   "cell_type": "code",
   "execution_count": null,
   "id": "1e8f56a2",
   "metadata": {},
   "outputs": [],
   "source": []
  },
  {
   "cell_type": "code",
   "execution_count": null,
   "id": "e1f32b52",
   "metadata": {},
   "outputs": [],
   "source": []
  },
  {
   "cell_type": "code",
   "execution_count": null,
   "id": "62ff5e02",
   "metadata": {},
   "outputs": [],
   "source": []
  },
  {
   "cell_type": "code",
   "execution_count": null,
   "id": "b356a91b",
   "metadata": {},
   "outputs": [],
   "source": []
  },
  {
   "cell_type": "code",
   "execution_count": null,
   "id": "05af9322",
   "metadata": {},
   "outputs": [],
   "source": []
  },
  {
   "cell_type": "code",
   "execution_count": null,
   "id": "caacd3ff",
   "metadata": {},
   "outputs": [],
   "source": [
    "predictions_2.to_csv('predictions_2.csv', index=False)"
   ]
  },
  {
   "cell_type": "code",
   "execution_count": null,
   "id": "b8b7f0a8",
   "metadata": {},
   "outputs": [],
   "source": [
    "d = pd.read_csv(\"df_test1_pred.csv\")\n",
    "d"
   ]
  },
  {
   "cell_type": "code",
   "execution_count": null,
   "id": "2701b865",
   "metadata": {},
   "outputs": [],
   "source": [
    "df_merged2 = pd.concat([d, predictions_2], ignore_index=True, sort=False)\n",
    "df_merged2.head()"
   ]
  },
  {
   "cell_type": "code",
   "execution_count": null,
   "id": "b145c3f1",
   "metadata": {},
   "outputs": [],
   "source": []
  },
  {
   "cell_type": "code",
   "execution_count": null,
   "id": "d0f71048",
   "metadata": {},
   "outputs": [],
   "source": []
  },
  {
   "cell_type": "code",
   "execution_count": null,
   "id": "151c88c3",
   "metadata": {},
   "outputs": [],
   "source": []
  },
  {
   "cell_type": "code",
   "execution_count": null,
   "id": "4329d776",
   "metadata": {},
   "outputs": [],
   "source": []
  },
  {
   "cell_type": "code",
   "execution_count": null,
   "id": "a649ba50",
   "metadata": {},
   "outputs": [],
   "source": []
  },
  {
   "cell_type": "code",
   "execution_count": null,
   "id": "37e8e276",
   "metadata": {},
   "outputs": [],
   "source": [
    "\n",
    "X_train = df.drop(['product_wg_ton','wh_est_year', 'WH_regional_zone'], axis=1)\n",
    "Y_train = df['product_wg_ton']\n",
    "X_test = df_test.drop(['product_wg_ton','WH_regional_zone','Date'], axis=1)\n",
    "X_test.head()"
   ]
  },
  {
   "cell_type": "code",
   "execution_count": null,
   "id": "19bad8cc",
   "metadata": {},
   "outputs": [],
   "source": [
    "X_train.columns"
   ]
  },
  {
   "cell_type": "code",
   "execution_count": null,
   "id": "bac75f1e",
   "metadata": {},
   "outputs": [],
   "source": [
    "Y_train "
   ]
  },
  {
   "cell_type": "code",
   "execution_count": null,
   "id": "cecb1404",
   "metadata": {},
   "outputs": [],
   "source": [
    "X_test = df_test.drop(['product_wg_ton','WH_regional_zone','Date'], axis=1)\n",
    "X_test.head()\n",
    "\n",
    "#df_test"
   ]
  },
  {
   "cell_type": "code",
   "execution_count": null,
   "id": "5f556371",
   "metadata": {},
   "outputs": [],
   "source": [
    "df_test"
   ]
  },
  {
   "cell_type": "code",
   "execution_count": null,
   "id": "815eb875",
   "metadata": {},
   "outputs": [],
   "source": [
    "Y_test = df_test['product_wg_ton']\n",
    "Y_test.head()"
   ]
  },
  {
   "cell_type": "code",
   "execution_count": null,
   "id": "491e7a43",
   "metadata": {},
   "outputs": [],
   "source": [
    "LRmodel = LinearRegression()"
   ]
  },
  {
   "cell_type": "code",
   "execution_count": null,
   "id": "83630f7c",
   "metadata": {},
   "outputs": [],
   "source": [
    "\n",
    "LRmodel.fit(X_train, Y_train)"
   ]
  },
  {
   "cell_type": "code",
   "execution_count": null,
   "id": "e4ae5046",
   "metadata": {},
   "outputs": [],
   "source": [
    "LR_y_predicted = LRmodel.predict(X_test)"
   ]
  },
  {
   "cell_type": "code",
   "execution_count": null,
   "id": "1fd6672f",
   "metadata": {},
   "outputs": [],
   "source": [
    "LR_y_predicted"
   ]
  },
  {
   "cell_type": "code",
   "execution_count": null,
   "id": "1fb9588c",
   "metadata": {},
   "outputs": [],
   "source": [
    "LR_predicted.shape"
   ]
  },
  {
   "cell_type": "code",
   "execution_count": null,
   "id": "67c7648b",
   "metadata": {},
   "outputs": [],
   "source": [
    "X_test.shape"
   ]
  },
  {
   "cell_type": "code",
   "execution_count": null,
   "id": "a77a4eee",
   "metadata": {},
   "outputs": [],
   "source": [
    "predictions_1 = pd.DataFrame(LR_predicted, columns =['product_wg_ton_pred']) \n",
    "predictions_1"
   ]
  },
  {
   "cell_type": "code",
   "execution_count": null,
   "id": "864b6d4b",
   "metadata": {},
   "outputs": [],
   "source": [
    "Y_test"
   ]
  },
  {
   "cell_type": "code",
   "execution_count": null,
   "id": "78bf4d1d",
   "metadata": {},
   "outputs": [],
   "source": [
    "predictions_1.to_csv('predictions_1.csv', index=False)\n"
   ]
  },
  {
   "cell_type": "code",
   "execution_count": null,
   "id": "758e0fac",
   "metadata": {},
   "outputs": [],
   "source": [
    "X_test"
   ]
  },
  {
   "cell_type": "code",
   "execution_count": null,
   "id": "814a79ff",
   "metadata": {},
   "outputs": [],
   "source": [
    "df_test.to_csv('df_test.csv', index=False)"
   ]
  },
  {
   "cell_type": "code",
   "execution_count": null,
   "id": "8225dab6",
   "metadata": {},
   "outputs": [],
   "source": [
    "X_test.to_csv('X_test.csv', index=False)"
   ]
  },
  {
   "cell_type": "code",
   "execution_count": null,
   "id": "61b63f4d",
   "metadata": {},
   "outputs": [],
   "source": [
    "df_merged = pd.concat([X_test, predictions_1], ignore_index=True, sort=False)\n",
    "df_merged.head()"
   ]
  },
  {
   "cell_type": "code",
   "execution_count": null,
   "id": "7c8be744",
   "metadata": {},
   "outputs": [],
   "source": []
  },
  {
   "cell_type": "code",
   "execution_count": null,
   "id": "ae680ae0",
   "metadata": {},
   "outputs": [],
   "source": [
    "df2 = pd.read_csv(\"WH_opt_pred.csv\")"
   ]
  },
  {
   "cell_type": "code",
   "execution_count": null,
   "id": "62b1fa47",
   "metadata": {},
   "outputs": [],
   "source": [
    "df2\n"
   ]
  },
  {
   "cell_type": "code",
   "execution_count": null,
   "id": "7009ecf4",
   "metadata": {},
   "outputs": [],
   "source": []
  },
  {
   "cell_type": "code",
   "execution_count": null,
   "id": "d9bdfd29",
   "metadata": {},
   "outputs": [],
   "source": [
    "# with changes in Location and approved certificates "
   ]
  },
  {
   "cell_type": "code",
   "execution_count": null,
   "id": "6d3e3e2e",
   "metadata": {},
   "outputs": [],
   "source": [
    "import pandas as pd\n",
    "\n",
    "import numpy as np\n",
    "\n",
    "import matplotlib.pyplot as plt\n",
    "%matplotlib inline\n",
    "#import seaborn as sns\n",
    "\n",
    "\n",
    "from sklearn.preprocessing import LabelEncoder, StandardScaler\n",
    "\n",
    "from sklearn.linear_model import LinearRegression\n",
    "from sklearn.tree import DecisionTreeRegressor\n",
    "from sklearn.ensemble import RandomForestRegressor, GradientBoostingRegressor\n",
    "from sklearn.svm import SVR\n",
    "\n",
    "from sklearn.metrics import mean_squared_error, r2_score, mean_absolute_error"
   ]
  },
  {
   "cell_type": "code",
   "execution_count": null,
   "id": "96cc0a84",
   "metadata": {},
   "outputs": [],
   "source": [
    "n_df = pd.read_csv(\"FMCG_data.csv\")\n",
    "\n",
    "# test dataset\n",
    "n_df_test = pd.read_csv(\"FMCG_data.csv\")\n"
   ]
  },
  {
   "cell_type": "code",
   "execution_count": null,
   "id": "0f3f67bb",
   "metadata": {},
   "outputs": [],
   "source": [
    "\n",
    "n_df.nunique().sort_values(ascending=False)"
   ]
  },
  {
   "cell_type": "code",
   "execution_count": null,
   "id": "0dbfebef",
   "metadata": {},
   "outputs": [],
   "source": []
  },
  {
   "cell_type": "code",
   "execution_count": null,
   "id": "f57e73b4",
   "metadata": {},
   "outputs": [],
   "source": []
  },
  {
   "cell_type": "code",
   "execution_count": null,
   "id": "e029ef7c",
   "metadata": {},
   "outputs": [],
   "source": []
  },
  {
   "cell_type": "code",
   "execution_count": null,
   "id": "d5e6e2f7",
   "metadata": {},
   "outputs": [],
   "source": []
  },
  {
   "cell_type": "code",
   "execution_count": null,
   "id": "a4ddc997",
   "metadata": {},
   "outputs": [],
   "source": [
    "\n",
    "null_values_features = [i for i in n_df_test.columns if n_df_test[i].isnull().sum()>1]\n",
    "for i in null_values_features:\n",
    "    print(i, np.round(n_df_test[i].isnull().mean()*100, 2), \"% missing values\")"
   ]
  },
  {
   "cell_type": "code",
   "execution_count": null,
   "id": "4042217e",
   "metadata": {},
   "outputs": [],
   "source": []
  },
  {
   "cell_type": "code",
   "execution_count": null,
   "id": "1057511b",
   "metadata": {},
   "outputs": [],
   "source": [
    "n_df.drop(columns=['Ware_house_ID','WH_Manager_ID','Date'], inplace = True)"
   ]
  },
  {
   "cell_type": "code",
   "execution_count": null,
   "id": "ee17d6a8",
   "metadata": {},
   "outputs": [],
   "source": [
    "n_df_test.drop(columns=['wh_est_year'], inplace = True)"
   ]
  },
  {
   "cell_type": "code",
   "execution_count": null,
   "id": "be1f2f50",
   "metadata": {},
   "outputs": [],
   "source": [
    "num_columns_train=[i for i in n_df.columns if n_df[i].dtypes != 'O']\n",
    "cat_columns_train=[i for i in n_df.columns if n_df[i].dtypes == 'O']\n",
    "\n",
    "# Numerical columns & categorical columns in test dataset\n",
    "\n",
    "num_columns_test=[i for i in n_df_test.columns if n_df_test[i].dtypes != 'O']\n",
    "cat_columns_test=[i for i in n_df_test.columns if n_df_test[i].dtypes == 'O']"
   ]
  },
  {
   "cell_type": "code",
   "execution_count": null,
   "id": "15d1a720",
   "metadata": {},
   "outputs": [],
   "source": [
    "for i in cat_columns_train:\n",
    "    n_df[i] = LabelEncoder().fit_transform(n_df[i])\n",
    "\n",
    "for i in cat_columns_test:\n",
    "    n_df_test[i] = LabelEncoder().fit_transform(n_df_test[i])"
   ]
  },
  {
   "cell_type": "code",
   "execution_count": null,
   "id": "a739663c",
   "metadata": {},
   "outputs": [],
   "source": []
  },
  {
   "cell_type": "code",
   "execution_count": null,
   "id": "12dbab36",
   "metadata": {},
   "outputs": [],
   "source": []
  },
  {
   "cell_type": "code",
   "execution_count": null,
   "id": "f1713642",
   "metadata": {},
   "outputs": [],
   "source": [
    "n_df['approved_wh_govt_certificate'] = n_df['approved_wh_govt_certificate'].replace([1,4], [3, 2])\n",
    "n_df"
   ]
  },
  {
   "cell_type": "code",
   "execution_count": null,
   "id": "6c066e67",
   "metadata": {},
   "outputs": [],
   "source": [
    "n_df.to_csv('newdata2.csv', index=False)"
   ]
  },
  {
   "cell_type": "code",
   "execution_count": null,
   "id": "5a8732d7",
   "metadata": {},
   "outputs": [],
   "source": []
  },
  {
   "cell_type": "code",
   "execution_count": null,
   "id": "31eed33d",
   "metadata": {},
   "outputs": [],
   "source": [
    "# train dataset\n",
    "df0 = pd.read_csv(\"newdata2.csv\")\n",
    "df0\n"
   ]
  },
  {
   "cell_type": "code",
   "execution_count": null,
   "id": "14af9b19",
   "metadata": {},
   "outputs": [],
   "source": [
    "df_cert = pd.read_csv(\"newdata2.csv\")\n",
    "df_cert"
   ]
  },
  {
   "cell_type": "code",
   "execution_count": null,
   "id": "59d07d5a",
   "metadata": {},
   "outputs": [],
   "source": [
    "df_cert_test = pd.read_csv(\"newdata2.csv\")\n",
    "df_cert_test"
   ]
  },
  {
   "cell_type": "code",
   "execution_count": null,
   "id": "c694dd98",
   "metadata": {},
   "outputs": [],
   "source": [
    "#df['workers_num'].median()\n",
    "\n",
    "df_cert_test['wh_est_year'].fillna(df_cert_test['wh_est_year'].mode()[0], inplace=True)\n",
    "df_cert_test['workers_num'].fillna(df_cert_test['workers_num'].mode()[0], inplace=True)\n",
    "\n",
    "df_cert_test['temp_reg_mach'].fillna(df_cert_test['temp_reg_mach'].mode()[0], inplace=True)\n",
    "df_cert_test['wh_breakdown'].fillna(df_cert_test['wh_breakdown'].mode()[0], inplace=True)\n",
    "df_cert_test['govt_check'].fillna(df_cert_test['govt_check'].mode()[0], inplace=True)"
   ]
  },
  {
   "cell_type": "code",
   "execution_count": null,
   "id": "0a7fba59",
   "metadata": {},
   "outputs": [],
   "source": [
    "workers_num                        990\n",
    "wh_est_year                     166335\n",
    "temp_reg_mach                        1\n",
    "temp_reg_mach\n",
    "wh_breakdown                         1\n",
    "govt_check                           1"
   ]
  },
  {
   "cell_type": "code",
   "execution_count": null,
   "id": "dc2953bb",
   "metadata": {},
   "outputs": [],
   "source": [
    "df_cert_test = df_cert_test['product_wg_ton'].dropna(how='all')"
   ]
  },
  {
   "cell_type": "code",
   "execution_count": null,
   "id": "033d5bcb",
   "metadata": {},
   "outputs": [],
   "source": [
    "df_cert_test.isnull().sum()"
   ]
  },
  {
   "cell_type": "code",
   "execution_count": null,
   "id": "f64677d7",
   "metadata": {},
   "outputs": [],
   "source": [
    "df_cert.head()"
   ]
  },
  {
   "cell_type": "code",
   "execution_count": null,
   "id": "98942d7a",
   "metadata": {},
   "outputs": [],
   "source": []
  },
  {
   "cell_type": "code",
   "execution_count": null,
   "id": "a92f3955",
   "metadata": {},
   "outputs": [],
   "source": [
    "X_train = df_cert\n",
    "Y_train = df_cert['product_wg_ton']"
   ]
  },
  {
   "cell_type": "code",
   "execution_count": null,
   "id": "ae0c1d2e",
   "metadata": {},
   "outputs": [],
   "source": [
    "X_train.head()\n",
    "Y_train "
   ]
  },
  {
   "cell_type": "code",
   "execution_count": null,
   "id": "fcd29295",
   "metadata": {},
   "outputs": [],
   "source": [
    "Y_train.head()"
   ]
  },
  {
   "cell_type": "code",
   "execution_count": null,
   "id": "7d0aa9d7",
   "metadata": {},
   "outputs": [],
   "source": [
    "Y_train.shape"
   ]
  },
  {
   "cell_type": "code",
   "execution_count": null,
   "id": "4164af8c",
   "metadata": {},
   "outputs": [],
   "source": [
    "df_cert_test"
   ]
  },
  {
   "cell_type": "code",
   "execution_count": null,
   "id": "d62f2929",
   "metadata": {},
   "outputs": [],
   "source": [
    "X_test = n_df_test\n",
    "Y_test = n_df_test['product_wg_ton']\n",
    "\n",
    "Y_test\n",
    "X_test "
   ]
  },
  {
   "cell_type": "code",
   "execution_count": null,
   "id": "2a3be9b8",
   "metadata": {},
   "outputs": [],
   "source": []
  },
  {
   "cell_type": "code",
   "execution_count": null,
   "id": "07c09c44",
   "metadata": {},
   "outputs": [],
   "source": [
    "LRmodel = LinearRegression()"
   ]
  },
  {
   "cell_type": "code",
   "execution_count": null,
   "id": "607df9d7",
   "metadata": {},
   "outputs": [],
   "source": [
    "\n",
    "LRmodel.fit(X_train, Y_train)"
   ]
  },
  {
   "cell_type": "code",
   "execution_count": null,
   "id": "7358793b",
   "metadata": {},
   "outputs": [],
   "source": []
  },
  {
   "cell_type": "code",
   "execution_count": null,
   "id": "5f42f58f",
   "metadata": {},
   "outputs": [],
   "source": []
  },
  {
   "cell_type": "code",
   "execution_count": null,
   "id": "4c4df34a",
   "metadata": {},
   "outputs": [],
   "source": []
  },
  {
   "cell_type": "code",
   "execution_count": null,
   "id": "af9d3037",
   "metadata": {},
   "outputs": [],
   "source": [
    "LR_predicted = LRmodel.predict(X_test)\n",
    "LR_predicted"
   ]
  },
  {
   "cell_type": "code",
   "execution_count": null,
   "id": "4cc176f3",
   "metadata": {},
   "outputs": [],
   "source": [
    "predictions_2 = pd.DataFrame(LR_predicted, columns =['product_wg_ton_pred']) \n",
    "predictions_2"
   ]
  },
  {
   "cell_type": "code",
   "execution_count": null,
   "id": "4f9013c1",
   "metadata": {},
   "outputs": [],
   "source": [
    "Y_train"
   ]
  },
  {
   "cell_type": "code",
   "execution_count": null,
   "id": "4e879f70",
   "metadata": {},
   "outputs": [],
   "source": []
  },
  {
   "cell_type": "code",
   "execution_count": null,
   "id": "f11907ef",
   "metadata": {},
   "outputs": [],
   "source": []
  },
  {
   "cell_type": "code",
   "execution_count": null,
   "id": "ce49efbd",
   "metadata": {},
   "outputs": [],
   "source": [
    "predictions_2.to_csv('predictions_2.csv', index=False)"
   ]
  },
  {
   "cell_type": "code",
   "execution_count": null,
   "id": "b0623b75",
   "metadata": {},
   "outputs": [],
   "source": [
    "df_merged2 = pd.concat([X_test_pred, predictions_2], ignore_index=True, sort=False)\n",
    "df_merged2.head()"
   ]
  },
  {
   "cell_type": "code",
   "execution_count": null,
   "id": "ba1fd2e0",
   "metadata": {},
   "outputs": [],
   "source": []
  },
  {
   "cell_type": "code",
   "execution_count": null,
   "id": "27a9b195",
   "metadata": {},
   "outputs": [],
   "source": []
  },
  {
   "cell_type": "code",
   "execution_count": null,
   "id": "be612220",
   "metadata": {},
   "outputs": [],
   "source": [
    "# r2 score\n",
    "lr_r2 = r2_score(Y_test, LR_predicted).round(3)\n",
    "print('R2 score:  ', lr_r2)\n",
    "\n",
    "# root mean squared error (RMSE)\n",
    "lr_rmse = np.sqrt(mean_squared_error(Y_test, LR_predicted)).round(3)\n",
    "print('Root Mean Squared Error:  ', lr_rmse) \n",
    "\n",
    "# mean absolute error (MAE)\n",
    "lr_mae = mean_absolute_error(Y_test, LR_predicted).round(3)\n",
    "print('Mean Absolute Error:  ', lr_mae)\n"
   ]
  },
  {
   "cell_type": "code",
   "execution_count": null,
   "id": "709c65fa",
   "metadata": {},
   "outputs": [],
   "source": [
    "LR_predicted.to_csv('newdata.csv', index=False)"
   ]
  },
  {
   "cell_type": "code",
   "execution_count": null,
   "id": "192086f2",
   "metadata": {},
   "outputs": [],
   "source": []
  },
  {
   "cell_type": "code",
   "execution_count": null,
   "id": "e622cf4b",
   "metadata": {},
   "outputs": [],
   "source": []
  },
  {
   "cell_type": "code",
   "execution_count": null,
   "id": "cbb208fb",
   "metadata": {},
   "outputs": [],
   "source": []
  },
  {
   "cell_type": "code",
   "execution_count": null,
   "id": "936d7f67",
   "metadata": {},
   "outputs": [],
   "source": []
  },
  {
   "cell_type": "code",
   "execution_count": null,
   "id": "36e9a0ce",
   "metadata": {},
   "outputs": [],
   "source": [
    "DTmodel = DecisionTreeRegressor(random_state = 0) "
   ]
  },
  {
   "cell_type": "code",
   "execution_count": null,
   "id": "c8a7f067",
   "metadata": {},
   "outputs": [],
   "source": [
    "\n",
    "DTmodel.fit(X_train, Y_train) "
   ]
  },
  {
   "cell_type": "code",
   "execution_count": null,
   "id": "628b6cc7",
   "metadata": {},
   "outputs": [],
   "source": [
    "DT_predicted = DTmodel.predict(X_test)"
   ]
  },
  {
   "cell_type": "code",
   "execution_count": null,
   "id": "b1fdc854",
   "metadata": {},
   "outputs": [],
   "source": [
    "DT_predicted"
   ]
  },
  {
   "cell_type": "code",
   "execution_count": null,
   "id": "5b40498d",
   "metadata": {},
   "outputs": [],
   "source": [
    "# r2 score\n",
    "dt_r2 = r2_score(Y_test, DT_predicted).round(3)\n",
    "print('R2 score:  ', dt_r2)\n",
    "\n",
    "# root mean squared error (RMSE)\n",
    "dt_rmse = np.sqrt(mean_squared_error(Y_test, DT_predicted)).round(3)\n",
    "print('Root Mean Squared Error:  ', dt_rmse) \n",
    "\n",
    "# mean absolute error (MAE)\n",
    "dt_mae = mean_absolute_error(Y_test, DT_predicted).round(3)\n",
    "print('Mean Absolute Error:  ', dt_mae)\n"
   ]
  },
  {
   "cell_type": "code",
   "execution_count": null,
   "id": "ece4d9c7",
   "metadata": {},
   "outputs": [],
   "source": [
    "RFmodel = RandomForestRegressor(n_estimators = 100, max_depth = 4, random_state = 0) "
   ]
  },
  {
   "cell_type": "code",
   "execution_count": null,
   "id": "6ee2e7bf",
   "metadata": {},
   "outputs": [],
   "source": [
    "RFmodel.fit(X_train, Y_train)"
   ]
  },
  {
   "cell_type": "code",
   "execution_count": null,
   "id": "f40e0ab7",
   "metadata": {},
   "outputs": [],
   "source": [
    "RF_predicted = RFmodel.predict(X_test)\n",
    "RF_predicted"
   ]
  },
  {
   "cell_type": "code",
   "execution_count": null,
   "id": "402039c1",
   "metadata": {},
   "outputs": [],
   "source": [
    "\n",
    "# r2 score\n",
    "rf_r2 = r2_score(Y_test, RF_predicted).round(3)\n",
    "print('R2 score:  ', rf_r2)\n",
    "\n",
    "# root mean squared error (RMSE)\n",
    "rf_rmse = np.sqrt(mean_squared_error(Y_test, RF_predicted)).round(3)\n",
    "print('Root Mean Squared Error:  ', rf_rmse) \n",
    "\n",
    "# mean absolute error (MAE)\n",
    "rf_mae = mean_absolute_error(Y_test, RF_predicted).round(3)\n",
    "print('Mean Absolute Error:  ', rf_mae)"
   ]
  },
  {
   "cell_type": "code",
   "execution_count": null,
   "id": "d50ec4b9",
   "metadata": {},
   "outputs": [],
   "source": []
  },
  {
   "cell_type": "code",
   "execution_count": null,
   "id": "a1955168",
   "metadata": {},
   "outputs": [],
   "source": [
    "\n",
    "GBmodel = GradientBoostingRegressor()"
   ]
  },
  {
   "cell_type": "code",
   "execution_count": null,
   "id": "20b68f2b",
   "metadata": {},
   "outputs": [],
   "source": [
    "GBmodel.fit(X_train,Y_train)"
   ]
  },
  {
   "cell_type": "code",
   "execution_count": null,
   "id": "b3a2f9a2",
   "metadata": {},
   "outputs": [],
   "source": [
    "GB_predicted = GBmodel.predict(X_test)"
   ]
  },
  {
   "cell_type": "code",
   "execution_count": null,
   "id": "a51ce8aa",
   "metadata": {},
   "outputs": [],
   "source": [
    "GB_predicted"
   ]
  },
  {
   "cell_type": "code",
   "execution_count": null,
   "id": "c6e78bdc",
   "metadata": {},
   "outputs": [],
   "source": [
    "gb_r2 = r2_score(Y_test, GB_predicted).round(3)\n",
    "print('R2 score:  ', gb_r2)\n",
    "\n",
    "# root mean squared error (RMSE)\n",
    "gb_rmse = np.sqrt(mean_squared_error(Y_test, GB_predicted)).round(3)\n",
    "print('Root Mean Squared Error:  ', gb_rmse) \n",
    "\n",
    "# mean absolute error (MAE)\n",
    "gb_mae = mean_absolute_error(Y_test, GB_predicted).round(3)\n",
    "print('Mean Absolute Error:  ', gb_mae)"
   ]
  },
  {
   "cell_type": "code",
   "execution_count": null,
   "id": "f06a74f0",
   "metadata": {},
   "outputs": [],
   "source": [
    "ax1 = plt.subplot2grid((2, 3), (0, 0))\n",
    "plt.scatter(Y_test, LR_predicted, color='#ffdab9', alpha=0.3, label='Actual')\n",
    "plt.plot([min(Y_test), max(Y_test)], [min(Y_test), max(Y_test)], linestyle='--', color='#2f4f4f', label='Predicted')\n",
    "plt.title('Linear Regression')\n",
    "plt.xlabel('Actual Values')\n",
    "plt.ylabel('Predicted Values')\n",
    "plt.legend()\n",
    "\n",
    "\n",
    "ax1 = plt.subplot2grid((2, 3), (0, 1))\n",
    "plt.scatter(Y_test, DT_predicted, color='#ffdab9', alpha=0.3)\n",
    "plt.plot([min(Y_test), max(Y_test)], [min(Y_test), max(Y_test)], linestyle='--', color='#2f4f4f')\n",
    "plt.title('Decision Tree')\n",
    "plt.xlabel('Actual Values')\n",
    "plt.ylabel('Predicted Values')\n",
    "\n"
   ]
  },
  {
   "cell_type": "code",
   "execution_count": null,
   "id": "bd2a848f",
   "metadata": {},
   "outputs": [],
   "source": [
    "ax1 = plt.subplot2grid((2, 3), (1, 1))\n",
    "plt.scatter(Y_test, GB_predicted, color='#ffdab9', alpha=0.3)  # alpha controls point transparency for better visualization\n",
    "plt.plot([min(Y_test), max(Y_test)], [min(Y_test), max(Y_test)], linestyle='--',color='#2f4f4f')\n",
    "plt.title('Gradient Boosting')\n",
    "plt.xlabel('Actual Values')\n",
    "plt.ylabel('Predicted Values')\n",
    "\n",
    "plt.show()"
   ]
  }
 ],
 "metadata": {
  "kernelspec": {
   "display_name": "Python 3",
   "language": "python",
   "name": "python3"
  },
  "language_info": {
   "codemirror_mode": {
    "name": "ipython",
    "version": 3
   },
   "file_extension": ".py",
   "mimetype": "text/x-python",
   "name": "python",
   "nbconvert_exporter": "python",
   "pygments_lexer": "ipython3",
   "version": "3.8.19"
  }
 },
 "nbformat": 4,
 "nbformat_minor": 5
}
