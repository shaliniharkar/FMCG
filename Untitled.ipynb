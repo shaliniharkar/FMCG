{
 "cells": [
  {
   "cell_type": "code",
   "execution_count": 1,
   "id": "d4673c57",
   "metadata": {},
   "outputs": [],
   "source": [
    "import pandas as pd\n",
    "\n",
    "import numpy as np\n",
    "\n",
    "import matplotlib.pyplot as plt\n",
    "%matplotlib inline\n",
    "#import seaborn as sns\n",
    "\n",
    "\n",
    "from sklearn.preprocessing import LabelEncoder, StandardScaler\n",
    "\n",
    "from sklearn.linear_model import LinearRegression\n",
    "from sklearn.tree import DecisionTreeRegressor\n",
    "from sklearn.ensemble import RandomForestRegressor, GradientBoostingRegressor\n",
    "from sklearn.svm import SVR\n",
    "\n",
    "from sklearn.metrics import mean_squared_error, r2_score, mean_absolute_error"
   ]
  },
  {
   "cell_type": "code",
   "execution_count": null,
   "id": "0f4cb080",
   "metadata": {},
   "outputs": [],
   "source": [
    "import warnings\n",
    "warnings.simplefilter(action='ignore')"
   ]
  },
  {
   "cell_type": "code",
   "execution_count": null,
   "id": "e0102385",
   "metadata": {},
   "outputs": [],
   "source": [
    "n_df = pd.read_csv(\"FMCG_data.csv\")\n",
    "\n",
    "# test dataset\n",
    "n_df_test = pd.read_csv(\"FMCG_data.csv\")\n"
   ]
  },
  {
   "cell_type": "code",
   "execution_count": null,
   "id": "8b596c02",
   "metadata": {},
   "outputs": [],
   "source": [
    "n_df.drop(columns=['Ware_house_ID','WH_Manager_ID','Date'], inplace = True)\n",
    "n_df['workers_num'].median()\n",
    "n_df['approved_wh_govt_certificate'].mode()\n",
    "n_df['approved_wh_govt_certificate'].fillna(n_df['approved_wh_govt_certificate'].mode()[0], inplace=True)\n",
    "n_df.isnull().sum()\n",
    "n_df.nunique().sort_values(ascending= True)"
   ]
  },
  {
   "cell_type": "code",
   "execution_count": null,
   "id": "d3cf719c",
   "metadata": {},
   "outputs": [],
   "source": [
    "for i in n_df.columns[n_df.nunique()<=4]:\n",
    "    print(\"Number of unique values in column \", i, ' :', len(n_df[i].unique()))\n",
    "    print(n_df[i].value_counts())\n",
    "    print(' ')"
   ]
  },
  {
   "cell_type": "code",
   "execution_count": null,
   "id": "6f0ace9e",
   "metadata": {},
   "outputs": [],
   "source": [
    "def count_outliers(df):\n",
    "    outliers={}\n",
    "    for i in n_df.columns:\n",
    "        if pd.api.types.is_numeric_dtype(n_df[i]):\n",
    "            q1 = n_df[i].quantile(0.25)\n",
    "            q3 = n_df[i].quantile(0.75)\n",
    "            iqr = q3 - q1\n",
    "            lower = q1 - 1.5*iqr\n",
    "            upper = q3 + 1.5*iqr\n",
    "            outliers[i] = n_df[(n_df[i] < lower) | (n_df[i] > upper)].shape[0]\n",
    "        else:\n",
    "            pass\n",
    "    return outliers"
   ]
  },
  {
   "cell_type": "code",
   "execution_count": null,
   "id": "75b8949f",
   "metadata": {},
   "outputs": [],
   "source": [
    "outlier_counts = count_outliers(n_df)\n",
    "outlier_counts"
   ]
  },
  {
   "cell_type": "code",
   "execution_count": null,
   "id": "b96f1838",
   "metadata": {},
   "outputs": [],
   "source": [
    "n_df['product_wg_ton'].corr(n_df['flood_proof'])\n",
    "n_df['product_wg_ton'].corr(n_df['flood_impacted'])\n",
    "n_df.drop(columns=['flood_proof', 'flood_impacted'], inplace = True)"
   ]
  },
  {
   "cell_type": "code",
   "execution_count": null,
   "id": "8c6e6e9e",
   "metadata": {},
   "outputs": [],
   "source": [
    "def remove_outliers(df):\n",
    "    num_df = n_df.select_dtypes(include=['int', 'float'])\n",
    "    q1 = num_df.quantile(0.25)\n",
    "    q3 = num_df.quantile(0.75)\n",
    "    iqr = q3 - q1\n",
    "    lower = q1 - 1.5*iqr\n",
    "    upper = q3 + 1.5*iqr\n",
    "    df_no_outliers = num_df[((num_df >= lower) & (num_df <= upper)).all(axis=1)]\n",
    "    return df.loc[df_no_outliers.index]"
   ]
  },
  {
   "cell_type": "code",
   "execution_count": null,
   "id": "0824ec24",
   "metadata": {},
   "outputs": [],
   "source": [
    "df = remove_outliers(n_df)\n",
    "df.shape"
   ]
  },
  {
   "cell_type": "code",
   "execution_count": null,
   "id": "88ed5964",
   "metadata": {},
   "outputs": [],
   "source": [
    "n_df_test.nunique().sort_values(ascending=False)"
   ]
  },
  {
   "cell_type": "code",
   "execution_count": null,
   "id": "63bb0052",
   "metadata": {},
   "outputs": [],
   "source": [
    "n_df_test.drop(columns=['Ware_house_ID', 'WH_Manager_ID'], inplace = True)\n",
    "print(len(n_df_test[n_df_test.duplicated]))"
   ]
  },
  {
   "cell_type": "code",
   "execution_count": null,
   "id": "05d920b4",
   "metadata": {},
   "outputs": [],
   "source": []
  }
 ],
 "metadata": {
  "kernelspec": {
   "display_name": "Python 3",
   "language": "python",
   "name": "python3"
  },
  "language_info": {
   "codemirror_mode": {
    "name": "ipython",
    "version": 3
   },
   "file_extension": ".py",
   "mimetype": "text/x-python",
   "name": "python",
   "nbconvert_exporter": "python",
   "pygments_lexer": "ipython3",
   "version": "3.8.19"
  }
 },
 "nbformat": 4,
 "nbformat_minor": 5
}
