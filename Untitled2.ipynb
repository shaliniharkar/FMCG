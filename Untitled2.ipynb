{
 "cells": [
  {
   "cell_type": "code",
   "execution_count": 1,
   "id": "6c21c445",
   "metadata": {},
   "outputs": [],
   "source": [
    "import pandas as pd\n",
    "import numpy as np\n",
    "\n",
    "import matplotlib.pyplot as plt\n",
    "%matplotlib inline\n",
    "#import seaborn as sns\n",
    "\n",
    "\n",
    "from sklearn.preprocessing import LabelEncoder, StandardScaler\n",
    "\n",
    "from sklearn.linear_model import LinearRegression\n",
    "from sklearn.tree import DecisionTreeRegressor\n",
    "from sklearn.ensemble import RandomForestRegressor, GradientBoostingRegressor\n",
    "from sklearn.svm import SVR\n",
    "\n",
    "from sklearn.metrics import mean_squared_error, r2_score, mean_absolute_error"
   ]
  },
  {
   "cell_type": "code",
   "execution_count": 2,
   "id": "cd21f533",
   "metadata": {},
   "outputs": [],
   "source": [
    "import warnings\n",
    "warnings.simplefilter(action='ignore')"
   ]
  },
  {
   "cell_type": "code",
   "execution_count": 6,
   "id": "71b729d1",
   "metadata": {},
   "outputs": [],
   "source": [
    "# train dataset\n",
    "df = pd.read_csv(\"FMCG_data.csv\")\n",
    "\n",
    "# test dataset\n",
    "df_test = pd.read_csv(\"FMCG_data.csv\")"
   ]
  },
  {
   "cell_type": "code",
   "execution_count": 7,
   "id": "fec5780b",
   "metadata": {},
   "outputs": [
    {
     "data": {
      "text/html": [
       "<div>\n",
       "<style scoped>\n",
       "    .dataframe tbody tr th:only-of-type {\n",
       "        vertical-align: middle;\n",
       "    }\n",
       "\n",
       "    .dataframe tbody tr th {\n",
       "        vertical-align: top;\n",
       "    }\n",
       "\n",
       "    .dataframe thead th {\n",
       "        text-align: right;\n",
       "    }\n",
       "</style>\n",
       "<table border=\"1\" class=\"dataframe\">\n",
       "  <thead>\n",
       "    <tr style=\"text-align: right;\">\n",
       "      <th></th>\n",
       "      <th>Date</th>\n",
       "      <th>Ware_house_ID</th>\n",
       "      <th>WH_Manager_ID</th>\n",
       "      <th>Location_type</th>\n",
       "      <th>WH_capacity_size</th>\n",
       "      <th>zone</th>\n",
       "      <th>WH_regional_zone</th>\n",
       "      <th>Refill_Requests</th>\n",
       "      <th>transport_issue</th>\n",
       "      <th>No_of_Competitor</th>\n",
       "      <th>...</th>\n",
       "      <th>electric_supply</th>\n",
       "      <th>dist_from_hub</th>\n",
       "      <th>workers_num</th>\n",
       "      <th>wh_est_year</th>\n",
       "      <th>storage_issue_reported</th>\n",
       "      <th>temp_reg_mach</th>\n",
       "      <th>approved_wh_govt_certificate</th>\n",
       "      <th>wh_breakdown</th>\n",
       "      <th>govt_check</th>\n",
       "      <th>product_wg_ton</th>\n",
       "    </tr>\n",
       "  </thead>\n",
       "  <tbody>\n",
       "    <tr>\n",
       "      <th>0</th>\n",
       "      <td>01-01-2023</td>\n",
       "      <td>WH_100000</td>\n",
       "      <td>EID_50000</td>\n",
       "      <td>Urban</td>\n",
       "      <td>Small</td>\n",
       "      <td>West</td>\n",
       "      <td>Zone 6</td>\n",
       "      <td>3</td>\n",
       "      <td>1</td>\n",
       "      <td>2</td>\n",
       "      <td>...</td>\n",
       "      <td>1</td>\n",
       "      <td>91</td>\n",
       "      <td>29.0</td>\n",
       "      <td>NaN</td>\n",
       "      <td>13</td>\n",
       "      <td>0.0</td>\n",
       "      <td>A</td>\n",
       "      <td>5.0</td>\n",
       "      <td>15.0</td>\n",
       "      <td>17115.0</td>\n",
       "    </tr>\n",
       "    <tr>\n",
       "      <th>1</th>\n",
       "      <td>01-01-2023</td>\n",
       "      <td>WH_100001</td>\n",
       "      <td>EID_50001</td>\n",
       "      <td>Rural</td>\n",
       "      <td>Large</td>\n",
       "      <td>North</td>\n",
       "      <td>Zone 5</td>\n",
       "      <td>0</td>\n",
       "      <td>0</td>\n",
       "      <td>4</td>\n",
       "      <td>...</td>\n",
       "      <td>1</td>\n",
       "      <td>210</td>\n",
       "      <td>31.0</td>\n",
       "      <td>NaN</td>\n",
       "      <td>4</td>\n",
       "      <td>0.0</td>\n",
       "      <td>A</td>\n",
       "      <td>3.0</td>\n",
       "      <td>17.0</td>\n",
       "      <td>5074.0</td>\n",
       "    </tr>\n",
       "    <tr>\n",
       "      <th>2</th>\n",
       "      <td>01-01-2023</td>\n",
       "      <td>WH_100002</td>\n",
       "      <td>EID_50002</td>\n",
       "      <td>Rural</td>\n",
       "      <td>Mid</td>\n",
       "      <td>South</td>\n",
       "      <td>Zone 2</td>\n",
       "      <td>1</td>\n",
       "      <td>0</td>\n",
       "      <td>4</td>\n",
       "      <td>...</td>\n",
       "      <td>0</td>\n",
       "      <td>161</td>\n",
       "      <td>37.0</td>\n",
       "      <td>NaN</td>\n",
       "      <td>17</td>\n",
       "      <td>0.0</td>\n",
       "      <td>A</td>\n",
       "      <td>6.0</td>\n",
       "      <td>22.0</td>\n",
       "      <td>23137.0</td>\n",
       "    </tr>\n",
       "    <tr>\n",
       "      <th>3</th>\n",
       "      <td>01-01-2023</td>\n",
       "      <td>WH_100003</td>\n",
       "      <td>EID_50003</td>\n",
       "      <td>Rural</td>\n",
       "      <td>Mid</td>\n",
       "      <td>North</td>\n",
       "      <td>Zone 3</td>\n",
       "      <td>7</td>\n",
       "      <td>4</td>\n",
       "      <td>2</td>\n",
       "      <td>...</td>\n",
       "      <td>0</td>\n",
       "      <td>103</td>\n",
       "      <td>21.0</td>\n",
       "      <td>NaN</td>\n",
       "      <td>17</td>\n",
       "      <td>1.0</td>\n",
       "      <td>A+</td>\n",
       "      <td>3.0</td>\n",
       "      <td>27.0</td>\n",
       "      <td>22115.0</td>\n",
       "    </tr>\n",
       "    <tr>\n",
       "      <th>4</th>\n",
       "      <td>01-01-2023</td>\n",
       "      <td>WH_100004</td>\n",
       "      <td>EID_50004</td>\n",
       "      <td>Rural</td>\n",
       "      <td>Large</td>\n",
       "      <td>North</td>\n",
       "      <td>Zone 5</td>\n",
       "      <td>3</td>\n",
       "      <td>1</td>\n",
       "      <td>2</td>\n",
       "      <td>...</td>\n",
       "      <td>1</td>\n",
       "      <td>112</td>\n",
       "      <td>25.0</td>\n",
       "      <td>2009.0</td>\n",
       "      <td>18</td>\n",
       "      <td>0.0</td>\n",
       "      <td>C</td>\n",
       "      <td>6.0</td>\n",
       "      <td>24.0</td>\n",
       "      <td>24071.0</td>\n",
       "    </tr>\n",
       "    <tr>\n",
       "      <th>...</th>\n",
       "      <td>...</td>\n",
       "      <td>...</td>\n",
       "      <td>...</td>\n",
       "      <td>...</td>\n",
       "      <td>...</td>\n",
       "      <td>...</td>\n",
       "      <td>...</td>\n",
       "      <td>...</td>\n",
       "      <td>...</td>\n",
       "      <td>...</td>\n",
       "      <td>...</td>\n",
       "      <td>...</td>\n",
       "      <td>...</td>\n",
       "      <td>...</td>\n",
       "      <td>...</td>\n",
       "      <td>...</td>\n",
       "      <td>...</td>\n",
       "      <td>...</td>\n",
       "      <td>...</td>\n",
       "      <td>...</td>\n",
       "      <td>...</td>\n",
       "    </tr>\n",
       "    <tr>\n",
       "      <th>349996</th>\n",
       "      <td>01-02-2024</td>\n",
       "      <td>WH_124996</td>\n",
       "      <td>EID_74996</td>\n",
       "      <td>Rural</td>\n",
       "      <td>Mid</td>\n",
       "      <td>West</td>\n",
       "      <td>Zone 2</td>\n",
       "      <td>4</td>\n",
       "      <td>7</td>\n",
       "      <td>1</td>\n",
       "      <td>...</td>\n",
       "      <td>1</td>\n",
       "      <td>130</td>\n",
       "      <td>39.0</td>\n",
       "      <td>2005.0</td>\n",
       "      <td>23</td>\n",
       "      <td>0.0</td>\n",
       "      <td>B</td>\n",
       "      <td>21.0</td>\n",
       "      <td>36.0</td>\n",
       "      <td>37853.0</td>\n",
       "    </tr>\n",
       "    <tr>\n",
       "      <th>349997</th>\n",
       "      <td>01-02-2024</td>\n",
       "      <td>WH_124997</td>\n",
       "      <td>EID_74997</td>\n",
       "      <td>Urban</td>\n",
       "      <td>Large</td>\n",
       "      <td>South</td>\n",
       "      <td>Zone 5</td>\n",
       "      <td>12</td>\n",
       "      <td>4</td>\n",
       "      <td>0</td>\n",
       "      <td>...</td>\n",
       "      <td>1</td>\n",
       "      <td>147</td>\n",
       "      <td>27.0</td>\n",
       "      <td>2012.0</td>\n",
       "      <td>12</td>\n",
       "      <td>1.0</td>\n",
       "      <td>A</td>\n",
       "      <td>30.0</td>\n",
       "      <td>55.0</td>\n",
       "      <td>65888.0</td>\n",
       "    </tr>\n",
       "    <tr>\n",
       "      <th>349998</th>\n",
       "      <td>01-02-2024</td>\n",
       "      <td>WH_124998</td>\n",
       "      <td>EID_74998</td>\n",
       "      <td>Rural</td>\n",
       "      <td>Small</td>\n",
       "      <td>North</td>\n",
       "      <td>Zone 1</td>\n",
       "      <td>1</td>\n",
       "      <td>4</td>\n",
       "      <td>10</td>\n",
       "      <td>...</td>\n",
       "      <td>1</td>\n",
       "      <td>60</td>\n",
       "      <td>44.0</td>\n",
       "      <td>NaN</td>\n",
       "      <td>24</td>\n",
       "      <td>0.0</td>\n",
       "      <td>B</td>\n",
       "      <td>17.0</td>\n",
       "      <td>38.0</td>\n",
       "      <td>38534.0</td>\n",
       "    </tr>\n",
       "    <tr>\n",
       "      <th>349999</th>\n",
       "      <td>01-02-2024</td>\n",
       "      <td>WH_124999</td>\n",
       "      <td>EID_74999</td>\n",
       "      <td>Rural</td>\n",
       "      <td>Mid</td>\n",
       "      <td>West</td>\n",
       "      <td>Zone 4</td>\n",
       "      <td>3</td>\n",
       "      <td>3</td>\n",
       "      <td>4</td>\n",
       "      <td>...</td>\n",
       "      <td>1</td>\n",
       "      <td>239</td>\n",
       "      <td>57.0</td>\n",
       "      <td>NaN</td>\n",
       "      <td>22</td>\n",
       "      <td>0.0</td>\n",
       "      <td>B+</td>\n",
       "      <td>16.0</td>\n",
       "      <td>41.0</td>\n",
       "      <td>58351.0</td>\n",
       "    </tr>\n",
       "    <tr>\n",
       "      <th>350000</th>\n",
       "      <td>01-02-2024</td>\n",
       "      <td>WH_100000</td>\n",
       "      <td>EID_50000</td>\n",
       "      <td>Urban</td>\n",
       "      <td>Small</td>\n",
       "      <td>West</td>\n",
       "      <td>Zone 6</td>\n",
       "      <td>4</td>\n",
       "      <td>2</td>\n",
       "      <td>3</td>\n",
       "      <td>...</td>\n",
       "      <td>1</td>\n",
       "      <td>91</td>\n",
       "      <td>56.0</td>\n",
       "      <td>2019.0</td>\n",
       "      <td>5</td>\n",
       "      <td>0.0</td>\n",
       "      <td>A</td>\n",
       "      <td>33.0</td>\n",
       "      <td>39.0</td>\n",
       "      <td>50619.0</td>\n",
       "    </tr>\n",
       "  </tbody>\n",
       "</table>\n",
       "<p>350001 rows × 25 columns</p>\n",
       "</div>"
      ],
      "text/plain": [
       "              Date Ware_house_ID WH_Manager_ID Location_type WH_capacity_size  \\\n",
       "0       01-01-2023     WH_100000     EID_50000         Urban            Small   \n",
       "1       01-01-2023     WH_100001     EID_50001         Rural            Large   \n",
       "2       01-01-2023     WH_100002     EID_50002         Rural              Mid   \n",
       "3       01-01-2023     WH_100003     EID_50003         Rural              Mid   \n",
       "4       01-01-2023     WH_100004     EID_50004         Rural            Large   \n",
       "...            ...           ...           ...           ...              ...   \n",
       "349996  01-02-2024     WH_124996     EID_74996         Rural              Mid   \n",
       "349997  01-02-2024     WH_124997     EID_74997         Urban            Large   \n",
       "349998  01-02-2024     WH_124998     EID_74998         Rural            Small   \n",
       "349999  01-02-2024     WH_124999     EID_74999         Rural              Mid   \n",
       "350000  01-02-2024     WH_100000     EID_50000         Urban            Small   \n",
       "\n",
       "         zone WH_regional_zone  Refill_Requests  transport_issue  \\\n",
       "0        West           Zone 6                3                1   \n",
       "1       North           Zone 5                0                0   \n",
       "2       South           Zone 2                1                0   \n",
       "3       North           Zone 3                7                4   \n",
       "4       North           Zone 5                3                1   \n",
       "...       ...              ...              ...              ...   \n",
       "349996   West           Zone 2                4                7   \n",
       "349997  South           Zone 5               12                4   \n",
       "349998  North           Zone 1                1                4   \n",
       "349999   West           Zone 4                3                3   \n",
       "350000   West           Zone 6                4                2   \n",
       "\n",
       "        No_of_Competitor  ...  electric_supply dist_from_hub  workers_num  \\\n",
       "0                      2  ...                1            91         29.0   \n",
       "1                      4  ...                1           210         31.0   \n",
       "2                      4  ...                0           161         37.0   \n",
       "3                      2  ...                0           103         21.0   \n",
       "4                      2  ...                1           112         25.0   \n",
       "...                  ...  ...              ...           ...          ...   \n",
       "349996                 1  ...                1           130         39.0   \n",
       "349997                 0  ...                1           147         27.0   \n",
       "349998                10  ...                1            60         44.0   \n",
       "349999                 4  ...                1           239         57.0   \n",
       "350000                 3  ...                1            91         56.0   \n",
       "\n",
       "        wh_est_year  storage_issue_reported  temp_reg_mach  \\\n",
       "0               NaN                      13            0.0   \n",
       "1               NaN                       4            0.0   \n",
       "2               NaN                      17            0.0   \n",
       "3               NaN                      17            1.0   \n",
       "4            2009.0                      18            0.0   \n",
       "...             ...                     ...            ...   \n",
       "349996       2005.0                      23            0.0   \n",
       "349997       2012.0                      12            1.0   \n",
       "349998          NaN                      24            0.0   \n",
       "349999          NaN                      22            0.0   \n",
       "350000       2019.0                       5            0.0   \n",
       "\n",
       "        approved_wh_govt_certificate  wh_breakdown  govt_check  product_wg_ton  \n",
       "0                                  A           5.0        15.0         17115.0  \n",
       "1                                  A           3.0        17.0          5074.0  \n",
       "2                                  A           6.0        22.0         23137.0  \n",
       "3                                 A+           3.0        27.0         22115.0  \n",
       "4                                  C           6.0        24.0         24071.0  \n",
       "...                              ...           ...         ...             ...  \n",
       "349996                             B          21.0        36.0         37853.0  \n",
       "349997                             A          30.0        55.0         65888.0  \n",
       "349998                             B          17.0        38.0         38534.0  \n",
       "349999                            B+          16.0        41.0         58351.0  \n",
       "350000                             A          33.0        39.0         50619.0  \n",
       "\n",
       "[350001 rows x 25 columns]"
      ]
     },
     "execution_count": 7,
     "metadata": {},
     "output_type": "execute_result"
    }
   ],
   "source": [
    "df"
   ]
  },
  {
   "cell_type": "code",
   "execution_count": null,
   "id": "e6d4da89",
   "metadata": {},
   "outputs": [],
   "source": []
  },
  {
   "cell_type": "code",
   "execution_count": 8,
   "id": "a3e3418a",
   "metadata": {},
   "outputs": [
    {
     "data": {
      "text/plain": [
       "product_wg_ton                  65179\n",
       "WH_Manager_ID                   25000\n",
       "Ware_house_ID                   25000\n",
       "No_of_retailers                  9068\n",
       "dist_from_hub                     217\n",
       "Number_of_distributors            138\n",
       "workers_num                       122\n",
       "storage_issue_reported             73\n",
       "govt_check                         70\n",
       "wh_breakdown                       47\n",
       "wh_est_year                        28\n",
       "Refill_Requests                    27\n",
       "transport_issue                    23\n",
       "No_of_Competitor                   23\n",
       "Date                               14\n",
       "approved_wh_govt_certificate        6\n",
       "WH_regional_zone                    6\n",
       "zone                                4\n",
       "WH_capacity_size                    3\n",
       "Location_type                       2\n",
       "flood_proof                         2\n",
       "flood_impacted                      2\n",
       "temp_reg_mach                       2\n",
       "Warehouse_Ownership                 2\n",
       "electric_supply                     2\n",
       "dtype: int64"
      ]
     },
     "execution_count": 8,
     "metadata": {},
     "output_type": "execute_result"
    }
   ],
   "source": [
    "\n",
    "df.nunique().sort_values(ascending=False)"
   ]
  },
  {
   "cell_type": "code",
   "execution_count": 9,
   "id": "b3b0fd71",
   "metadata": {},
   "outputs": [],
   "source": [
    "df.drop(columns=['Ware_house_ID','WH_Manager_ID','Date'], inplace = True)"
   ]
  },
  {
   "cell_type": "code",
   "execution_count": 10,
   "id": "bbbcd68b",
   "metadata": {},
   "outputs": [
    {
     "data": {
      "text/plain": [
       "37.0"
      ]
     },
     "execution_count": 10,
     "metadata": {},
     "output_type": "execute_result"
    }
   ],
   "source": [
    "df['workers_num'].median()"
   ]
  },
  {
   "cell_type": "code",
   "execution_count": 11,
   "id": "e7743050",
   "metadata": {},
   "outputs": [
    {
     "data": {
      "text/plain": [
       "0    C\n",
       "Name: approved_wh_govt_certificate, dtype: object"
      ]
     },
     "execution_count": 11,
     "metadata": {},
     "output_type": "execute_result"
    }
   ],
   "source": [
    "df['approved_wh_govt_certificate'].mode()"
   ]
  },
  {
   "cell_type": "code",
   "execution_count": 12,
   "id": "f1ceb274",
   "metadata": {},
   "outputs": [],
   "source": [
    "df['approved_wh_govt_certificate'].fillna(df['approved_wh_govt_certificate'].mode()[0], inplace=True)"
   ]
  },
  {
   "cell_type": "code",
   "execution_count": 13,
   "id": "62a96fa5",
   "metadata": {},
   "outputs": [
    {
     "data": {
      "text/plain": [
       "Location_type                        0\n",
       "WH_capacity_size                     0\n",
       "zone                                 0\n",
       "WH_regional_zone                     0\n",
       "Refill_Requests                      0\n",
       "transport_issue                      0\n",
       "No_of_Competitor                     0\n",
       "No_of_retailers                      0\n",
       "Warehouse_Ownership                  0\n",
       "Number_of_distributors               0\n",
       "flood_impacted                       0\n",
       "flood_proof                          0\n",
       "electric_supply                      0\n",
       "dist_from_hub                        0\n",
       "workers_num                        990\n",
       "wh_est_year                     166335\n",
       "storage_issue_reported               0\n",
       "temp_reg_mach                        1\n",
       "approved_wh_govt_certificate         0\n",
       "wh_breakdown                         1\n",
       "govt_check                           1\n",
       "product_wg_ton                       1\n",
       "dtype: int64"
      ]
     },
     "execution_count": 13,
     "metadata": {},
     "output_type": "execute_result"
    }
   ],
   "source": [
    "df.isnull().sum()"
   ]
  },
  {
   "cell_type": "code",
   "execution_count": 14,
   "id": "aee6a627",
   "metadata": {},
   "outputs": [
    {
     "data": {
      "text/plain": [
       "Location_type                       2\n",
       "temp_reg_mach                       2\n",
       "electric_supply                     2\n",
       "flood_proof                         2\n",
       "Warehouse_Ownership                 2\n",
       "flood_impacted                      2\n",
       "WH_capacity_size                    3\n",
       "zone                                4\n",
       "WH_regional_zone                    6\n",
       "approved_wh_govt_certificate        6\n",
       "No_of_Competitor                   23\n",
       "transport_issue                    23\n",
       "Refill_Requests                    27\n",
       "wh_est_year                        28\n",
       "wh_breakdown                       47\n",
       "govt_check                         70\n",
       "storage_issue_reported             73\n",
       "workers_num                       122\n",
       "Number_of_distributors            138\n",
       "dist_from_hub                     217\n",
       "No_of_retailers                  9068\n",
       "product_wg_ton                  65179\n",
       "dtype: int64"
      ]
     },
     "execution_count": 14,
     "metadata": {},
     "output_type": "execute_result"
    }
   ],
   "source": [
    "df.nunique().sort_values(ascending= True)"
   ]
  },
  {
   "cell_type": "code",
   "execution_count": 15,
   "id": "2e984acb",
   "metadata": {},
   "outputs": [
    {
     "name": "stdout",
     "output_type": "stream",
     "text": [
      "Number of unique values in column  Location_type  : 2\n",
      "Location_type\n",
      "Rural    321398\n",
      "Urban     28603\n",
      "Name: count, dtype: int64\n",
      " \n",
      "Number of unique values in column  WH_capacity_size  : 3\n",
      "WH_capacity_size\n",
      "Large    142366\n",
      "Mid      140280\n",
      "Small     67355\n",
      "Name: count, dtype: int64\n",
      " \n",
      "Number of unique values in column  zone  : 4\n",
      "zone\n",
      "North    143892\n",
      "West     111035\n",
      "South     89068\n",
      "East       6006\n",
      "Name: count, dtype: int64\n",
      " \n",
      "Number of unique values in column  Warehouse_Ownership  : 2\n",
      "Warehouse_Ownership\n",
      "Company Owned    190092\n",
      "Rented           159909\n",
      "Name: count, dtype: int64\n",
      " \n",
      "Number of unique values in column  flood_impacted  : 2\n",
      "flood_impacted\n",
      "0    315645\n",
      "1     34356\n",
      "Name: count, dtype: int64\n",
      " \n",
      "Number of unique values in column  flood_proof  : 2\n",
      "flood_proof\n",
      "0    330876\n",
      "1     19125\n",
      "Name: count, dtype: int64\n",
      " \n",
      "Number of unique values in column  electric_supply  : 2\n",
      "electric_supply\n",
      "1    229909\n",
      "0    120092\n",
      "Name: count, dtype: int64\n",
      " \n",
      "Number of unique values in column  temp_reg_mach  : 3\n",
      "temp_reg_mach\n",
      "0.0    243852\n",
      "1.0    106148\n",
      "Name: count, dtype: int64\n",
      " \n"
     ]
    }
   ],
   "source": [
    "for i in df.columns[df.nunique()<=4]:\n",
    "    print(\"Number of unique values in column \", i, ' :', len(df[i].unique()))\n",
    "    print(df[i].value_counts())\n",
    "    print(' ')"
   ]
  },
  {
   "cell_type": "code",
   "execution_count": 16,
   "id": "2e74f5e7",
   "metadata": {},
   "outputs": [],
   "source": [
    "def count_outliers(df):\n",
    "    outliers={}\n",
    "    for i in df.columns:\n",
    "        if pd.api.types.is_numeric_dtype(df[i]):\n",
    "            q1 = df[i].quantile(0.25)\n",
    "            q3 = df[i].quantile(0.75)\n",
    "            iqr = q3 - q1\n",
    "            lower = q1 - 1.5*iqr\n",
    "            upper = q3 + 1.5*iqr\n",
    "            outliers[i] = df[(df[i] < lower) | (df[i] > upper)].shape[0]\n",
    "        else:\n",
    "            pass\n",
    "    return outliers"
   ]
  },
  {
   "cell_type": "code",
   "execution_count": 17,
   "id": "87c9b356",
   "metadata": {},
   "outputs": [
    {
     "data": {
      "text/plain": [
       "{'Refill_Requests': 4159,\n",
       " 'transport_issue': 3852,\n",
       " 'No_of_Competitor': 16980,\n",
       " 'No_of_retailers': 7980,\n",
       " 'Number_of_distributors': 494,\n",
       " 'flood_impacted': 34356,\n",
       " 'flood_proof': 19125,\n",
       " 'electric_supply': 0,\n",
       " 'dist_from_hub': 0,\n",
       " 'workers_num': 8332,\n",
       " 'wh_est_year': 0,\n",
       " 'storage_issue_reported': 932,\n",
       " 'temp_reg_mach': 0,\n",
       " 'wh_breakdown': 436,\n",
       " 'govt_check': 114,\n",
       " 'product_wg_ton': 1327}"
      ]
     },
     "execution_count": 17,
     "metadata": {},
     "output_type": "execute_result"
    }
   ],
   "source": [
    "outlier_counts = count_outliers(df)\n",
    "outlier_counts"
   ]
  },
  {
   "cell_type": "code",
   "execution_count": 18,
   "id": "b207f9f3",
   "metadata": {},
   "outputs": [
    {
     "data": {
      "text/plain": [
       "-0.0013781060322405482"
      ]
     },
     "execution_count": 18,
     "metadata": {},
     "output_type": "execute_result"
    }
   ],
   "source": [
    "df['product_wg_ton'].corr(df['flood_proof'])"
   ]
  },
  {
   "cell_type": "code",
   "execution_count": 19,
   "id": "220990f6",
   "metadata": {},
   "outputs": [
    {
     "data": {
      "text/plain": [
       "-0.0022768441325800573"
      ]
     },
     "execution_count": 19,
     "metadata": {},
     "output_type": "execute_result"
    }
   ],
   "source": [
    "df['product_wg_ton'].corr(df['flood_impacted'])"
   ]
  },
  {
   "cell_type": "code",
   "execution_count": 20,
   "id": "61b8a398",
   "metadata": {},
   "outputs": [],
   "source": [
    "df.drop(columns=['flood_proof', 'flood_impacted'], inplace = True)"
   ]
  },
  {
   "cell_type": "code",
   "execution_count": 21,
   "id": "4ada05bb",
   "metadata": {},
   "outputs": [],
   "source": [
    "def remove_outliers(df):\n",
    "    num_df = df.select_dtypes(include=['int', 'float'])\n",
    "    q1 = num_df.quantile(0.25)\n",
    "    q3 = num_df.quantile(0.75)\n",
    "    iqr = q3 - q1\n",
    "    lower = q1 - 1.5*iqr\n",
    "    upper = q3 + 1.5*iqr\n",
    "    df_no_outliers = num_df[((num_df >= lower) & (num_df <= upper)).all(axis=1)]\n",
    "    return df.loc[df_no_outliers.index]"
   ]
  },
  {
   "cell_type": "code",
   "execution_count": 22,
   "id": "302c689e",
   "metadata": {},
   "outputs": [
    {
     "data": {
      "text/plain": [
       "(161071, 20)"
      ]
     },
     "execution_count": 22,
     "metadata": {},
     "output_type": "execute_result"
    }
   ],
   "source": [
    "df = remove_outliers(df)\n",
    "df.shape"
   ]
  },
  {
   "cell_type": "code",
   "execution_count": 23,
   "id": "907d12f9",
   "metadata": {},
   "outputs": [
    {
     "data": {
      "text/plain": [
       "product_wg_ton                  65179\n",
       "WH_Manager_ID                   25000\n",
       "Ware_house_ID                   25000\n",
       "No_of_retailers                  9068\n",
       "dist_from_hub                     217\n",
       "Number_of_distributors            138\n",
       "workers_num                       122\n",
       "storage_issue_reported             73\n",
       "govt_check                         70\n",
       "wh_breakdown                       47\n",
       "wh_est_year                        28\n",
       "Refill_Requests                    27\n",
       "transport_issue                    23\n",
       "No_of_Competitor                   23\n",
       "Date                               14\n",
       "approved_wh_govt_certificate        6\n",
       "WH_regional_zone                    6\n",
       "zone                                4\n",
       "WH_capacity_size                    3\n",
       "Location_type                       2\n",
       "flood_proof                         2\n",
       "flood_impacted                      2\n",
       "temp_reg_mach                       2\n",
       "Warehouse_Ownership                 2\n",
       "electric_supply                     2\n",
       "dtype: int64"
      ]
     },
     "execution_count": 23,
     "metadata": {},
     "output_type": "execute_result"
    }
   ],
   "source": [
    "df_test.nunique().sort_values(ascending=False)"
   ]
  },
  {
   "cell_type": "code",
   "execution_count": 24,
   "id": "493834c5",
   "metadata": {},
   "outputs": [],
   "source": [
    "df_test.drop(columns=['Ware_house_ID', 'WH_Manager_ID'], inplace = True)"
   ]
  },
  {
   "cell_type": "code",
   "execution_count": 25,
   "id": "d2b90ab0",
   "metadata": {},
   "outputs": [
    {
     "name": "stdout",
     "output_type": "stream",
     "text": [
      "0\n"
     ]
    }
   ],
   "source": [
    "print(len(df_test[df_test.duplicated]))"
   ]
  },
  {
   "cell_type": "code",
   "execution_count": 26,
   "id": "6f34b8c8",
   "metadata": {},
   "outputs": [
    {
     "name": "stdout",
     "output_type": "stream",
     "text": [
      "workers_num 0.28 % missing values\n",
      "wh_est_year 47.52 % missing values\n",
      "approved_wh_govt_certificate 3.63 % missing values\n"
     ]
    }
   ],
   "source": [
    "# print percentage of null values in each column\n",
    "\n",
    "null_values_features = [i for i in df_test.columns if df_test[i].isnull().sum()>1]\n",
    "for i in null_values_features:\n",
    "    print(i, np.round(df_test[i].isnull().mean()*100, 2), \"% missing values\")"
   ]
  },
  {
   "cell_type": "code",
   "execution_count": 27,
   "id": "e17113e2",
   "metadata": {},
   "outputs": [],
   "source": [
    "\n",
    "df_test.drop(columns=['wh_est_year'], inplace = True)"
   ]
  },
  {
   "cell_type": "code",
   "execution_count": 28,
   "id": "07355b39",
   "metadata": {},
   "outputs": [
    {
     "data": {
      "text/plain": [
       "37.0"
      ]
     },
     "execution_count": 28,
     "metadata": {},
     "output_type": "execute_result"
    }
   ],
   "source": [
    "df_test['workers_num'].median()"
   ]
  },
  {
   "cell_type": "code",
   "execution_count": 29,
   "id": "c8592d3c",
   "metadata": {},
   "outputs": [],
   "source": [
    "df_test['workers_num'].fillna(df_test['workers_num'].median(), inplace=True)"
   ]
  },
  {
   "cell_type": "code",
   "execution_count": 30,
   "id": "d552b8fa",
   "metadata": {},
   "outputs": [
    {
     "data": {
      "text/plain": [
       "0    C\n",
       "Name: approved_wh_govt_certificate, dtype: object"
      ]
     },
     "execution_count": 30,
     "metadata": {},
     "output_type": "execute_result"
    }
   ],
   "source": [
    "df_test['approved_wh_govt_certificate'].mode()"
   ]
  },
  {
   "cell_type": "code",
   "execution_count": 31,
   "id": "e0b41ffb",
   "metadata": {},
   "outputs": [],
   "source": [
    "df_test['approved_wh_govt_certificate'].fillna(df_test['approved_wh_govt_certificate'].mode()[0], inplace=True)"
   ]
  },
  {
   "cell_type": "code",
   "execution_count": 32,
   "id": "91dfd5d1",
   "metadata": {},
   "outputs": [
    {
     "data": {
      "text/plain": [
       "Date                            0\n",
       "Location_type                   0\n",
       "WH_capacity_size                0\n",
       "zone                            0\n",
       "WH_regional_zone                0\n",
       "Refill_Requests                 0\n",
       "transport_issue                 0\n",
       "No_of_Competitor                0\n",
       "No_of_retailers                 0\n",
       "Warehouse_Ownership             0\n",
       "Number_of_distributors          0\n",
       "flood_impacted                  0\n",
       "flood_proof                     0\n",
       "electric_supply                 0\n",
       "dist_from_hub                   0\n",
       "workers_num                     0\n",
       "storage_issue_reported          0\n",
       "temp_reg_mach                   1\n",
       "approved_wh_govt_certificate    0\n",
       "wh_breakdown                    1\n",
       "govt_check                      1\n",
       "product_wg_ton                  1\n",
       "dtype: int64"
      ]
     },
     "execution_count": 32,
     "metadata": {},
     "output_type": "execute_result"
    }
   ],
   "source": [
    "df_test.isnull().sum()"
   ]
  },
  {
   "cell_type": "code",
   "execution_count": 33,
   "id": "e899f0b4",
   "metadata": {},
   "outputs": [
    {
     "data": {
      "text/plain": [
       "temp_reg_mach                       2\n",
       "Location_type                       2\n",
       "electric_supply                     2\n",
       "flood_proof                         2\n",
       "flood_impacted                      2\n",
       "Warehouse_Ownership                 2\n",
       "WH_capacity_size                    3\n",
       "zone                                4\n",
       "WH_regional_zone                    6\n",
       "approved_wh_govt_certificate        6\n",
       "Date                               14\n",
       "No_of_Competitor                   23\n",
       "transport_issue                    23\n",
       "Refill_Requests                    27\n",
       "wh_breakdown                       47\n",
       "govt_check                         70\n",
       "storage_issue_reported             73\n",
       "workers_num                       122\n",
       "Number_of_distributors            138\n",
       "dist_from_hub                     217\n",
       "No_of_retailers                  9068\n",
       "product_wg_ton                  65179\n",
       "dtype: int64"
      ]
     },
     "execution_count": 33,
     "metadata": {},
     "output_type": "execute_result"
    }
   ],
   "source": [
    "df_test.nunique().sort_values(ascending= True)"
   ]
  },
  {
   "cell_type": "code",
   "execution_count": 34,
   "id": "6bad386c",
   "metadata": {},
   "outputs": [
    {
     "name": "stdout",
     "output_type": "stream",
     "text": [
      "Number of unique values in column  Location_type  : 2\n",
      "Location_type\n",
      "Rural    321398\n",
      "Urban     28603\n",
      "Name: count, dtype: int64\n",
      " \n",
      "Number of unique values in column  WH_capacity_size  : 3\n",
      "WH_capacity_size\n",
      "Large    142366\n",
      "Mid      140280\n",
      "Small     67355\n",
      "Name: count, dtype: int64\n",
      " \n",
      "Number of unique values in column  zone  : 4\n",
      "zone\n",
      "North    143892\n",
      "West     111035\n",
      "South     89068\n",
      "East       6006\n",
      "Name: count, dtype: int64\n",
      " \n",
      "Number of unique values in column  Warehouse_Ownership  : 2\n",
      "Warehouse_Ownership\n",
      "Company Owned    190092\n",
      "Rented           159909\n",
      "Name: count, dtype: int64\n",
      " \n",
      "Number of unique values in column  flood_impacted  : 2\n",
      "flood_impacted\n",
      "0    315645\n",
      "1     34356\n",
      "Name: count, dtype: int64\n",
      " \n",
      "Number of unique values in column  flood_proof  : 2\n",
      "flood_proof\n",
      "0    330876\n",
      "1     19125\n",
      "Name: count, dtype: int64\n",
      " \n",
      "Number of unique values in column  electric_supply  : 2\n",
      "electric_supply\n",
      "1    229909\n",
      "0    120092\n",
      "Name: count, dtype: int64\n",
      " \n",
      "Number of unique values in column  temp_reg_mach  : 3\n",
      "temp_reg_mach\n",
      "0.0    243852\n",
      "1.0    106148\n",
      "Name: count, dtype: int64\n",
      " \n"
     ]
    }
   ],
   "source": [
    "for i in df_test.columns[df_test.nunique()<=4]:\n",
    "    print(\"Number of unique values in column \", i, ' :', len(df_test[i].unique()))\n",
    "    print(df_test[i].value_counts())\n",
    "    print(' ')"
   ]
  },
  {
   "cell_type": "code",
   "execution_count": null,
   "id": "ac67436d",
   "metadata": {},
   "outputs": [],
   "source": []
  },
  {
   "cell_type": "code",
   "execution_count": 35,
   "id": "69c66068",
   "metadata": {},
   "outputs": [
    {
     "data": {
      "text/plain": [
       "0.6887753290004746"
      ]
     },
     "execution_count": 35,
     "metadata": {},
     "output_type": "execute_result"
    }
   ],
   "source": [
    "df_test['product_wg_ton'].corr(df_test['storage_issue_reported'])"
   ]
  },
  {
   "cell_type": "code",
   "execution_count": 36,
   "id": "c4ac0402",
   "metadata": {},
   "outputs": [],
   "source": [
    "df_test.drop(columns=['flood_proof', 'flood_impacted'], inplace = True)"
   ]
  },
  {
   "cell_type": "code",
   "execution_count": 37,
   "id": "43fd70b5",
   "metadata": {},
   "outputs": [],
   "source": [
    "def remove_outliers(df_test):\n",
    "    num_df = df_test.select_dtypes(include=['int', 'float'])\n",
    "    q1 = num_df.quantile(0.25)\n",
    "    q3 = num_df.quantile(0.75)\n",
    "    iqr = q3 - q1\n",
    "    lower = q1 - 1.5*iqr\n",
    "    upper = q3 + 1.5*iqr\n",
    "    df_no_outliers = num_df[((num_df >= lower) & (num_df <= upper)).all(axis=1)]\n",
    "    return df_test.loc[df_no_outliers.index]"
   ]
  },
  {
   "cell_type": "code",
   "execution_count": 38,
   "id": "4a49b5d3",
   "metadata": {},
   "outputs": [],
   "source": [
    "df_test = remove_outliers(df_test)"
   ]
  },
  {
   "cell_type": "code",
   "execution_count": 39,
   "id": "dffe2b1b",
   "metadata": {},
   "outputs": [
    {
     "data": {
      "text/plain": [
       "(308322, 20)"
      ]
     },
     "execution_count": 39,
     "metadata": {},
     "output_type": "execute_result"
    }
   ],
   "source": [
    "df_test.shape"
   ]
  },
  {
   "cell_type": "code",
   "execution_count": 40,
   "id": "63d08bf3",
   "metadata": {},
   "outputs": [
    {
     "data": {
      "text/plain": [
       "Index(['Date', 'Location_type', 'WH_capacity_size', 'zone', 'WH_regional_zone',\n",
       "       'Refill_Requests', 'transport_issue', 'No_of_Competitor',\n",
       "       'No_of_retailers', 'Warehouse_Ownership', 'Number_of_distributors',\n",
       "       'electric_supply', 'dist_from_hub', 'workers_num',\n",
       "       'storage_issue_reported', 'temp_reg_mach',\n",
       "       'approved_wh_govt_certificate', 'wh_breakdown', 'govt_check',\n",
       "       'product_wg_ton'],\n",
       "      dtype='object')"
      ]
     },
     "execution_count": 40,
     "metadata": {},
     "output_type": "execute_result"
    }
   ],
   "source": [
    "df_test.columns"
   ]
  },
  {
   "cell_type": "code",
   "execution_count": 41,
   "id": "e68450fb",
   "metadata": {},
   "outputs": [],
   "source": [
    "# Numerical columns & categorical columns in train dataset\n",
    "\n",
    "num_columns_train=[i for i in df.columns if df[i].dtypes != 'O']\n",
    "cat_columns_train=[i for i in df.columns if df[i].dtypes == 'O']\n",
    "\n",
    "# Numerical columns & categorical columns in test dataset\n",
    "\n",
    "num_columns_test=[i for i in df_test.columns if df_test[i].dtypes != 'O']\n",
    "cat_columns_test=[i for i in df_test.columns if df_test[i].dtypes == 'O']\n"
   ]
  },
  {
   "cell_type": "code",
   "execution_count": 42,
   "id": "933664e4",
   "metadata": {},
   "outputs": [],
   "source": [
    "for i in cat_columns_train:\n",
    "    df[i] = LabelEncoder().fit_transform(df[i])\n",
    "\n",
    "for i in cat_columns_test:\n",
    "    df_test[i] = LabelEncoder().fit_transform(df_test[i])"
   ]
  },
  {
   "cell_type": "code",
   "execution_count": 43,
   "id": "c3a60c07",
   "metadata": {},
   "outputs": [
    {
     "data": {
      "text/plain": [
       "product_wg_ton                  54049\n",
       "No_of_retailers                  6267\n",
       "dist_from_hub                     217\n",
       "Number_of_distributors            115\n",
       "govt_check                         63\n",
       "workers_num                        60\n",
       "storage_issue_reported             57\n",
       "wh_breakdown                       38\n",
       "wh_est_year                        28\n",
       "Refill_Requests                    15\n",
       "transport_issue                    11\n",
       "No_of_Competitor                   10\n",
       "approved_wh_govt_certificate        6\n",
       "WH_regional_zone                    6\n",
       "zone                                4\n",
       "WH_capacity_size                    3\n",
       "Location_type                       2\n",
       "temp_reg_mach                       2\n",
       "Warehouse_Ownership                 2\n",
       "electric_supply                     2\n",
       "dtype: int64"
      ]
     },
     "execution_count": 43,
     "metadata": {},
     "output_type": "execute_result"
    }
   ],
   "source": [
    "# display number of unique values in each column\n",
    "df.nunique().sort_values(ascending=False)"
   ]
  },
  {
   "cell_type": "code",
   "execution_count": 44,
   "id": "7af2be9c",
   "metadata": {},
   "outputs": [],
   "source": [
    "columns_with_more_than_two_unique_values_train = df.columns[df.nunique()>2]"
   ]
  },
  {
   "cell_type": "code",
   "execution_count": 45,
   "id": "03eb817b",
   "metadata": {},
   "outputs": [],
   "source": [
    "columns_with_more_than_two_unique_values_test = df_test.columns[df_test.nunique()>2]"
   ]
  },
  {
   "cell_type": "code",
   "execution_count": null,
   "id": "df92a9da",
   "metadata": {},
   "outputs": [],
   "source": []
  },
  {
   "cell_type": "code",
   "execution_count": null,
   "id": "2f392eda",
   "metadata": {},
   "outputs": [],
   "source": []
  },
  {
   "cell_type": "code",
   "execution_count": null,
   "id": "45b15f95",
   "metadata": {},
   "outputs": [],
   "source": []
  },
  {
   "cell_type": "code",
   "execution_count": null,
   "id": "23bca15d",
   "metadata": {},
   "outputs": [],
   "source": []
  },
  {
   "cell_type": "code",
   "execution_count": null,
   "id": "5f5ac314",
   "metadata": {},
   "outputs": [],
   "source": []
  },
  {
   "cell_type": "code",
   "execution_count": null,
   "id": "f4852690",
   "metadata": {},
   "outputs": [],
   "source": []
  }
 ],
 "metadata": {
  "kernelspec": {
   "display_name": "Python 3",
   "language": "python",
   "name": "python3"
  },
  "language_info": {
   "codemirror_mode": {
    "name": "ipython",
    "version": 3
   },
   "file_extension": ".py",
   "mimetype": "text/x-python",
   "name": "python",
   "nbconvert_exporter": "python",
   "pygments_lexer": "ipython3",
   "version": "3.8.19"
  }
 },
 "nbformat": 4,
 "nbformat_minor": 5
}
