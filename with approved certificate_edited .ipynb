{
 "cells": [
  {
   "cell_type": "code",
   "execution_count": null,
   "id": "c2fc81f1",
   "metadata": {},
   "outputs": [],
   "source": [
    "import pandas as pd\n",
    "import numpy as np\n",
    "\n",
    "import matplotlib.pyplot as plt\n",
    "%matplotlib inline\n",
    "#import seaborn as sns\n",
    "\n",
    "\n",
    "from sklearn.preprocessing import LabelEncoder, StandardScaler\n",
    "\n",
    "from sklearn.linear_model import LinearRegression\n",
    "from sklearn.tree import DecisionTreeRegressor\n",
    "from sklearn.ensemble import RandomForestRegressor, GradientBoostingRegressor\n",
    "from sklearn.svm import SVR\n",
    "\n",
    "from sklearn.metrics import mean_squared_error, r2_score, mean_absolute_error"
   ]
  },
  {
   "cell_type": "code",
   "execution_count": null,
   "id": "42a81458",
   "metadata": {},
   "outputs": [],
   "source": [
    "import warnings\n",
    "warnings.simplefilter(action='ignore')"
   ]
  },
  {
   "cell_type": "code",
   "execution_count": null,
   "id": "1942b030",
   "metadata": {},
   "outputs": [],
   "source": [
    "# train dataset\n",
    "df = pd.read_csv(\"FMCG_data.csv\")\n",
    "\n",
    "# test dataset\n",
    "df_test = pd.read_csv(\"FMCG_data.csv\")"
   ]
  },
  {
   "cell_type": "code",
   "execution_count": null,
   "id": "6c0fedc0",
   "metadata": {},
   "outputs": [],
   "source": [
    "df"
   ]
  },
  {
   "cell_type": "code",
   "execution_count": null,
   "id": "2c0c6b22",
   "metadata": {},
   "outputs": [],
   "source": []
  },
  {
   "cell_type": "code",
   "execution_count": null,
   "id": "cbc77113",
   "metadata": {},
   "outputs": [],
   "source": [
    "\n",
    "df.nunique().sort_values(ascending=False)"
   ]
  },
  {
   "cell_type": "code",
   "execution_count": null,
   "id": "ef38c560",
   "metadata": {},
   "outputs": [],
   "source": [
    "df.drop(columns=['Ware_house_ID','WH_Manager_ID','Date'], inplace = True)"
   ]
  },
  {
   "cell_type": "code",
   "execution_count": null,
   "id": "7a6c3bd0",
   "metadata": {},
   "outputs": [],
   "source": [
    "df['workers_num'].median()"
   ]
  },
  {
   "cell_type": "code",
   "execution_count": null,
   "id": "123c491a",
   "metadata": {},
   "outputs": [],
   "source": [
    "df['approved_wh_govt_certificate'].mode()"
   ]
  },
  {
   "cell_type": "code",
   "execution_count": null,
   "id": "fe39b9e1",
   "metadata": {},
   "outputs": [],
   "source": [
    "df['approved_wh_govt_certificate'].fillna(df['approved_wh_govt_certificate'].mode()[0], inplace=True)"
   ]
  },
  {
   "cell_type": "code",
   "execution_count": null,
   "id": "81285f8c",
   "metadata": {},
   "outputs": [],
   "source": [
    "df.isnull().sum()"
   ]
  },
  {
   "cell_type": "code",
   "execution_count": null,
   "id": "a667fafb",
   "metadata": {},
   "outputs": [],
   "source": [
    "df.nunique().sort_values(ascending= True)"
   ]
  },
  {
   "cell_type": "code",
   "execution_count": null,
   "id": "0e92f2f1",
   "metadata": {},
   "outputs": [],
   "source": [
    "for i in df.columns[df.nunique()<=4]:\n",
    "    print(\"Number of unique values in column \", i, ' :', len(df[i].unique()))\n",
    "    print(df[i].value_counts())\n",
    "    print(' ')"
   ]
  },
  {
   "cell_type": "code",
   "execution_count": null,
   "id": "dc0c3301",
   "metadata": {},
   "outputs": [],
   "source": [
    "def count_outliers(df):\n",
    "    outliers={}\n",
    "    for i in df.columns:\n",
    "        if pd.api.types.is_numeric_dtype(df[i]):\n",
    "            q1 = df[i].quantile(0.25)\n",
    "            q3 = df[i].quantile(0.75)\n",
    "            iqr = q3 - q1\n",
    "            lower = q1 - 1.5*iqr\n",
    "            upper = q3 + 1.5*iqr\n",
    "            outliers[i] = df[(df[i] < lower) | (df[i] > upper)].shape[0]\n",
    "        else:\n",
    "            pass\n",
    "    return outliers"
   ]
  },
  {
   "cell_type": "code",
   "execution_count": null,
   "id": "d57c84cd",
   "metadata": {},
   "outputs": [],
   "source": [
    "outlier_counts = count_outliers(df)\n",
    "outlier_counts"
   ]
  },
  {
   "cell_type": "code",
   "execution_count": null,
   "id": "f08a47c8",
   "metadata": {},
   "outputs": [],
   "source": [
    "df['product_wg_ton'].corr(df['flood_proof'])"
   ]
  },
  {
   "cell_type": "code",
   "execution_count": null,
   "id": "f6d5f979",
   "metadata": {},
   "outputs": [],
   "source": [
    "df['product_wg_ton'].corr(df['flood_impacted'])"
   ]
  },
  {
   "cell_type": "code",
   "execution_count": null,
   "id": "dcafac9f",
   "metadata": {},
   "outputs": [],
   "source": [
    "df.drop(columns=['flood_proof', 'flood_impacted'], inplace = True)"
   ]
  },
  {
   "cell_type": "code",
   "execution_count": null,
   "id": "2df62b8e",
   "metadata": {},
   "outputs": [],
   "source": [
    "def remove_outliers(df):\n",
    "    num_df = df.select_dtypes(include=['int', 'float'])\n",
    "    q1 = num_df.quantile(0.25)\n",
    "    q3 = num_df.quantile(0.75)\n",
    "    iqr = q3 - q1\n",
    "    lower = q1 - 1.5*iqr\n",
    "    upper = q3 + 1.5*iqr\n",
    "    df_no_outliers = num_df[((num_df >= lower) & (num_df <= upper)).all(axis=1)]\n",
    "    return df.loc[df_no_outliers.index]"
   ]
  },
  {
   "cell_type": "code",
   "execution_count": null,
   "id": "e8ed7dfc",
   "metadata": {},
   "outputs": [],
   "source": [
    "df = remove_outliers(df)\n",
    "df.shape"
   ]
  },
  {
   "cell_type": "code",
   "execution_count": null,
   "id": "774fbf90",
   "metadata": {},
   "outputs": [],
   "source": [
    "df_test.nunique().sort_values(ascending=False)"
   ]
  },
  {
   "cell_type": "code",
   "execution_count": null,
   "id": "b64ef82b",
   "metadata": {},
   "outputs": [],
   "source": [
    "df_test.drop(columns=['Ware_house_ID', 'WH_Manager_ID'], inplace = True)"
   ]
  },
  {
   "cell_type": "code",
   "execution_count": null,
   "id": "a09bb462",
   "metadata": {},
   "outputs": [],
   "source": [
    "print(len(df_test[df_test.duplicated]))"
   ]
  },
  {
   "cell_type": "code",
   "execution_count": null,
   "id": "05316142",
   "metadata": {},
   "outputs": [],
   "source": [
    "# print percentage of null values in each column\n",
    "\n",
    "null_values_features = [i for i in df_test.columns if df_test[i].isnull().sum()>1]\n",
    "for i in null_values_features:\n",
    "    print(i, np.round(df_test[i].isnull().mean()*100, 2), \"% missing values\")"
   ]
  },
  {
   "cell_type": "code",
   "execution_count": null,
   "id": "c1cc8134",
   "metadata": {},
   "outputs": [],
   "source": [
    "\n",
    "df_test.drop(columns=['wh_est_year'], inplace = True)"
   ]
  },
  {
   "cell_type": "code",
   "execution_count": null,
   "id": "e296a1ca",
   "metadata": {},
   "outputs": [],
   "source": [
    "df_test['workers_num'].median()"
   ]
  },
  {
   "cell_type": "code",
   "execution_count": null,
   "id": "abbf8ab4",
   "metadata": {},
   "outputs": [],
   "source": [
    "df_test['workers_num'].fillna(df_test['workers_num'].median(), inplace=True)"
   ]
  },
  {
   "cell_type": "code",
   "execution_count": null,
   "id": "5b732703",
   "metadata": {},
   "outputs": [],
   "source": [
    "df_test['approved_wh_govt_certificate'].mode()"
   ]
  },
  {
   "cell_type": "code",
   "execution_count": null,
   "id": "0cf74fe0",
   "metadata": {},
   "outputs": [],
   "source": [
    "df_test['approved_wh_govt_certificate'].fillna(df_test['approved_wh_govt_certificate'].mode()[0], inplace=True)"
   ]
  },
  {
   "cell_type": "code",
   "execution_count": null,
   "id": "fb4c8d41",
   "metadata": {},
   "outputs": [],
   "source": [
    "df_test.isnull().sum()"
   ]
  },
  {
   "cell_type": "code",
   "execution_count": null,
   "id": "ecdad2b0",
   "metadata": {},
   "outputs": [],
   "source": [
    "df_test.nunique().sort_values(ascending= True)"
   ]
  },
  {
   "cell_type": "code",
   "execution_count": null,
   "id": "beddf4fd",
   "metadata": {},
   "outputs": [],
   "source": [
    "for i in df_test.columns[df_test.nunique()<=4]:\n",
    "    print(\"Number of unique values in column \", i, ' :', len(df_test[i].unique()))\n",
    "    print(df_test[i].value_counts())\n",
    "    print(' ')"
   ]
  },
  {
   "cell_type": "code",
   "execution_count": null,
   "id": "8ea5a51b",
   "metadata": {},
   "outputs": [],
   "source": []
  },
  {
   "cell_type": "code",
   "execution_count": null,
   "id": "6f9b22de",
   "metadata": {},
   "outputs": [],
   "source": [
    "df_test['product_wg_ton'].corr(df_test['storage_issue_reported'])"
   ]
  },
  {
   "cell_type": "code",
   "execution_count": null,
   "id": "23b26a36",
   "metadata": {},
   "outputs": [],
   "source": [
    "df_test.drop(columns=['flood_proof', 'flood_impacted'], inplace = True)"
   ]
  },
  {
   "cell_type": "code",
   "execution_count": null,
   "id": "ae0e829a",
   "metadata": {},
   "outputs": [],
   "source": [
    "def remove_outliers(df_test):\n",
    "    num_df = df_test.select_dtypes(include=['int', 'float'])\n",
    "    q1 = num_df.quantile(0.25)\n",
    "    q3 = num_df.quantile(0.75)\n",
    "    iqr = q3 - q1\n",
    "    lower = q1 - 1.5*iqr\n",
    "    upper = q3 + 1.5*iqr\n",
    "    df_no_outliers = num_df[((num_df >= lower) & (num_df <= upper)).all(axis=1)]\n",
    "    return df_test.loc[df_no_outliers.index]"
   ]
  },
  {
   "cell_type": "code",
   "execution_count": null,
   "id": "aeae091a",
   "metadata": {},
   "outputs": [],
   "source": [
    "df_test = remove_outliers(df_test)"
   ]
  },
  {
   "cell_type": "code",
   "execution_count": null,
   "id": "00a12530",
   "metadata": {},
   "outputs": [],
   "source": [
    "df_test.shape"
   ]
  },
  {
   "cell_type": "code",
   "execution_count": null,
   "id": "b80b6393",
   "metadata": {},
   "outputs": [],
   "source": [
    "df_test.columns"
   ]
  },
  {
   "cell_type": "code",
   "execution_count": null,
   "id": "33cc084c",
   "metadata": {},
   "outputs": [],
   "source": [
    "# Numerical columns & categorical columns in train dataset\n",
    "\n",
    "num_columns_train=[i for i in df.columns if df[i].dtypes != 'O']\n",
    "cat_columns_train=[i for i in df.columns if df[i].dtypes == 'O']\n",
    "\n",
    "# Numerical columns & categorical columns in test dataset\n",
    "\n",
    "num_columns_test=[i for i in df_test.columns if df_test[i].dtypes != 'O']\n",
    "cat_columns_test=[i for i in df_test.columns if df_test[i].dtypes == 'O']\n"
   ]
  },
  {
   "cell_type": "code",
   "execution_count": null,
   "id": "ea95716b",
   "metadata": {},
   "outputs": [],
   "source": [
    "for i in cat_columns_train:\n",
    "    df[i] = LabelEncoder().fit_transform(df[i])\n",
    "\n",
    "for i in cat_columns_test:\n",
    "    df_test[i] = LabelEncoder().fit_transform(df_test[i])"
   ]
  },
  {
   "cell_type": "code",
   "execution_count": null,
   "id": "42724175",
   "metadata": {},
   "outputs": [],
   "source": [
    "# display number of unique values in each column\n",
    "df.nunique().sort_values(ascending=False)"
   ]
  },
  {
   "cell_type": "code",
   "execution_count": null,
   "id": "0136ad84",
   "metadata": {},
   "outputs": [],
   "source": [
    "columns_with_more_than_two_unique_values_train = df.columns[df.nunique()>2]"
   ]
  },
  {
   "cell_type": "code",
   "execution_count": null,
   "id": "a2a61e46",
   "metadata": {},
   "outputs": [],
   "source": [
    "columns_with_more_than_two_unique_values_test = df_test.columns[df_test.nunique()>2]"
   ]
  },
  {
   "cell_type": "code",
   "execution_count": null,
   "id": "8621fd45",
   "metadata": {},
   "outputs": [],
   "source": []
  },
  {
   "cell_type": "code",
   "execution_count": null,
   "id": "37e8e276",
   "metadata": {},
   "outputs": [],
   "source": [
    "\n",
    "X_train = df.drop(['product_wg_ton','wh_est_year', 'WH_regional_zone'], axis=1)\n",
    "Y_train = df['product_wg_ton']\n",
    "Y_train"
   ]
  },
  {
   "cell_type": "code",
   "execution_count": null,
   "id": "19bad8cc",
   "metadata": {},
   "outputs": [],
   "source": [
    "X_train.head()"
   ]
  },
  {
   "cell_type": "code",
   "execution_count": null,
   "id": "5bacaa75",
   "metadata": {},
   "outputs": [],
   "source": [
    "Y_train "
   ]
  },
  {
   "cell_type": "code",
   "execution_count": null,
   "id": "cecb1404",
   "metadata": {},
   "outputs": [],
   "source": [
    "X_test = df_test.drop(['product_wg_ton','WH_regional_zone','Date'], axis=1)\n",
    "X_test.head()\n",
    "\n",
    "#df_test"
   ]
  },
  {
   "cell_type": "code",
   "execution_count": null,
   "id": "7814569f",
   "metadata": {},
   "outputs": [],
   "source": [
    "df_test"
   ]
  },
  {
   "cell_type": "code",
   "execution_count": null,
   "id": "815eb875",
   "metadata": {},
   "outputs": [],
   "source": [
    "Y_test = df_test['product_wg_ton']\n",
    "Y_test.head()"
   ]
  },
  {
   "cell_type": "code",
   "execution_count": null,
   "id": "491e7a43",
   "metadata": {},
   "outputs": [],
   "source": [
    "LRmodel = LinearRegression()"
   ]
  },
  {
   "cell_type": "code",
   "execution_count": null,
   "id": "83630f7c",
   "metadata": {},
   "outputs": [],
   "source": [
    "\n",
    "LRmodel.fit(X_train, Y_train)"
   ]
  },
  {
   "cell_type": "code",
   "execution_count": null,
   "id": "e4ae5046",
   "metadata": {},
   "outputs": [],
   "source": [
    "LR_predicted = LRmodel.predict(X_test)"
   ]
  },
  {
   "cell_type": "code",
   "execution_count": null,
   "id": "1fd6672f",
   "metadata": {},
   "outputs": [],
   "source": [
    "LR_predicted"
   ]
  },
  {
   "cell_type": "code",
   "execution_count": null,
   "id": "1fb9588c",
   "metadata": {},
   "outputs": [],
   "source": [
    "LR_predicted.shape"
   ]
  },
  {
   "cell_type": "code",
   "execution_count": null,
   "id": "67c7648b",
   "metadata": {},
   "outputs": [],
   "source": [
    "X_test.shape"
   ]
  },
  {
   "cell_type": "code",
   "execution_count": null,
   "id": "a77a4eee",
   "metadata": {},
   "outputs": [],
   "source": [
    "predictions_1 = pd.DataFrame(LR_predicted, columns =['product_wg_ton_pred']) \n",
    "predictions_1"
   ]
  },
  {
   "cell_type": "code",
   "execution_count": null,
   "id": "73e5c05f",
   "metadata": {},
   "outputs": [],
   "source": [
    "Y_train"
   ]
  },
  {
   "cell_type": "code",
   "execution_count": null,
   "id": "78bf4d1d",
   "metadata": {},
   "outputs": [],
   "source": [
    "predictions_1.to_csv('predictions_1.csv', index=False)\n"
   ]
  },
  {
   "cell_type": "code",
   "execution_count": null,
   "id": "758e0fac",
   "metadata": {},
   "outputs": [],
   "source": [
    "X_test"
   ]
  },
  {
   "cell_type": "code",
   "execution_count": null,
   "id": "da477207",
   "metadata": {},
   "outputs": [],
   "source": [
    "df_test.to_csv('df_test.csv', index=False)"
   ]
  },
  {
   "cell_type": "code",
   "execution_count": null,
   "id": "8225dab6",
   "metadata": {},
   "outputs": [],
   "source": [
    "X_test.to_csv('X_test.csv', index=False)"
   ]
  },
  {
   "cell_type": "code",
   "execution_count": null,
   "id": "61b63f4d",
   "metadata": {},
   "outputs": [],
   "source": [
    "df_merged = pd.concat([df_test, predictions_1], ignore_index=True, sort=False)\n",
    "df_merged.head()"
   ]
  },
  {
   "cell_type": "code",
   "execution_count": null,
   "id": "7c8be744",
   "metadata": {},
   "outputs": [],
   "source": []
  },
  {
   "cell_type": "code",
   "execution_count": null,
   "id": "ae680ae0",
   "metadata": {},
   "outputs": [],
   "source": [
    "df2 = pd.read_csv(\"WH_opt_pred.csv\")"
   ]
  },
  {
   "cell_type": "code",
   "execution_count": null,
   "id": "62b1fa47",
   "metadata": {},
   "outputs": [],
   "source": [
    "df2\n"
   ]
  },
  {
   "cell_type": "code",
   "execution_count": null,
   "id": "7009ecf4",
   "metadata": {},
   "outputs": [],
   "source": []
  },
  {
   "cell_type": "code",
   "execution_count": null,
   "id": "d9bdfd29",
   "metadata": {},
   "outputs": [],
   "source": [
    "# with changes in Location and approved certificates "
   ]
  },
  {
   "cell_type": "code",
   "execution_count": 1,
   "id": "6d3e3e2e",
   "metadata": {},
   "outputs": [],
   "source": [
    "import pandas as pd"
   ]
  },
  {
   "cell_type": "code",
   "execution_count": 2,
   "id": "3f25a032",
   "metadata": {},
   "outputs": [],
   "source": [
    "df = pd.read_csv(\"FMCG_data.csv\")\n",
    "\n",
    "# test dataset\n",
    "df_test = pd.read_csv(\"FMCG_data.csv\")\n"
   ]
  },
  {
   "cell_type": "code",
   "execution_count": null,
   "id": "1063af68",
   "metadata": {},
   "outputs": [],
   "source": []
  },
  {
   "cell_type": "code",
   "execution_count": null,
   "id": "c29694e5",
   "metadata": {},
   "outputs": [],
   "source": []
  },
  {
   "cell_type": "code",
   "execution_count": 3,
   "id": "f8c18c3f",
   "metadata": {},
   "outputs": [],
   "source": [
    "df_n = pd.read_csv(\"df_test1_pred.csv\")"
   ]
  },
  {
   "cell_type": "code",
   "execution_count": 4,
   "id": "3509f45c",
   "metadata": {},
   "outputs": [
    {
     "data": {
      "text/html": [
       "<div>\n",
       "<style scoped>\n",
       "    .dataframe tbody tr th:only-of-type {\n",
       "        vertical-align: middle;\n",
       "    }\n",
       "\n",
       "    .dataframe tbody tr th {\n",
       "        vertical-align: top;\n",
       "    }\n",
       "\n",
       "    .dataframe thead th {\n",
       "        text-align: right;\n",
       "    }\n",
       "</style>\n",
       "<table border=\"1\" class=\"dataframe\">\n",
       "  <thead>\n",
       "    <tr style=\"text-align: right;\">\n",
       "      <th></th>\n",
       "      <th>Date</th>\n",
       "      <th>Location_type</th>\n",
       "      <th>WH_capacity_size</th>\n",
       "      <th>zone</th>\n",
       "      <th>WH_regional_zone</th>\n",
       "      <th>Refill_Requests</th>\n",
       "      <th>transport_issue</th>\n",
       "      <th>No_of_Competitor</th>\n",
       "      <th>No_of_retailers</th>\n",
       "      <th>Warehouse_Ownership</th>\n",
       "      <th>...</th>\n",
       "      <th>electric_supply</th>\n",
       "      <th>dist_from_hub</th>\n",
       "      <th>workers_num</th>\n",
       "      <th>storage_issue_reported</th>\n",
       "      <th>temp_reg_mach</th>\n",
       "      <th>approved_wh_govt_certificate</th>\n",
       "      <th>wh_breakdown</th>\n",
       "      <th>govt_check</th>\n",
       "      <th>product_wg_ton</th>\n",
       "      <th>product_wg_ton_pred1</th>\n",
       "    </tr>\n",
       "  </thead>\n",
       "  <tbody>\n",
       "    <tr>\n",
       "      <th>0</th>\n",
       "      <td>0</td>\n",
       "      <td>1</td>\n",
       "      <td>2</td>\n",
       "      <td>3</td>\n",
       "      <td>5</td>\n",
       "      <td>3</td>\n",
       "      <td>1</td>\n",
       "      <td>2</td>\n",
       "      <td>4651</td>\n",
       "      <td>1</td>\n",
       "      <td>...</td>\n",
       "      <td>1</td>\n",
       "      <td>91</td>\n",
       "      <td>29</td>\n",
       "      <td>13</td>\n",
       "      <td>0</td>\n",
       "      <td>1</td>\n",
       "      <td>5</td>\n",
       "      <td>15</td>\n",
       "      <td>17115</td>\n",
       "      <td>19980.32349</td>\n",
       "    </tr>\n",
       "    <tr>\n",
       "      <th>1</th>\n",
       "      <td>0</td>\n",
       "      <td>0</td>\n",
       "      <td>0</td>\n",
       "      <td>1</td>\n",
       "      <td>4</td>\n",
       "      <td>0</td>\n",
       "      <td>0</td>\n",
       "      <td>4</td>\n",
       "      <td>6217</td>\n",
       "      <td>0</td>\n",
       "      <td>...</td>\n",
       "      <td>1</td>\n",
       "      <td>210</td>\n",
       "      <td>31</td>\n",
       "      <td>4</td>\n",
       "      <td>0</td>\n",
       "      <td>1</td>\n",
       "      <td>3</td>\n",
       "      <td>17</td>\n",
       "      <td>5074</td>\n",
       "      <td>11659.06390</td>\n",
       "    </tr>\n",
       "    <tr>\n",
       "      <th>2</th>\n",
       "      <td>0</td>\n",
       "      <td>0</td>\n",
       "      <td>1</td>\n",
       "      <td>2</td>\n",
       "      <td>1</td>\n",
       "      <td>1</td>\n",
       "      <td>0</td>\n",
       "      <td>4</td>\n",
       "      <td>4306</td>\n",
       "      <td>0</td>\n",
       "      <td>...</td>\n",
       "      <td>0</td>\n",
       "      <td>161</td>\n",
       "      <td>37</td>\n",
       "      <td>17</td>\n",
       "      <td>0</td>\n",
       "      <td>1</td>\n",
       "      <td>6</td>\n",
       "      <td>22</td>\n",
       "      <td>23137</td>\n",
       "      <td>26112.39661</td>\n",
       "    </tr>\n",
       "    <tr>\n",
       "      <th>3</th>\n",
       "      <td>0</td>\n",
       "      <td>0</td>\n",
       "      <td>1</td>\n",
       "      <td>1</td>\n",
       "      <td>2</td>\n",
       "      <td>7</td>\n",
       "      <td>4</td>\n",
       "      <td>2</td>\n",
       "      <td>6000</td>\n",
       "      <td>1</td>\n",
       "      <td>...</td>\n",
       "      <td>0</td>\n",
       "      <td>103</td>\n",
       "      <td>21</td>\n",
       "      <td>17</td>\n",
       "      <td>1</td>\n",
       "      <td>2</td>\n",
       "      <td>3</td>\n",
       "      <td>27</td>\n",
       "      <td>22115</td>\n",
       "      <td>24292.04244</td>\n",
       "    </tr>\n",
       "    <tr>\n",
       "      <th>4</th>\n",
       "      <td>0</td>\n",
       "      <td>0</td>\n",
       "      <td>0</td>\n",
       "      <td>1</td>\n",
       "      <td>4</td>\n",
       "      <td>3</td>\n",
       "      <td>1</td>\n",
       "      <td>2</td>\n",
       "      <td>4740</td>\n",
       "      <td>0</td>\n",
       "      <td>...</td>\n",
       "      <td>1</td>\n",
       "      <td>112</td>\n",
       "      <td>25</td>\n",
       "      <td>18</td>\n",
       "      <td>0</td>\n",
       "      <td>5</td>\n",
       "      <td>6</td>\n",
       "      <td>24</td>\n",
       "      <td>24071</td>\n",
       "      <td>22339.00089</td>\n",
       "    </tr>\n",
       "    <tr>\n",
       "      <th>...</th>\n",
       "      <td>...</td>\n",
       "      <td>...</td>\n",
       "      <td>...</td>\n",
       "      <td>...</td>\n",
       "      <td>...</td>\n",
       "      <td>...</td>\n",
       "      <td>...</td>\n",
       "      <td>...</td>\n",
       "      <td>...</td>\n",
       "      <td>...</td>\n",
       "      <td>...</td>\n",
       "      <td>...</td>\n",
       "      <td>...</td>\n",
       "      <td>...</td>\n",
       "      <td>...</td>\n",
       "      <td>...</td>\n",
       "      <td>...</td>\n",
       "      <td>...</td>\n",
       "      <td>...</td>\n",
       "      <td>...</td>\n",
       "      <td>...</td>\n",
       "    </tr>\n",
       "    <tr>\n",
       "      <th>308317</th>\n",
       "      <td>3</td>\n",
       "      <td>0</td>\n",
       "      <td>2</td>\n",
       "      <td>1</td>\n",
       "      <td>0</td>\n",
       "      <td>11</td>\n",
       "      <td>0</td>\n",
       "      <td>7</td>\n",
       "      <td>6256</td>\n",
       "      <td>1</td>\n",
       "      <td>...</td>\n",
       "      <td>1</td>\n",
       "      <td>142</td>\n",
       "      <td>62</td>\n",
       "      <td>8</td>\n",
       "      <td>0</td>\n",
       "      <td>4</td>\n",
       "      <td>28</td>\n",
       "      <td>38</td>\n",
       "      <td>52057</td>\n",
       "      <td>30741.94443</td>\n",
       "    </tr>\n",
       "    <tr>\n",
       "      <th>308318</th>\n",
       "      <td>3</td>\n",
       "      <td>0</td>\n",
       "      <td>1</td>\n",
       "      <td>3</td>\n",
       "      <td>1</td>\n",
       "      <td>4</td>\n",
       "      <td>7</td>\n",
       "      <td>1</td>\n",
       "      <td>5332</td>\n",
       "      <td>0</td>\n",
       "      <td>...</td>\n",
       "      <td>1</td>\n",
       "      <td>130</td>\n",
       "      <td>39</td>\n",
       "      <td>23</td>\n",
       "      <td>0</td>\n",
       "      <td>3</td>\n",
       "      <td>21</td>\n",
       "      <td>36</td>\n",
       "      <td>37853</td>\n",
       "      <td>39089.53354</td>\n",
       "    </tr>\n",
       "    <tr>\n",
       "      <th>308319</th>\n",
       "      <td>3</td>\n",
       "      <td>1</td>\n",
       "      <td>0</td>\n",
       "      <td>2</td>\n",
       "      <td>4</td>\n",
       "      <td>12</td>\n",
       "      <td>4</td>\n",
       "      <td>0</td>\n",
       "      <td>4044</td>\n",
       "      <td>1</td>\n",
       "      <td>...</td>\n",
       "      <td>1</td>\n",
       "      <td>147</td>\n",
       "      <td>27</td>\n",
       "      <td>12</td>\n",
       "      <td>1</td>\n",
       "      <td>1</td>\n",
       "      <td>30</td>\n",
       "      <td>55</td>\n",
       "      <td>65888</td>\n",
       "      <td>36649.42276</td>\n",
       "    </tr>\n",
       "    <tr>\n",
       "      <th>308320</th>\n",
       "      <td>3</td>\n",
       "      <td>0</td>\n",
       "      <td>1</td>\n",
       "      <td>3</td>\n",
       "      <td>3</td>\n",
       "      <td>3</td>\n",
       "      <td>3</td>\n",
       "      <td>4</td>\n",
       "      <td>4988</td>\n",
       "      <td>0</td>\n",
       "      <td>...</td>\n",
       "      <td>1</td>\n",
       "      <td>239</td>\n",
       "      <td>57</td>\n",
       "      <td>22</td>\n",
       "      <td>0</td>\n",
       "      <td>4</td>\n",
       "      <td>16</td>\n",
       "      <td>41</td>\n",
       "      <td>58351</td>\n",
       "      <td>35867.24242</td>\n",
       "    </tr>\n",
       "    <tr>\n",
       "      <th>308321</th>\n",
       "      <td>3</td>\n",
       "      <td>1</td>\n",
       "      <td>2</td>\n",
       "      <td>3</td>\n",
       "      <td>5</td>\n",
       "      <td>4</td>\n",
       "      <td>2</td>\n",
       "      <td>3</td>\n",
       "      <td>4021</td>\n",
       "      <td>1</td>\n",
       "      <td>...</td>\n",
       "      <td>1</td>\n",
       "      <td>91</td>\n",
       "      <td>56</td>\n",
       "      <td>5</td>\n",
       "      <td>0</td>\n",
       "      <td>1</td>\n",
       "      <td>33</td>\n",
       "      <td>39</td>\n",
       "      <td>50619</td>\n",
       "      <td>33085.05712</td>\n",
       "    </tr>\n",
       "  </tbody>\n",
       "</table>\n",
       "<p>308322 rows × 21 columns</p>\n",
       "</div>"
      ],
      "text/plain": [
       "        Date  Location_type  WH_capacity_size  zone  WH_regional_zone  \\\n",
       "0          0              1                 2     3                 5   \n",
       "1          0              0                 0     1                 4   \n",
       "2          0              0                 1     2                 1   \n",
       "3          0              0                 1     1                 2   \n",
       "4          0              0                 0     1                 4   \n",
       "...      ...            ...               ...   ...               ...   \n",
       "308317     3              0                 2     1                 0   \n",
       "308318     3              0                 1     3                 1   \n",
       "308319     3              1                 0     2                 4   \n",
       "308320     3              0                 1     3                 3   \n",
       "308321     3              1                 2     3                 5   \n",
       "\n",
       "        Refill_Requests  transport_issue  No_of_Competitor  No_of_retailers  \\\n",
       "0                     3                1                 2             4651   \n",
       "1                     0                0                 4             6217   \n",
       "2                     1                0                 4             4306   \n",
       "3                     7                4                 2             6000   \n",
       "4                     3                1                 2             4740   \n",
       "...                 ...              ...               ...              ...   \n",
       "308317               11                0                 7             6256   \n",
       "308318                4                7                 1             5332   \n",
       "308319               12                4                 0             4044   \n",
       "308320                3                3                 4             4988   \n",
       "308321                4                2                 3             4021   \n",
       "\n",
       "        Warehouse_Ownership  ...  electric_supply  dist_from_hub  workers_num  \\\n",
       "0                         1  ...                1             91           29   \n",
       "1                         0  ...                1            210           31   \n",
       "2                         0  ...                0            161           37   \n",
       "3                         1  ...                0            103           21   \n",
       "4                         0  ...                1            112           25   \n",
       "...                     ...  ...              ...            ...          ...   \n",
       "308317                    1  ...                1            142           62   \n",
       "308318                    0  ...                1            130           39   \n",
       "308319                    1  ...                1            147           27   \n",
       "308320                    0  ...                1            239           57   \n",
       "308321                    1  ...                1             91           56   \n",
       "\n",
       "        storage_issue_reported  temp_reg_mach  approved_wh_govt_certificate  \\\n",
       "0                           13              0                             1   \n",
       "1                            4              0                             1   \n",
       "2                           17              0                             1   \n",
       "3                           17              1                             2   \n",
       "4                           18              0                             5   \n",
       "...                        ...            ...                           ...   \n",
       "308317                       8              0                             4   \n",
       "308318                      23              0                             3   \n",
       "308319                      12              1                             1   \n",
       "308320                      22              0                             4   \n",
       "308321                       5              0                             1   \n",
       "\n",
       "        wh_breakdown  govt_check  product_wg_ton  product_wg_ton_pred1  \n",
       "0                  5          15           17115           19980.32349  \n",
       "1                  3          17            5074           11659.06390  \n",
       "2                  6          22           23137           26112.39661  \n",
       "3                  3          27           22115           24292.04244  \n",
       "4                  6          24           24071           22339.00089  \n",
       "...              ...         ...             ...                   ...  \n",
       "308317            28          38           52057           30741.94443  \n",
       "308318            21          36           37853           39089.53354  \n",
       "308319            30          55           65888           36649.42276  \n",
       "308320            16          41           58351           35867.24242  \n",
       "308321            33          39           50619           33085.05712  \n",
       "\n",
       "[308322 rows x 21 columns]"
      ]
     },
     "execution_count": 4,
     "metadata": {},
     "output_type": "execute_result"
    }
   ],
   "source": [
    "df_n"
   ]
  },
  {
   "cell_type": "code",
   "execution_count": null,
   "id": "7606c9a8",
   "metadata": {},
   "outputs": [],
   "source": [
    "df.drop(columns=['Date','WH_regional_zone','product_wg_ton_pred1'], inplace = True)"
   ]
  },
  {
   "cell_type": "code",
   "execution_count": null,
   "id": "f1713642",
   "metadata": {},
   "outputs": [],
   "source": [
    "df_n['approved_wh_govt_certificate'] = df_n['approved_wh_govt_certificate'].replace([5,3], [3, 2])\n",
    "df_n"
   ]
  },
  {
   "cell_type": "code",
   "execution_count": null,
   "id": "ba9733eb",
   "metadata": {},
   "outputs": [],
   "source": [
    "df_n"
   ]
  },
  {
   "cell_type": "code",
   "execution_count": null,
   "id": "6c066e67",
   "metadata": {},
   "outputs": [],
   "source": [
    "df_n.to_csv('newdata.csv', index=False)"
   ]
  },
  {
   "cell_type": "code",
   "execution_count": null,
   "id": "5a8732d7",
   "metadata": {},
   "outputs": [],
   "source": []
  },
  {
   "cell_type": "code",
   "execution_count": null,
   "id": "31eed33d",
   "metadata": {},
   "outputs": [],
   "source": [
    "# train dataset\n",
    "df0 = pd.read_csv(\"newdata.csv\")\n",
    "df0\n"
   ]
  },
  {
   "cell_type": "code",
   "execution_count": null,
   "id": "6962cf57",
   "metadata": {},
   "outputs": [],
   "source": [
    "df = pd.read_csv(\"newdata.csv\")\n",
    "\n",
    "# test dataset\n",
    "df_test = pd.read_csv(\"newdata.csv\")"
   ]
  },
  {
   "cell_type": "code",
   "execution_count": null,
   "id": "fc00930c",
   "metadata": {},
   "outputs": [],
   "source": [
    "df"
   ]
  },
  {
   "cell_type": "code",
   "execution_count": null,
   "id": "0853b2fd",
   "metadata": {},
   "outputs": [],
   "source": [
    "df_test.shape"
   ]
  },
  {
   "cell_type": "code",
   "execution_count": null,
   "id": "2cbfc398",
   "metadata": {},
   "outputs": [],
   "source": [
    "df.shape"
   ]
  },
  {
   "cell_type": "code",
   "execution_count": null,
   "id": "0783e200",
   "metadata": {},
   "outputs": [],
   "source": []
  },
  {
   "cell_type": "code",
   "execution_count": null,
   "id": "5d0a1803",
   "metadata": {},
   "outputs": [],
   "source": []
  },
  {
   "cell_type": "code",
   "execution_count": null,
   "id": "a92f3955",
   "metadata": {},
   "outputs": [],
   "source": [
    "X_train = df\n",
    "Y_train = df['product_wg_ton']"
   ]
  },
  {
   "cell_type": "code",
   "execution_count": null,
   "id": "ae0c1d2e",
   "metadata": {},
   "outputs": [],
   "source": [
    "X_train.shape"
   ]
  },
  {
   "cell_type": "code",
   "execution_count": null,
   "id": "7d0aa9d7",
   "metadata": {},
   "outputs": [],
   "source": [
    "Y_train.shape"
   ]
  },
  {
   "cell_type": "code",
   "execution_count": null,
   "id": "d62f2929",
   "metadata": {},
   "outputs": [],
   "source": [
    "X_test = df_test\n",
    "Y_test = df_test['product_wg_ton_pred']"
   ]
  },
  {
   "cell_type": "code",
   "execution_count": null,
   "id": "09659243",
   "metadata": {},
   "outputs": [],
   "source": []
  },
  {
   "cell_type": "code",
   "execution_count": null,
   "id": "eb19c19c",
   "metadata": {},
   "outputs": [],
   "source": []
  },
  {
   "cell_type": "code",
   "execution_count": null,
   "id": "81a781d4",
   "metadata": {},
   "outputs": [],
   "source": []
  },
  {
   "cell_type": "code",
   "execution_count": null,
   "id": "2a3be9b8",
   "metadata": {},
   "outputs": [],
   "source": []
  },
  {
   "cell_type": "code",
   "execution_count": null,
   "id": "d33f770b",
   "metadata": {},
   "outputs": [],
   "source": [
    "import pandas as pd\n",
    "import numpy as np\n",
    "\n",
    "import matplotlib.pyplot as plt\n",
    "%matplotlib inline\n",
    "#import seaborn as sns\n",
    "\n",
    "\n",
    "from sklearn.preprocessing import LabelEncoder, StandardScaler\n",
    "\n",
    "from sklearn.linear_model import LinearRegression\n",
    "from sklearn.tree import DecisionTreeRegressor\n",
    "from sklearn.ensemble import RandomForestRegressor, GradientBoostingRegressor\n",
    "from sklearn.svm import SVR\n",
    "\n",
    "from sklearn.metrics import mean_squared_error, r2_score, mean_absolute_error"
   ]
  },
  {
   "cell_type": "code",
   "execution_count": null,
   "id": "07c09c44",
   "metadata": {},
   "outputs": [],
   "source": [
    "LRmodel = LinearRegression()"
   ]
  },
  {
   "cell_type": "code",
   "execution_count": null,
   "id": "607df9d7",
   "metadata": {},
   "outputs": [],
   "source": [
    "\n",
    "LRmodel.fit(X_train, Y_train)"
   ]
  },
  {
   "cell_type": "code",
   "execution_count": null,
   "id": "fbad6ed8",
   "metadata": {},
   "outputs": [],
   "source": []
  },
  {
   "cell_type": "code",
   "execution_count": null,
   "id": "2bc50a81",
   "metadata": {},
   "outputs": [],
   "source": []
  },
  {
   "cell_type": "code",
   "execution_count": null,
   "id": "65268070",
   "metadata": {},
   "outputs": [],
   "source": []
  },
  {
   "cell_type": "code",
   "execution_count": null,
   "id": "af9d3037",
   "metadata": {},
   "outputs": [],
   "source": [
    "LR_predicted = LRmodel.predict(X_test)\n",
    "LR_predicted"
   ]
  },
  {
   "cell_type": "code",
   "execution_count": null,
   "id": "4cc176f3",
   "metadata": {},
   "outputs": [],
   "source": [
    "predictions_2 = pd.DataFrame(LR_predicted, columns =['product_wg_ton_pred']) \n",
    "predictions_2"
   ]
  },
  {
   "cell_type": "code",
   "execution_count": null,
   "id": "1961a4d1",
   "metadata": {},
   "outputs": [],
   "source": [
    "Y_train"
   ]
  },
  {
   "cell_type": "code",
   "execution_count": null,
   "id": "824c727d",
   "metadata": {},
   "outputs": [],
   "source": []
  },
  {
   "cell_type": "code",
   "execution_count": null,
   "id": "45bb493e",
   "metadata": {},
   "outputs": [],
   "source": []
  },
  {
   "cell_type": "code",
   "execution_count": null,
   "id": "ce49efbd",
   "metadata": {},
   "outputs": [],
   "source": [
    "predictions_2.to_csv('predictions_2.csv', index=False)"
   ]
  },
  {
   "cell_type": "code",
   "execution_count": null,
   "id": "b0623b75",
   "metadata": {},
   "outputs": [],
   "source": [
    "df_merged2 = pd.concat([X_test_pred, predictions_2], ignore_index=True, sort=False)\n",
    "df_merged2.head()"
   ]
  },
  {
   "cell_type": "code",
   "execution_count": null,
   "id": "ba1fd2e0",
   "metadata": {},
   "outputs": [],
   "source": []
  },
  {
   "cell_type": "code",
   "execution_count": null,
   "id": "27a9b195",
   "metadata": {},
   "outputs": [],
   "source": []
  },
  {
   "cell_type": "code",
   "execution_count": null,
   "id": "be612220",
   "metadata": {},
   "outputs": [],
   "source": [
    "# r2 score\n",
    "lr_r2 = r2_score(Y_test, LR_predicted).round(3)\n",
    "print('R2 score:  ', lr_r2)\n",
    "\n",
    "# root mean squared error (RMSE)\n",
    "lr_rmse = np.sqrt(mean_squared_error(Y_test, LR_predicted)).round(3)\n",
    "print('Root Mean Squared Error:  ', lr_rmse) \n",
    "\n",
    "# mean absolute error (MAE)\n",
    "lr_mae = mean_absolute_error(Y_test, LR_predicted).round(3)\n",
    "print('Mean Absolute Error:  ', lr_mae)\n"
   ]
  },
  {
   "cell_type": "code",
   "execution_count": null,
   "id": "709c65fa",
   "metadata": {},
   "outputs": [],
   "source": [
    "LR_predicted.to_csv('newdata.csv', index=False)"
   ]
  },
  {
   "cell_type": "code",
   "execution_count": null,
   "id": "192086f2",
   "metadata": {},
   "outputs": [],
   "source": []
  },
  {
   "cell_type": "code",
   "execution_count": null,
   "id": "e622cf4b",
   "metadata": {},
   "outputs": [],
   "source": []
  },
  {
   "cell_type": "code",
   "execution_count": null,
   "id": "cbb208fb",
   "metadata": {},
   "outputs": [],
   "source": []
  },
  {
   "cell_type": "code",
   "execution_count": null,
   "id": "936d7f67",
   "metadata": {},
   "outputs": [],
   "source": []
  },
  {
   "cell_type": "code",
   "execution_count": null,
   "id": "36e9a0ce",
   "metadata": {},
   "outputs": [],
   "source": [
    "DTmodel = DecisionTreeRegressor(random_state = 0) "
   ]
  },
  {
   "cell_type": "code",
   "execution_count": null,
   "id": "c8a7f067",
   "metadata": {},
   "outputs": [],
   "source": [
    "\n",
    "DTmodel.fit(X_train, Y_train) "
   ]
  },
  {
   "cell_type": "code",
   "execution_count": null,
   "id": "628b6cc7",
   "metadata": {},
   "outputs": [],
   "source": [
    "DT_predicted = DTmodel.predict(X_test)"
   ]
  },
  {
   "cell_type": "code",
   "execution_count": null,
   "id": "b1fdc854",
   "metadata": {},
   "outputs": [],
   "source": [
    "DT_predicted"
   ]
  },
  {
   "cell_type": "code",
   "execution_count": null,
   "id": "5b40498d",
   "metadata": {},
   "outputs": [],
   "source": [
    "# r2 score\n",
    "dt_r2 = r2_score(Y_test, DT_predicted).round(3)\n",
    "print('R2 score:  ', dt_r2)\n",
    "\n",
    "# root mean squared error (RMSE)\n",
    "dt_rmse = np.sqrt(mean_squared_error(Y_test, DT_predicted)).round(3)\n",
    "print('Root Mean Squared Error:  ', dt_rmse) \n",
    "\n",
    "# mean absolute error (MAE)\n",
    "dt_mae = mean_absolute_error(Y_test, DT_predicted).round(3)\n",
    "print('Mean Absolute Error:  ', dt_mae)\n"
   ]
  },
  {
   "cell_type": "code",
   "execution_count": null,
   "id": "ece4d9c7",
   "metadata": {},
   "outputs": [],
   "source": [
    "RFmodel = RandomForestRegressor(n_estimators = 100, max_depth = 4, random_state = 0) "
   ]
  },
  {
   "cell_type": "code",
   "execution_count": null,
   "id": "6ee2e7bf",
   "metadata": {},
   "outputs": [],
   "source": [
    "RFmodel.fit(X_train, Y_train)"
   ]
  },
  {
   "cell_type": "code",
   "execution_count": null,
   "id": "f40e0ab7",
   "metadata": {},
   "outputs": [],
   "source": [
    "RF_predicted = RFmodel.predict(X_test)\n",
    "RF_predicted"
   ]
  },
  {
   "cell_type": "code",
   "execution_count": null,
   "id": "402039c1",
   "metadata": {},
   "outputs": [],
   "source": [
    "\n",
    "# r2 score\n",
    "rf_r2 = r2_score(Y_test, RF_predicted).round(3)\n",
    "print('R2 score:  ', rf_r2)\n",
    "\n",
    "# root mean squared error (RMSE)\n",
    "rf_rmse = np.sqrt(mean_squared_error(Y_test, RF_predicted)).round(3)\n",
    "print('Root Mean Squared Error:  ', rf_rmse) \n",
    "\n",
    "# mean absolute error (MAE)\n",
    "rf_mae = mean_absolute_error(Y_test, RF_predicted).round(3)\n",
    "print('Mean Absolute Error:  ', rf_mae)"
   ]
  },
  {
   "cell_type": "code",
   "execution_count": null,
   "id": "d50ec4b9",
   "metadata": {},
   "outputs": [],
   "source": []
  },
  {
   "cell_type": "code",
   "execution_count": null,
   "id": "a1955168",
   "metadata": {},
   "outputs": [],
   "source": [
    "\n",
    "GBmodel = GradientBoostingRegressor()"
   ]
  },
  {
   "cell_type": "code",
   "execution_count": null,
   "id": "20b68f2b",
   "metadata": {},
   "outputs": [],
   "source": [
    "GBmodel.fit(X_train,Y_train)"
   ]
  },
  {
   "cell_type": "code",
   "execution_count": null,
   "id": "b3a2f9a2",
   "metadata": {},
   "outputs": [],
   "source": [
    "GB_predicted = GBmodel.predict(X_test)"
   ]
  },
  {
   "cell_type": "code",
   "execution_count": null,
   "id": "a51ce8aa",
   "metadata": {},
   "outputs": [],
   "source": [
    "GB_predicted"
   ]
  },
  {
   "cell_type": "code",
   "execution_count": null,
   "id": "c6e78bdc",
   "metadata": {},
   "outputs": [],
   "source": [
    "gb_r2 = r2_score(Y_test, GB_predicted).round(3)\n",
    "print('R2 score:  ', gb_r2)\n",
    "\n",
    "# root mean squared error (RMSE)\n",
    "gb_rmse = np.sqrt(mean_squared_error(Y_test, GB_predicted)).round(3)\n",
    "print('Root Mean Squared Error:  ', gb_rmse) \n",
    "\n",
    "# mean absolute error (MAE)\n",
    "gb_mae = mean_absolute_error(Y_test, GB_predicted).round(3)\n",
    "print('Mean Absolute Error:  ', gb_mae)"
   ]
  },
  {
   "cell_type": "code",
   "execution_count": null,
   "id": "f06a74f0",
   "metadata": {},
   "outputs": [],
   "source": [
    "ax1 = plt.subplot2grid((2, 3), (0, 0))\n",
    "plt.scatter(Y_test, LR_predicted, color='#ffdab9', alpha=0.3, label='Actual')\n",
    "plt.plot([min(Y_test), max(Y_test)], [min(Y_test), max(Y_test)], linestyle='--', color='#2f4f4f', label='Predicted')\n",
    "plt.title('Linear Regression')\n",
    "plt.xlabel('Actual Values')\n",
    "plt.ylabel('Predicted Values')\n",
    "plt.legend()\n",
    "\n",
    "\n",
    "ax1 = plt.subplot2grid((2, 3), (0, 1))\n",
    "plt.scatter(Y_test, DT_predicted, color='#ffdab9', alpha=0.3)\n",
    "plt.plot([min(Y_test), max(Y_test)], [min(Y_test), max(Y_test)], linestyle='--', color='#2f4f4f')\n",
    "plt.title('Decision Tree')\n",
    "plt.xlabel('Actual Values')\n",
    "plt.ylabel('Predicted Values')\n",
    "\n"
   ]
  },
  {
   "cell_type": "code",
   "execution_count": null,
   "id": "bd2a848f",
   "metadata": {},
   "outputs": [],
   "source": [
    "ax1 = plt.subplot2grid((2, 3), (1, 1))\n",
    "plt.scatter(Y_test, GB_predicted, color='#ffdab9', alpha=0.3)  # alpha controls point transparency for better visualization\n",
    "plt.plot([min(Y_test), max(Y_test)], [min(Y_test), max(Y_test)], linestyle='--',color='#2f4f4f')\n",
    "plt.title('Gradient Boosting')\n",
    "plt.xlabel('Actual Values')\n",
    "plt.ylabel('Predicted Values')\n",
    "\n",
    "plt.show()"
   ]
  }
 ],
 "metadata": {
  "kernelspec": {
   "display_name": "Python 3",
   "language": "python",
   "name": "python3"
  },
  "language_info": {
   "codemirror_mode": {
    "name": "ipython",
    "version": 3
   },
   "file_extension": ".py",
   "mimetype": "text/x-python",
   "name": "python",
   "nbconvert_exporter": "python",
   "pygments_lexer": "ipython3",
   "version": "3.8.19"
  }
 },
 "nbformat": 4,
 "nbformat_minor": 5
}
